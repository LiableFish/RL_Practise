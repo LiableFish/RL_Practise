{
  "nbformat": 4,
  "nbformat_minor": 0,
  "metadata": {
    "kernelspec": {
      "display_name": "Python 3",
      "language": "python",
      "name": "python3"
    },
    "language_info": {
      "codemirror_mode": {
        "name": "ipython",
        "version": 3
      },
      "file_extension": ".py",
      "mimetype": "text/x-python",
      "name": "python",
      "nbconvert_exporter": "python",
      "pygments_lexer": "ipython3",
      "version": "3.7.3"
    },
    "colab": {
      "name": "UnequalGameImplementation.ipynb",
      "provenance": []
    }
  },
  "cells": [
    {
      "cell_type": "markdown",
      "metadata": {
        "id": "x7CyocjBJ1SP",
        "colab_type": "text"
      },
      "source": [
        "## Unequal Game solution with CCEM method"
      ]
    },
    {
      "cell_type": "code",
      "metadata": {
        "id": "AABSYH3vJ1SR",
        "colab_type": "code",
        "colab": {}
      },
      "source": [
        "import torch\n",
        "import numpy as np\n",
        "import matplotlib.pyplot as plt\n",
        "from copy import deepcopy\n",
        "from IPython.display import clear_output"
      ],
      "execution_count": 0,
      "outputs": []
    },
    {
      "cell_type": "markdown",
      "metadata": {
        "id": "X9eLwv6LY4xn",
        "colab_type": "text"
      },
      "source": [
        "Let's find guaranteed result\n"
      ]
    },
    {
      "cell_type": "markdown",
      "metadata": {
        "id": "QjyRmxcvY_pQ",
        "colab_type": "text"
      },
      "source": [
        "\\begin{gather*}\n",
        "\\begin{cases}\n",
        "t_0 = 0, \\\\\n",
        "x_0 = 1,\\\\\n",
        "x_n = x_{n-1} + (u(t_{n-1}, x_{n-1}) - v(t_{n-1}, x_{n-1})) \\cdot dt;\n",
        "\\end{cases}\\\\\\\\\n",
        "x_n = 1 + \\sum_{i=0}^{n-1}(u(t_i, x_i) - v(t_i, x_i)) \\cdot dt = 1 + (U - V)  dt, \\\\u_i := u(t_i, x_i), \\quad v_i := v(t_i, x_i), \\quad i = \\overline{0, n-1}\\\\ \\\\\n",
        "R(u_0, \\ldots, u_{n-1}, v_0, \\ldots v_{n-1}) = R(U, V) = \\left(1 + (U - V)  dt\\right)^2.\n",
        "\\end{gather*}\n"
      ]
    },
    {
      "cell_type": "markdown",
      "metadata": {
        "id": "1dOrDSRv4rJd",
        "colab_type": "text"
      },
      "source": [
        "\\begin{gather*}\n",
        "\\gamma^{v} = \\max_{V}\\min_{U} R(U, V), \\\\\\\\\n",
        "\\frac{\\partial}{\\partial U}R = 2 (1 + (U-V)dt) dt = 0 \\; \\Longrightarrow \\; U - V = -\\dfrac{1}{dt}, \\\\\n",
        "\\min_{U} R(U, V) = \\left(1 -\\dfrac{1}{dt} dt\\right)^2 = 0  \\; \\Longrightarrow \\; \\gamma^{v} = 0\n",
        "\\end{gather*}"
      ]
    },
    {
      "cell_type": "markdown",
      "metadata": {
        "id": "Y09AZ2Ovh2Ry",
        "colab_type": "text"
      },
      "source": [
        "\\begin{gather*}\n",
        "\\gamma^u = \\min_{U}\\max_{V} R(U, V), \\\\\\\\\n",
        "\\max_{V} R(U, V) = \\max\\left\\{ R(U, n), R(U, -n)\\right\\}, \\\\\n",
        "R(U, n) - R(U, -n) = (1 + (U-n)dt)^2 - (1+(U+n)dt)^2 = - 4ndt(1+Udt), \\\\\\\\\n",
        "n = \\dfrac{2}{dt}, \\quad |U| \\leqslant 2n = \\dfrac{4}{dt},\\\\\\\\\n",
        "\\max_{V} R(U, V) = R(U, n) \\;\\Longrightarrow\\;  U \\leqslant -\\dfrac{1}{dt}, \\\\\n",
        "\\frac{\\partial}{\\partial U}R = 2 (1 + (U-n)dt) dt = 0 \\; \\Longrightarrow \\; U  = n - \\dfrac{1}{dt} = \\dfrac{1}{dt} \\notin \\left[-\\dfrac{4}{dt}, -\\dfrac{1}{dt}\\right]\\; \\Longrightarrow \\; \\gamma^{u} =\\min_U(R, n) = \\\\=\\min\\left\\{R\\left(-\\dfrac{4}{dt}, n\\right), R\\left(-\\dfrac{1}{dt}, n\\right)\\right\\} = 16, \\\\\\\\\n",
        "\\max_{V} R(U, V) = R(U, -n) \\;\\Longrightarrow\\;  U \\geqslant -\\dfrac{1}{dt}, \\\\\n",
        "\\frac{\\partial}{\\partial U}R = 2 (1 + (U+n)dt) dt = 0 \\; \\Longrightarrow \\; U  = -n - \\dfrac{1}{dt} = -\\dfrac{3}{dt} \\notin \\left[-\\dfrac{1}{dt}, \\dfrac{4}{dt}\\right]\\; \\Longrightarrow \\; \\gamma^{u} =\\min_U(R, n) = \\\\=\\min\\left\\{R\\left(-\\dfrac{1}{dt}, -n\\right), R\\left(\\dfrac{4}{dt}, -n\\right)\\right\\} = 4, \\\\\\\\\n",
        "\\end{gather*}"
      ]
    },
    {
      "cell_type": "markdown",
      "metadata": {
        "id": "T5YRCc2MJ1SU",
        "colab_type": "text"
      },
      "source": [
        "Implement environment"
      ]
    },
    {
      "cell_type": "code",
      "metadata": {
        "id": "Fj46-jGRJ1SV",
        "colab_type": "code",
        "colab": {}
      },
      "source": [
        "class UnequalGame:\n",
        "\n",
        "    def __init__(self, initial_x=1, dt=0.005, terminal_time=2, u_action_max=2, v_action_max=1):\n",
        "        self.u_action_max = u_action_max\n",
        "        self.v_action_max = v_action_max\n",
        "        self.terminal_time = terminal_time\n",
        "        self.dt = dt\n",
        "        self.initial_x = initial_x\n",
        "        self.state = self.reset()\n",
        "\n",
        "    def reset(self):\n",
        "        self.state = np.array([0, self.initial_x])\n",
        "        return self.state\n",
        "\n",
        "    def step(self, u_action, v_action):\n",
        "        t, x = self.state\n",
        "        x = x + (u_action - v_action) * self.dt\n",
        "        t += self.dt\n",
        "        self.state = np.array([t, x])\n",
        "\n",
        "        reward = 0\n",
        "        done = False\n",
        "        if t >= self.terminal_time:\n",
        "            reward = x ** 2\n",
        "            done = True\n",
        "\n",
        "        return self.state, reward, done, None\n"
      ],
      "execution_count": 0,
      "outputs": []
    },
    {
      "cell_type": "markdown",
      "metadata": {
        "id": "01OM_i5PJ1SX",
        "colab_type": "text"
      },
      "source": [
        "Implement agent"
      ]
    },
    {
      "cell_type": "code",
      "metadata": {
        "id": "7S80KcE1J1SY",
        "colab_type": "code",
        "colab": {}
      },
      "source": [
        "class Network(torch.nn.Module):\n",
        "\n",
        "    def __init__(self, input_shape, output_shape):\n",
        "        super().__init__()\n",
        "        self.linear_1 = torch.nn.Linear(input_shape[0], 50)\n",
        "        self.linear_2 = torch.nn.Linear(50, 30)\n",
        "        self.linear_3 = torch.nn.Linear(30, output_shape[0])\n",
        "        self.relu = torch.nn.ReLU()\n",
        "        self.tang = torch.nn.Tanh()\n",
        "\n",
        "    def forward(self, input_):\n",
        "        hidden = self.relu(self.linear_1(input_))\n",
        "        hidden = self.relu(self.linear_2(hidden))\n",
        "        output = self.tang(self.linear_3(hidden))\n",
        "        return output\n",
        "\n",
        "\n",
        "class CCEMAgent(torch.nn.Module):\n",
        "\n",
        "    def __init__(self, state_shape, action_shape, action_max, reward_param=1, percentile_param=70, noise_decrease=0.98,\n",
        "                 tau=1e-2, learning_rate=1e-2, n_learning_per_fit=16):\n",
        "        super().__init__()\n",
        "        self.action_max = np.abs(action_max)\n",
        "        self.reward_param = reward_param  # equal to 1 if agent wants to maximize reward otherwise -1\n",
        "        self.percentile_param = percentile_param\n",
        "        self.noise_decrease = noise_decrease\n",
        "        self.noise_threshold = 1\n",
        "        self.min_noise_threshold = 0.1\n",
        "        self.tau = tau\n",
        "        self.n_learning_per_fit = n_learning_per_fit\n",
        "        self.network = Network(state_shape, action_shape)\n",
        "        self.optimizer = torch.optim.Adam(params=self.network.parameters(), lr=learning_rate)\n",
        "\n",
        "    def get_action(self, state, test=False):\n",
        "        state = torch.FloatTensor(state)\n",
        "        predicted_action = self.network(state).detach().numpy() * self.action_max\n",
        "        if not test:\n",
        "            noise = self.noise_threshold * np.random.uniform(low=-self.action_max, high=self.action_max)\n",
        "            predicted_action = np.clip(predicted_action + noise, -self.action_max, self.action_max)\n",
        "        return predicted_action\n",
        "\n",
        "    def get_elite_states_and_actions(self, sessions, prefix):\n",
        "        \"\"\"\n",
        "          Select sessions with the most or least reward\n",
        "          by percentile\n",
        "        \"\"\"\n",
        "        total_rewards = [session['total_reward'] for session in sessions]\n",
        "        reward_threshold = np.percentile(total_rewards, self.percentile_param)\n",
        "\n",
        "        elite_states = []\n",
        "        elite_actions = []\n",
        "        for session in sessions:\n",
        "            if self.reward_param * (session['total_reward'] - reward_threshold) > 0:\n",
        "                elite_states.extend(session['states'])\n",
        "                elite_actions.extend(session[f'{prefix}actions'])\n",
        "\n",
        "        return torch.FloatTensor(elite_states), torch.FloatTensor(elite_actions)\n",
        "\n",
        "    def learn_network(self, loss):\n",
        "        self.optimizer.zero_grad()\n",
        "        old_network = deepcopy(self.network)\n",
        "        loss.backward()\n",
        "        self.optimizer.step()\n",
        "\n",
        "        for new_parameter, old_parameter in zip(self.network.parameters(), old_network.parameters()):\n",
        "            new_parameter.data.copy_((1 - self.tau) * new_parameter + self.tau * old_parameter)\n",
        "\n",
        "        return None\n",
        "\n",
        "    def fit(self, sessions, prefix=''):\n",
        "        elite_states, elite_actions = self.get_elite_states_and_actions(sessions, prefix=prefix)\n",
        "\n",
        "        for _ in range(self.n_learning_per_fit):\n",
        "            predicted_action = self.network(elite_states) * self.action_max\n",
        "            loss = torch.mean((predicted_action - elite_actions) ** 2)\n",
        "            self.learn_network(loss)\n",
        "\n",
        "        if self.noise_threshold > self.min_noise_threshold:\n",
        "            self.noise_threshold *= self.noise_decrease\n",
        "\n",
        "        return None\n"
      ],
      "execution_count": 0,
      "outputs": []
    },
    {
      "cell_type": "markdown",
      "metadata": {
        "id": "kzV4HKqsJ1Sb",
        "colab_type": "text"
      },
      "source": [
        "Train agents"
      ]
    },
    {
      "cell_type": "code",
      "metadata": {
        "id": "RrjBLPuDJ1Sb",
        "colab_type": "code",
        "colab": {}
      },
      "source": [
        "def generate_session(u_agent, v_agent, env, t_max=200, test=False):\n",
        "    \"\"\"\n",
        "    Generate session on environment with agent\n",
        "    \"\"\"\n",
        "    states = []\n",
        "    u_actions = []\n",
        "    v_actions = []\n",
        "    total_reward = 0\n",
        "    done = False\n",
        "    state = env.reset()\n",
        "    while not done:\n",
        "        u_action = u_agent.get_action(state, test=test)\n",
        "        v_action = v_agent.get_action(state)\n",
        "        next_state, reward, done, _ = env.step(u_action[0], v_action[0])\n",
        "        states.append(state)\n",
        "        u_actions.append(u_action)\n",
        "        v_actions.append(v_action)\n",
        "        total_reward += reward\n",
        "        state = next_state\n",
        "\n",
        "    return {'states': states, 'u_actions': u_actions, 'v_actions': v_actions, 'total_reward': total_reward}\n",
        "\n",
        "\n",
        "def train_agents(u_agent, v_agent, env, n_epochs, n_sessions, epsilon, test=False):\n",
        "    last_mean_reward = 0\n",
        "    mean_rewards = []\n",
        "    \n",
        "    for epoch in range(n_epochs):\n",
        "        sessions = [generate_session(u_agent, v_agent, env, test=test) for _ in range(n_sessions)]\n",
        "        mean_reward = np.mean([session['total_reward'] for session in sessions])\n",
        "        if not test:\n",
        "            u_agent.fit(sessions, prefix='u_')\n",
        "        v_agent.fit(sessions, prefix='v_')\n",
        "        mean_rewards.append(mean_reward)\n",
        "        print('epoch: {0}, mean reward: {1}'.format(epoch, mean_reward))\n",
        "        # if epoch > 0:\n",
        "        #    clear_output(True)\n",
        "        #    plt.plot(range(len(mean_rewards)), mean_rewards)\n",
        "        #    plt.show()\n",
        "        if np.abs(last_mean_reward - mean_reward) < epsilon:\n",
        "            break\n",
        "        last_mean_reward = mean_reward\n",
        "        \n",
        "    return np.array(mean_rewards)"
      ],
      "execution_count": 0,
      "outputs": []
    },
    {
      "cell_type": "code",
      "metadata": {
        "id": "EXE4PAqKJ1Se",
        "colab_type": "code",
        "colab": {}
      },
      "source": [
        "env = UnequalGame()\n",
        "u_agent = CCEMAgent((2,), (1,), percentile_param=30, action_max=env.u_action_max, reward_param=-1)\n",
        "v_agent = CCEMAgent((2,), (1,), percentile_param=70, action_max=env.v_action_max, reward_param=1)\n",
        "n_epochs = 100\n",
        "n_sessions = 100\n",
        "epsilon = 1e-5"
      ],
      "execution_count": 0,
      "outputs": []
    },
    {
      "cell_type": "code",
      "metadata": {
        "scrolled": true,
        "id": "IB5KIRc2J1Sg",
        "colab_type": "code",
        "outputId": "0f0e5996-80bd-4a42-ba36-7df9b07f3dc6",
        "colab": {
          "base_uri": "https://localhost:8080/",
          "height": 797
        }
      },
      "source": [
        "mean_rewards = train_agents(u_agent, v_agent, env, n_epochs, n_sessions, epsilon)"
      ],
      "execution_count": 20,
      "outputs": [
        {
          "output_type": "stream",
          "text": [
            "epoch: 0, mean reward: 0.9156154269240314\n",
            "epoch: 1, mean reward: 0.7644831524449275\n",
            "epoch: 2, mean reward: 0.5949017058527144\n",
            "epoch: 3, mean reward: 0.5019466916070694\n",
            "epoch: 4, mean reward: 0.50183913292839\n",
            "epoch: 5, mean reward: 0.4566588029175106\n",
            "epoch: 6, mean reward: 0.3818096642823231\n",
            "epoch: 7, mean reward: 0.2511504527976463\n",
            "epoch: 8, mean reward: 0.16976311198758373\n",
            "epoch: 9, mean reward: 0.10442770059189126\n",
            "epoch: 10, mean reward: 0.06891049975526842\n",
            "epoch: 11, mean reward: 0.055996683197760584\n",
            "epoch: 12, mean reward: 0.04449200782884373\n",
            "epoch: 13, mean reward: 0.03751272699150623\n",
            "epoch: 14, mean reward: 0.03069495578803292\n",
            "epoch: 15, mean reward: 0.024037627070974912\n",
            "epoch: 16, mean reward: 0.013135946629120878\n",
            "epoch: 17, mean reward: 0.007056874610279694\n",
            "epoch: 18, mean reward: 0.0056698430294592735\n",
            "epoch: 19, mean reward: 0.004083813714067913\n",
            "epoch: 20, mean reward: 0.0022004943589138543\n",
            "epoch: 21, mean reward: 0.0019210538323194285\n",
            "epoch: 22, mean reward: 0.001989903129880572\n",
            "epoch: 23, mean reward: 0.0016334896787918542\n",
            "epoch: 24, mean reward: 0.00105915369716047\n",
            "epoch: 25, mean reward: 0.0014402276548413709\n",
            "epoch: 26, mean reward: 0.0012111969170262719\n",
            "epoch: 27, mean reward: 0.0007978562579004455\n",
            "epoch: 28, mean reward: 0.0008873651162377273\n",
            "epoch: 29, mean reward: 0.0006339090159920901\n",
            "epoch: 30, mean reward: 0.00080608395414638\n",
            "epoch: 31, mean reward: 0.0008713469883492676\n",
            "epoch: 32, mean reward: 0.0007102500877985552\n",
            "epoch: 33, mean reward: 0.0005261627189498487\n",
            "epoch: 34, mean reward: 0.0004740486611243733\n",
            "epoch: 35, mean reward: 0.0004391731261494585\n",
            "epoch: 36, mean reward: 0.00042345980409187197\n",
            "epoch: 37, mean reward: 0.0003523504076924311\n",
            "epoch: 38, mean reward: 0.00033812586258231503\n",
            "epoch: 39, mean reward: 0.00028161454451228635\n",
            "epoch: 40, mean reward: 0.0002985440137568387\n",
            "epoch: 41, mean reward: 0.00023116577452888962\n",
            "epoch: 42, mean reward: 0.00021631701477220329\n",
            "epoch: 43, mean reward: 0.00019634757695579305\n",
            "epoch: 44, mean reward: 0.00018949627174683135\n"
          ],
          "name": "stdout"
        }
      ]
    },
    {
      "cell_type": "code",
      "metadata": {
        "id": "YDn0VPMmJ1Sk",
        "colab_type": "code",
        "outputId": "71ff8da5-07da-41df-a03f-3d4c7c6ad463",
        "colab": {
          "base_uri": "https://localhost:8080/",
          "height": 295
        }
      },
      "source": [
        "plt.plot(range(len(mean_rewards)), mean_rewards, '--')\n",
        "plt.xlabel('epoch')\n",
        "plt.ylabel('Mean reward')\n",
        "plt.title('Mean train rewards over epochs')\n",
        "plt.show()"
      ],
      "execution_count": 26,
      "outputs": [
        {
          "output_type": "display_data",
          "data": {
            "image/png": "[encoded data removed]",
            "text/plain": [
              "<Figure size 432x288 with 1 Axes>"
            ]
          },
          "metadata": {
            "tags": [],
            "needs_background": "light"
          }
        }
      ]
    },
    {
      "cell_type": "markdown",
      "metadata": {
        "id": "RrkkxFDSJ1Sn",
        "colab_type": "text"
      },
      "source": [
        "Test u_gent"
      ]
    },
    {
      "cell_type": "code",
      "metadata": {
        "id": "hJe3A4XBJ1Sn",
        "colab_type": "code",
        "colab": {}
      },
      "source": [
        "v_test_agent = CCEMAgent((2,), (1,), percentile_param=70, action_max=env.v_action_max, reward_param=1)"
      ],
      "execution_count": 0,
      "outputs": []
    },
    {
      "cell_type": "code",
      "metadata": {
        "id": "yzC4Sb2QJ1Sq",
        "colab_type": "code",
        "outputId": "18140f22-cdde-4569-fa25-b8e23aa3d3fd",
        "colab": {
          "base_uri": "https://localhost:8080/",
          "height": 1000
        }
      },
      "source": [
        "test_rewards = train_agents(u_agent, v_test_agent, env, n_epochs, n_sessions, epsilon, test=True)"
      ],
      "execution_count": 23,
      "outputs": [
        {
          "output_type": "stream",
          "text": [
            "epoch: 0, mean reward: 0.013536622434659116\n",
            "epoch: 1, mean reward: 0.014804375017348735\n",
            "epoch: 2, mean reward: 0.01754110201968003\n",
            "epoch: 3, mean reward: 0.020370495405664414\n",
            "epoch: 4, mean reward: 0.024582105093423078\n",
            "epoch: 5, mean reward: 0.029184630919047935\n",
            "epoch: 6, mean reward: 0.034751006429969304\n",
            "epoch: 7, mean reward: 0.03906564911419606\n",
            "epoch: 8, mean reward: 0.04312437131728695\n",
            "epoch: 9, mean reward: 0.04536121065696838\n",
            "epoch: 10, mean reward: 0.04704104433222559\n",
            "epoch: 11, mean reward: 0.04905834729466361\n",
            "epoch: 12, mean reward: 0.05022495288155104\n",
            "epoch: 13, mean reward: 0.05330095706337223\n",
            "epoch: 14, mean reward: 0.05361002146974315\n",
            "epoch: 15, mean reward: 0.055631552793459944\n",
            "epoch: 16, mean reward: 0.056130619853933465\n",
            "epoch: 17, mean reward: 0.05786182925021827\n",
            "epoch: 18, mean reward: 0.05931530245792843\n",
            "epoch: 19, mean reward: 0.06139010514956698\n",
            "epoch: 20, mean reward: 0.06260443026969864\n",
            "epoch: 21, mean reward: 0.06313124804045804\n",
            "epoch: 22, mean reward: 0.06500989191289552\n",
            "epoch: 23, mean reward: 0.06748884155153002\n",
            "epoch: 24, mean reward: 0.07055729505239779\n",
            "epoch: 25, mean reward: 0.07299931333397774\n",
            "epoch: 26, mean reward: 0.07481548315845223\n",
            "epoch: 27, mean reward: 0.07735791213130322\n",
            "epoch: 28, mean reward: 0.07758259958904291\n",
            "epoch: 29, mean reward: 0.08063544301765807\n",
            "epoch: 30, mean reward: 0.08150038142853941\n",
            "epoch: 31, mean reward: 0.0827358641617149\n",
            "epoch: 32, mean reward: 0.08511945350503136\n",
            "epoch: 33, mean reward: 0.08678337511470378\n",
            "epoch: 34, mean reward: 0.08832073799272383\n",
            "epoch: 35, mean reward: 0.09108893072433705\n",
            "epoch: 36, mean reward: 0.09413132748249596\n",
            "epoch: 37, mean reward: 0.09584201717414605\n",
            "epoch: 38, mean reward: 0.09823215758058418\n",
            "epoch: 39, mean reward: 0.0995399899542713\n",
            "epoch: 40, mean reward: 0.1018937055745069\n",
            "epoch: 41, mean reward: 0.10505671252781702\n",
            "epoch: 42, mean reward: 0.10455123888127543\n",
            "epoch: 43, mean reward: 0.10293655285959175\n",
            "epoch: 44, mean reward: 0.10606379457408466\n",
            "epoch: 45, mean reward: 0.10797715395544812\n",
            "epoch: 46, mean reward: 0.10896111291224463\n",
            "epoch: 47, mean reward: 0.11015831693273836\n",
            "epoch: 48, mean reward: 0.11233706254920323\n",
            "epoch: 49, mean reward: 0.11382133512965467\n",
            "epoch: 50, mean reward: 0.11486164050416005\n",
            "epoch: 51, mean reward: 0.1167782467502534\n",
            "epoch: 52, mean reward: 0.11890666519706196\n",
            "epoch: 53, mean reward: 0.12175508763346038\n",
            "epoch: 54, mean reward: 0.12429259686838687\n",
            "epoch: 55, mean reward: 0.12610540406348808\n",
            "epoch: 56, mean reward: 0.12848157564420676\n",
            "epoch: 57, mean reward: 0.13183088572017396\n",
            "epoch: 58, mean reward: 0.13486831714134234\n",
            "epoch: 59, mean reward: 0.13736284430093945\n",
            "epoch: 60, mean reward: 0.13846489271544452\n",
            "epoch: 61, mean reward: 0.138715031330948\n",
            "epoch: 62, mean reward: 0.13954491448289577\n",
            "epoch: 63, mean reward: 0.14105475945816542\n",
            "epoch: 64, mean reward: 0.14180057991396605\n",
            "epoch: 65, mean reward: 0.14350074739318505\n",
            "epoch: 66, mean reward: 0.14488237623638253\n",
            "epoch: 67, mean reward: 0.14685141546451422\n",
            "epoch: 68, mean reward: 0.14984922362603045\n",
            "epoch: 69, mean reward: 0.15242297087222842\n",
            "epoch: 70, mean reward: 0.15583742646019325\n",
            "epoch: 71, mean reward: 0.15725804132825946\n",
            "epoch: 72, mean reward: 0.15909654326698583\n",
            "epoch: 73, mean reward: 0.16041270807434266\n",
            "epoch: 74, mean reward: 0.16156824431561354\n",
            "epoch: 75, mean reward: 0.16229601423035278\n",
            "epoch: 76, mean reward: 0.162509412081492\n",
            "epoch: 77, mean reward: 0.16501850458768644\n",
            "epoch: 78, mean reward: 0.16768973079291705\n",
            "epoch: 79, mean reward: 0.16665559858833764\n",
            "epoch: 80, mean reward: 0.16931014127818336\n",
            "epoch: 81, mean reward: 0.17222470197867146\n",
            "epoch: 82, mean reward: 0.17385761505594438\n",
            "epoch: 83, mean reward: 0.17473870667856264\n",
            "epoch: 84, mean reward: 0.1758974576288828\n",
            "epoch: 85, mean reward: 0.17635104882795766\n",
            "epoch: 86, mean reward: 0.1779798905210213\n",
            "epoch: 87, mean reward: 0.1787453761284002\n",
            "epoch: 88, mean reward: 0.180074048339447\n",
            "epoch: 89, mean reward: 0.18175689793766042\n",
            "epoch: 90, mean reward: 0.1824011661101174\n",
            "epoch: 91, mean reward: 0.18339289446688378\n",
            "epoch: 92, mean reward: 0.18404019304476774\n",
            "epoch: 93, mean reward: 0.18504565068299228\n",
            "epoch: 94, mean reward: 0.18567073039366627\n",
            "epoch: 95, mean reward: 0.1862428291019764\n",
            "epoch: 96, mean reward: 0.18727496581911718\n",
            "epoch: 97, mean reward: 0.18771551951102994\n",
            "epoch: 98, mean reward: 0.18828645587053394\n",
            "epoch: 99, mean reward: 0.1892852727329361\n"
          ],
          "name": "stdout"
        }
      ]
    },
    {
      "cell_type": "code",
      "metadata": {
        "id": "i7ZITn34J1Ss",
        "colab_type": "code",
        "outputId": "4ded00aa-1ab9-436b-cd03-cd4acd4969df",
        "colab": {
          "base_uri": "https://localhost:8080/",
          "height": 295
        }
      },
      "source": [
        "plt.plot(range(len(test_rewards)), test_rewards, '--')\n",
        "plt.xlabel('epoch')\n",
        "plt.ylabel('Mean reward')\n",
        "plt.title('Mean test rewards over epochs')\n",
        "plt.show()"
      ],
      "execution_count": 25,
      "outputs": [
        {
          "output_type": "display_data",
          "data": {
            "image/png": "[encoded data removed]",
            "text/plain": [
              "<Figure size 432x288 with 1 Axes>"
            ]
          },
          "metadata": {
            "tags": [],
            "needs_background": "light"
          }
        }
      ]
    },
    {
      "cell_type": "code",
      "metadata": {
        "id": "3aR-GlF-f0Yg",
        "colab_type": "code",
        "colab": {}
      },
      "source": [
        ""
      ],
      "execution_count": 0,
      "outputs": []
    }
  ]
}