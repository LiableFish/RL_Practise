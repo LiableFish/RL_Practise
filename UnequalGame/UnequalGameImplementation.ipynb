{
  "nbformat": 4,
  "nbformat_minor": 0,
  "metadata": {
    "kernelspec": {
      "display_name": "Python 3",
      "language": "python",
      "name": "python3"
    },
    "language_info": {
      "codemirror_mode": {
        "name": "ipython",
        "version": 3
      },
      "file_extension": ".py",
      "mimetype": "text/x-python",
      "name": "python",
      "nbconvert_exporter": "python",
      "pygments_lexer": "ipython3",
      "version": "3.7.3"
    },
    "colab": {
      "name": "UnequalGameImplementation.ipynb",
      "provenance": [],
      "toc_visible": true
    }
  },
  "cells": [
    {
      "cell_type": "markdown",
      "metadata": {
        "id": "x7CyocjBJ1SP",
        "colab_type": "text"
      },
      "source": [
        "## Unequal Game solution with CCEM method"
      ]
    },
    {
      "cell_type": "code",
      "metadata": {
        "id": "AABSYH3vJ1SR",
        "colab_type": "code",
        "colab": {}
      },
      "source": [
        "import torch\n",
        "import numpy as np\n",
        "import matplotlib.pyplot as plt\n",
        "from copy import deepcopy"
      ],
      "execution_count": 0,
      "outputs": []
    },
    {
      "cell_type": "markdown",
      "metadata": {
        "id": "_cZE6eLK2MdR",
        "colab_type": "text"
      },
      "source": [
        "# Calculating optimal guaranteed results"
      ]
    },
    {
      "cell_type": "markdown",
      "metadata": {
        "id": "X9eLwv6LY4xn",
        "colab_type": "text"
      },
      "source": [
        "Let's find guaranteed results\n"
      ]
    },
    {
      "cell_type": "markdown",
      "metadata": {
        "id": "oKfpwnUFMYsK",
        "colab_type": "text"
      },
      "source": [
        "Definitions\n",
        "\n",
        "\\begin{gather*}\n",
        "\\Gamma^u = \\min_{u(\\cdot)}\\max_{v(\\cdot)} \\gamma(u,\\, v), \\quad \n",
        "\\Gamma^v = \\max_{v(\\cdot)}\\min_{u(\\cdot)} \\gamma(u,\\, v), \\\\\n",
        "\\tilde{\\Gamma}^u = \\min_{u(\\cdot,\\, \\cdot)}\\max_{v(\\cdot,\\, \\cdot)} \\gamma(u, v), \\quad \n",
        "\\tilde{\\Gamma}^v = \\max_{v(\\cdot,\\, \\cdot)}\\min_{u(\\cdot,\\, \\cdot)} \\gamma(u, v), \\\\\\\\\n",
        "\\Gamma^v \\leqslant \\tilde{\\Gamma}^v \\leqslant  \\tilde{\\Gamma}^v \\leqslant \\Gamma^u.\n",
        "\\end{gather*}"
      ]
    },
    {
      "cell_type": "markdown",
      "metadata": {
        "id": "QjyRmxcvY_pQ",
        "colab_type": "text"
      },
      "source": [
        "Our differential game model\n",
        "\n",
        "\\begin{gather*}\n",
        "\\begin{cases}\n",
        "\\dot{x} = u(t,\\,x) - v(t,\\,x), \\quad t \\in [0, 2],\\\\\n",
        "x(0) = 1, \\\\\n",
        "|u| \\leqslant 2, \\quad |v| \\leqslant 1.\n",
        "\\end{cases}, \\\\ \\\\\n",
        "\\gamma(u,\\, v) = x^2(2) = \\left(1 + \\int\\limits_0^2 u(t, x)\\,dt - \\int\\limits_0^2 v(t, x)\\,dt \\right)^2 = (1 +U(x) + V(x))^2, \\\\|U| \\leqslant 4, \\quad |V| \\leqslant 2, \\\\ \\\\\n",
        "\\Gamma^u = 4, \\quad \\Gamma^v = \\tilde{\\Gamma}^v = \\tilde{\\Gamma}^v = 0.\n",
        "\\end{gather*}"
      ]
    },
    {
      "cell_type": "markdown",
      "metadata": {
        "id": "vAd2UkykbgJ0",
        "colab_type": "text"
      },
      "source": [
        "Compute $\\Gamma^u$\n",
        "\n",
        "\\begin{gather*}\n",
        "\\max_V \\gamma(U,\\, V) = \\max\\left\\{\\gamma(U,\\, 2),\\, \\gamma(U,\\, -2)\\right\\}, \\\\ \\\\\n",
        "\\gamma(U, 2) - \\gamma(U, -2) = -8(1+U).\n",
        "\\end{gather*}\n",
        "\n",
        "Case 1:\n",
        "\\begin{gather*}\n",
        "\\max_V \\gamma(U,\\, V) = \\gamma(U,\\, 2) \\; \\Longrightarrow \\; U \\leqslant -1 \\; \\Longrightarrow \\; \\Gamma^u = \\min_U \\gamma(U\\,2) = \\gamma(-1, 2) = 4.\n",
        "\\end{gather*}\n",
        "\n",
        "Case 2:\n",
        "\\begin{gather*}\n",
        "\\max_V \\gamma(U,\\, V) = \\gamma(U,\\, -2) \\; \\Longrightarrow \\; U \\geqslant -1 \\; \\Longrightarrow \\; \\Gamma^u = \\min_U \\gamma(U\\,-2) = \\gamma(-1, -2) = 4.\n",
        "\\end{gather*}\n"
      ]
    },
    {
      "cell_type": "markdown",
      "metadata": {
        "id": "E4J4HcicfuGC",
        "colab_type": "text"
      },
      "source": [
        "Compute $\\Gamma^v$\n",
        "\n",
        "\\begin{gather*}\n",
        "\\frac{\\partial}{\\partial U} \\gamma(U,\\,V) = 2(1 + U - V) = 0 \\;\\Longrightarrow\\; U = V - 1 \\Longrightarrow\\; \\Gamma^v = \\max_{V}\\gamma(V-1,\\,V) = 0\n",
        "\\end{gather*}"
      ]
    },
    {
      "cell_type": "markdown",
      "metadata": {
        "id": "20rbj4TTllV8",
        "colab_type": "text"
      },
      "source": [
        "Compute $\\tilde{\\Gamma}^u$\n",
        "\n",
        "\\begin{gather*}\n",
        "\\forall U, V \\quad \\tilde{\\Gamma}^u \\geqslant 0, \\\\ \\\\\n",
        "U(x) = - 4 \\cdot \\text{sign}(x) \\;\\Longrightarrow\\; \\gamma(U,\\, V) = \\max_{V}(1 - 4 \\cdot \\text{sign}(x) - V(x))^2\n",
        "\\end{gather*}"
      ]
    },
    {
      "cell_type": "markdown",
      "metadata": {
        "id": "VhvN61Hitl5J",
        "colab_type": "text"
      },
      "source": [
        "Compute $\\tilde{\\Gamma}^v$\n",
        "\n",
        "\\begin{gather*}\n",
        "0 = \\Gamma^v \\leqslant \\tilde{\\Gamma}^v \\leqslant \\tilde{\\Gamma}^u = 0 \\; \\Longrightarrow \\; \\tilde{\\Gamma}^v = 0.\n",
        "\\end{gather*}"
      ]
    },
    {
      "cell_type": "markdown",
      "metadata": {
        "id": "fKQpP3ao2VR6",
        "colab_type": "text"
      },
      "source": [
        "# Code implementation"
      ]
    },
    {
      "cell_type": "markdown",
      "metadata": {
        "id": "T5YRCc2MJ1SU",
        "colab_type": "text"
      },
      "source": [
        "Implement environment"
      ]
    },
    {
      "cell_type": "code",
      "metadata": {
        "id": "Fj46-jGRJ1SV",
        "colab_type": "code",
        "colab": {}
      },
      "source": [
        "class UnequalGame:\n",
        "\n",
        "    def __init__(self, initial_x=1, dt=0.005, terminal_time=2, u_action_max=2, v_action_max=1):\n",
        "        self.u_action_max = u_action_max\n",
        "        self.v_action_max = v_action_max\n",
        "        self.terminal_time = terminal_time\n",
        "        self.dt = dt\n",
        "        self.initial_x = initial_x\n",
        "        self.state = self.reset()\n",
        "\n",
        "    def reset(self):\n",
        "        self.state = np.array([0, self.initial_x])\n",
        "        return self.state\n",
        "\n",
        "    def step(self, u_action, v_action):\n",
        "        t, x = self.state\n",
        "        x = x + (u_action - v_action) * self.dt\n",
        "        t += self.dt\n",
        "        self.state = np.array([t, x])\n",
        "\n",
        "        reward = 0\n",
        "        done = False\n",
        "        if t >= self.terminal_time:\n",
        "            reward = x ** 2\n",
        "            done = True\n",
        "\n",
        "        return self.state, reward, done, None\n"
      ],
      "execution_count": 0,
      "outputs": []
    },
    {
      "cell_type": "markdown",
      "metadata": {
        "id": "01OM_i5PJ1SX",
        "colab_type": "text"
      },
      "source": [
        "Implement agent"
      ]
    },
    {
      "cell_type": "code",
      "metadata": {
        "id": "7S80KcE1J1SY",
        "colab_type": "code",
        "colab": {}
      },
      "source": [
        "class Network(torch.nn.Module):\n",
        "\n",
        "    def __init__(self, input_shape, output_shape):\n",
        "        super().__init__()\n",
        "        self.linear_1 = torch.nn.Linear(input_shape[0], 50)\n",
        "        self.linear_2 = torch.nn.Linear(50, 30)\n",
        "        self.linear_3 = torch.nn.Linear(30, output_shape[0])\n",
        "        self.relu = torch.nn.ReLU()\n",
        "        self.tang = torch.nn.Tanh()\n",
        "\n",
        "    def forward(self, input_):\n",
        "        hidden = self.relu(self.linear_1(input_))\n",
        "        hidden = self.relu(self.linear_2(hidden))\n",
        "        output = self.tang(self.linear_3(hidden))\n",
        "        return output\n",
        "\n",
        "\n",
        "class CCEMAgent(torch.nn.Module):\n",
        "\n",
        "    def __init__(self, state_shape, action_shape, action_max, reward_param=1, percentile_param=70, noise_decrease=0.98,\n",
        "                 tau=1e-2, learning_rate=1e-2, n_learning_per_fit=16):\n",
        "        super().__init__()\n",
        "        self.action_max = np.abs(action_max)\n",
        "        self.reward_param = reward_param  # equal to 1 if agent wants to maximize reward otherwise -1\n",
        "        self.percentile_param = percentile_param\n",
        "        self.noise_decrease = noise_decrease\n",
        "        self.noise_threshold = 1\n",
        "        self.min_noise_threshold = 0.1\n",
        "        self.tau = tau\n",
        "        self.n_learning_per_fit = n_learning_per_fit\n",
        "        self.network = Network(state_shape, action_shape)\n",
        "        self.optimizer = torch.optim.Adam(params=self.network.parameters(), lr=learning_rate)\n",
        "\n",
        "    def get_action(self, state, test=False):\n",
        "        state = torch.FloatTensor(state)\n",
        "        predicted_action = self.network(state).detach().numpy() * self.action_max\n",
        "        if not test:\n",
        "            noise = self.noise_threshold * np.random.uniform(low=-self.action_max, high=self.action_max)\n",
        "            predicted_action = np.clip(predicted_action + noise, -self.action_max, self.action_max)\n",
        "        return predicted_action\n",
        "\n",
        "    def get_elite_states_and_actions(self, sessions, prefix):\n",
        "        \"\"\"\n",
        "          Select sessions with the most or least reward\n",
        "          by percentile\n",
        "        \"\"\"\n",
        "        total_rewards = [session['total_reward'] for session in sessions]\n",
        "        reward_threshold = np.percentile(total_rewards, self.percentile_param)\n",
        "\n",
        "        elite_states = []\n",
        "        elite_actions = []\n",
        "        for session in sessions:\n",
        "            if self.reward_param * (session['total_reward'] - reward_threshold) > 0:\n",
        "                elite_states.extend(session['states'])\n",
        "                elite_actions.extend(session[f'{prefix}actions'])\n",
        "\n",
        "        return torch.FloatTensor(elite_states), torch.FloatTensor(elite_actions)\n",
        "\n",
        "    def learn_network(self, loss):\n",
        "        self.optimizer.zero_grad()\n",
        "        old_network = deepcopy(self.network)\n",
        "        loss.backward()\n",
        "        self.optimizer.step()\n",
        "\n",
        "        for new_parameter, old_parameter in zip(self.network.parameters(), old_network.parameters()):\n",
        "            new_parameter.data.copy_(self.tau * new_parameter + (1 - self.tau) * old_parameter)\n",
        "\n",
        "        return None\n",
        "\n",
        "    def fit(self, sessions, prefix=''):\n",
        "        elite_states, elite_actions = self.get_elite_states_and_actions(sessions, prefix=prefix)\n",
        "\n",
        "        for _ in range(self.n_learning_per_fit):\n",
        "            predicted_action = self.network(elite_states) * self.action_max\n",
        "            loss = torch.mean((predicted_action - elite_actions) ** 2)\n",
        "            self.learn_network(loss)\n",
        "\n",
        "        if self.noise_threshold > self.min_noise_threshold:\n",
        "            self.noise_threshold *= self.noise_decrease\n",
        "\n",
        "        return None\n",
        "\n",
        "    def __str__(self):\n",
        "        return 'u_agent' if self.reward_param == -1 else 'v_agent'\n"
      ],
      "execution_count": 0,
      "outputs": []
    },
    {
      "cell_type": "markdown",
      "metadata": {
        "id": "kzV4HKqsJ1Sb",
        "colab_type": "text"
      },
      "source": [
        "Fit agents"
      ]
    },
    {
      "cell_type": "code",
      "metadata": {
        "id": "RrjBLPuDJ1Sb",
        "colab_type": "code",
        "colab": {}
      },
      "source": [
        "def generate_session(u_agent, v_agent, env, t_max=200, test=False):\n",
        "    \"\"\"\n",
        "    Generate session on environment with agent\n",
        "    \"\"\"\n",
        "    states = []\n",
        "    u_actions = []\n",
        "    v_actions = []\n",
        "    total_reward = 0\n",
        "    done = False\n",
        "    state = env.reset()\n",
        "    while not done:\n",
        "        u_action = u_agent.get_action(state, test=test)\n",
        "        v_action = v_agent.get_action(state)\n",
        "        next_state, reward, done, _ = env.step(u_action[0], v_action[0])\n",
        "        states.append(state)\n",
        "        u_actions.append(u_action)\n",
        "        v_actions.append(v_action)\n",
        "        total_reward += reward\n",
        "        state = next_state\n",
        "\n",
        "    return {'states': states, 'u_actions': u_actions, 'v_actions': v_actions, 'total_reward': total_reward}\n",
        "\n",
        "def fit_epoch(u_agent, v_agent, env, n_sessions, test):\n",
        "    sessions = [generate_session(u_agent, v_agent, env, test=test) for _ in range(n_sessions)]\n",
        "    mean_reward = np.mean([session['total_reward'] for session in sessions])\n",
        "    if not test:\n",
        "        u_agent.fit(sessions, prefix='u_')\n",
        "    v_agent.fit(sessions, prefix='v_')\n",
        "    return mean_reward\n",
        "\n",
        "def fit_agents(u_agent, v_agent, env, n_epochs, n_sessions, epsilon, test=False):\n",
        "    last_mean_reward = 0\n",
        "    mean_rewards = []\n",
        "    \n",
        "    for epoch in range(n_epochs):\n",
        "        mean_reward = fit_epoch(u_agent, v_agent, env, n_sessions, test)\n",
        "        mean_rewards.append(mean_reward)\n",
        "        print(f'epoch: {epoch}, mean reward: {mean_reward}')\n",
        "        if np.abs(last_mean_reward - mean_reward) < epsilon:\n",
        "            break\n",
        "        last_mean_reward = mean_reward\n",
        "        \n",
        "    return np.array(mean_rewards)"
      ],
      "execution_count": 0,
      "outputs": []
    },
    {
      "cell_type": "markdown",
      "metadata": {
        "id": "Ts0iEOAPwNbf",
        "colab_type": "text"
      },
      "source": [
        "Fit agents one by one"
      ]
    },
    {
      "cell_type": "code",
      "metadata": {
        "id": "6zWWu0hLwXVU",
        "colab_type": "code",
        "colab": {}
      },
      "source": [
        "def fit_agents_one_by_one(u_agent, v_agent, env, n_epochs, n_sessions, n_iter_for_fit, epsilon):\n",
        "    last_mean_reward = 0\n",
        "    mean_rewards = []\n",
        "    fit_agent = u_agent\n",
        "    wait_agent = v_agent\n",
        "    epoch = 0\n",
        "    stop = False\n",
        "\n",
        "    while not stop and epoch < n_epochs:\n",
        "\n",
        "        for _ in range(n_iter_for_fit):\n",
        "            mean_reward = fit_epoch(wait_agent, fit_agent, env, n_sessions, test=True)\n",
        "            mean_rewards.append(mean_reward)\n",
        "            print(f'epoch: {epoch}, current agent: {fit_agent}, mean reward: {mean_reward}')\n",
        "            if np.abs(last_mean_reward - mean_reward) < epsilon:\n",
        "                stop = True\n",
        "                break\n",
        "            last_mean_reward = mean_reward\n",
        "            epoch += 1\n",
        "            \n",
        "        print('\\n')\n",
        "        wait_agent, fit_agent = fit_agent, wait_agent\n",
        "\n",
        "    return np.array(mean_rewards)\n"
      ],
      "execution_count": 0,
      "outputs": []
    },
    {
      "cell_type": "markdown",
      "metadata": {
        "id": "4wR_cLRa2r7A",
        "colab_type": "text"
      },
      "source": [
        "Plot mean rewards by epochs"
      ]
    },
    {
      "cell_type": "code",
      "metadata": {
        "id": "pI2rrGrK2w6l",
        "colab_type": "code",
        "colab": {}
      },
      "source": [
        "def plot_mean_rewards(mean_rewards, method_name):\n",
        "    _, ax = fig.subplots(figsize=(12, 10))\n",
        "    ax.plot(range(len(mean_rewards)), mean_rewards, '--')\n",
        "    ax.set_xlabel('epoch')\n",
        "    ax.set_ylabel('Mean reward')\n",
        "    ax.set_title(f'Mean rewards for {method_name} over epochs')\n",
        "    plt.show()  "
      ],
      "execution_count": 0,
      "outputs": []
    },
    {
      "cell_type": "markdown",
      "metadata": {
        "id": "pgUptSYv2FIK",
        "colab_type": "text"
      },
      "source": [
        "# Fitting"
      ]
    },
    {
      "cell_type": "code",
      "metadata": {
        "id": "EXE4PAqKJ1Se",
        "colab_type": "code",
        "colab": {}
      },
      "source": [
        "env = UnequalGame()\n",
        "u_agent = CCEMAgent((2,), (1,), percentile_param=30, action_max=env.u_action_max, reward_param=-1)\n",
        "v_agent = CCEMAgent((2,), (1,), percentile_param=70, action_max=env.v_action_max, reward_param=1)"
      ],
      "execution_count": 0,
      "outputs": []
    },
    {
      "cell_type": "markdown",
      "metadata": {
        "id": "LDwDnGJD5qa9",
        "colab_type": "text"
      },
      "source": [
        "Deafualt fit"
      ]
    },
    {
      "cell_type": "code",
      "metadata": {
        "scrolled": true,
        "id": "IB5KIRc2J1Sg",
        "colab_type": "code",
        "outputId": "e481410d-3d86-4c32-fd76-16d732832456",
        "colab": {
          "base_uri": "https://localhost:8080/",
          "height": 1000
        }
      },
      "source": [
        "mean_rewards = fit_agents(u_agent, v_agent, env, n_epochs=100, n_sessions=100, epsilon=1e-6)"
      ],
      "execution_count": 0,
      "outputs": [
        {
          "output_type": "stream",
          "text": [
            "epoch: 0, mean reward: 0.19114161364113624\n",
            "epoch: 1, mean reward: 0.11577043586042952\n",
            "epoch: 2, mean reward: 0.08174576392744781\n",
            "epoch: 3, mean reward: 0.059975603409217974\n",
            "epoch: 4, mean reward: 0.033892178266732985\n",
            "epoch: 5, mean reward: 0.01421937048225429\n",
            "epoch: 6, mean reward: 0.01372374610961566\n",
            "epoch: 7, mean reward: 0.015380823645211414\n",
            "epoch: 8, mean reward: 0.012427188856556295\n",
            "epoch: 9, mean reward: 0.012661211554975871\n",
            "epoch: 10, mean reward: 0.011634616203188347\n",
            "epoch: 11, mean reward: 0.010248438934329583\n",
            "epoch: 12, mean reward: 0.007434340953153967\n",
            "epoch: 13, mean reward: 0.00952536742595894\n",
            "epoch: 14, mean reward: 0.008204552418593535\n",
            "epoch: 15, mean reward: 0.008102034422691654\n",
            "epoch: 16, mean reward: 0.006499501268461445\n",
            "epoch: 17, mean reward: 0.0077723672911606855\n",
            "epoch: 18, mean reward: 0.008573505482016358\n",
            "epoch: 19, mean reward: 0.006799454535887127\n",
            "epoch: 20, mean reward: 0.005961047317817465\n",
            "epoch: 21, mean reward: 0.006254899536626659\n",
            "epoch: 22, mean reward: 0.0042670784791318216\n",
            "epoch: 23, mean reward: 0.004837400647228448\n",
            "epoch: 24, mean reward: 0.00495819795379819\n",
            "epoch: 25, mean reward: 0.004514710649849442\n",
            "epoch: 26, mean reward: 0.004258172158656168\n",
            "epoch: 27, mean reward: 0.004063006618411937\n",
            "epoch: 28, mean reward: 0.0040822257697781935\n",
            "epoch: 29, mean reward: 0.0029085522289215736\n",
            "epoch: 30, mean reward: 0.004210597196699026\n",
            "epoch: 31, mean reward: 0.0030383923208330272\n",
            "epoch: 32, mean reward: 0.0023735636893664706\n",
            "epoch: 33, mean reward: 0.0034453707845010645\n",
            "epoch: 34, mean reward: 0.0027493465560799717\n",
            "epoch: 35, mean reward: 0.0022658775649083297\n",
            "epoch: 36, mean reward: 0.0034634417456055095\n",
            "epoch: 37, mean reward: 0.002655544396125087\n",
            "epoch: 38, mean reward: 0.002528843964341514\n",
            "epoch: 39, mean reward: 0.0022634035894449956\n",
            "epoch: 40, mean reward: 0.0025129157152847473\n",
            "epoch: 41, mean reward: 0.0026691601863270296\n",
            "epoch: 42, mean reward: 0.002257241244906126\n",
            "epoch: 43, mean reward: 0.001516793935827066\n",
            "epoch: 44, mean reward: 0.0018651060140579833\n",
            "epoch: 45, mean reward: 0.001975762613747668\n",
            "epoch: 46, mean reward: 0.0016877965818707247\n",
            "epoch: 47, mean reward: 0.001698826028839701\n",
            "epoch: 48, mean reward: 0.0017405282143801385\n",
            "epoch: 49, mean reward: 0.0015015593959092715\n",
            "epoch: 50, mean reward: 0.001724769547292247\n",
            "epoch: 51, mean reward: 0.0019991681462822428\n",
            "epoch: 52, mean reward: 0.0012655318604488635\n",
            "epoch: 53, mean reward: 0.0013970084988074011\n",
            "epoch: 54, mean reward: 0.0013951707742050452\n",
            "epoch: 55, mean reward: 0.0012142061786479734\n",
            "epoch: 56, mean reward: 0.0011012554577851592\n",
            "epoch: 57, mean reward: 0.0012574747246917651\n",
            "epoch: 58, mean reward: 0.0008243610889990514\n",
            "epoch: 59, mean reward: 0.0008652682888742189\n",
            "epoch: 60, mean reward: 0.00094375115423299\n",
            "epoch: 61, mean reward: 0.0010175465141955685\n",
            "epoch: 62, mean reward: 0.0008611379896105101\n",
            "epoch: 63, mean reward: 0.0008409333992394441\n",
            "epoch: 64, mean reward: 0.0008738234412995671\n",
            "epoch: 65, mean reward: 0.0009485637741675665\n",
            "epoch: 66, mean reward: 0.0007029407029339115\n"
          ],
          "name": "stdout"
        }
      ]
    },
    {
      "cell_type": "code",
      "metadata": {
        "id": "YDn0VPMmJ1Sk",
        "colab_type": "code",
        "outputId": "1a3fdbe9-4088-41e6-fbfd-f65ec556caf8",
        "colab": {
          "base_uri": "https://localhost:8080/",
          "height": 295
        }
      },
      "source": [
        "plot_mean_rewards(mean_rewards, name='train')"
      ],
      "execution_count": 33,
      "outputs": [
        {
          "output_type": "display_data",
          "data": {
            "image/png": "[encoded data removed]",
            "text/plain": [
              "<Figure size 432x288 with 1 Axes>"
            ]
          },
          "metadata": {
            "tags": [],
            "needs_background": "light"
          }
        }
      ]
    },
    {
      "cell_type": "markdown",
      "metadata": {
        "id": "rsIq2Y3V5njb",
        "colab_type": "text"
      },
      "source": [
        "Fit one by one"
      ]
    },
    {
      "cell_type": "code",
      "metadata": {
        "id": "OW1QxXVg6gYp",
        "colab_type": "code",
        "colab": {}
      },
      "source": [
        "u_agent_one_by_one = CCEMAgent((2,), (1,), percentile_param=30, action_max=env.u_action_max, reward_param=-1)\n",
        "v_agent_one_by_one = CCEMAgent((2,), (1,), percentile_param=70, action_max=env.v_action_max, reward_param=1)"
      ],
      "execution_count": 0,
      "outputs": []
    },
    {
      "cell_type": "code",
      "metadata": {
        "id": "Fo2hX83F6UxM",
        "colab_type": "code",
        "colab": {}
      },
      "source": [
        "mean_rewards_one_by_one =\n",
        " fit_agents_one_by_one(u_agent_one_by_one, v_agent_one_by_one, env, \n",
        "                       n_epochs=100, n_sessions=100, n_iter_for_fit=20, epsilon=13-6)"
      ],
      "execution_count": 0,
      "outputs": []
    },
    {
      "cell_type": "code",
      "metadata": {
        "id": "wnAuA95963EE",
        "colab_type": "code",
        "colab": {}
      },
      "source": [
        "plot_mean_rewards(mean_rewards_one_by_one, 'train one by one')"
      ],
      "execution_count": 0,
      "outputs": []
    },
    {
      "cell_type": "markdown",
      "metadata": {
        "id": "a9PYm_lX2h-H",
        "colab_type": "text"
      },
      "source": [
        "# Testing"
      ]
    },
    {
      "cell_type": "markdown",
      "metadata": {
        "id": "RrkkxFDSJ1Sn",
        "colab_type": "text"
      },
      "source": [
        "Test default u_gent"
      ]
    },
    {
      "cell_type": "code",
      "metadata": {
        "id": "hJe3A4XBJ1Sn",
        "colab_type": "code",
        "colab": {}
      },
      "source": [
        "v_test_agent = CCEMAgent((2,), (1,), percentile_param=70, action_max=env.v_action_max, reward_param=1)"
      ],
      "execution_count": 0,
      "outputs": []
    },
    {
      "cell_type": "code",
      "metadata": {
        "id": "yzC4Sb2QJ1Sq",
        "colab_type": "code",
        "colab": {}
      },
      "source": [
        "test_rewards = train_agents(u_agent, v_test_agent, env, n_epochs=500, n_sessions=100, epsilon=1e-6, test=True)"
      ],
      "execution_count": 0,
      "outputs": []
    },
    {
      "cell_type": "code",
      "metadata": {
        "id": "i7ZITn34J1Ss",
        "colab_type": "code",
        "outputId": "e0ef7f04-d64f-484f-a2fc-b59bb844e574",
        "colab": {
          "base_uri": "https://localhost:8080/",
          "height": 295
        }
      },
      "source": [
        "plot_mean_rewards(test_rewards, name='test')"
      ],
      "execution_count": 28,
      "outputs": [
        {
          "output_type": "display_data",
          "data": {
            "image/png": "[encoded data removed]",
            "text/plain": [
              "<Figure size 432x288 with 1 Axes>"
            ]
          },
          "metadata": {
            "tags": [],
            "needs_background": "light"
          }
        }
      ]
    },
    {
      "cell_type": "markdown",
      "metadata": {
        "id": "3aR-GlF-f0Yg",
        "colab_type": "text"
      },
      "source": [
        "Test u_agent_one_by_one"
      ]
    },
    {
      "cell_type": "code",
      "metadata": {
        "id": "hq_ApuAW7J2I",
        "colab_type": "code",
        "colab": {}
      },
      "source": [
        "v_test_agent_one_by_one = CCEMAgent((2,), (1,), percentile_param=70, action_max=env.v_action_max, reward_param=1)"
      ],
      "execution_count": 0,
      "outputs": []
    },
    {
      "cell_type": "code",
      "metadata": {
        "id": "KZorei8v7Np4",
        "colab_type": "code",
        "colab": {}
      },
      "source": [
        "test_rewards_one_by_one = train_agents(u_agent, v_test_agent, env, n_epochs=500, n_sessions=100, epsilon=1e-6, test=True)"
      ],
      "execution_count": 0,
      "outputs": []
    },
    {
      "cell_type": "code",
      "metadata": {
        "id": "cXK3jgOj7QN1",
        "colab_type": "code",
        "colab": {}
      },
      "source": [
        "plot_mean_rewards(test_rewards_one_by_one, name='test one by one')"
      ],
      "execution_count": 0,
      "outputs": []
    }
  ]
}