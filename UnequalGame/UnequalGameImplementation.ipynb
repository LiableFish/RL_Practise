{
  "nbformat": 4,
  "nbformat_minor": 0,
  "metadata": {
    "kernelspec": {
      "display_name": "Python 3",
      "language": "python",
      "name": "python3"
    },
    "language_info": {
      "codemirror_mode": {
        "name": "ipython",
        "version": 3
      },
      "file_extension": ".py",
      "mimetype": "text/x-python",
      "name": "python",
      "nbconvert_exporter": "python",
      "pygments_lexer": "ipython3",
      "version": "3.7.3"
    },
    "colab": {
      "name": "UnequalGameImplementation.ipynb",
      "provenance": [],
      "toc_visible": true
    }
  },
  "cells": [
    {
      "cell_type": "markdown",
      "metadata": {
        "id": "x7CyocjBJ1SP",
        "colab_type": "text"
      },
      "source": [
        "## Unequal Game solution with CCEM method"
      ]
    },
    {
      "cell_type": "code",
      "metadata": {
        "id": "AABSYH3vJ1SR",
        "colab_type": "code",
        "colab": {}
      },
      "source": [
        "import torch\n",
        "import numpy as np\n",
        "import matplotlib.pyplot as plt\n",
        "from copy import deepcopy"
      ],
      "execution_count": 0,
      "outputs": []
    },
    {
      "cell_type": "markdown",
      "metadata": {
        "id": "_cZE6eLK2MdR",
        "colab_type": "text"
      },
      "source": [
        "# Calculating optimal guaranteed results"
      ]
    },
    {
      "cell_type": "markdown",
      "metadata": {
        "id": "X9eLwv6LY4xn",
        "colab_type": "text"
      },
      "source": [
        "Let's find guaranteed results\n"
      ]
    },
    {
      "cell_type": "markdown",
      "metadata": {
        "id": "oKfpwnUFMYsK",
        "colab_type": "text"
      },
      "source": [
        "Definitions\n",
        "\n",
        "\\begin{gather*}\n",
        "\\Gamma^u = \\min_{u(\\cdot)}\\max_{v(\\cdot)} \\gamma(u,\\, v), \\quad \n",
        "\\Gamma^v = \\max_{v(\\cdot)}\\min_{u(\\cdot)} \\gamma(u,\\, v), \\\\\n",
        "\\tilde{\\Gamma}^u = \\min_{u(\\cdot,\\, \\cdot)}\\max_{v(\\cdot,\\, \\cdot)} \\gamma(u, v), \\quad \n",
        "\\tilde{\\Gamma}^v = \\max_{v(\\cdot,\\, \\cdot)}\\min_{u(\\cdot,\\, \\cdot)} \\gamma(u, v), \\\\\\\\\n",
        "\\Gamma^v \\leqslant \\tilde{\\Gamma}^v \\leqslant  \\tilde{\\Gamma}^v \\leqslant \\Gamma^u.\n",
        "\\end{gather*}"
      ]
    },
    {
      "cell_type": "markdown",
      "metadata": {
        "id": "QjyRmxcvY_pQ",
        "colab_type": "text"
      },
      "source": [
        "Our differential game model\n",
        "\n",
        "\\begin{gather*}\n",
        "\\begin{cases}\n",
        "\\dot{x} = u(t,\\,x) - v(t,\\,x), \\quad t \\in [0, 2],\\\\\n",
        "x(0) = 1, \\\\\n",
        "|u| \\leqslant 2, \\quad |v| \\leqslant 1.\n",
        "\\end{cases}, \\\\ \\\\\n",
        "\\gamma(u,\\, v) = x^2(2) = \\left(1 + \\int\\limits_0^2 u(t, x)\\,dt - \\int\\limits_0^2 v(t, x)\\,dt \\right)^2 = (1 +U(x) + V(x))^2, \\\\|U| \\leqslant 4, \\quad |V| \\leqslant 2, \\\\ \\\\\n",
        "\\Gamma^u = 4, \\quad \\Gamma^v = \\tilde{\\Gamma}^v = \\tilde{\\Gamma}^v = 0.\n",
        "\\end{gather*}"
      ]
    },
    {
      "cell_type": "markdown",
      "metadata": {
        "id": "vAd2UkykbgJ0",
        "colab_type": "text"
      },
      "source": [
        "Compute $\\Gamma^u$\n",
        "\n",
        "\\begin{gather*}\n",
        "\\max_V \\gamma(U,\\, V) = \\max\\left\\{\\gamma(U,\\, 2),\\, \\gamma(U,\\, -2)\\right\\}, \\\\ \\\\\n",
        "\\gamma(U, 2) - \\gamma(U, -2) = -8(1+U).\n",
        "\\end{gather*}\n",
        "\n",
        "Case 1:\n",
        "\\begin{gather*}\n",
        "\\max_V \\gamma(U,\\, V) = \\gamma(U,\\, 2) \\; \\Longrightarrow \\; U \\leqslant -1 \\; \\Longrightarrow \\; \\Gamma^u = \\min_U \\gamma(U\\,2) = \\gamma(-1, 2) = 4.\n",
        "\\end{gather*}\n",
        "\n",
        "Case 2:\n",
        "\\begin{gather*}\n",
        "\\max_V \\gamma(U,\\, V) = \\gamma(U,\\, -2) \\; \\Longrightarrow \\; U \\geqslant -1 \\; \\Longrightarrow \\; \\Gamma^u = \\min_U \\gamma(U\\,-2) = \\gamma(-1, -2) = 4.\n",
        "\\end{gather*}\n"
      ]
    },
    {
      "cell_type": "markdown",
      "metadata": {
        "id": "E4J4HcicfuGC",
        "colab_type": "text"
      },
      "source": [
        "Compute $\\Gamma^v$\n",
        "\n",
        "\\begin{gather*}\n",
        "\\frac{\\partial}{\\partial U} \\gamma(U,\\,V) = 2(1 + U - V) = 0 \\;\\Longrightarrow\\; U = V - 1 \\Longrightarrow\\; \\Gamma^v = \\max_{V}\\gamma(V-1,\\,V) = 0\n",
        "\\end{gather*}"
      ]
    },
    {
      "cell_type": "markdown",
      "metadata": {
        "id": "20rbj4TTllV8",
        "colab_type": "text"
      },
      "source": [
        "Compute $\\tilde{\\Gamma}^u$\n",
        "\n",
        "\\begin{gather*}\n",
        "\\forall U, V \\quad \\tilde{\\Gamma}^u \\geqslant 0, \\\\ \\\\\n",
        "U(x) = - 4 \\cdot \\text{sign}(x) \\;\\Longrightarrow\\; \\gamma(U,\\, V) = \\max_{V}(1 - 4 \\cdot \\text{sign}(x) - V(x))^2\n",
        "\\end{gather*}"
      ]
    },
    {
      "cell_type": "markdown",
      "metadata": {
        "id": "VhvN61Hitl5J",
        "colab_type": "text"
      },
      "source": [
        "Compute $\\tilde{\\Gamma}^v$\n",
        "\n",
        "\\begin{gather*}\n",
        "0 = \\Gamma^v \\leqslant \\tilde{\\Gamma}^v \\leqslant \\tilde{\\Gamma}^u = 0 \\; \\Longrightarrow \\; \\tilde{\\Gamma}^v = 0.\n",
        "\\end{gather*}"
      ]
    },
    {
      "cell_type": "markdown",
      "metadata": {
        "id": "fKQpP3ao2VR6",
        "colab_type": "text"
      },
      "source": [
        "# Code implementation"
      ]
    },
    {
      "cell_type": "markdown",
      "metadata": {
        "id": "T5YRCc2MJ1SU",
        "colab_type": "text"
      },
      "source": [
        "Implement environment"
      ]
    },
    {
      "cell_type": "code",
      "metadata": {
        "id": "Fj46-jGRJ1SV",
        "colab_type": "code",
        "colab": {}
      },
      "source": [
        "class UnequalGame:\n",
        "\n",
        "    def __init__(self, initial_x=1, dt=0.005, terminal_time=2, u_action_max=2, v_action_max=1):\n",
        "        self.u_action_max = u_action_max\n",
        "        self.v_action_max = v_action_max\n",
        "        self.terminal_time = terminal_time\n",
        "        self.dt = dt\n",
        "        self.initial_x = initial_x\n",
        "        self.state = self.reset()\n",
        "\n",
        "    def reset(self):\n",
        "        self.state = np.array([0, self.initial_x])\n",
        "        return self.state\n",
        "\n",
        "    def step(self, u_action, v_action):\n",
        "        t, x = self.state\n",
        "        x = x + (u_action - v_action) * self.dt\n",
        "        t += self.dt\n",
        "        self.state = np.array([t, x])\n",
        "\n",
        "        reward = 0\n",
        "        done = False\n",
        "        if t >= self.terminal_time:\n",
        "            reward = x ** 2\n",
        "            done = True\n",
        "\n",
        "        return self.state, reward, done, None\n"
      ],
      "execution_count": 0,
      "outputs": []
    },
    {
      "cell_type": "markdown",
      "metadata": {
        "id": "01OM_i5PJ1SX",
        "colab_type": "text"
      },
      "source": [
        "Implement agent"
      ]
    },
    {
      "cell_type": "code",
      "metadata": {
        "id": "7S80KcE1J1SY",
        "colab_type": "code",
        "colab": {}
      },
      "source": [
        "class Network(torch.nn.Module):\n",
        "\n",
        "    def __init__(self, input_shape, output_shape):\n",
        "        super().__init__()\n",
        "        self.linear_1 = torch.nn.Linear(input_shape[0], 50)\n",
        "        self.linear_2 = torch.nn.Linear(50, 30)\n",
        "        self.linear_3 = torch.nn.Linear(30, output_shape[0])\n",
        "        self.relu = torch.nn.ReLU()\n",
        "        self.tang = torch.nn.Tanh()\n",
        "\n",
        "    def forward(self, input_):\n",
        "        hidden = self.relu(self.linear_1(input_))\n",
        "        hidden = self.relu(self.linear_2(hidden))\n",
        "        output = self.tang(self.linear_3(hidden))\n",
        "        return output\n",
        "\n",
        "\n",
        "class CCEMAgent(torch.nn.Module):\n",
        "\n",
        "    def __init__(self, state_shape, action_shape, action_max, reward_param=1, percentile_param=70, noise_decrease=0.98,\n",
        "                 tau=1e-2, learning_rate=1e-2, n_learning_per_fit=16):\n",
        "        super().__init__()\n",
        "        self.action_max = np.abs(action_max)\n",
        "        self.reward_param = reward_param  # equal to 1 if agent wants to maximize reward otherwise -1\n",
        "        self.percentile_param = percentile_param\n",
        "        self.noise_decrease = noise_decrease\n",
        "        self.noise_threshold = 1\n",
        "        self.min_noise_threshold = 0.1\n",
        "        self.tau = tau\n",
        "        self.n_learning_per_fit = n_learning_per_fit\n",
        "        self.network = Network(state_shape, action_shape)\n",
        "        self.optimizer = torch.optim.Adam(params=self.network.parameters(), lr=learning_rate)\n",
        "\n",
        "    def get_action(self, state, test=False):\n",
        "        state = torch.FloatTensor(state)\n",
        "        predicted_action = self.network(state).detach().numpy() * self.action_max\n",
        "        if not test:\n",
        "            noise = self.noise_threshold * np.random.uniform(low=-self.action_max, high=self.action_max)\n",
        "            predicted_action = np.clip(predicted_action + noise, -self.action_max, self.action_max)\n",
        "        return predicted_action\n",
        "\n",
        "    def get_elite_states_and_actions(self, sessions):\n",
        "        \"\"\"\n",
        "          Select sessions with the most or least reward\n",
        "          by percentile\n",
        "        \"\"\"\n",
        "        total_rewards = [session['total_reward'] for session in sessions]\n",
        "        reward_threshold = np.percentile(total_rewards, self.percentile_param)\n",
        "\n",
        "        elite_states = []\n",
        "        elite_actions = []\n",
        "        for session in sessions:\n",
        "            if self.reward_param * (session['total_reward'] - reward_threshold) > 0:\n",
        "                elite_states.extend(session['states'])\n",
        "                elite_actions.extend(session[f'{self}actions'])\n",
        "\n",
        "        return torch.FloatTensor(elite_states), torch.FloatTensor(elite_actions)\n",
        "\n",
        "    def learn_network(self, loss):\n",
        "        self.optimizer.zero_grad()\n",
        "        old_network = deepcopy(self.network)\n",
        "        loss.backward()\n",
        "        self.optimizer.step()\n",
        "\n",
        "        for new_parameter, old_parameter in zip(self.network.parameters(), old_network.parameters()):\n",
        "            new_parameter.data.copy_(self.tau * new_parameter + (1 - self.tau) * old_parameter)\n",
        "\n",
        "        return None\n",
        "\n",
        "    def fit(self, sessions):\n",
        "        elite_states, elite_actions = self.get_elite_states_and_actions(sessions)\n",
        "\n",
        "        for _ in range(self.n_learning_per_fit):\n",
        "            predicted_action = self.network(elite_states) * self.action_max\n",
        "            loss = torch.mean((predicted_action - elite_actions) ** 2)\n",
        "            self.learn_network(loss)\n",
        "\n",
        "        if self.noise_threshold > self.min_noise_threshold:\n",
        "            self.noise_threshold *= self.noise_decrease\n",
        "\n",
        "        return None\n",
        "\n",
        "    def __str__(self):\n",
        "        return 'u_' if self.reward_param == -1 else 'v_'\n"
      ],
      "execution_count": 0,
      "outputs": []
    },
    {
      "cell_type": "markdown",
      "metadata": {
        "id": "0fTW3tWbHyiu",
        "colab_type": "text"
      },
      "source": [
        "Test agents"
      ]
    },
    {
      "cell_type": "code",
      "metadata": {
        "id": "PUU1ytZhHca5",
        "colab_type": "code",
        "colab": {}
      },
      "source": [
        "def test_agent(u_agent, env, n_epochs, n_sessions, epsilon):\n",
        "    v_agent = CCEMAgent((2,), (1,), percentile_param=70, action_max=env.v_action_max, reward_param=1)\n",
        "    _, rewards = fit_agents(u_agent, v_agent, env, n_epochs, n_sessions, epsilon, test=True)\n",
        "    return rewards"
      ],
      "execution_count": 0,
      "outputs": []
    },
    {
      "cell_type": "markdown",
      "metadata": {
        "id": "kzV4HKqsJ1Sb",
        "colab_type": "text"
      },
      "source": [
        "Fit agents"
      ]
    },
    {
      "cell_type": "code",
      "metadata": {
        "id": "RrjBLPuDJ1Sb",
        "colab_type": "code",
        "colab": {}
      },
      "source": [
        "def generate_session(u_agent, v_agent, env, test=False):\n",
        "    \"\"\"\n",
        "    Generate session on environment with agent\n",
        "    \"\"\"\n",
        "    states = []\n",
        "    u_actions = []\n",
        "    v_actions = []\n",
        "    total_reward = 0\n",
        "    done = False\n",
        "    state = env.reset()\n",
        "    while not done:\n",
        "        u_action = u_agent.get_action(state, test=test)\n",
        "        v_action = v_agent.get_action(state)\n",
        "        actions = (u_action[0], v_action[0]) if str(u_agent) == 'u_' else (v_action[0], u_action[0])\n",
        "        next_state, reward, done, _ = env.step(*actions)\n",
        "        states.append(state)\n",
        "        u_actions.append(u_action)\n",
        "        v_actions.append(v_action)\n",
        "        total_reward += reward\n",
        "        state = next_state\n",
        "\n",
        "    return {'states': states, \\\n",
        "            f'{u_agent}actions': u_actions, \\\n",
        "            f'{v_agent}actions': v_actions, \\\n",
        "            'total_reward': total_reward}\n",
        "\n",
        "def fit_epoch(u_agent, v_agent, env, n_sessions, test):\n",
        "    sessions = [generate_session(u_agent, v_agent, env, test=test) for _ in range(n_sessions)]\n",
        "    mean_reward = np.mean([session['total_reward'] for session in sessions])\n",
        "    if not test:\n",
        "        u_agent.fit(sessions)\n",
        "    v_agent.fit(sessions)\n",
        "    return mean_reward\n"
      ],
      "execution_count": 0,
      "outputs": []
    },
    {
      "cell_type": "code",
      "metadata": {
        "id": "GY6XooSIHbeE",
        "colab_type": "code",
        "colab": {}
      },
      "source": [
        "def fit_agents(u_agent, v_agent, env, n_epochs, n_sessions,\\\n",
        "               epsilon, test=False, n_iter_debug=0):\n",
        "    last_mean_reward = 0\n",
        "    mean_rewards = []\n",
        "    epoch = 0\n",
        "\n",
        "    while epoch < n_epochs:\n",
        "\n",
        "        if n_iter_debug and epoch and epoch % n_iter_debug == 0:\n",
        "            print('\\n{:-^50}\\n'.format('TEST BEGIN'))\n",
        "            test_agent(u_agent, env, n_epochs=20, n_sessions=n_sessions, epsilon=epsilon)\n",
        "            print('\\n{:-^50}\\n'.format('TEST END'))\n",
        "        \n",
        "        mean_reward = fit_epoch(u_agent, v_agent, env, n_sessions, test)\n",
        "        mean_rewards.append(mean_reward)\n",
        "        print(f'epoch: {epoch}, mean reward: {mean_reward}')\n",
        "        if np.abs(last_mean_reward - mean_reward) < epsilon:\n",
        "            break\n",
        "        last_mean_reward = mean_reward\n",
        "        epoch += 1\n",
        "\n",
        "        \n",
        "    return u_agent, np.array(mean_rewards)\n"
      ],
      "execution_count": 0,
      "outputs": []
    },
    {
      "cell_type": "markdown",
      "metadata": {
        "id": "Ts0iEOAPwNbf",
        "colab_type": "text"
      },
      "source": [
        "Fit agents one by one"
      ]
    },
    {
      "cell_type": "code",
      "metadata": {
        "id": "6zWWu0hLwXVU",
        "colab_type": "code",
        "colab": {}
      },
      "source": [
        "def fit_agents_one_by_one(u_agent, v_agent, env, n_epochs, n_sessions,\\\n",
        "                          n_iter_for_fit, epsilon, n_iter_debug=0):\n",
        "    last_mean_reward = 0\n",
        "    mean_rewards = []\n",
        "    fit_agent = u_agent\n",
        "    wait_agent = v_agent\n",
        "    epoch = 0\n",
        "    stop = False\n",
        "\n",
        "    while not stop and epoch < n_epochs:\n",
        "\n",
        "        for _ in range(n_iter_for_fit):\n",
        "            if n_iter_debug and epoch and epoch % n_iter_debug == 0:\n",
        "                print('\\n{:-^50}\\n'.format('TEST BEGIN'))\n",
        "                test_agent(u_agent, env, n_epochs=20, n_sessions=n_sessions, epsilon=epsilon)\n",
        "                print('\\n{:-^50}\\n'.format('TEST END'))\n",
        "\n",
        "            mean_reward = fit_epoch(wait_agent, fit_agent, env, n_sessions, test=True)\n",
        "            mean_rewards.append(mean_reward)\n",
        "            print(f'epoch: {epoch}, current agent: {fit_agent}, mean reward: {mean_reward}')\n",
        "            if np.abs(last_mean_reward - mean_reward) < epsilon:\n",
        "                stop = True\n",
        "                break\n",
        "            last_mean_reward = mean_reward\n",
        "            epoch += 1\n",
        "            if epoch >= n_epochs:\n",
        "                break\n",
        "\n",
        "        print('\\n')\n",
        "        wait_agent, fit_agent = fit_agent, wait_agent\n",
        "\n",
        "    return u_agent, np.array(mean_rewards)\n"
      ],
      "execution_count": 0,
      "outputs": []
    },
    {
      "cell_type": "markdown",
      "metadata": {
        "id": "4wR_cLRa2r7A",
        "colab_type": "text"
      },
      "source": [
        "Plot mean rewards by epochs"
      ]
    },
    {
      "cell_type": "code",
      "metadata": {
        "id": "pI2rrGrK2w6l",
        "colab_type": "code",
        "colab": {}
      },
      "source": [
        "def plot_mean_rewards(mean_rewards, method_name):\n",
        "    _, ax = plt.subplots(figsize=(10, 8))\n",
        "    ax.plot(range(len(mean_rewards)), mean_rewards, '--')\n",
        "    ax.set_xlabel('epoch')\n",
        "    ax.set_ylabel('Mean reward')\n",
        "    ax.set_title(f'Mean rewards for {method_name} over epochs')\n",
        "    plt.show()  "
      ],
      "execution_count": 0,
      "outputs": []
    },
    {
      "cell_type": "markdown",
      "metadata": {
        "id": "pgUptSYv2FIK",
        "colab_type": "text"
      },
      "source": [
        "# Fitting"
      ]
    },
    {
      "cell_type": "markdown",
      "metadata": {
        "id": "LDwDnGJD5qa9",
        "colab_type": "text"
      },
      "source": [
        "Deafualt fit"
      ]
    },
    {
      "cell_type": "code",
      "metadata": {
        "id": "EXE4PAqKJ1Se",
        "colab_type": "code",
        "colab": {}
      },
      "source": [
        "env = UnequalGame()\n",
        "u_agent = CCEMAgent((2,), (1,), percentile_param=30, action_max=env.u_action_max, reward_param=-1)\n",
        "v_agent = CCEMAgent((2,), (1,), percentile_param=70, action_max=env.v_action_max, reward_param=1)"
      ],
      "execution_count": 0,
      "outputs": []
    },
    {
      "cell_type": "code",
      "metadata": {
        "scrolled": true,
        "id": "IB5KIRc2J1Sg",
        "colab_type": "code",
        "outputId": "d85426e1-66a5-417d-854b-81bdf898662c",
        "colab": {
          "base_uri": "https://localhost:8080/",
          "height": 1000
        }
      },
      "source": [
        "u_fit_agent, mean_rewards = fit_agents(u_agent, v_agent, env, n_epochs=101, n_sessions=100, epsilon=1e-6, n_iter_debug=50)"
      ],
      "execution_count": 0,
      "outputs": [
        {
          "output_type": "stream",
          "text": [
            "epoch: 0, mean reward: 1.3773243197560843\n",
            "epoch: 1, mean reward: 1.2849220297923083\n",
            "epoch: 2, mean reward: 1.1776507786345252\n",
            "epoch: 3, mean reward: 1.0594609653392284\n",
            "epoch: 4, mean reward: 0.9349823134704391\n",
            "epoch: 5, mean reward: 0.8492211485084661\n",
            "epoch: 6, mean reward: 0.7407841572648346\n",
            "epoch: 7, mean reward: 0.6469161470111148\n",
            "epoch: 8, mean reward: 0.5104650559918649\n",
            "epoch: 9, mean reward: 0.42697672565390443\n",
            "epoch: 10, mean reward: 0.3406296869713519\n",
            "epoch: 11, mean reward: 0.2848880261093028\n",
            "epoch: 12, mean reward: 0.23680522576171867\n",
            "epoch: 13, mean reward: 0.18388487993362304\n",
            "epoch: 14, mean reward: 0.14299283117802505\n",
            "epoch: 15, mean reward: 0.10584941179520252\n",
            "epoch: 16, mean reward: 0.06968883015453446\n",
            "epoch: 17, mean reward: 0.04056886945767383\n",
            "epoch: 18, mean reward: 0.022133273573165857\n",
            "epoch: 19, mean reward: 0.012398481921391527\n",
            "epoch: 20, mean reward: 0.0060429898070711785\n",
            "epoch: 21, mean reward: 0.002909253841796586\n",
            "epoch: 22, mean reward: 0.0029399799736055192\n",
            "epoch: 23, mean reward: 0.00237278702199119\n",
            "epoch: 24, mean reward: 0.002346423861609727\n",
            "epoch: 25, mean reward: 0.0025778598399387497\n",
            "epoch: 26, mean reward: 0.002176417869540448\n",
            "epoch: 27, mean reward: 0.0021326175533266213\n",
            "epoch: 28, mean reward: 0.0014089926281819099\n",
            "epoch: 29, mean reward: 0.002341789351505363\n",
            "epoch: 30, mean reward: 0.0017896860186720387\n",
            "epoch: 31, mean reward: 0.001836590891026031\n",
            "epoch: 32, mean reward: 0.0016089127091866253\n",
            "epoch: 33, mean reward: 0.001344004768654295\n",
            "epoch: 34, mean reward: 0.0012665036836372941\n",
            "epoch: 35, mean reward: 0.0018250519608096422\n",
            "epoch: 36, mean reward: 0.001514721708301345\n",
            "epoch: 37, mean reward: 0.0015117943124533276\n",
            "epoch: 38, mean reward: 0.001381011027561077\n",
            "epoch: 39, mean reward: 0.001265620337311212\n",
            "epoch: 40, mean reward: 0.0016039120408215654\n",
            "epoch: 41, mean reward: 0.0013418287774921711\n",
            "epoch: 42, mean reward: 0.0009551737941527492\n",
            "epoch: 43, mean reward: 0.0011700335337082063\n",
            "epoch: 44, mean reward: 0.0010775051933935638\n",
            "epoch: 45, mean reward: 0.0011193879487535656\n",
            "epoch: 46, mean reward: 0.0009629906768729652\n",
            "epoch: 47, mean reward: 0.0009573528978890103\n",
            "epoch: 48, mean reward: 0.0009294826328785266\n",
            "epoch: 49, mean reward: 0.0007366058129093774\n",
            "\n",
            "--------------------TEST BEGIN--------------------\n",
            "\n",
            "epoch: 0, mean reward: 0.09289094561186952\n",
            "epoch: 1, mean reward: 0.13302336252340624\n",
            "epoch: 2, mean reward: 0.17713212877870205\n",
            "epoch: 3, mean reward: 0.2273883224129115\n",
            "epoch: 4, mean reward: 0.2814645865248842\n",
            "epoch: 5, mean reward: 0.3425471373804181\n",
            "epoch: 6, mean reward: 0.4126353757980954\n",
            "epoch: 7, mean reward: 0.4916799679847935\n",
            "epoch: 8, mean reward: 0.5703097798604984\n",
            "epoch: 9, mean reward: 0.6449479924989916\n",
            "epoch: 10, mean reward: 0.7282845920891501\n",
            "epoch: 11, mean reward: 0.8064743757841736\n",
            "epoch: 12, mean reward: 0.8762060721787792\n",
            "epoch: 13, mean reward: 0.9515679049431485\n",
            "epoch: 14, mean reward: 1.031034987109545\n",
            "epoch: 15, mean reward: 1.1160804780377647\n",
            "epoch: 16, mean reward: 1.1925333503936972\n",
            "epoch: 17, mean reward: 1.2601371748602472\n",
            "epoch: 18, mean reward: 1.3438910245927587\n",
            "epoch: 19, mean reward: 1.4132209985031698\n",
            "\n",
            "---------------------TEST END---------------------\n",
            "\n",
            "epoch: 50, mean reward: 0.0007792864848654366\n",
            "epoch: 51, mean reward: 0.0006131830254033579\n",
            "epoch: 52, mean reward: 0.0009098939462058312\n",
            "epoch: 53, mean reward: 0.000696830168829788\n",
            "epoch: 54, mean reward: 0.0007173634877250809\n",
            "epoch: 55, mean reward: 0.0006702053192123205\n",
            "epoch: 56, mean reward: 0.0005332154995198315\n",
            "epoch: 57, mean reward: 0.0006709205702569898\n",
            "epoch: 58, mean reward: 0.0006799392949250066\n",
            "epoch: 59, mean reward: 0.0006710885966040288\n",
            "epoch: 60, mean reward: 0.0005154265653780349\n",
            "epoch: 61, mean reward: 0.00042309747266236865\n",
            "epoch: 62, mean reward: 0.0004601663984521849\n",
            "epoch: 63, mean reward: 0.0004425429405308221\n",
            "epoch: 64, mean reward: 0.0004386640493235947\n",
            "epoch: 65, mean reward: 0.00042187743556878365\n",
            "epoch: 66, mean reward: 0.0003496055031852683\n",
            "epoch: 67, mean reward: 0.0005794861339825875\n",
            "epoch: 68, mean reward: 0.0003301519957560288\n",
            "epoch: 69, mean reward: 0.00034204223238222845\n",
            "epoch: 70, mean reward: 0.00030787418559137\n",
            "epoch: 71, mean reward: 0.0004288339095708815\n",
            "epoch: 72, mean reward: 0.0003733272084174898\n",
            "epoch: 73, mean reward: 0.0002607782134972288\n",
            "epoch: 74, mean reward: 0.0002777111113500326\n",
            "epoch: 75, mean reward: 0.00036766731057461346\n",
            "epoch: 76, mean reward: 0.00029795682947578796\n",
            "epoch: 77, mean reward: 0.0002460644603397297\n",
            "epoch: 78, mean reward: 0.00029508075190964146\n",
            "epoch: 79, mean reward: 0.00018033484121999892\n",
            "epoch: 80, mean reward: 0.0002223554346456235\n",
            "epoch: 81, mean reward: 0.0002256313061937255\n",
            "epoch: 82, mean reward: 0.00028173921459274503\n",
            "epoch: 83, mean reward: 0.00020160167854677919\n",
            "epoch: 84, mean reward: 0.00021537058393156038\n",
            "epoch: 85, mean reward: 0.00017569326781569\n",
            "epoch: 86, mean reward: 0.00021574122455943589\n",
            "epoch: 87, mean reward: 0.00017161922109342346\n",
            "epoch: 88, mean reward: 0.00016858880332934093\n",
            "epoch: 89, mean reward: 0.0002060685179733215\n",
            "epoch: 90, mean reward: 0.00012998797315434094\n",
            "epoch: 91, mean reward: 0.0001606730724035577\n",
            "epoch: 92, mean reward: 0.0001372640549510327\n",
            "epoch: 93, mean reward: 0.00011382906853537305\n",
            "epoch: 94, mean reward: 0.00013044445450109294\n",
            "epoch: 95, mean reward: 0.00013055436869872244\n"
          ],
          "name": "stdout"
        }
      ]
    },
    {
      "cell_type": "code",
      "metadata": {
        "id": "YDn0VPMmJ1Sk",
        "colab_type": "code",
        "outputId": "78c34124-5e7b-4228-d6ac-04d5c7de69ab",
        "colab": {
          "base_uri": "https://localhost:8080/",
          "height": 513
        }
      },
      "source": [
        "plot_mean_rewards(mean_rewards, method_name='fit')"
      ],
      "execution_count": 0,
      "outputs": [
        {
          "output_type": "display_data",
          "data": {
            "image/png": "[encoded data removed]",
            "text/plain": [
              "<Figure size 720x576 with 1 Axes>"
            ]
          },
          "metadata": {
            "tags": [],
            "needs_background": "light"
          }
        }
      ]
    },
    {
      "cell_type": "markdown",
      "metadata": {
        "id": "rsIq2Y3V5njb",
        "colab_type": "text"
      },
      "source": [
        "Fit one by one"
      ]
    },
    {
      "cell_type": "code",
      "metadata": {
        "id": "OW1QxXVg6gYp",
        "colab_type": "code",
        "colab": {}
      },
      "source": [
        "u_agent_one_by_one = CCEMAgent((2,), (1,), percentile_param=30, action_max=env.u_action_max, reward_param=-1)\n",
        "v_agent_one_by_one = CCEMAgent((2,), (1,), percentile_param=70, action_max=env.v_action_max, reward_param=1)"
      ],
      "execution_count": 0,
      "outputs": []
    },
    {
      "cell_type": "code",
      "metadata": {
        "id": "Fo2hX83F6UxM",
        "colab_type": "code",
        "outputId": "844c4dbb-5176-421c-cc3c-f70fd4903431",
        "colab": {
          "base_uri": "https://localhost:8080/",
          "height": 1000
        }
      },
      "source": [
        "u_fit_agent_one_by_one, mean_rewards_one_by_one =\\\n",
        "fit_agents_one_by_one(u_agent_one_by_one, v_agent_one_by_one, env, \\\n",
        "                       n_epochs=301, n_sessions=100, n_iter_for_fit=10, epsilon=-1, n_iter_debug=50)"
      ],
      "execution_count": 0,
      "outputs": [
        {
          "output_type": "stream",
          "text": [
            "epoch: 0, current agent: u_, mean reward: 2.409082462021751\n",
            "epoch: 1, current agent: u_, mean reward: 1.8449403258491643\n",
            "epoch: 2, current agent: u_, mean reward: 1.3771637060075475\n",
            "epoch: 3, current agent: u_, mean reward: 1.001051920128964\n",
            "epoch: 4, current agent: u_, mean reward: 0.5729535105284167\n",
            "epoch: 5, current agent: u_, mean reward: 0.2932197923964871\n",
            "epoch: 6, current agent: u_, mean reward: 0.13832287440699242\n",
            "epoch: 7, current agent: u_, mean reward: 0.03863945060559393\n",
            "epoch: 8, current agent: u_, mean reward: 0.016782315537186964\n",
            "epoch: 9, current agent: u_, mean reward: 0.017599475617150428\n",
            "\n",
            "\n",
            "epoch: 10, current agent: v_, mean reward: 0.006088087278451001\n",
            "epoch: 11, current agent: v_, mean reward: 0.006475891996989289\n",
            "epoch: 12, current agent: v_, mean reward: 0.012439550397485587\n",
            "epoch: 13, current agent: v_, mean reward: 0.03176915318253063\n",
            "epoch: 14, current agent: v_, mean reward: 0.08546269611129417\n",
            "epoch: 15, current agent: v_, mean reward: 0.1397157213977008\n",
            "epoch: 16, current agent: v_, mean reward: 0.22463283131144965\n",
            "epoch: 17, current agent: v_, mean reward: 0.3112836197012713\n",
            "epoch: 18, current agent: v_, mean reward: 0.4090205137683675\n",
            "epoch: 19, current agent: v_, mean reward: 0.5064479262652419\n",
            "\n",
            "\n",
            "epoch: 20, current agent: u_, mean reward: 0.6299532743350038\n",
            "epoch: 21, current agent: u_, mean reward: 0.3867001176907433\n",
            "epoch: 22, current agent: u_, mean reward: 0.25197713110100384\n",
            "epoch: 23, current agent: u_, mean reward: 0.12798488477687753\n",
            "epoch: 24, current agent: u_, mean reward: 0.053129427209216165\n",
            "epoch: 25, current agent: u_, mean reward: 0.01965675006882672\n",
            "epoch: 26, current agent: u_, mean reward: 0.011808282364938165\n",
            "epoch: 27, current agent: u_, mean reward: 0.012011823479938821\n",
            "epoch: 28, current agent: u_, mean reward: 0.012115861423181645\n",
            "epoch: 29, current agent: u_, mean reward: 0.010455257639781399\n",
            "\n",
            "\n",
            "epoch: 30, current agent: v_, mean reward: 0.004658531401147774\n",
            "epoch: 31, current agent: v_, mean reward: 0.004309261378933817\n",
            "epoch: 32, current agent: v_, mean reward: 0.003936597753624471\n",
            "epoch: 33, current agent: v_, mean reward: 0.0046177563053110965\n",
            "epoch: 34, current agent: v_, mean reward: 0.014224499250890348\n",
            "epoch: 35, current agent: v_, mean reward: 0.03804428037344947\n",
            "epoch: 36, current agent: v_, mean reward: 0.07191565889191953\n",
            "epoch: 37, current agent: v_, mean reward: 0.11344602936240938\n",
            "epoch: 38, current agent: v_, mean reward: 0.15384388269070823\n",
            "epoch: 39, current agent: v_, mean reward: 0.20199459394069855\n",
            "\n",
            "\n",
            "epoch: 40, current agent: u_, mean reward: 0.26788069238097917\n",
            "epoch: 41, current agent: u_, mean reward: 0.15071329694085991\n",
            "epoch: 42, current agent: u_, mean reward: 0.05926812455796405\n",
            "epoch: 43, current agent: u_, mean reward: 0.01717971628044464\n",
            "epoch: 44, current agent: u_, mean reward: 0.009626644024377901\n",
            "epoch: 45, current agent: u_, mean reward: 0.006551047730310007\n",
            "epoch: 46, current agent: u_, mean reward: 0.006654927238225219\n",
            "epoch: 47, current agent: u_, mean reward: 0.00792180863315704\n",
            "epoch: 48, current agent: u_, mean reward: 0.006345935889721937\n",
            "epoch: 49, current agent: u_, mean reward: 0.005208620399872661\n",
            "\n",
            "\n",
            "\n",
            "--------------------TEST BEGIN--------------------\n",
            "\n",
            "epoch: 0, mean reward: 0.08745693174974008\n",
            "epoch: 1, mean reward: 0.13405733406231002\n",
            "epoch: 2, mean reward: 0.18708633270325875\n",
            "epoch: 3, mean reward: 0.23787068456681204\n",
            "epoch: 4, mean reward: 0.2977950717924137\n",
            "epoch: 5, mean reward: 0.36767785448257223\n",
            "epoch: 6, mean reward: 0.43822216047679324\n",
            "epoch: 7, mean reward: 0.5066016365104905\n",
            "epoch: 8, mean reward: 0.5887474126647477\n",
            "epoch: 9, mean reward: 0.6456929341319124\n",
            "epoch: 10, mean reward: 0.7136931774462318\n",
            "epoch: 11, mean reward: 0.7793139137085688\n",
            "epoch: 12, mean reward: 0.8585339799320633\n",
            "epoch: 13, mean reward: 0.9204618128207487\n",
            "epoch: 14, mean reward: 0.9847868662909746\n",
            "epoch: 15, mean reward: 1.0372861976798702\n",
            "epoch: 16, mean reward: 1.0998148041350821\n",
            "epoch: 17, mean reward: 1.1571427653538782\n",
            "epoch: 18, mean reward: 1.205733243091421\n",
            "epoch: 19, mean reward: 1.2779830911476204\n",
            "\n",
            "---------------------TEST END---------------------\n",
            "\n",
            "epoch: 50, current agent: v_, mean reward: 0.0025085537266010764\n",
            "epoch: 51, current agent: v_, mean reward: 0.002165778096238422\n",
            "epoch: 52, current agent: v_, mean reward: 0.0019598968110413327\n",
            "epoch: 53, current agent: v_, mean reward: 0.0020127217753469527\n",
            "epoch: 54, current agent: v_, mean reward: 0.0029517084291819113\n",
            "epoch: 55, current agent: v_, mean reward: 0.012409403179535814\n",
            "epoch: 56, current agent: v_, mean reward: 0.028669050953761186\n",
            "epoch: 57, current agent: v_, mean reward: 0.046418418840811757\n",
            "epoch: 58, current agent: v_, mean reward: 0.06823899128359048\n",
            "epoch: 59, current agent: v_, mean reward: 0.09496175822666078\n",
            "\n",
            "\n",
            "epoch: 60, current agent: u_, mean reward: 0.1342493550278856\n",
            "epoch: 61, current agent: u_, mean reward: 0.08104517765903518\n",
            "epoch: 62, current agent: u_, mean reward: 0.03178130584293332\n",
            "epoch: 63, current agent: u_, mean reward: 0.010259645618859588\n",
            "epoch: 64, current agent: u_, mean reward: 0.00381847289433978\n",
            "epoch: 65, current agent: u_, mean reward: 0.003718518567581061\n",
            "epoch: 66, current agent: u_, mean reward: 0.0033310067335813823\n",
            "epoch: 67, current agent: u_, mean reward: 0.0034300370868880895\n",
            "epoch: 68, current agent: u_, mean reward: 0.0035495229245259587\n",
            "epoch: 69, current agent: u_, mean reward: 0.0025660357764933778\n",
            "\n",
            "\n",
            "epoch: 70, current agent: v_, mean reward: 0.0010850453609595426\n",
            "epoch: 71, current agent: v_, mean reward: 0.001044110911992111\n",
            "epoch: 72, current agent: v_, mean reward: 0.0023815913012209707\n",
            "epoch: 73, current agent: v_, mean reward: 0.008202295869601256\n",
            "epoch: 74, current agent: v_, mean reward: 0.020442982998751084\n",
            "epoch: 75, current agent: v_, mean reward: 0.036354266935521656\n",
            "epoch: 76, current agent: v_, mean reward: 0.05787591547220539\n",
            "epoch: 77, current agent: v_, mean reward: 0.07887950259904092\n",
            "epoch: 78, current agent: v_, mean reward: 0.10367044549409002\n",
            "epoch: 79, current agent: v_, mean reward: 0.12895970743601817\n",
            "\n",
            "\n",
            "epoch: 80, current agent: u_, mean reward: 0.15514684779534443\n",
            "epoch: 81, current agent: u_, mean reward: 0.10375013123915897\n",
            "epoch: 82, current agent: u_, mean reward: 0.060682826537896334\n",
            "epoch: 83, current agent: u_, mean reward: 0.03850719959140879\n",
            "epoch: 84, current agent: u_, mean reward: 0.014495244195548856\n",
            "epoch: 85, current agent: u_, mean reward: 0.00457980833760955\n",
            "epoch: 86, current agent: u_, mean reward: 0.001997129160983262\n",
            "epoch: 87, current agent: u_, mean reward: 0.0015163068520946158\n",
            "epoch: 88, current agent: u_, mean reward: 0.0013682033704038436\n",
            "epoch: 89, current agent: u_, mean reward: 0.00207049246455285\n",
            "\n",
            "\n",
            "epoch: 90, current agent: v_, mean reward: 0.0007587138652499775\n",
            "epoch: 91, current agent: v_, mean reward: 0.0007532220522739936\n",
            "epoch: 92, current agent: v_, mean reward: 0.002306448283262473\n",
            "epoch: 93, current agent: v_, mean reward: 0.006442540557208384\n",
            "epoch: 94, current agent: v_, mean reward: 0.01480397948850754\n",
            "epoch: 95, current agent: v_, mean reward: 0.023746305898573798\n",
            "epoch: 96, current agent: v_, mean reward: 0.03484254963978315\n",
            "epoch: 97, current agent: v_, mean reward: 0.04728035484612294\n",
            "epoch: 98, current agent: v_, mean reward: 0.06231345081248369\n",
            "epoch: 99, current agent: v_, mean reward: 0.07806133371513947\n",
            "\n",
            "\n",
            "\n",
            "--------------------TEST BEGIN--------------------\n",
            "\n",
            "epoch: 0, mean reward: 0.11164884762329086\n",
            "epoch: 1, mean reward: 0.1311442615634069\n",
            "epoch: 2, mean reward: 0.1687589724481916\n",
            "epoch: 3, mean reward: 0.1927141443783958\n",
            "epoch: 4, mean reward: 0.22558965325241537\n",
            "epoch: 5, mean reward: 0.2652340328131628\n",
            "epoch: 6, mean reward: 0.3109789066261293\n",
            "epoch: 7, mean reward: 0.36241974531802335\n",
            "epoch: 8, mean reward: 0.42836889954459617\n",
            "epoch: 9, mean reward: 0.5053330054071188\n",
            "epoch: 10, mean reward: 0.5922573661842097\n",
            "epoch: 11, mean reward: 0.6647965332758708\n",
            "epoch: 12, mean reward: 0.7430484046898391\n",
            "epoch: 13, mean reward: 0.8646552077662822\n",
            "epoch: 14, mean reward: 0.9772801018893876\n",
            "epoch: 15, mean reward: 1.1104445485712073\n",
            "epoch: 16, mean reward: 1.2029222046615906\n",
            "epoch: 17, mean reward: 1.3080315387625037\n",
            "epoch: 18, mean reward: 1.4073530077943364\n",
            "epoch: 19, mean reward: 1.5073221615635075\n",
            "\n",
            "---------------------TEST END---------------------\n",
            "\n",
            "epoch: 100, current agent: u_, mean reward: 0.10250893425585181\n",
            "epoch: 101, current agent: u_, mean reward: 0.06646601654088456\n",
            "epoch: 102, current agent: u_, mean reward: 0.03970082492005527\n",
            "epoch: 103, current agent: u_, mean reward: 0.01874261276646972\n",
            "epoch: 104, current agent: u_, mean reward: 0.006578390173664644\n",
            "epoch: 105, current agent: u_, mean reward: 0.00124981688155786\n",
            "epoch: 106, current agent: u_, mean reward: 0.001396281828733373\n",
            "epoch: 107, current agent: u_, mean reward: 0.0009350535123712182\n",
            "epoch: 108, current agent: u_, mean reward: 0.0011347684031356605\n",
            "epoch: 109, current agent: u_, mean reward: 0.0009627348287124585\n",
            "\n",
            "\n",
            "epoch: 110, current agent: v_, mean reward: 0.00040355781616916483\n",
            "epoch: 111, current agent: v_, mean reward: 0.0006424360919708174\n",
            "epoch: 112, current agent: v_, mean reward: 0.00211031434076821\n",
            "epoch: 113, current agent: v_, mean reward: 0.005008012003658463\n",
            "epoch: 114, current agent: v_, mean reward: 0.009546540083730095\n",
            "epoch: 115, current agent: v_, mean reward: 0.016111786813629653\n",
            "epoch: 116, current agent: v_, mean reward: 0.02258370810155665\n",
            "epoch: 117, current agent: v_, mean reward: 0.0315890882055488\n",
            "epoch: 118, current agent: v_, mean reward: 0.041341393285588196\n",
            "epoch: 119, current agent: v_, mean reward: 0.051790017872059835\n",
            "\n",
            "\n",
            "epoch: 120, current agent: u_, mean reward: 0.06526343452663344\n",
            "epoch: 121, current agent: u_, mean reward: 0.0468059249673198\n",
            "epoch: 122, current agent: u_, mean reward: 0.029947013833042452\n",
            "epoch: 123, current agent: u_, mean reward: 0.017524526671025588\n",
            "epoch: 124, current agent: u_, mean reward: 0.008959756461648032\n",
            "epoch: 125, current agent: u_, mean reward: 0.002211412413703483\n",
            "epoch: 126, current agent: u_, mean reward: 0.0007397064288766704\n",
            "epoch: 127, current agent: u_, mean reward: 0.0006112426197799548\n",
            "epoch: 128, current agent: u_, mean reward: 0.0006514780209846816\n",
            "epoch: 129, current agent: u_, mean reward: 0.0008198013609870224\n",
            "\n",
            "\n",
            "epoch: 130, current agent: v_, mean reward: 0.00024154947119295615\n",
            "epoch: 131, current agent: v_, mean reward: 0.00027082351847228746\n",
            "epoch: 132, current agent: v_, mean reward: 0.0007180084759960717\n",
            "epoch: 133, current agent: v_, mean reward: 0.0022583034330096448\n",
            "epoch: 134, current agent: v_, mean reward: 0.004391233806553953\n",
            "epoch: 135, current agent: v_, mean reward: 0.007226204150153051\n",
            "epoch: 136, current agent: v_, mean reward: 0.01078580499752079\n",
            "epoch: 137, current agent: v_, mean reward: 0.01514728401948955\n",
            "epoch: 138, current agent: v_, mean reward: 0.020362983565955624\n",
            "epoch: 139, current agent: v_, mean reward: 0.025996708228244472\n",
            "\n",
            "\n",
            "epoch: 140, current agent: u_, mean reward: 0.03406956008106063\n",
            "epoch: 141, current agent: u_, mean reward: 0.021561701381054933\n",
            "epoch: 142, current agent: u_, mean reward: 0.013221574017097844\n",
            "epoch: 143, current agent: u_, mean reward: 0.0055819504327503325\n",
            "epoch: 144, current agent: u_, mean reward: 0.002064015709866113\n",
            "epoch: 145, current agent: u_, mean reward: 0.0004168038675848996\n",
            "epoch: 146, current agent: u_, mean reward: 0.00034521055738363576\n",
            "epoch: 147, current agent: u_, mean reward: 0.00034843435151824773\n",
            "epoch: 148, current agent: u_, mean reward: 0.0004943980785808954\n",
            "epoch: 149, current agent: u_, mean reward: 0.00044179669064507986\n",
            "\n",
            "\n",
            "\n",
            "--------------------TEST BEGIN--------------------\n",
            "\n",
            "epoch: 0, mean reward: 0.6946898680829939\n",
            "epoch: 1, mean reward: 0.8174567250382491\n",
            "epoch: 2, mean reward: 0.906400794380317\n",
            "epoch: 3, mean reward: 1.0210453886646453\n",
            "epoch: 4, mean reward: 1.1217930975664374\n",
            "epoch: 5, mean reward: 1.2463191893283745\n",
            "epoch: 6, mean reward: 1.3474035186070639\n",
            "epoch: 7, mean reward: 1.4526689483825734\n",
            "epoch: 8, mean reward: 1.537761589304706\n",
            "epoch: 9, mean reward: 1.652474234035911\n",
            "epoch: 10, mean reward: 1.7354748444513712\n",
            "epoch: 11, mean reward: 1.8455847873898916\n",
            "epoch: 12, mean reward: 1.949700866209134\n",
            "epoch: 13, mean reward: 2.041309791116229\n",
            "epoch: 14, mean reward: 2.1235090933282934\n",
            "epoch: 15, mean reward: 2.2252969464988497\n",
            "epoch: 16, mean reward: 2.3228246455164903\n",
            "epoch: 17, mean reward: 2.3992927974617073\n",
            "epoch: 18, mean reward: 2.4765120124583735\n",
            "epoch: 19, mean reward: 2.544509936225923\n",
            "\n",
            "---------------------TEST END---------------------\n",
            "\n",
            "epoch: 150, current agent: v_, mean reward: 0.0001482324079516597\n",
            "epoch: 151, current agent: v_, mean reward: 0.0001848248067637738\n",
            "epoch: 152, current agent: v_, mean reward: 0.00028118373152257397\n",
            "epoch: 153, current agent: v_, mean reward: 0.0009449084556457367\n",
            "epoch: 154, current agent: v_, mean reward: 0.00214271807969124\n",
            "epoch: 155, current agent: v_, mean reward: 0.0038012818636469253\n",
            "epoch: 156, current agent: v_, mean reward: 0.006096311242286676\n",
            "epoch: 157, current agent: v_, mean reward: 0.008558408173085362\n",
            "epoch: 158, current agent: v_, mean reward: 0.011288154763954037\n",
            "epoch: 159, current agent: v_, mean reward: 0.01487245611377328\n",
            "\n",
            "\n",
            "epoch: 160, current agent: u_, mean reward: 0.019271070846171343\n",
            "epoch: 161, current agent: u_, mean reward: 0.011059231246836951\n",
            "epoch: 162, current agent: u_, mean reward: 0.0059202283471757764\n",
            "epoch: 163, current agent: u_, mean reward: 0.0028666367956263184\n",
            "epoch: 164, current agent: u_, mean reward: 0.0008792737573723553\n",
            "epoch: 165, current agent: u_, mean reward: 0.0003553254645890546\n",
            "epoch: 166, current agent: u_, mean reward: 0.00032804478199853347\n",
            "epoch: 167, current agent: u_, mean reward: 0.0003596817573810741\n",
            "epoch: 168, current agent: u_, mean reward: 0.0003029096642612948\n",
            "epoch: 169, current agent: u_, mean reward: 0.00028329377263969067\n",
            "\n",
            "\n",
            "epoch: 170, current agent: v_, mean reward: 8.323463885069561e-05\n",
            "epoch: 171, current agent: v_, mean reward: 0.00011130543436800522\n",
            "epoch: 172, current agent: v_, mean reward: 9.913316360416736e-05\n",
            "epoch: 173, current agent: v_, mean reward: 9.783034114019975e-05\n",
            "epoch: 174, current agent: v_, mean reward: 0.0001303702173936267\n",
            "epoch: 175, current agent: v_, mean reward: 0.00026062782387815465\n",
            "epoch: 176, current agent: v_, mean reward: 0.0008321914591596917\n",
            "epoch: 177, current agent: v_, mean reward: 0.0018912182190704264\n",
            "epoch: 178, current agent: v_, mean reward: 0.003508860343663665\n",
            "epoch: 179, current agent: v_, mean reward: 0.005290671608117582\n",
            "\n",
            "\n",
            "epoch: 180, current agent: u_, mean reward: 0.007588657343850198\n",
            "epoch: 181, current agent: u_, mean reward: 0.004474353091675492\n",
            "epoch: 182, current agent: u_, mean reward: 0.0015258204295090269\n",
            "epoch: 183, current agent: u_, mean reward: 0.0003359854868178373\n",
            "epoch: 184, current agent: u_, mean reward: 0.00022003410093458906\n",
            "epoch: 185, current agent: u_, mean reward: 0.00018627728174163408\n",
            "epoch: 186, current agent: u_, mean reward: 0.0001976677749884113\n",
            "epoch: 187, current agent: u_, mean reward: 0.00021342061624882028\n",
            "epoch: 188, current agent: u_, mean reward: 0.00018756038743659678\n",
            "epoch: 189, current agent: u_, mean reward: 0.00019671164988123842\n",
            "\n",
            "\n",
            "epoch: 190, current agent: v_, mean reward: 4.1528784112669196e-05\n",
            "epoch: 191, current agent: v_, mean reward: 7.096354593377517e-05\n",
            "epoch: 192, current agent: v_, mean reward: 0.00011430980580060778\n",
            "epoch: 193, current agent: v_, mean reward: 0.0004321316685539657\n",
            "epoch: 194, current agent: v_, mean reward: 0.0010903855253971645\n",
            "epoch: 195, current agent: v_, mean reward: 0.002088719686116458\n",
            "epoch: 196, current agent: v_, mean reward: 0.0035073628545028023\n",
            "epoch: 197, current agent: v_, mean reward: 0.005245100768264303\n",
            "epoch: 198, current agent: v_, mean reward: 0.006992072067142164\n",
            "epoch: 199, current agent: v_, mean reward: 0.008812885043289581\n",
            "\n",
            "\n",
            "\n",
            "--------------------TEST BEGIN--------------------\n",
            "\n",
            "epoch: 0, mean reward: 0.7384598277177351\n",
            "epoch: 1, mean reward: 0.8542307362678627\n",
            "epoch: 2, mean reward: 0.9671454357109852\n",
            "epoch: 3, mean reward: 1.1119095537045087\n",
            "epoch: 4, mean reward: 1.2607592443464588\n",
            "epoch: 5, mean reward: 1.391305216280356\n",
            "epoch: 6, mean reward: 1.5153954144484834\n",
            "epoch: 7, mean reward: 1.6073759807728945\n",
            "epoch: 8, mean reward: 1.7101002322873873\n",
            "epoch: 9, mean reward: 1.8028491005637521\n",
            "epoch: 10, mean reward: 1.8861439652706418\n",
            "epoch: 11, mean reward: 1.9811296227386157\n",
            "epoch: 12, mean reward: 2.080695837538255\n",
            "epoch: 13, mean reward: 2.1767839346605995\n",
            "epoch: 14, mean reward: 2.257806031095239\n",
            "epoch: 15, mean reward: 2.3191003132864325\n",
            "epoch: 16, mean reward: 2.367416507456122\n",
            "epoch: 17, mean reward: 2.448058751837464\n",
            "epoch: 18, mean reward: 2.5195116172437206\n",
            "epoch: 19, mean reward: 2.6119307592014764\n",
            "\n",
            "---------------------TEST END---------------------\n",
            "\n",
            "epoch: 200, current agent: u_, mean reward: 0.011123573095208941\n",
            "epoch: 201, current agent: u_, mean reward: 0.00748245689805106\n",
            "epoch: 202, current agent: u_, mean reward: 0.004379734540853381\n",
            "epoch: 203, current agent: u_, mean reward: 0.0021054227072213674\n",
            "epoch: 204, current agent: u_, mean reward: 0.0007160338829603435\n",
            "epoch: 205, current agent: u_, mean reward: 0.00019829796319213402\n",
            "epoch: 206, current agent: u_, mean reward: 0.0001464011226790695\n",
            "epoch: 207, current agent: u_, mean reward: 0.00012367000812979112\n",
            "epoch: 208, current agent: u_, mean reward: 0.0001038170587017419\n",
            "epoch: 209, current agent: u_, mean reward: 0.00015046834254060445\n",
            "\n",
            "\n",
            "epoch: 210, current agent: v_, mean reward: 3.9771352013730837e-05\n",
            "epoch: 211, current agent: v_, mean reward: 4.090037784213756e-05\n",
            "epoch: 212, current agent: v_, mean reward: 4.096797692922666e-05\n",
            "epoch: 213, current agent: v_, mean reward: 5.857410405941873e-05\n",
            "epoch: 214, current agent: v_, mean reward: 0.00019858461717764972\n",
            "epoch: 215, current agent: v_, mean reward: 0.0004773333766628442\n",
            "epoch: 216, current agent: v_, mean reward: 0.0009771865018623537\n",
            "epoch: 217, current agent: v_, mean reward: 0.0016725104987011406\n",
            "epoch: 218, current agent: v_, mean reward: 0.002276627658193663\n",
            "epoch: 219, current agent: v_, mean reward: 0.003280239161628544\n",
            "\n",
            "\n",
            "epoch: 220, current agent: u_, mean reward: 0.004540502039637868\n",
            "epoch: 221, current agent: u_, mean reward: 0.0028970165328962368\n",
            "epoch: 222, current agent: u_, mean reward: 0.001372326794592867\n",
            "epoch: 223, current agent: u_, mean reward: 0.0006548559660173091\n",
            "epoch: 224, current agent: u_, mean reward: 0.00023234994623000886\n",
            "epoch: 225, current agent: u_, mean reward: 8.52574638526097e-05\n",
            "epoch: 226, current agent: u_, mean reward: 9.851932045429015e-05\n",
            "epoch: 227, current agent: u_, mean reward: 0.00013968051774331376\n",
            "epoch: 228, current agent: u_, mean reward: 7.060064032462311e-05\n",
            "epoch: 229, current agent: u_, mean reward: 0.00010488426525945437\n",
            "\n",
            "\n",
            "epoch: 230, current agent: v_, mean reward: 3.115136267476125e-05\n",
            "epoch: 231, current agent: v_, mean reward: 2.336391491695236e-05\n",
            "epoch: 232, current agent: v_, mean reward: 5.248430437279643e-05\n",
            "epoch: 233, current agent: v_, mean reward: 0.00018034389755361202\n",
            "epoch: 234, current agent: v_, mean reward: 0.0004575665323514767\n",
            "epoch: 235, current agent: v_, mean reward: 0.0008779033271984393\n",
            "epoch: 236, current agent: v_, mean reward: 0.0015233121334212191\n",
            "epoch: 237, current agent: v_, mean reward: 0.0022610075197737832\n",
            "epoch: 238, current agent: v_, mean reward: 0.003090804467428358\n",
            "epoch: 239, current agent: v_, mean reward: 0.004057384735999737\n",
            "\n",
            "\n",
            "epoch: 240, current agent: u_, mean reward: 0.005158008316262384\n",
            "epoch: 241, current agent: u_, mean reward: 0.003509876837613615\n",
            "epoch: 242, current agent: u_, mean reward: 0.0019180683364101864\n",
            "epoch: 243, current agent: u_, mean reward: 0.0010455521135671775\n",
            "epoch: 244, current agent: u_, mean reward: 0.00046660126172500953\n",
            "epoch: 245, current agent: u_, mean reward: 0.0001861781079365016\n",
            "epoch: 246, current agent: u_, mean reward: 9.888651269759782e-05\n",
            "epoch: 247, current agent: u_, mean reward: 0.00011636554204751525\n",
            "epoch: 248, current agent: u_, mean reward: 7.79699724413163e-05\n",
            "epoch: 249, current agent: u_, mean reward: 0.00011073176944292495\n",
            "\n",
            "\n",
            "\n",
            "--------------------TEST BEGIN--------------------\n",
            "\n",
            "epoch: 0, mean reward: 1.7069650009582653\n",
            "epoch: 1, mean reward: 1.6460455891288492\n",
            "epoch: 2, mean reward: 1.6182211560804989\n",
            "epoch: 3, mean reward: 1.60952051040869\n",
            "epoch: 4, mean reward: 1.6320206856817936\n",
            "epoch: 5, mean reward: 1.6728218397757173\n",
            "epoch: 6, mean reward: 1.6807963092186748\n",
            "epoch: 7, mean reward: 1.706080447001061\n",
            "epoch: 8, mean reward: 1.736976309359821\n",
            "epoch: 9, mean reward: 1.8070362866784493\n",
            "epoch: 10, mean reward: 1.843503243854998\n",
            "epoch: 11, mean reward: 1.9408996970206962\n",
            "epoch: 12, mean reward: 1.9818341414657115\n",
            "epoch: 13, mean reward: 2.017187788869296\n",
            "epoch: 14, mean reward: 2.0801277443432657\n",
            "epoch: 15, mean reward: 2.159415901345083\n",
            "epoch: 16, mean reward: 2.2083588338222917\n",
            "epoch: 17, mean reward: 2.2218569821787755\n",
            "epoch: 18, mean reward: 2.22799087481458\n",
            "epoch: 19, mean reward: 2.293057343157183\n",
            "\n",
            "---------------------TEST END---------------------\n",
            "\n",
            "epoch: 250, current agent: v_, mean reward: 2.535131244512104e-05\n",
            "epoch: 251, current agent: v_, mean reward: 3.375722900876709e-05\n",
            "epoch: 252, current agent: v_, mean reward: 0.00011343739168230556\n",
            "epoch: 253, current agent: v_, mean reward: 0.0003299437646947969\n",
            "epoch: 254, current agent: v_, mean reward: 0.00063282231498379\n",
            "epoch: 255, current agent: v_, mean reward: 0.0010329813627140058\n",
            "epoch: 256, current agent: v_, mean reward: 0.0016199500418211728\n",
            "epoch: 257, current agent: v_, mean reward: 0.00243748666215262\n",
            "epoch: 258, current agent: v_, mean reward: 0.0032591657804215096\n",
            "epoch: 259, current agent: v_, mean reward: 0.004237208732042731\n",
            "\n",
            "\n",
            "epoch: 260, current agent: u_, mean reward: 0.005357033191157192\n",
            "epoch: 261, current agent: u_, mean reward: 0.00386357921858181\n",
            "epoch: 262, current agent: u_, mean reward: 0.002421645505787813\n",
            "epoch: 263, current agent: u_, mean reward: 0.0014183554313240022\n",
            "epoch: 264, current agent: u_, mean reward: 0.0006656819175881982\n",
            "epoch: 265, current agent: u_, mean reward: 0.00021424155347173738\n",
            "epoch: 266, current agent: u_, mean reward: 9.893148144822718e-05\n",
            "epoch: 267, current agent: u_, mean reward: 9.631542554496328e-05\n",
            "epoch: 268, current agent: u_, mean reward: 0.00011054137802935237\n"
          ],
          "name": "stdout"
        }
      ]
    },
    {
      "cell_type": "code",
      "metadata": {
        "id": "wnAuA95963EE",
        "colab_type": "code",
        "outputId": "ffb22a09-4e52-4b4a-a514-c02334dd9f65",
        "colab": {
          "base_uri": "https://localhost:8080/",
          "height": 513
        }
      },
      "source": [
        "plot_mean_rewards(mean_rewards_one_by_one, method_name='fit one by one')"
      ],
      "execution_count": 20,
      "outputs": [
        {
          "output_type": "display_data",
          "data": {
            "image/png": "[encoded data removed]",
            "text/plain": [
              "<Figure size 720x576 with 1 Axes>"
            ]
          },
          "metadata": {
            "tags": [],
            "needs_background": "light"
          }
        }
      ]
    },
    {
      "cell_type": "markdown",
      "metadata": {
        "id": "a9PYm_lX2h-H",
        "colab_type": "text"
      },
      "source": [
        "# Testing"
      ]
    },
    {
      "cell_type": "markdown",
      "metadata": {
        "id": "RrkkxFDSJ1Sn",
        "colab_type": "text"
      },
      "source": [
        "Test default u_agent"
      ]
    },
    {
      "cell_type": "code",
      "metadata": {
        "id": "yzC4Sb2QJ1Sq",
        "colab_type": "code",
        "outputId": "1eb3ce44-00c8-4c69-9754-d85d811f3c5b",
        "colab": {
          "base_uri": "https://localhost:8080/",
          "height": 294
        }
      },
      "source": [
        "test_rewards = test_agent(u_fit_agent, env, n_epochs=200, n_sessions=100, epsilon=1e-6)"
      ],
      "execution_count": 0,
      "outputs": [
        {
          "output_type": "stream",
          "text": [
            "epoch: 0, mean reward: 0.003540376363573217\n",
            "epoch: 1, mean reward: 0.003854413225272795\n"
          ],
          "name": "stdout"
        },
        {
          "output_type": "error",
          "ename": "KeyboardInterrupt",
          "evalue": "ignored",
          "traceback": [
            "\u001b[0;31m---------------------------------------------------------------------------\u001b[0m",
            "\u001b[0;31mKeyboardInterrupt\u001b[0m                         Traceback (most recent call last)",
            "\u001b[0;32m<ipython-input-43-006aded099fd>\u001b[0m in \u001b[0;36m<module>\u001b[0;34m()\u001b[0m\n\u001b[0;32m----> 1\u001b[0;31m \u001b[0mtest_rewards\u001b[0m \u001b[0;34m=\u001b[0m \u001b[0mtest_agent\u001b[0m\u001b[0;34m(\u001b[0m\u001b[0mu_fit_agent\u001b[0m\u001b[0;34m,\u001b[0m \u001b[0menv\u001b[0m\u001b[0;34m,\u001b[0m \u001b[0mn_epochs\u001b[0m\u001b[0;34m=\u001b[0m\u001b[0;36m200\u001b[0m\u001b[0;34m,\u001b[0m \u001b[0mn_sessions\u001b[0m\u001b[0;34m=\u001b[0m\u001b[0;36m100\u001b[0m\u001b[0;34m,\u001b[0m \u001b[0mepsilon\u001b[0m\u001b[0;34m=\u001b[0m\u001b[0;36m1e-6\u001b[0m\u001b[0;34m)\u001b[0m\u001b[0;34m\u001b[0m\u001b[0;34m\u001b[0m\u001b[0m\n\u001b[0m",
            "\u001b[0;32m<ipython-input-17-03b805a2d825>\u001b[0m in \u001b[0;36mtest_agent\u001b[0;34m(u_agent, env, n_epochs, n_sessions, epsilon)\u001b[0m\n\u001b[1;32m      1\u001b[0m \u001b[0;32mdef\u001b[0m \u001b[0mtest_agent\u001b[0m\u001b[0;34m(\u001b[0m\u001b[0mu_agent\u001b[0m\u001b[0;34m,\u001b[0m \u001b[0menv\u001b[0m\u001b[0;34m,\u001b[0m \u001b[0mn_epochs\u001b[0m\u001b[0;34m,\u001b[0m \u001b[0mn_sessions\u001b[0m\u001b[0;34m,\u001b[0m \u001b[0mepsilon\u001b[0m\u001b[0;34m)\u001b[0m\u001b[0;34m:\u001b[0m\u001b[0;34m\u001b[0m\u001b[0;34m\u001b[0m\u001b[0m\n\u001b[1;32m      2\u001b[0m     \u001b[0mv_agent\u001b[0m \u001b[0;34m=\u001b[0m \u001b[0mCCEMAgent\u001b[0m\u001b[0;34m(\u001b[0m\u001b[0;34m(\u001b[0m\u001b[0;36m2\u001b[0m\u001b[0;34m,\u001b[0m\u001b[0;34m)\u001b[0m\u001b[0;34m,\u001b[0m \u001b[0;34m(\u001b[0m\u001b[0;36m1\u001b[0m\u001b[0;34m,\u001b[0m\u001b[0;34m)\u001b[0m\u001b[0;34m,\u001b[0m \u001b[0mpercentile_param\u001b[0m\u001b[0;34m=\u001b[0m\u001b[0;36m70\u001b[0m\u001b[0;34m,\u001b[0m \u001b[0maction_max\u001b[0m\u001b[0;34m=\u001b[0m\u001b[0menv\u001b[0m\u001b[0;34m.\u001b[0m\u001b[0mv_action_max\u001b[0m\u001b[0;34m,\u001b[0m \u001b[0mreward_param\u001b[0m\u001b[0;34m=\u001b[0m\u001b[0;36m1\u001b[0m\u001b[0;34m)\u001b[0m\u001b[0;34m\u001b[0m\u001b[0;34m\u001b[0m\u001b[0m\n\u001b[0;32m----> 3\u001b[0;31m     \u001b[0m_\u001b[0m\u001b[0;34m,\u001b[0m \u001b[0mrewards\u001b[0m \u001b[0;34m=\u001b[0m  \u001b[0mfit_agents\u001b[0m\u001b[0;34m(\u001b[0m\u001b[0mu_agent\u001b[0m\u001b[0;34m,\u001b[0m \u001b[0mv_agent\u001b[0m\u001b[0;34m,\u001b[0m \u001b[0menv\u001b[0m\u001b[0;34m,\u001b[0m \u001b[0mn_epochs\u001b[0m\u001b[0;34m,\u001b[0m \u001b[0mn_sessions\u001b[0m\u001b[0;34m,\u001b[0m \u001b[0mepsilon\u001b[0m\u001b[0;34m,\u001b[0m \u001b[0mtest\u001b[0m\u001b[0;34m=\u001b[0m\u001b[0;32mTrue\u001b[0m\u001b[0;34m)\u001b[0m\u001b[0;34m\u001b[0m\u001b[0;34m\u001b[0m\u001b[0m\n\u001b[0m\u001b[1;32m      4\u001b[0m     \u001b[0;32mreturn\u001b[0m \u001b[0mrewards\u001b[0m\u001b[0;34m\u001b[0m\u001b[0;34m\u001b[0m\u001b[0m\n",
            "\u001b[0;32m<ipython-input-31-82c2f8c5053f>\u001b[0m in \u001b[0;36mfit_agents\u001b[0;34m(u_agent, v_agent, env, n_epochs, n_sessions, epsilon, test, n_iter_debug)\u001b[0m\n\u001b[1;32m     19\u001b[0m             \u001b[0mprint\u001b[0m\u001b[0;34m(\u001b[0m\u001b[0;34m'{:-^50}\\n'\u001b[0m\u001b[0;34m.\u001b[0m\u001b[0mformat\u001b[0m\u001b[0;34m(\u001b[0m\u001b[0;34m'TEST END'\u001b[0m\u001b[0;34m)\u001b[0m\u001b[0;34m)\u001b[0m\u001b[0;34m\u001b[0m\u001b[0;34m\u001b[0m\u001b[0m\n\u001b[1;32m     20\u001b[0m \u001b[0;34m\u001b[0m\u001b[0m\n\u001b[0;32m---> 21\u001b[0;31m         \u001b[0mmean_reward\u001b[0m \u001b[0;34m=\u001b[0m \u001b[0mfit_epoch\u001b[0m\u001b[0;34m(\u001b[0m\u001b[0mu_agent\u001b[0m\u001b[0;34m,\u001b[0m \u001b[0mv_agent\u001b[0m\u001b[0;34m,\u001b[0m \u001b[0menv\u001b[0m\u001b[0;34m,\u001b[0m \u001b[0mn_sessions\u001b[0m\u001b[0;34m,\u001b[0m \u001b[0mtest\u001b[0m\u001b[0;34m)\u001b[0m\u001b[0;34m\u001b[0m\u001b[0;34m\u001b[0m\u001b[0m\n\u001b[0m\u001b[1;32m     22\u001b[0m         \u001b[0mmean_rewards\u001b[0m\u001b[0;34m.\u001b[0m\u001b[0mappend\u001b[0m\u001b[0;34m(\u001b[0m\u001b[0mmean_reward\u001b[0m\u001b[0;34m)\u001b[0m\u001b[0;34m\u001b[0m\u001b[0;34m\u001b[0m\u001b[0m\n\u001b[1;32m     23\u001b[0m         \u001b[0mprint\u001b[0m\u001b[0;34m(\u001b[0m\u001b[0;34mf'epoch: {epoch}, mean reward: {mean_reward}'\u001b[0m\u001b[0;34m)\u001b[0m\u001b[0;34m\u001b[0m\u001b[0;34m\u001b[0m\u001b[0m\n",
            "\u001b[0;32m<ipython-input-30-5c22a553b5c6>\u001b[0m in \u001b[0;36mfit_epoch\u001b[0;34m(u_agent, v_agent, env, n_sessions, test)\u001b[0m\n\u001b[1;32m     23\u001b[0m \u001b[0;34m\u001b[0m\u001b[0m\n\u001b[1;32m     24\u001b[0m \u001b[0;32mdef\u001b[0m \u001b[0mfit_epoch\u001b[0m\u001b[0;34m(\u001b[0m\u001b[0mu_agent\u001b[0m\u001b[0;34m,\u001b[0m \u001b[0mv_agent\u001b[0m\u001b[0;34m,\u001b[0m \u001b[0menv\u001b[0m\u001b[0;34m,\u001b[0m \u001b[0mn_sessions\u001b[0m\u001b[0;34m,\u001b[0m \u001b[0mtest\u001b[0m\u001b[0;34m)\u001b[0m\u001b[0;34m:\u001b[0m\u001b[0;34m\u001b[0m\u001b[0;34m\u001b[0m\u001b[0m\n\u001b[0;32m---> 25\u001b[0;31m     \u001b[0msessions\u001b[0m \u001b[0;34m=\u001b[0m \u001b[0;34m[\u001b[0m\u001b[0mgenerate_session\u001b[0m\u001b[0;34m(\u001b[0m\u001b[0mu_agent\u001b[0m\u001b[0;34m,\u001b[0m \u001b[0mv_agent\u001b[0m\u001b[0;34m,\u001b[0m \u001b[0menv\u001b[0m\u001b[0;34m,\u001b[0m \u001b[0mtest\u001b[0m\u001b[0;34m=\u001b[0m\u001b[0mtest\u001b[0m\u001b[0;34m)\u001b[0m \u001b[0;32mfor\u001b[0m \u001b[0m_\u001b[0m \u001b[0;32min\u001b[0m \u001b[0mrange\u001b[0m\u001b[0;34m(\u001b[0m\u001b[0mn_sessions\u001b[0m\u001b[0;34m)\u001b[0m\u001b[0;34m]\u001b[0m\u001b[0;34m\u001b[0m\u001b[0;34m\u001b[0m\u001b[0m\n\u001b[0m\u001b[1;32m     26\u001b[0m     \u001b[0mmean_reward\u001b[0m \u001b[0;34m=\u001b[0m \u001b[0mnp\u001b[0m\u001b[0;34m.\u001b[0m\u001b[0mmean\u001b[0m\u001b[0;34m(\u001b[0m\u001b[0;34m[\u001b[0m\u001b[0msession\u001b[0m\u001b[0;34m[\u001b[0m\u001b[0;34m'total_reward'\u001b[0m\u001b[0;34m]\u001b[0m \u001b[0;32mfor\u001b[0m \u001b[0msession\u001b[0m \u001b[0;32min\u001b[0m \u001b[0msessions\u001b[0m\u001b[0;34m]\u001b[0m\u001b[0;34m)\u001b[0m\u001b[0;34m\u001b[0m\u001b[0;34m\u001b[0m\u001b[0m\n\u001b[1;32m     27\u001b[0m     \u001b[0;32mif\u001b[0m \u001b[0;32mnot\u001b[0m \u001b[0mtest\u001b[0m\u001b[0;34m:\u001b[0m\u001b[0;34m\u001b[0m\u001b[0;34m\u001b[0m\u001b[0m\n",
            "\u001b[0;32m<ipython-input-30-5c22a553b5c6>\u001b[0m in \u001b[0;36m<listcomp>\u001b[0;34m(.0)\u001b[0m\n\u001b[1;32m     23\u001b[0m \u001b[0;34m\u001b[0m\u001b[0m\n\u001b[1;32m     24\u001b[0m \u001b[0;32mdef\u001b[0m \u001b[0mfit_epoch\u001b[0m\u001b[0;34m(\u001b[0m\u001b[0mu_agent\u001b[0m\u001b[0;34m,\u001b[0m \u001b[0mv_agent\u001b[0m\u001b[0;34m,\u001b[0m \u001b[0menv\u001b[0m\u001b[0;34m,\u001b[0m \u001b[0mn_sessions\u001b[0m\u001b[0;34m,\u001b[0m \u001b[0mtest\u001b[0m\u001b[0;34m)\u001b[0m\u001b[0;34m:\u001b[0m\u001b[0;34m\u001b[0m\u001b[0;34m\u001b[0m\u001b[0m\n\u001b[0;32m---> 25\u001b[0;31m     \u001b[0msessions\u001b[0m \u001b[0;34m=\u001b[0m \u001b[0;34m[\u001b[0m\u001b[0mgenerate_session\u001b[0m\u001b[0;34m(\u001b[0m\u001b[0mu_agent\u001b[0m\u001b[0;34m,\u001b[0m \u001b[0mv_agent\u001b[0m\u001b[0;34m,\u001b[0m \u001b[0menv\u001b[0m\u001b[0;34m,\u001b[0m \u001b[0mtest\u001b[0m\u001b[0;34m=\u001b[0m\u001b[0mtest\u001b[0m\u001b[0;34m)\u001b[0m \u001b[0;32mfor\u001b[0m \u001b[0m_\u001b[0m \u001b[0;32min\u001b[0m \u001b[0mrange\u001b[0m\u001b[0;34m(\u001b[0m\u001b[0mn_sessions\u001b[0m\u001b[0;34m)\u001b[0m\u001b[0;34m]\u001b[0m\u001b[0;34m\u001b[0m\u001b[0;34m\u001b[0m\u001b[0m\n\u001b[0m\u001b[1;32m     26\u001b[0m     \u001b[0mmean_reward\u001b[0m \u001b[0;34m=\u001b[0m \u001b[0mnp\u001b[0m\u001b[0;34m.\u001b[0m\u001b[0mmean\u001b[0m\u001b[0;34m(\u001b[0m\u001b[0;34m[\u001b[0m\u001b[0msession\u001b[0m\u001b[0;34m[\u001b[0m\u001b[0;34m'total_reward'\u001b[0m\u001b[0;34m]\u001b[0m \u001b[0;32mfor\u001b[0m \u001b[0msession\u001b[0m \u001b[0;32min\u001b[0m \u001b[0msessions\u001b[0m\u001b[0;34m]\u001b[0m\u001b[0;34m)\u001b[0m\u001b[0;34m\u001b[0m\u001b[0;34m\u001b[0m\u001b[0m\n\u001b[1;32m     27\u001b[0m     \u001b[0;32mif\u001b[0m \u001b[0;32mnot\u001b[0m \u001b[0mtest\u001b[0m\u001b[0;34m:\u001b[0m\u001b[0;34m\u001b[0m\u001b[0;34m\u001b[0m\u001b[0m\n",
            "\u001b[0;32m<ipython-input-30-5c22a553b5c6>\u001b[0m in \u001b[0;36mgenerate_session\u001b[0;34m(u_agent, v_agent, env, test)\u001b[0m\n\u001b[1;32m     11\u001b[0m     \u001b[0;32mwhile\u001b[0m \u001b[0;32mnot\u001b[0m \u001b[0mdone\u001b[0m\u001b[0;34m:\u001b[0m\u001b[0;34m\u001b[0m\u001b[0;34m\u001b[0m\u001b[0m\n\u001b[1;32m     12\u001b[0m         \u001b[0mu_action\u001b[0m \u001b[0;34m=\u001b[0m \u001b[0mu_agent\u001b[0m\u001b[0;34m.\u001b[0m\u001b[0mget_action\u001b[0m\u001b[0;34m(\u001b[0m\u001b[0mstate\u001b[0m\u001b[0;34m,\u001b[0m \u001b[0mtest\u001b[0m\u001b[0;34m=\u001b[0m\u001b[0mtest\u001b[0m\u001b[0;34m)\u001b[0m\u001b[0;34m\u001b[0m\u001b[0;34m\u001b[0m\u001b[0m\n\u001b[0;32m---> 13\u001b[0;31m         \u001b[0mv_action\u001b[0m \u001b[0;34m=\u001b[0m \u001b[0mv_agent\u001b[0m\u001b[0;34m.\u001b[0m\u001b[0mget_action\u001b[0m\u001b[0;34m(\u001b[0m\u001b[0mstate\u001b[0m\u001b[0;34m)\u001b[0m\u001b[0;34m\u001b[0m\u001b[0;34m\u001b[0m\u001b[0m\n\u001b[0m\u001b[1;32m     14\u001b[0m         \u001b[0mactions\u001b[0m \u001b[0;34m=\u001b[0m \u001b[0;34m(\u001b[0m\u001b[0mu_action\u001b[0m\u001b[0;34m[\u001b[0m\u001b[0;36m0\u001b[0m\u001b[0;34m]\u001b[0m\u001b[0;34m,\u001b[0m \u001b[0mv_action\u001b[0m\u001b[0;34m[\u001b[0m\u001b[0;36m0\u001b[0m\u001b[0;34m]\u001b[0m\u001b[0;34m)\u001b[0m \u001b[0;32mif\u001b[0m \u001b[0mstr\u001b[0m\u001b[0;34m(\u001b[0m\u001b[0mu_agent\u001b[0m\u001b[0;34m)\u001b[0m \u001b[0;34m==\u001b[0m \u001b[0;34m'u_'\u001b[0m \u001b[0;32melse\u001b[0m \u001b[0;34m(\u001b[0m\u001b[0mv_action\u001b[0m\u001b[0;34m[\u001b[0m\u001b[0;36m0\u001b[0m\u001b[0;34m]\u001b[0m\u001b[0;34m,\u001b[0m \u001b[0mu_action\u001b[0m\u001b[0;34m[\u001b[0m\u001b[0;36m0\u001b[0m\u001b[0;34m]\u001b[0m\u001b[0;34m)\u001b[0m\u001b[0;34m\u001b[0m\u001b[0;34m\u001b[0m\u001b[0m\n\u001b[1;32m     15\u001b[0m         \u001b[0mnext_state\u001b[0m\u001b[0;34m,\u001b[0m \u001b[0mreward\u001b[0m\u001b[0;34m,\u001b[0m \u001b[0mdone\u001b[0m\u001b[0;34m,\u001b[0m \u001b[0m_\u001b[0m \u001b[0;34m=\u001b[0m \u001b[0menv\u001b[0m\u001b[0;34m.\u001b[0m\u001b[0mstep\u001b[0m\u001b[0;34m(\u001b[0m\u001b[0;34m*\u001b[0m\u001b[0mactions\u001b[0m\u001b[0;34m)\u001b[0m\u001b[0;34m\u001b[0m\u001b[0;34m\u001b[0m\u001b[0m\n",
            "\u001b[0;32m<ipython-input-16-ca55eef9851f>\u001b[0m in \u001b[0;36mget_action\u001b[0;34m(self, state, test)\u001b[0m\n\u001b[1;32m     37\u001b[0m         \u001b[0;32mif\u001b[0m \u001b[0;32mnot\u001b[0m \u001b[0mtest\u001b[0m\u001b[0;34m:\u001b[0m\u001b[0;34m\u001b[0m\u001b[0;34m\u001b[0m\u001b[0m\n\u001b[1;32m     38\u001b[0m             \u001b[0mnoise\u001b[0m \u001b[0;34m=\u001b[0m \u001b[0mself\u001b[0m\u001b[0;34m.\u001b[0m\u001b[0mnoise_threshold\u001b[0m \u001b[0;34m*\u001b[0m \u001b[0mnp\u001b[0m\u001b[0;34m.\u001b[0m\u001b[0mrandom\u001b[0m\u001b[0;34m.\u001b[0m\u001b[0muniform\u001b[0m\u001b[0;34m(\u001b[0m\u001b[0mlow\u001b[0m\u001b[0;34m=\u001b[0m\u001b[0;34m-\u001b[0m\u001b[0mself\u001b[0m\u001b[0;34m.\u001b[0m\u001b[0maction_max\u001b[0m\u001b[0;34m,\u001b[0m \u001b[0mhigh\u001b[0m\u001b[0;34m=\u001b[0m\u001b[0mself\u001b[0m\u001b[0;34m.\u001b[0m\u001b[0maction_max\u001b[0m\u001b[0;34m)\u001b[0m\u001b[0;34m\u001b[0m\u001b[0;34m\u001b[0m\u001b[0m\n\u001b[0;32m---> 39\u001b[0;31m             \u001b[0mpredicted_action\u001b[0m \u001b[0;34m=\u001b[0m \u001b[0mnp\u001b[0m\u001b[0;34m.\u001b[0m\u001b[0mclip\u001b[0m\u001b[0;34m(\u001b[0m\u001b[0mpredicted_action\u001b[0m \u001b[0;34m+\u001b[0m \u001b[0mnoise\u001b[0m\u001b[0;34m,\u001b[0m \u001b[0;34m-\u001b[0m\u001b[0mself\u001b[0m\u001b[0;34m.\u001b[0m\u001b[0maction_max\u001b[0m\u001b[0;34m,\u001b[0m \u001b[0mself\u001b[0m\u001b[0;34m.\u001b[0m\u001b[0maction_max\u001b[0m\u001b[0;34m)\u001b[0m\u001b[0;34m\u001b[0m\u001b[0;34m\u001b[0m\u001b[0m\n\u001b[0m\u001b[1;32m     40\u001b[0m         \u001b[0;32mreturn\u001b[0m \u001b[0mpredicted_action\u001b[0m\u001b[0;34m\u001b[0m\u001b[0;34m\u001b[0m\u001b[0m\n\u001b[1;32m     41\u001b[0m \u001b[0;34m\u001b[0m\u001b[0m\n",
            "\u001b[0;32m<__array_function__ internals>\u001b[0m in \u001b[0;36mclip\u001b[0;34m(*args, **kwargs)\u001b[0m\n",
            "\u001b[0;32m/usr/local/lib/python3.6/dist-packages/numpy/core/fromnumeric.py\u001b[0m in \u001b[0;36mclip\u001b[0;34m(a, a_min, a_max, out, **kwargs)\u001b[0m\n\u001b[1;32m   2082\u001b[0m \u001b[0;34m\u001b[0m\u001b[0m\n\u001b[1;32m   2083\u001b[0m     \"\"\"\n\u001b[0;32m-> 2084\u001b[0;31m     \u001b[0;32mreturn\u001b[0m \u001b[0m_wrapfunc\u001b[0m\u001b[0;34m(\u001b[0m\u001b[0ma\u001b[0m\u001b[0;34m,\u001b[0m \u001b[0;34m'clip'\u001b[0m\u001b[0;34m,\u001b[0m \u001b[0ma_min\u001b[0m\u001b[0;34m,\u001b[0m \u001b[0ma_max\u001b[0m\u001b[0;34m,\u001b[0m \u001b[0mout\u001b[0m\u001b[0;34m=\u001b[0m\u001b[0mout\u001b[0m\u001b[0;34m,\u001b[0m \u001b[0;34m**\u001b[0m\u001b[0mkwargs\u001b[0m\u001b[0;34m)\u001b[0m\u001b[0;34m\u001b[0m\u001b[0;34m\u001b[0m\u001b[0m\n\u001b[0m\u001b[1;32m   2085\u001b[0m \u001b[0;34m\u001b[0m\u001b[0m\n\u001b[1;32m   2086\u001b[0m \u001b[0;34m\u001b[0m\u001b[0m\n",
            "\u001b[0;32m/usr/local/lib/python3.6/dist-packages/numpy/core/fromnumeric.py\u001b[0m in \u001b[0;36m_wrapfunc\u001b[0;34m(obj, method, *args, **kwds)\u001b[0m\n\u001b[1;32m     59\u001b[0m \u001b[0;34m\u001b[0m\u001b[0m\n\u001b[1;32m     60\u001b[0m     \u001b[0;32mtry\u001b[0m\u001b[0;34m:\u001b[0m\u001b[0;34m\u001b[0m\u001b[0;34m\u001b[0m\u001b[0m\n\u001b[0;32m---> 61\u001b[0;31m         \u001b[0;32mreturn\u001b[0m \u001b[0mbound\u001b[0m\u001b[0;34m(\u001b[0m\u001b[0;34m*\u001b[0m\u001b[0margs\u001b[0m\u001b[0;34m,\u001b[0m \u001b[0;34m**\u001b[0m\u001b[0mkwds\u001b[0m\u001b[0;34m)\u001b[0m\u001b[0;34m\u001b[0m\u001b[0;34m\u001b[0m\u001b[0m\n\u001b[0m\u001b[1;32m     62\u001b[0m     \u001b[0;32mexcept\u001b[0m \u001b[0mTypeError\u001b[0m\u001b[0;34m:\u001b[0m\u001b[0;34m\u001b[0m\u001b[0;34m\u001b[0m\u001b[0m\n\u001b[1;32m     63\u001b[0m         \u001b[0;31m# A TypeError occurs if the object does have such a method in its\u001b[0m\u001b[0;34m\u001b[0m\u001b[0;34m\u001b[0m\u001b[0;34m\u001b[0m\u001b[0m\n",
            "\u001b[0;32m/usr/local/lib/python3.6/dist-packages/numpy/core/_methods.py\u001b[0m in \u001b[0;36m_clip\u001b[0;34m(a, min, max, out, casting, **kwargs)\u001b[0m\n\u001b[1;32m    104\u001b[0m     \u001b[0;32mif\u001b[0m \u001b[0;32mnot\u001b[0m \u001b[0m_clip_dep_is_byte_swapped\u001b[0m\u001b[0;34m(\u001b[0m\u001b[0ma\u001b[0m\u001b[0;34m)\u001b[0m \u001b[0;32mand\u001b[0m \u001b[0;32mnot\u001b[0m \u001b[0m_clip_dep_is_byte_swapped\u001b[0m\u001b[0;34m(\u001b[0m\u001b[0mout\u001b[0m\u001b[0;34m)\u001b[0m\u001b[0;34m:\u001b[0m\u001b[0;34m\u001b[0m\u001b[0;34m\u001b[0m\u001b[0m\n\u001b[1;32m    105\u001b[0m         \u001b[0musing_deprecated_nan\u001b[0m \u001b[0;34m=\u001b[0m \u001b[0;32mFalse\u001b[0m\u001b[0;34m\u001b[0m\u001b[0;34m\u001b[0m\u001b[0m\n\u001b[0;32m--> 106\u001b[0;31m         \u001b[0;32mif\u001b[0m \u001b[0m_clip_dep_is_scalar_nan\u001b[0m\u001b[0;34m(\u001b[0m\u001b[0mmin\u001b[0m\u001b[0;34m)\u001b[0m\u001b[0;34m:\u001b[0m\u001b[0;34m\u001b[0m\u001b[0;34m\u001b[0m\u001b[0m\n\u001b[0m\u001b[1;32m    107\u001b[0m             \u001b[0mmin\u001b[0m \u001b[0;34m=\u001b[0m \u001b[0;34m-\u001b[0m\u001b[0mfloat\u001b[0m\u001b[0;34m(\u001b[0m\u001b[0;34m'inf'\u001b[0m\u001b[0;34m)\u001b[0m\u001b[0;34m\u001b[0m\u001b[0;34m\u001b[0m\u001b[0m\n\u001b[1;32m    108\u001b[0m             \u001b[0musing_deprecated_nan\u001b[0m \u001b[0;34m=\u001b[0m \u001b[0;32mTrue\u001b[0m\u001b[0;34m\u001b[0m\u001b[0;34m\u001b[0m\u001b[0m\n",
            "\u001b[0;32m/usr/local/lib/python3.6/dist-packages/numpy/core/_methods.py\u001b[0m in \u001b[0;36m_clip_dep_is_scalar_nan\u001b[0;34m(a)\u001b[0m\n\u001b[1;32m     63\u001b[0m \u001b[0;32mdef\u001b[0m \u001b[0m_clip_dep_is_scalar_nan\u001b[0m\u001b[0;34m(\u001b[0m\u001b[0ma\u001b[0m\u001b[0;34m)\u001b[0m\u001b[0;34m:\u001b[0m\u001b[0;34m\u001b[0m\u001b[0;34m\u001b[0m\u001b[0m\n\u001b[1;32m     64\u001b[0m     \u001b[0;31m# guarded to protect circular imports\u001b[0m\u001b[0;34m\u001b[0m\u001b[0;34m\u001b[0m\u001b[0;34m\u001b[0m\u001b[0m\n\u001b[0;32m---> 65\u001b[0;31m     \u001b[0;32mfrom\u001b[0m \u001b[0mnumpy\u001b[0m\u001b[0;34m.\u001b[0m\u001b[0mcore\u001b[0m\u001b[0;34m.\u001b[0m\u001b[0mfromnumeric\u001b[0m \u001b[0;32mimport\u001b[0m \u001b[0mndim\u001b[0m\u001b[0;34m\u001b[0m\u001b[0;34m\u001b[0m\u001b[0m\n\u001b[0m\u001b[1;32m     66\u001b[0m     \u001b[0;32mif\u001b[0m \u001b[0mndim\u001b[0m\u001b[0;34m(\u001b[0m\u001b[0ma\u001b[0m\u001b[0;34m)\u001b[0m \u001b[0;34m!=\u001b[0m \u001b[0;36m0\u001b[0m\u001b[0;34m:\u001b[0m\u001b[0;34m\u001b[0m\u001b[0;34m\u001b[0m\u001b[0m\n\u001b[1;32m     67\u001b[0m         \u001b[0;32mreturn\u001b[0m \u001b[0;32mFalse\u001b[0m\u001b[0;34m\u001b[0m\u001b[0;34m\u001b[0m\u001b[0m\n",
            "\u001b[0;32m/usr/lib/python3.6/importlib/_bootstrap.py\u001b[0m in \u001b[0;36m_handle_fromlist\u001b[0;34m(module, fromlist, import_, recursive)\u001b[0m\n",
            "\u001b[0;31mKeyboardInterrupt\u001b[0m: "
          ]
        }
      ]
    },
    {
      "cell_type": "code",
      "metadata": {
        "id": "i7ZITn34J1Ss",
        "colab_type": "code",
        "outputId": "e0ef7f04-d64f-484f-a2fc-b59bb844e574",
        "colab": {
          "base_uri": "https://localhost:8080/",
          "height": 295
        }
      },
      "source": [
        "plot_mean_rewards(test_rewards, method_name='test')"
      ],
      "execution_count": 0,
      "outputs": [
        {
          "output_type": "display_data",
          "data": {
            "image/png": "[encoded data removed]",
            "text/plain": [
              "<Figure size 432x288 with 1 Axes>"
            ]
          },
          "metadata": {
            "tags": [],
            "needs_background": "light"
          }
        }
      ]
    },
    {
      "cell_type": "markdown",
      "metadata": {
        "id": "3aR-GlF-f0Yg",
        "colab_type": "text"
      },
      "source": [
        "Test u_agent_one_by_one"
      ]
    },
    {
      "cell_type": "code",
      "metadata": {
        "id": "KZorei8v7Np4",
        "colab_type": "code",
        "outputId": "b9829018-8aab-4c23-d838-10b670cab9eb",
        "colab": {
          "base_uri": "https://localhost:8080/",
          "height": 366
        }
      },
      "source": [
        "test_rewards_one_by_one = test_agent(u_fit_agent_one_by_one, env, n_epochs=200, n_sessions=100, epsilon=1e-6)"
      ],
      "execution_count": 19,
      "outputs": [
        {
          "output_type": "stream",
          "text": [
            "epoch: 0, mean reward: 1.8904017970650102\n",
            "epoch: 1, mean reward: 2.0885442948180923\n"
          ],
          "name": "stdout"
        },
        {
          "output_type": "error",
          "ename": "KeyboardInterrupt",
          "evalue": "ignored",
          "traceback": [
            "\u001b[0;31m---------------------------------------------------------------------------\u001b[0m",
            "\u001b[0;31mKeyboardInterrupt\u001b[0m                         Traceback (most recent call last)",
            "\u001b[0;32m<ipython-input-19-36247514d93f>\u001b[0m in \u001b[0;36m<module>\u001b[0;34m()\u001b[0m\n\u001b[0;32m----> 1\u001b[0;31m \u001b[0mtest_rewards_one_by_one\u001b[0m \u001b[0;34m=\u001b[0m \u001b[0mtest_agent\u001b[0m\u001b[0;34m(\u001b[0m\u001b[0mu_fit_agent_one_by_one\u001b[0m\u001b[0;34m,\u001b[0m \u001b[0menv\u001b[0m\u001b[0;34m,\u001b[0m \u001b[0mn_epochs\u001b[0m\u001b[0;34m=\u001b[0m\u001b[0;36m200\u001b[0m\u001b[0;34m,\u001b[0m \u001b[0mn_sessions\u001b[0m\u001b[0;34m=\u001b[0m\u001b[0;36m100\u001b[0m\u001b[0;34m,\u001b[0m \u001b[0mepsilon\u001b[0m\u001b[0;34m=\u001b[0m\u001b[0;36m1e-6\u001b[0m\u001b[0;34m)\u001b[0m\u001b[0;34m\u001b[0m\u001b[0;34m\u001b[0m\u001b[0m\n\u001b[0m",
            "\u001b[0;32m<ipython-input-4-03b805a2d825>\u001b[0m in \u001b[0;36mtest_agent\u001b[0;34m(u_agent, env, n_epochs, n_sessions, epsilon)\u001b[0m\n\u001b[1;32m      1\u001b[0m \u001b[0;32mdef\u001b[0m \u001b[0mtest_agent\u001b[0m\u001b[0;34m(\u001b[0m\u001b[0mu_agent\u001b[0m\u001b[0;34m,\u001b[0m \u001b[0menv\u001b[0m\u001b[0;34m,\u001b[0m \u001b[0mn_epochs\u001b[0m\u001b[0;34m,\u001b[0m \u001b[0mn_sessions\u001b[0m\u001b[0;34m,\u001b[0m \u001b[0mepsilon\u001b[0m\u001b[0;34m)\u001b[0m\u001b[0;34m:\u001b[0m\u001b[0;34m\u001b[0m\u001b[0;34m\u001b[0m\u001b[0m\n\u001b[1;32m      2\u001b[0m     \u001b[0mv_agent\u001b[0m \u001b[0;34m=\u001b[0m \u001b[0mCCEMAgent\u001b[0m\u001b[0;34m(\u001b[0m\u001b[0;34m(\u001b[0m\u001b[0;36m2\u001b[0m\u001b[0;34m,\u001b[0m\u001b[0;34m)\u001b[0m\u001b[0;34m,\u001b[0m \u001b[0;34m(\u001b[0m\u001b[0;36m1\u001b[0m\u001b[0;34m,\u001b[0m\u001b[0;34m)\u001b[0m\u001b[0;34m,\u001b[0m \u001b[0mpercentile_param\u001b[0m\u001b[0;34m=\u001b[0m\u001b[0;36m70\u001b[0m\u001b[0;34m,\u001b[0m \u001b[0maction_max\u001b[0m\u001b[0;34m=\u001b[0m\u001b[0menv\u001b[0m\u001b[0;34m.\u001b[0m\u001b[0mv_action_max\u001b[0m\u001b[0;34m,\u001b[0m \u001b[0mreward_param\u001b[0m\u001b[0;34m=\u001b[0m\u001b[0;36m1\u001b[0m\u001b[0;34m)\u001b[0m\u001b[0;34m\u001b[0m\u001b[0;34m\u001b[0m\u001b[0m\n\u001b[0;32m----> 3\u001b[0;31m     \u001b[0m_\u001b[0m\u001b[0;34m,\u001b[0m \u001b[0mrewards\u001b[0m \u001b[0;34m=\u001b[0m  \u001b[0mfit_agents\u001b[0m\u001b[0;34m(\u001b[0m\u001b[0mu_agent\u001b[0m\u001b[0;34m,\u001b[0m \u001b[0mv_agent\u001b[0m\u001b[0;34m,\u001b[0m \u001b[0menv\u001b[0m\u001b[0;34m,\u001b[0m \u001b[0mn_epochs\u001b[0m\u001b[0;34m,\u001b[0m \u001b[0mn_sessions\u001b[0m\u001b[0;34m,\u001b[0m \u001b[0mepsilon\u001b[0m\u001b[0;34m,\u001b[0m \u001b[0mtest\u001b[0m\u001b[0;34m=\u001b[0m\u001b[0;32mTrue\u001b[0m\u001b[0;34m)\u001b[0m\u001b[0;34m\u001b[0m\u001b[0;34m\u001b[0m\u001b[0m\n\u001b[0m\u001b[1;32m      4\u001b[0m     \u001b[0;32mreturn\u001b[0m \u001b[0mrewards\u001b[0m\u001b[0;34m\u001b[0m\u001b[0;34m\u001b[0m\u001b[0m\n",
            "\u001b[0;32m<ipython-input-6-0f9940d9183e>\u001b[0m in \u001b[0;36mfit_agents\u001b[0;34m(u_agent, v_agent, env, n_epochs, n_sessions, epsilon, test, n_iter_debug)\u001b[0m\n\u001b[1;32m     11\u001b[0m             \u001b[0mprint\u001b[0m\u001b[0;34m(\u001b[0m\u001b[0;34m'\\n{:-^50}\\n'\u001b[0m\u001b[0;34m.\u001b[0m\u001b[0mformat\u001b[0m\u001b[0;34m(\u001b[0m\u001b[0;34m'TEST END'\u001b[0m\u001b[0;34m)\u001b[0m\u001b[0;34m)\u001b[0m\u001b[0;34m\u001b[0m\u001b[0;34m\u001b[0m\u001b[0m\n\u001b[1;32m     12\u001b[0m \u001b[0;34m\u001b[0m\u001b[0m\n\u001b[0;32m---> 13\u001b[0;31m         \u001b[0mmean_reward\u001b[0m \u001b[0;34m=\u001b[0m \u001b[0mfit_epoch\u001b[0m\u001b[0;34m(\u001b[0m\u001b[0mu_agent\u001b[0m\u001b[0;34m,\u001b[0m \u001b[0mv_agent\u001b[0m\u001b[0;34m,\u001b[0m \u001b[0menv\u001b[0m\u001b[0;34m,\u001b[0m \u001b[0mn_sessions\u001b[0m\u001b[0;34m,\u001b[0m \u001b[0mtest\u001b[0m\u001b[0;34m)\u001b[0m\u001b[0;34m\u001b[0m\u001b[0;34m\u001b[0m\u001b[0m\n\u001b[0m\u001b[1;32m     14\u001b[0m         \u001b[0mmean_rewards\u001b[0m\u001b[0;34m.\u001b[0m\u001b[0mappend\u001b[0m\u001b[0;34m(\u001b[0m\u001b[0mmean_reward\u001b[0m\u001b[0;34m)\u001b[0m\u001b[0;34m\u001b[0m\u001b[0;34m\u001b[0m\u001b[0m\n\u001b[1;32m     15\u001b[0m         \u001b[0mprint\u001b[0m\u001b[0;34m(\u001b[0m\u001b[0;34mf'epoch: {epoch}, mean reward: {mean_reward}'\u001b[0m\u001b[0;34m)\u001b[0m\u001b[0;34m\u001b[0m\u001b[0;34m\u001b[0m\u001b[0m\n",
            "\u001b[0;32m<ipython-input-5-5c22a553b5c6>\u001b[0m in \u001b[0;36mfit_epoch\u001b[0;34m(u_agent, v_agent, env, n_sessions, test)\u001b[0m\n\u001b[1;32m     23\u001b[0m \u001b[0;34m\u001b[0m\u001b[0m\n\u001b[1;32m     24\u001b[0m \u001b[0;32mdef\u001b[0m \u001b[0mfit_epoch\u001b[0m\u001b[0;34m(\u001b[0m\u001b[0mu_agent\u001b[0m\u001b[0;34m,\u001b[0m \u001b[0mv_agent\u001b[0m\u001b[0;34m,\u001b[0m \u001b[0menv\u001b[0m\u001b[0;34m,\u001b[0m \u001b[0mn_sessions\u001b[0m\u001b[0;34m,\u001b[0m \u001b[0mtest\u001b[0m\u001b[0;34m)\u001b[0m\u001b[0;34m:\u001b[0m\u001b[0;34m\u001b[0m\u001b[0;34m\u001b[0m\u001b[0m\n\u001b[0;32m---> 25\u001b[0;31m     \u001b[0msessions\u001b[0m \u001b[0;34m=\u001b[0m \u001b[0;34m[\u001b[0m\u001b[0mgenerate_session\u001b[0m\u001b[0;34m(\u001b[0m\u001b[0mu_agent\u001b[0m\u001b[0;34m,\u001b[0m \u001b[0mv_agent\u001b[0m\u001b[0;34m,\u001b[0m \u001b[0menv\u001b[0m\u001b[0;34m,\u001b[0m \u001b[0mtest\u001b[0m\u001b[0;34m=\u001b[0m\u001b[0mtest\u001b[0m\u001b[0;34m)\u001b[0m \u001b[0;32mfor\u001b[0m \u001b[0m_\u001b[0m \u001b[0;32min\u001b[0m \u001b[0mrange\u001b[0m\u001b[0;34m(\u001b[0m\u001b[0mn_sessions\u001b[0m\u001b[0;34m)\u001b[0m\u001b[0;34m]\u001b[0m\u001b[0;34m\u001b[0m\u001b[0;34m\u001b[0m\u001b[0m\n\u001b[0m\u001b[1;32m     26\u001b[0m     \u001b[0mmean_reward\u001b[0m \u001b[0;34m=\u001b[0m \u001b[0mnp\u001b[0m\u001b[0;34m.\u001b[0m\u001b[0mmean\u001b[0m\u001b[0;34m(\u001b[0m\u001b[0;34m[\u001b[0m\u001b[0msession\u001b[0m\u001b[0;34m[\u001b[0m\u001b[0;34m'total_reward'\u001b[0m\u001b[0;34m]\u001b[0m \u001b[0;32mfor\u001b[0m \u001b[0msession\u001b[0m \u001b[0;32min\u001b[0m \u001b[0msessions\u001b[0m\u001b[0;34m]\u001b[0m\u001b[0;34m)\u001b[0m\u001b[0;34m\u001b[0m\u001b[0;34m\u001b[0m\u001b[0m\n\u001b[1;32m     27\u001b[0m     \u001b[0;32mif\u001b[0m \u001b[0;32mnot\u001b[0m \u001b[0mtest\u001b[0m\u001b[0;34m:\u001b[0m\u001b[0;34m\u001b[0m\u001b[0;34m\u001b[0m\u001b[0m\n",
            "\u001b[0;32m<ipython-input-5-5c22a553b5c6>\u001b[0m in \u001b[0;36m<listcomp>\u001b[0;34m(.0)\u001b[0m\n\u001b[1;32m     23\u001b[0m \u001b[0;34m\u001b[0m\u001b[0m\n\u001b[1;32m     24\u001b[0m \u001b[0;32mdef\u001b[0m \u001b[0mfit_epoch\u001b[0m\u001b[0;34m(\u001b[0m\u001b[0mu_agent\u001b[0m\u001b[0;34m,\u001b[0m \u001b[0mv_agent\u001b[0m\u001b[0;34m,\u001b[0m \u001b[0menv\u001b[0m\u001b[0;34m,\u001b[0m \u001b[0mn_sessions\u001b[0m\u001b[0;34m,\u001b[0m \u001b[0mtest\u001b[0m\u001b[0;34m)\u001b[0m\u001b[0;34m:\u001b[0m\u001b[0;34m\u001b[0m\u001b[0;34m\u001b[0m\u001b[0m\n\u001b[0;32m---> 25\u001b[0;31m     \u001b[0msessions\u001b[0m \u001b[0;34m=\u001b[0m \u001b[0;34m[\u001b[0m\u001b[0mgenerate_session\u001b[0m\u001b[0;34m(\u001b[0m\u001b[0mu_agent\u001b[0m\u001b[0;34m,\u001b[0m \u001b[0mv_agent\u001b[0m\u001b[0;34m,\u001b[0m \u001b[0menv\u001b[0m\u001b[0;34m,\u001b[0m \u001b[0mtest\u001b[0m\u001b[0;34m=\u001b[0m\u001b[0mtest\u001b[0m\u001b[0;34m)\u001b[0m \u001b[0;32mfor\u001b[0m \u001b[0m_\u001b[0m \u001b[0;32min\u001b[0m \u001b[0mrange\u001b[0m\u001b[0;34m(\u001b[0m\u001b[0mn_sessions\u001b[0m\u001b[0;34m)\u001b[0m\u001b[0;34m]\u001b[0m\u001b[0;34m\u001b[0m\u001b[0;34m\u001b[0m\u001b[0m\n\u001b[0m\u001b[1;32m     26\u001b[0m     \u001b[0mmean_reward\u001b[0m \u001b[0;34m=\u001b[0m \u001b[0mnp\u001b[0m\u001b[0;34m.\u001b[0m\u001b[0mmean\u001b[0m\u001b[0;34m(\u001b[0m\u001b[0;34m[\u001b[0m\u001b[0msession\u001b[0m\u001b[0;34m[\u001b[0m\u001b[0;34m'total_reward'\u001b[0m\u001b[0;34m]\u001b[0m \u001b[0;32mfor\u001b[0m \u001b[0msession\u001b[0m \u001b[0;32min\u001b[0m \u001b[0msessions\u001b[0m\u001b[0;34m]\u001b[0m\u001b[0;34m)\u001b[0m\u001b[0;34m\u001b[0m\u001b[0;34m\u001b[0m\u001b[0m\n\u001b[1;32m     27\u001b[0m     \u001b[0;32mif\u001b[0m \u001b[0;32mnot\u001b[0m \u001b[0mtest\u001b[0m\u001b[0;34m:\u001b[0m\u001b[0;34m\u001b[0m\u001b[0;34m\u001b[0m\u001b[0m\n",
            "\u001b[0;32m<ipython-input-5-5c22a553b5c6>\u001b[0m in \u001b[0;36mgenerate_session\u001b[0;34m(u_agent, v_agent, env, test)\u001b[0m\n\u001b[1;32m     11\u001b[0m     \u001b[0;32mwhile\u001b[0m \u001b[0;32mnot\u001b[0m \u001b[0mdone\u001b[0m\u001b[0;34m:\u001b[0m\u001b[0;34m\u001b[0m\u001b[0;34m\u001b[0m\u001b[0m\n\u001b[1;32m     12\u001b[0m         \u001b[0mu_action\u001b[0m \u001b[0;34m=\u001b[0m \u001b[0mu_agent\u001b[0m\u001b[0;34m.\u001b[0m\u001b[0mget_action\u001b[0m\u001b[0;34m(\u001b[0m\u001b[0mstate\u001b[0m\u001b[0;34m,\u001b[0m \u001b[0mtest\u001b[0m\u001b[0;34m=\u001b[0m\u001b[0mtest\u001b[0m\u001b[0;34m)\u001b[0m\u001b[0;34m\u001b[0m\u001b[0;34m\u001b[0m\u001b[0m\n\u001b[0;32m---> 13\u001b[0;31m         \u001b[0mv_action\u001b[0m \u001b[0;34m=\u001b[0m \u001b[0mv_agent\u001b[0m\u001b[0;34m.\u001b[0m\u001b[0mget_action\u001b[0m\u001b[0;34m(\u001b[0m\u001b[0mstate\u001b[0m\u001b[0;34m)\u001b[0m\u001b[0;34m\u001b[0m\u001b[0;34m\u001b[0m\u001b[0m\n\u001b[0m\u001b[1;32m     14\u001b[0m         \u001b[0mactions\u001b[0m \u001b[0;34m=\u001b[0m \u001b[0;34m(\u001b[0m\u001b[0mu_action\u001b[0m\u001b[0;34m[\u001b[0m\u001b[0;36m0\u001b[0m\u001b[0;34m]\u001b[0m\u001b[0;34m,\u001b[0m \u001b[0mv_action\u001b[0m\u001b[0;34m[\u001b[0m\u001b[0;36m0\u001b[0m\u001b[0;34m]\u001b[0m\u001b[0;34m)\u001b[0m \u001b[0;32mif\u001b[0m \u001b[0mstr\u001b[0m\u001b[0;34m(\u001b[0m\u001b[0mu_agent\u001b[0m\u001b[0;34m)\u001b[0m \u001b[0;34m==\u001b[0m \u001b[0;34m'u_'\u001b[0m \u001b[0;32melse\u001b[0m \u001b[0;34m(\u001b[0m\u001b[0mv_action\u001b[0m\u001b[0;34m[\u001b[0m\u001b[0;36m0\u001b[0m\u001b[0;34m]\u001b[0m\u001b[0;34m,\u001b[0m \u001b[0mu_action\u001b[0m\u001b[0;34m[\u001b[0m\u001b[0;36m0\u001b[0m\u001b[0;34m]\u001b[0m\u001b[0;34m)\u001b[0m\u001b[0;34m\u001b[0m\u001b[0;34m\u001b[0m\u001b[0m\n\u001b[1;32m     15\u001b[0m         \u001b[0mnext_state\u001b[0m\u001b[0;34m,\u001b[0m \u001b[0mreward\u001b[0m\u001b[0;34m,\u001b[0m \u001b[0mdone\u001b[0m\u001b[0;34m,\u001b[0m \u001b[0m_\u001b[0m \u001b[0;34m=\u001b[0m \u001b[0menv\u001b[0m\u001b[0;34m.\u001b[0m\u001b[0mstep\u001b[0m\u001b[0;34m(\u001b[0m\u001b[0;34m*\u001b[0m\u001b[0mactions\u001b[0m\u001b[0;34m)\u001b[0m\u001b[0;34m\u001b[0m\u001b[0;34m\u001b[0m\u001b[0m\n",
            "\u001b[0;32m<ipython-input-3-ca55eef9851f>\u001b[0m in \u001b[0;36mget_action\u001b[0;34m(self, state, test)\u001b[0m\n\u001b[1;32m     34\u001b[0m     \u001b[0;32mdef\u001b[0m \u001b[0mget_action\u001b[0m\u001b[0;34m(\u001b[0m\u001b[0mself\u001b[0m\u001b[0;34m,\u001b[0m \u001b[0mstate\u001b[0m\u001b[0;34m,\u001b[0m \u001b[0mtest\u001b[0m\u001b[0;34m=\u001b[0m\u001b[0;32mFalse\u001b[0m\u001b[0;34m)\u001b[0m\u001b[0;34m:\u001b[0m\u001b[0;34m\u001b[0m\u001b[0;34m\u001b[0m\u001b[0m\n\u001b[1;32m     35\u001b[0m         \u001b[0mstate\u001b[0m \u001b[0;34m=\u001b[0m \u001b[0mtorch\u001b[0m\u001b[0;34m.\u001b[0m\u001b[0mFloatTensor\u001b[0m\u001b[0;34m(\u001b[0m\u001b[0mstate\u001b[0m\u001b[0;34m)\u001b[0m\u001b[0;34m\u001b[0m\u001b[0;34m\u001b[0m\u001b[0m\n\u001b[0;32m---> 36\u001b[0;31m         \u001b[0mpredicted_action\u001b[0m \u001b[0;34m=\u001b[0m \u001b[0mself\u001b[0m\u001b[0;34m.\u001b[0m\u001b[0mnetwork\u001b[0m\u001b[0;34m(\u001b[0m\u001b[0mstate\u001b[0m\u001b[0;34m)\u001b[0m\u001b[0;34m.\u001b[0m\u001b[0mdetach\u001b[0m\u001b[0;34m(\u001b[0m\u001b[0;34m)\u001b[0m\u001b[0;34m.\u001b[0m\u001b[0mnumpy\u001b[0m\u001b[0;34m(\u001b[0m\u001b[0;34m)\u001b[0m \u001b[0;34m*\u001b[0m \u001b[0mself\u001b[0m\u001b[0;34m.\u001b[0m\u001b[0maction_max\u001b[0m\u001b[0;34m\u001b[0m\u001b[0;34m\u001b[0m\u001b[0m\n\u001b[0m\u001b[1;32m     37\u001b[0m         \u001b[0;32mif\u001b[0m \u001b[0;32mnot\u001b[0m \u001b[0mtest\u001b[0m\u001b[0;34m:\u001b[0m\u001b[0;34m\u001b[0m\u001b[0;34m\u001b[0m\u001b[0m\n\u001b[1;32m     38\u001b[0m             \u001b[0mnoise\u001b[0m \u001b[0;34m=\u001b[0m \u001b[0mself\u001b[0m\u001b[0;34m.\u001b[0m\u001b[0mnoise_threshold\u001b[0m \u001b[0;34m*\u001b[0m \u001b[0mnp\u001b[0m\u001b[0;34m.\u001b[0m\u001b[0mrandom\u001b[0m\u001b[0;34m.\u001b[0m\u001b[0muniform\u001b[0m\u001b[0;34m(\u001b[0m\u001b[0mlow\u001b[0m\u001b[0;34m=\u001b[0m\u001b[0;34m-\u001b[0m\u001b[0mself\u001b[0m\u001b[0;34m.\u001b[0m\u001b[0maction_max\u001b[0m\u001b[0;34m,\u001b[0m \u001b[0mhigh\u001b[0m\u001b[0;34m=\u001b[0m\u001b[0mself\u001b[0m\u001b[0;34m.\u001b[0m\u001b[0maction_max\u001b[0m\u001b[0;34m)\u001b[0m\u001b[0;34m\u001b[0m\u001b[0;34m\u001b[0m\u001b[0m\n",
            "\u001b[0;31mKeyboardInterrupt\u001b[0m: "
          ]
        }
      ]
    },
    {
      "cell_type": "code",
      "metadata": {
        "id": "cXK3jgOj7QN1",
        "colab_type": "code",
        "colab": {}
      },
      "source": [
        "plot_mean_rewards(test_rewards_one_by_one, method_name='test one by one')"
      ],
      "execution_count": 0,
      "outputs": []
    }
  ]
}