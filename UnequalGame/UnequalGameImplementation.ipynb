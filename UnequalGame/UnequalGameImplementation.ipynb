{
  "nbformat": 4,
  "nbformat_minor": 0,
  "metadata": {
    "kernelspec": {
      "display_name": "Python 3",
      "language": "python",
      "name": "python3"
    },
    "language_info": {
      "codemirror_mode": {
        "name": "ipython",
        "version": 3
      },
      "file_extension": ".py",
      "mimetype": "text/x-python",
      "name": "python",
      "nbconvert_exporter": "python",
      "pygments_lexer": "ipython3",
      "version": "3.7.3"
    },
    "colab": {
      "name": "UnequalGameImplementation.ipynb",
      "provenance": []
    }
  },
  "cells": [
    {
      "cell_type": "markdown",
      "metadata": {
        "id": "x7CyocjBJ1SP",
        "colab_type": "text"
      },
      "source": [
        "## Unequal Game solution with CCEM method"
      ]
    },
    {
      "cell_type": "code",
      "metadata": {
        "id": "AABSYH3vJ1SR",
        "colab_type": "code",
        "colab": {}
      },
      "source": [
        "import torch\n",
        "import numpy as np\n",
        "import matplotlib.pyplot as plt\n",
        "from copy import deepcopy\n",
        "from IPython.display import clear_output"
      ],
      "execution_count": 0,
      "outputs": []
    },
    {
      "cell_type": "markdown",
      "metadata": {
        "id": "X9eLwv6LY4xn",
        "colab_type": "text"
      },
      "source": [
        "Let's find guaranteed result\n"
      ]
    },
    {
      "cell_type": "markdown",
      "metadata": {
        "id": "QjyRmxcvY_pQ",
        "colab_type": "text"
      },
      "source": [
        "\\begin{gather*}\n",
        "\\begin{cases}\n",
        "x_0 = 1,\\\\\n",
        "x_n = x_{n-1} + (u_{n} - v_{n}) \\cdot dt;\n",
        "\\end{cases}\\\\\\\\\n",
        "x_n = 1 + \\sum_{i=1}^{n}(u_{i} - v_{i}) \\cdot dt = 1 + (U - V)  dt, \\\\\n",
        "R(u_1, \\ldots, u_n, v_1, \\ldots v_n) = R(U, V) = \\left(1 + (U - V)  dt\\right)^2, \\\\\\\\\n",
        "\\gamma^{v} = \\max_{V}\\min_{U} R(U, V), \\\\\n",
        "\\frac{\\partial}{\\partial U}R = 2 (1 + (U-V)dt) dt = 0 \\; \\Longrightarrow \\; U - V = -\\dfrac{1}{dt}, \\\\\n",
        "\\min_{U} R(U, V) = \\left(1 -\\dfrac{1}{dt} dt\\right)^2 = 0  \\; \\Longrightarrow \\; \\gamma^{v} = 0\n",
        "\\end{gather*}"
      ]
    },
    {
      "cell_type": "markdown",
      "metadata": {
        "id": "Y09AZ2Ovh2Ry",
        "colab_type": "text"
      },
      "source": [
        "\\begin{gather*}\n",
        "\\max_{V} R(U, V) = \\max\\left\\{ R(U, 1), R(U, -1)\\right\\}, \n",
        "\\end{gather*}"
      ]
    },
    {
      "cell_type": "markdown",
      "metadata": {
        "id": "T5YRCc2MJ1SU",
        "colab_type": "text"
      },
      "source": [
        "Implement environment"
      ]
    },
    {
      "cell_type": "code",
      "metadata": {
        "id": "Fj46-jGRJ1SV",
        "colab_type": "code",
        "colab": {}
      },
      "source": [
        "class UnequalGame:\n",
        "\n",
        "    def __init__(self, initial_x=1, dt=0.005, terminal_time=2, u_action_max=2, v_action_max=1):\n",
        "        self.u_action_max = u_action_max\n",
        "        self.v_action_max = v_action_max\n",
        "        self.terminal_time = terminal_time\n",
        "        self.dt = dt\n",
        "        self.initial_x = initial_x\n",
        "        self.state = self.reset()\n",
        "\n",
        "    def reset(self):\n",
        "        self.state = np.array([0, self.initial_x])\n",
        "        return self.state\n",
        "\n",
        "    def step(self, u_action, v_action):\n",
        "        t, x = self.state\n",
        "        x = x + (u_action - v_action) * self.dt\n",
        "        t += self.dt\n",
        "        self.state = np.array([t, x])\n",
        "\n",
        "        reward = 0\n",
        "        done = False\n",
        "        if t >= self.terminal_time:\n",
        "            reward = x ** 2\n",
        "            done = True\n",
        "\n",
        "        return self.state, reward, done, None\n"
      ],
      "execution_count": 0,
      "outputs": []
    },
    {
      "cell_type": "markdown",
      "metadata": {
        "id": "01OM_i5PJ1SX",
        "colab_type": "text"
      },
      "source": [
        "Implement agent"
      ]
    },
    {
      "cell_type": "code",
      "metadata": {
        "id": "7S80KcE1J1SY",
        "colab_type": "code",
        "colab": {}
      },
      "source": [
        "class Network(torch.nn.Module):\n",
        "\n",
        "    def __init__(self, input_shape, output_shape):\n",
        "        super().__init__()\n",
        "        self.linear_1 = torch.nn.Linear(input_shape[0], 50)\n",
        "        self.linear_2 = torch.nn.Linear(50, 30)\n",
        "        self.linear_3 = torch.nn.Linear(30, output_shape[0])\n",
        "        self.relu = torch.nn.ReLU()\n",
        "        self.tang = torch.nn.Tanh()\n",
        "\n",
        "    def forward(self, input_):\n",
        "        hidden = self.relu(self.linear_1(input_))\n",
        "        hidden = self.relu(self.linear_2(hidden))\n",
        "        output = self.tang(self.linear_3(hidden))\n",
        "        return output\n",
        "\n",
        "\n",
        "class CCEMAgent(torch.nn.Module):\n",
        "\n",
        "    def __init__(self, state_shape, action_shape, action_max, reward_param=1, percentile_param=70, noise_decrease=0.98,\n",
        "                 tau=1e-2, learning_rate=1e-2, n_learning_per_fit=16):\n",
        "        super().__init__()\n",
        "        self.action_max = np.abs(action_max)\n",
        "        self.reward_param = reward_param  # equal to 1 if agent wants to maximize reward otherwise -1\n",
        "        self.percentile_param = percentile_param\n",
        "        self.noise_decrease = noise_decrease\n",
        "        self.noise_threshold = 1\n",
        "        self.min_noise_threshold = 0.1\n",
        "        self.tau = tau\n",
        "        self.n_learning_per_fit = n_learning_per_fit\n",
        "        self.network = Network(state_shape, action_shape)\n",
        "        self.optimizer = torch.optim.Adam(params=self.network.parameters(), lr=learning_rate)\n",
        "\n",
        "    def get_action(self, state, test=False):\n",
        "        state = torch.FloatTensor(state)\n",
        "        predicted_action = self.network(state).detach().numpy()\n",
        "        if not test:\n",
        "            noise = self.noise_threshold * np.random.uniform(low=-self.action_max, high=self.action_max)\n",
        "            predicted_action = np.clip(predicted_action * self.action_max + noise, -self.action_max, self.action_max)\n",
        "        return predicted_action\n",
        "\n",
        "    def get_elite_states_and_actions(self, sessions, prefix):\n",
        "        \"\"\"\n",
        "          Select sessions with the most or least reward\n",
        "          by percentile\n",
        "        \"\"\"\n",
        "        total_rewards = [session['total_reward'] for session in sessions]\n",
        "        reward_threshold = np.percentile(total_rewards, self.percentile_param)\n",
        "\n",
        "        elite_states = []\n",
        "        elite_actions = []\n",
        "        for session in sessions:\n",
        "            if self.reward_param * (session['total_reward'] - reward_threshold) > 0:\n",
        "                elite_states.extend(session['states'])\n",
        "                elite_actions.extend(session[f'{prefix}actions'])\n",
        "\n",
        "        return torch.FloatTensor(elite_states), torch.FloatTensor(elite_actions)\n",
        "\n",
        "    def learn_network(self, loss):\n",
        "        self.optimizer.zero_grad()\n",
        "        old_network = deepcopy(self.network)\n",
        "        loss.backward()\n",
        "        self.optimizer.step()\n",
        "\n",
        "        for new_parameter, old_parameter in zip(self.network.parameters(), old_network.parameters()):\n",
        "            new_parameter.data.copy_((1 - self.tau) * new_parameter + self.tau * old_parameter)\n",
        "\n",
        "        return None\n",
        "\n",
        "    def fit(self, sessions, prefix=''):\n",
        "        elite_states, elite_actions = self.get_elite_states_and_actions(sessions, prefix=prefix)\n",
        "\n",
        "        for _ in range(self.n_learning_per_fit):\n",
        "            predicted_action = self.network(elite_states)\n",
        "            loss = torch.mean((predicted_action - elite_actions) ** 2)\n",
        "            self.learn_network(loss)\n",
        "\n",
        "        if self.noise_threshold > self.min_noise_threshold:\n",
        "            self.noise_threshold *= self.noise_decrease\n",
        "\n",
        "        return None\n"
      ],
      "execution_count": 0,
      "outputs": []
    },
    {
      "cell_type": "markdown",
      "metadata": {
        "id": "kzV4HKqsJ1Sb",
        "colab_type": "text"
      },
      "source": [
        "Train agents"
      ]
    },
    {
      "cell_type": "code",
      "metadata": {
        "id": "RrjBLPuDJ1Sb",
        "colab_type": "code",
        "colab": {}
      },
      "source": [
        "def generate_session(u_agent, v_agent, env, t_max=200, test=False):\n",
        "    \"\"\"\n",
        "    Generate session on environment with agent\n",
        "    \"\"\"\n",
        "    states = []\n",
        "    u_actions = []\n",
        "    v_actions = []\n",
        "    total_reward = 0\n",
        "    done = False\n",
        "    state = env.reset()\n",
        "    while not done:\n",
        "        u_action = u_agent.get_action(state, test=test)\n",
        "        v_action = v_agent.get_action(state)\n",
        "        next_state, reward, done, _ = env.step(u_action[0], v_action[0])\n",
        "        states.append(state)\n",
        "        u_actions.append(u_action)\n",
        "        v_actions.append(v_action)\n",
        "        total_reward += reward\n",
        "        state = next_state\n",
        "\n",
        "    return {'states': states, 'u_actions': u_actions, 'v_actions': v_actions, 'total_reward': total_reward}\n",
        "\n",
        "\n",
        "def train_agents(u_agent, v_agent, env, n_epochs, n_sessions, epsilon, test=False):\n",
        "    last_mean_reward = 0\n",
        "    mean_rewards = []\n",
        "    \n",
        "    for epoch in range(n_epochs):\n",
        "        sessions = [generate_session(u_agent, v_agent, env, test=test) for _ in range(n_sessions)]\n",
        "        mean_reward = np.mean([session['total_reward'] for session in sessions])\n",
        "        if not test:\n",
        "            u_agent.fit(sessions, prefix='u_')\n",
        "        v_agent.fit(sessions, prefix='v_')\n",
        "        mean_rewards.append(mean_reward)\n",
        "        print('epoch: {0}, mean reward: {1}'.format(epoch, mean_reward))\n",
        "        # if epoch > 0:\n",
        "        #    clear_output(True)\n",
        "        #    plt.plot(range(len(mean_rewards)), mean_rewards)\n",
        "        #    plt.show()\n",
        "        if np.abs(last_mean_reward - mean_reward) < epsilon:\n",
        "            break\n",
        "        last_mean_reward = mean_reward\n",
        "        \n",
        "    return np.array(mean_rewards)"
      ],
      "execution_count": 0,
      "outputs": []
    },
    {
      "cell_type": "code",
      "metadata": {
        "id": "EXE4PAqKJ1Se",
        "colab_type": "code",
        "colab": {}
      },
      "source": [
        "env = UnequalGame()\n",
        "u_agent = CCEMAgent((2,), (1,), percentile_param=30, action_max=env.u_action_max, reward_param=-1)\n",
        "v_agent = CCEMAgent((2,), (1,), percentile_param=70, action_max=env.v_action_max, reward_param=1)\n",
        "n_epochs = 100\n",
        "n_sessions = 100\n",
        "epsilon = 1e-5"
      ],
      "execution_count": 0,
      "outputs": []
    },
    {
      "cell_type": "code",
      "metadata": {
        "scrolled": true,
        "id": "IB5KIRc2J1Sg",
        "colab_type": "code",
        "colab": {
          "base_uri": "https://localhost:8080/",
          "height": 953
        },
        "outputId": "4e908d2b-02ed-4bf4-fa96-1994a07137fb"
      },
      "source": [
        "mean_rewards = train_agents(u_agent, v_agent, env, n_epochs, n_sessions, epsilon)"
      ],
      "execution_count": 6,
      "outputs": [
        {
          "output_type": "stream",
          "text": [
            "epoch: 0, mean reward: 0.1394366284568579\n",
            "epoch: 1, mean reward: 0.21308004952002746\n",
            "epoch: 2, mean reward: 2.8857746928158754\n",
            "epoch: 3, mean reward: 3.782754001876468\n",
            "epoch: 4, mean reward: 4.096651717650804\n",
            "epoch: 5, mean reward: 4.206777886471516\n",
            "epoch: 6, mean reward: 4.55027475974812\n",
            "epoch: 7, mean reward: 4.764302933794429\n",
            "epoch: 8, mean reward: 4.990101918382281\n",
            "epoch: 9, mean reward: 5.295063939121003\n",
            "epoch: 10, mean reward: 5.462086497934465\n",
            "epoch: 11, mean reward: 5.643264065503258\n",
            "epoch: 12, mean reward: 5.833794722225159\n",
            "epoch: 13, mean reward: 6.110028922177751\n",
            "epoch: 14, mean reward: 6.3280362057153035\n",
            "epoch: 15, mean reward: 6.532345463263221\n",
            "epoch: 16, mean reward: 6.747596700032981\n",
            "epoch: 17, mean reward: 6.93401475322627\n",
            "epoch: 18, mean reward: 7.08703422143608\n",
            "epoch: 19, mean reward: 7.243037074396289\n",
            "epoch: 20, mean reward: 7.363430648683708\n",
            "epoch: 21, mean reward: 7.504628164341743\n",
            "epoch: 22, mean reward: 7.675699790048519\n",
            "epoch: 23, mean reward: 7.834266883800231\n",
            "epoch: 24, mean reward: 7.90185754560661\n",
            "epoch: 25, mean reward: 8.06161492181978\n",
            "epoch: 26, mean reward: 8.231182470667763\n",
            "epoch: 27, mean reward: 8.436806391521184\n",
            "epoch: 28, mean reward: 8.680962387759172\n",
            "epoch: 29, mean reward: 8.830300636117038\n",
            "epoch: 30, mean reward: 9.02226696017165\n",
            "epoch: 31, mean reward: 9.16373288157345\n",
            "epoch: 32, mean reward: 9.40065683562035\n",
            "epoch: 33, mean reward: 9.548491410611518\n",
            "epoch: 34, mean reward: 9.810501927761486\n",
            "epoch: 35, mean reward: 10.015778338368502\n",
            "epoch: 36, mean reward: 10.191336900693354\n"
          ],
          "name": "stdout"
        },
        {
          "output_type": "error",
          "ename": "KeyboardInterrupt",
          "evalue": "ignored",
          "traceback": [
            "\u001b[0;31m---------------------------------------------------------------------------\u001b[0m",
            "\u001b[0;31mKeyboardInterrupt\u001b[0m                         Traceback (most recent call last)",
            "\u001b[0;32m<ipython-input-6-c30ef53deb69>\u001b[0m in \u001b[0;36m<module>\u001b[0;34m()\u001b[0m\n\u001b[0;32m----> 1\u001b[0;31m \u001b[0mmean_rewards\u001b[0m \u001b[0;34m=\u001b[0m \u001b[0mtrain_agents\u001b[0m\u001b[0;34m(\u001b[0m\u001b[0mu_agent\u001b[0m\u001b[0;34m,\u001b[0m \u001b[0mv_agent\u001b[0m\u001b[0;34m,\u001b[0m \u001b[0menv\u001b[0m\u001b[0;34m,\u001b[0m \u001b[0mn_epochs\u001b[0m\u001b[0;34m,\u001b[0m \u001b[0mn_sessions\u001b[0m\u001b[0;34m,\u001b[0m \u001b[0mepsilon\u001b[0m\u001b[0;34m)\u001b[0m\u001b[0;34m\u001b[0m\u001b[0;34m\u001b[0m\u001b[0m\n\u001b[0m",
            "\u001b[0;32m<ipython-input-4-dc7f61b6dc90>\u001b[0m in \u001b[0;36mtrain_agents\u001b[0;34m(u_agent, v_agent, env, n_epochs, n_sessions, epsilon, test)\u001b[0m\n\u001b[1;32m     27\u001b[0m \u001b[0;34m\u001b[0m\u001b[0m\n\u001b[1;32m     28\u001b[0m     \u001b[0;32mfor\u001b[0m \u001b[0mepoch\u001b[0m \u001b[0;32min\u001b[0m \u001b[0mrange\u001b[0m\u001b[0;34m(\u001b[0m\u001b[0mn_epochs\u001b[0m\u001b[0;34m)\u001b[0m\u001b[0;34m:\u001b[0m\u001b[0;34m\u001b[0m\u001b[0;34m\u001b[0m\u001b[0m\n\u001b[0;32m---> 29\u001b[0;31m         \u001b[0msessions\u001b[0m \u001b[0;34m=\u001b[0m \u001b[0;34m[\u001b[0m\u001b[0mgenerate_session\u001b[0m\u001b[0;34m(\u001b[0m\u001b[0mu_agent\u001b[0m\u001b[0;34m,\u001b[0m \u001b[0mv_agent\u001b[0m\u001b[0;34m,\u001b[0m \u001b[0menv\u001b[0m\u001b[0;34m,\u001b[0m \u001b[0mtest\u001b[0m\u001b[0;34m=\u001b[0m\u001b[0mtest\u001b[0m\u001b[0;34m)\u001b[0m \u001b[0;32mfor\u001b[0m \u001b[0m_\u001b[0m \u001b[0;32min\u001b[0m \u001b[0mrange\u001b[0m\u001b[0;34m(\u001b[0m\u001b[0mn_sessions\u001b[0m\u001b[0;34m)\u001b[0m\u001b[0;34m]\u001b[0m\u001b[0;34m\u001b[0m\u001b[0;34m\u001b[0m\u001b[0m\n\u001b[0m\u001b[1;32m     30\u001b[0m         \u001b[0mmean_reward\u001b[0m \u001b[0;34m=\u001b[0m \u001b[0mnp\u001b[0m\u001b[0;34m.\u001b[0m\u001b[0mmean\u001b[0m\u001b[0;34m(\u001b[0m\u001b[0;34m[\u001b[0m\u001b[0msession\u001b[0m\u001b[0;34m[\u001b[0m\u001b[0;34m'total_reward'\u001b[0m\u001b[0;34m]\u001b[0m \u001b[0;32mfor\u001b[0m \u001b[0msession\u001b[0m \u001b[0;32min\u001b[0m \u001b[0msessions\u001b[0m\u001b[0;34m]\u001b[0m\u001b[0;34m)\u001b[0m\u001b[0;34m\u001b[0m\u001b[0;34m\u001b[0m\u001b[0m\n\u001b[1;32m     31\u001b[0m         \u001b[0;32mif\u001b[0m \u001b[0;32mnot\u001b[0m \u001b[0mtest\u001b[0m\u001b[0;34m:\u001b[0m\u001b[0;34m\u001b[0m\u001b[0;34m\u001b[0m\u001b[0m\n",
            "\u001b[0;32m<ipython-input-4-dc7f61b6dc90>\u001b[0m in \u001b[0;36m<listcomp>\u001b[0;34m(.0)\u001b[0m\n\u001b[1;32m     27\u001b[0m \u001b[0;34m\u001b[0m\u001b[0m\n\u001b[1;32m     28\u001b[0m     \u001b[0;32mfor\u001b[0m \u001b[0mepoch\u001b[0m \u001b[0;32min\u001b[0m \u001b[0mrange\u001b[0m\u001b[0;34m(\u001b[0m\u001b[0mn_epochs\u001b[0m\u001b[0;34m)\u001b[0m\u001b[0;34m:\u001b[0m\u001b[0;34m\u001b[0m\u001b[0;34m\u001b[0m\u001b[0m\n\u001b[0;32m---> 29\u001b[0;31m         \u001b[0msessions\u001b[0m \u001b[0;34m=\u001b[0m \u001b[0;34m[\u001b[0m\u001b[0mgenerate_session\u001b[0m\u001b[0;34m(\u001b[0m\u001b[0mu_agent\u001b[0m\u001b[0;34m,\u001b[0m \u001b[0mv_agent\u001b[0m\u001b[0;34m,\u001b[0m \u001b[0menv\u001b[0m\u001b[0;34m,\u001b[0m \u001b[0mtest\u001b[0m\u001b[0;34m=\u001b[0m\u001b[0mtest\u001b[0m\u001b[0;34m)\u001b[0m \u001b[0;32mfor\u001b[0m \u001b[0m_\u001b[0m \u001b[0;32min\u001b[0m \u001b[0mrange\u001b[0m\u001b[0;34m(\u001b[0m\u001b[0mn_sessions\u001b[0m\u001b[0;34m)\u001b[0m\u001b[0;34m]\u001b[0m\u001b[0;34m\u001b[0m\u001b[0;34m\u001b[0m\u001b[0m\n\u001b[0m\u001b[1;32m     30\u001b[0m         \u001b[0mmean_reward\u001b[0m \u001b[0;34m=\u001b[0m \u001b[0mnp\u001b[0m\u001b[0;34m.\u001b[0m\u001b[0mmean\u001b[0m\u001b[0;34m(\u001b[0m\u001b[0;34m[\u001b[0m\u001b[0msession\u001b[0m\u001b[0;34m[\u001b[0m\u001b[0;34m'total_reward'\u001b[0m\u001b[0;34m]\u001b[0m \u001b[0;32mfor\u001b[0m \u001b[0msession\u001b[0m \u001b[0;32min\u001b[0m \u001b[0msessions\u001b[0m\u001b[0;34m]\u001b[0m\u001b[0;34m)\u001b[0m\u001b[0;34m\u001b[0m\u001b[0;34m\u001b[0m\u001b[0m\n\u001b[1;32m     31\u001b[0m         \u001b[0;32mif\u001b[0m \u001b[0;32mnot\u001b[0m \u001b[0mtest\u001b[0m\u001b[0;34m:\u001b[0m\u001b[0;34m\u001b[0m\u001b[0;34m\u001b[0m\u001b[0m\n",
            "\u001b[0;32m<ipython-input-4-dc7f61b6dc90>\u001b[0m in \u001b[0;36mgenerate_session\u001b[0;34m(u_agent, v_agent, env, t_max, test)\u001b[0m\n\u001b[1;32m     10\u001b[0m     \u001b[0mstate\u001b[0m \u001b[0;34m=\u001b[0m \u001b[0menv\u001b[0m\u001b[0;34m.\u001b[0m\u001b[0mreset\u001b[0m\u001b[0;34m(\u001b[0m\u001b[0;34m)\u001b[0m\u001b[0;34m\u001b[0m\u001b[0;34m\u001b[0m\u001b[0m\n\u001b[1;32m     11\u001b[0m     \u001b[0;32mwhile\u001b[0m \u001b[0;32mnot\u001b[0m \u001b[0mdone\u001b[0m\u001b[0;34m:\u001b[0m\u001b[0;34m\u001b[0m\u001b[0;34m\u001b[0m\u001b[0m\n\u001b[0;32m---> 12\u001b[0;31m         \u001b[0mu_action\u001b[0m \u001b[0;34m=\u001b[0m \u001b[0mu_agent\u001b[0m\u001b[0;34m.\u001b[0m\u001b[0mget_action\u001b[0m\u001b[0;34m(\u001b[0m\u001b[0mstate\u001b[0m\u001b[0;34m,\u001b[0m \u001b[0mtest\u001b[0m\u001b[0;34m=\u001b[0m\u001b[0mtest\u001b[0m\u001b[0;34m)\u001b[0m\u001b[0;34m\u001b[0m\u001b[0;34m\u001b[0m\u001b[0m\n\u001b[0m\u001b[1;32m     13\u001b[0m         \u001b[0mv_action\u001b[0m \u001b[0;34m=\u001b[0m \u001b[0mv_agent\u001b[0m\u001b[0;34m.\u001b[0m\u001b[0mget_action\u001b[0m\u001b[0;34m(\u001b[0m\u001b[0mstate\u001b[0m\u001b[0;34m)\u001b[0m\u001b[0;34m\u001b[0m\u001b[0;34m\u001b[0m\u001b[0m\n\u001b[1;32m     14\u001b[0m         \u001b[0mnext_state\u001b[0m\u001b[0;34m,\u001b[0m \u001b[0mreward\u001b[0m\u001b[0;34m,\u001b[0m \u001b[0mdone\u001b[0m\u001b[0;34m,\u001b[0m \u001b[0m_\u001b[0m \u001b[0;34m=\u001b[0m \u001b[0menv\u001b[0m\u001b[0;34m.\u001b[0m\u001b[0mstep\u001b[0m\u001b[0;34m(\u001b[0m\u001b[0mu_action\u001b[0m\u001b[0;34m[\u001b[0m\u001b[0;36m0\u001b[0m\u001b[0;34m]\u001b[0m\u001b[0;34m,\u001b[0m \u001b[0mv_action\u001b[0m\u001b[0;34m[\u001b[0m\u001b[0;36m0\u001b[0m\u001b[0;34m]\u001b[0m\u001b[0;34m)\u001b[0m\u001b[0;34m\u001b[0m\u001b[0;34m\u001b[0m\u001b[0m\n",
            "\u001b[0;32m<ipython-input-3-8fe6c9a5fbc2>\u001b[0m in \u001b[0;36mget_action\u001b[0;34m(self, state, test)\u001b[0m\n\u001b[1;32m     34\u001b[0m     \u001b[0;32mdef\u001b[0m \u001b[0mget_action\u001b[0m\u001b[0;34m(\u001b[0m\u001b[0mself\u001b[0m\u001b[0;34m,\u001b[0m \u001b[0mstate\u001b[0m\u001b[0;34m,\u001b[0m \u001b[0mtest\u001b[0m\u001b[0;34m=\u001b[0m\u001b[0;32mFalse\u001b[0m\u001b[0;34m)\u001b[0m\u001b[0;34m:\u001b[0m\u001b[0;34m\u001b[0m\u001b[0;34m\u001b[0m\u001b[0m\n\u001b[1;32m     35\u001b[0m         \u001b[0mstate\u001b[0m \u001b[0;34m=\u001b[0m \u001b[0mtorch\u001b[0m\u001b[0;34m.\u001b[0m\u001b[0mFloatTensor\u001b[0m\u001b[0;34m(\u001b[0m\u001b[0mstate\u001b[0m\u001b[0;34m)\u001b[0m\u001b[0;34m\u001b[0m\u001b[0;34m\u001b[0m\u001b[0m\n\u001b[0;32m---> 36\u001b[0;31m         \u001b[0mpredicted_action\u001b[0m \u001b[0;34m=\u001b[0m \u001b[0mself\u001b[0m\u001b[0;34m.\u001b[0m\u001b[0mnetwork\u001b[0m\u001b[0;34m(\u001b[0m\u001b[0mstate\u001b[0m\u001b[0;34m)\u001b[0m\u001b[0;34m.\u001b[0m\u001b[0mdetach\u001b[0m\u001b[0;34m(\u001b[0m\u001b[0;34m)\u001b[0m\u001b[0;34m.\u001b[0m\u001b[0mnumpy\u001b[0m\u001b[0;34m(\u001b[0m\u001b[0;34m)\u001b[0m\u001b[0;34m\u001b[0m\u001b[0;34m\u001b[0m\u001b[0m\n\u001b[0m\u001b[1;32m     37\u001b[0m         \u001b[0;32mif\u001b[0m \u001b[0;32mnot\u001b[0m \u001b[0mtest\u001b[0m\u001b[0;34m:\u001b[0m\u001b[0;34m\u001b[0m\u001b[0;34m\u001b[0m\u001b[0m\n\u001b[1;32m     38\u001b[0m             \u001b[0mnoise\u001b[0m \u001b[0;34m=\u001b[0m \u001b[0mself\u001b[0m\u001b[0;34m.\u001b[0m\u001b[0mnoise_threshold\u001b[0m \u001b[0;34m*\u001b[0m \u001b[0mnp\u001b[0m\u001b[0;34m.\u001b[0m\u001b[0mrandom\u001b[0m\u001b[0;34m.\u001b[0m\u001b[0muniform\u001b[0m\u001b[0;34m(\u001b[0m\u001b[0mlow\u001b[0m\u001b[0;34m=\u001b[0m\u001b[0;34m-\u001b[0m\u001b[0mself\u001b[0m\u001b[0;34m.\u001b[0m\u001b[0maction_max\u001b[0m\u001b[0;34m,\u001b[0m \u001b[0mhigh\u001b[0m\u001b[0;34m=\u001b[0m\u001b[0mself\u001b[0m\u001b[0;34m.\u001b[0m\u001b[0maction_max\u001b[0m\u001b[0;34m)\u001b[0m\u001b[0;34m\u001b[0m\u001b[0;34m\u001b[0m\u001b[0m\n",
            "\u001b[0;32m/usr/local/lib/python3.6/dist-packages/torch/nn/modules/module.py\u001b[0m in \u001b[0;36m__call__\u001b[0;34m(self, *input, **kwargs)\u001b[0m\n\u001b[1;32m    548\u001b[0m             \u001b[0mresult\u001b[0m \u001b[0;34m=\u001b[0m \u001b[0mself\u001b[0m\u001b[0;34m.\u001b[0m\u001b[0m_slow_forward\u001b[0m\u001b[0;34m(\u001b[0m\u001b[0;34m*\u001b[0m\u001b[0minput\u001b[0m\u001b[0;34m,\u001b[0m \u001b[0;34m**\u001b[0m\u001b[0mkwargs\u001b[0m\u001b[0;34m)\u001b[0m\u001b[0;34m\u001b[0m\u001b[0;34m\u001b[0m\u001b[0m\n\u001b[1;32m    549\u001b[0m         \u001b[0;32melse\u001b[0m\u001b[0;34m:\u001b[0m\u001b[0;34m\u001b[0m\u001b[0;34m\u001b[0m\u001b[0m\n\u001b[0;32m--> 550\u001b[0;31m             \u001b[0mresult\u001b[0m \u001b[0;34m=\u001b[0m \u001b[0mself\u001b[0m\u001b[0;34m.\u001b[0m\u001b[0mforward\u001b[0m\u001b[0;34m(\u001b[0m\u001b[0;34m*\u001b[0m\u001b[0minput\u001b[0m\u001b[0;34m,\u001b[0m \u001b[0;34m**\u001b[0m\u001b[0mkwargs\u001b[0m\u001b[0;34m)\u001b[0m\u001b[0;34m\u001b[0m\u001b[0;34m\u001b[0m\u001b[0m\n\u001b[0m\u001b[1;32m    551\u001b[0m         \u001b[0;32mfor\u001b[0m \u001b[0mhook\u001b[0m \u001b[0;32min\u001b[0m \u001b[0mself\u001b[0m\u001b[0;34m.\u001b[0m\u001b[0m_forward_hooks\u001b[0m\u001b[0;34m.\u001b[0m\u001b[0mvalues\u001b[0m\u001b[0;34m(\u001b[0m\u001b[0;34m)\u001b[0m\u001b[0;34m:\u001b[0m\u001b[0;34m\u001b[0m\u001b[0;34m\u001b[0m\u001b[0m\n\u001b[1;32m    552\u001b[0m             \u001b[0mhook_result\u001b[0m \u001b[0;34m=\u001b[0m \u001b[0mhook\u001b[0m\u001b[0;34m(\u001b[0m\u001b[0mself\u001b[0m\u001b[0;34m,\u001b[0m \u001b[0minput\u001b[0m\u001b[0;34m,\u001b[0m \u001b[0mresult\u001b[0m\u001b[0;34m)\u001b[0m\u001b[0;34m\u001b[0m\u001b[0;34m\u001b[0m\u001b[0m\n",
            "\u001b[0;32m<ipython-input-3-8fe6c9a5fbc2>\u001b[0m in \u001b[0;36mforward\u001b[0;34m(self, input_)\u001b[0m\n\u001b[1;32m     10\u001b[0m \u001b[0;34m\u001b[0m\u001b[0m\n\u001b[1;32m     11\u001b[0m     \u001b[0;32mdef\u001b[0m \u001b[0mforward\u001b[0m\u001b[0;34m(\u001b[0m\u001b[0mself\u001b[0m\u001b[0;34m,\u001b[0m \u001b[0minput_\u001b[0m\u001b[0;34m)\u001b[0m\u001b[0;34m:\u001b[0m\u001b[0;34m\u001b[0m\u001b[0;34m\u001b[0m\u001b[0m\n\u001b[0;32m---> 12\u001b[0;31m         \u001b[0mhidden\u001b[0m \u001b[0;34m=\u001b[0m \u001b[0mself\u001b[0m\u001b[0;34m.\u001b[0m\u001b[0mrelu\u001b[0m\u001b[0;34m(\u001b[0m\u001b[0mself\u001b[0m\u001b[0;34m.\u001b[0m\u001b[0mlinear_1\u001b[0m\u001b[0;34m(\u001b[0m\u001b[0minput_\u001b[0m\u001b[0;34m)\u001b[0m\u001b[0;34m)\u001b[0m\u001b[0;34m\u001b[0m\u001b[0;34m\u001b[0m\u001b[0m\n\u001b[0m\u001b[1;32m     13\u001b[0m         \u001b[0mhidden\u001b[0m \u001b[0;34m=\u001b[0m \u001b[0mself\u001b[0m\u001b[0;34m.\u001b[0m\u001b[0mrelu\u001b[0m\u001b[0;34m(\u001b[0m\u001b[0mself\u001b[0m\u001b[0;34m.\u001b[0m\u001b[0mlinear_2\u001b[0m\u001b[0;34m(\u001b[0m\u001b[0mhidden\u001b[0m\u001b[0;34m)\u001b[0m\u001b[0;34m)\u001b[0m\u001b[0;34m\u001b[0m\u001b[0;34m\u001b[0m\u001b[0m\n\u001b[1;32m     14\u001b[0m         \u001b[0moutput\u001b[0m \u001b[0;34m=\u001b[0m \u001b[0mself\u001b[0m\u001b[0;34m.\u001b[0m\u001b[0mtang\u001b[0m\u001b[0;34m(\u001b[0m\u001b[0mself\u001b[0m\u001b[0;34m.\u001b[0m\u001b[0mlinear_3\u001b[0m\u001b[0;34m(\u001b[0m\u001b[0mhidden\u001b[0m\u001b[0;34m)\u001b[0m\u001b[0;34m)\u001b[0m\u001b[0;34m\u001b[0m\u001b[0;34m\u001b[0m\u001b[0m\n",
            "\u001b[0;32m/usr/local/lib/python3.6/dist-packages/torch/nn/modules/module.py\u001b[0m in \u001b[0;36m__call__\u001b[0;34m(self, *input, **kwargs)\u001b[0m\n\u001b[1;32m    548\u001b[0m             \u001b[0mresult\u001b[0m \u001b[0;34m=\u001b[0m \u001b[0mself\u001b[0m\u001b[0;34m.\u001b[0m\u001b[0m_slow_forward\u001b[0m\u001b[0;34m(\u001b[0m\u001b[0;34m*\u001b[0m\u001b[0minput\u001b[0m\u001b[0;34m,\u001b[0m \u001b[0;34m**\u001b[0m\u001b[0mkwargs\u001b[0m\u001b[0;34m)\u001b[0m\u001b[0;34m\u001b[0m\u001b[0;34m\u001b[0m\u001b[0m\n\u001b[1;32m    549\u001b[0m         \u001b[0;32melse\u001b[0m\u001b[0;34m:\u001b[0m\u001b[0;34m\u001b[0m\u001b[0;34m\u001b[0m\u001b[0m\n\u001b[0;32m--> 550\u001b[0;31m             \u001b[0mresult\u001b[0m \u001b[0;34m=\u001b[0m \u001b[0mself\u001b[0m\u001b[0;34m.\u001b[0m\u001b[0mforward\u001b[0m\u001b[0;34m(\u001b[0m\u001b[0;34m*\u001b[0m\u001b[0minput\u001b[0m\u001b[0;34m,\u001b[0m \u001b[0;34m**\u001b[0m\u001b[0mkwargs\u001b[0m\u001b[0;34m)\u001b[0m\u001b[0;34m\u001b[0m\u001b[0;34m\u001b[0m\u001b[0m\n\u001b[0m\u001b[1;32m    551\u001b[0m         \u001b[0;32mfor\u001b[0m \u001b[0mhook\u001b[0m \u001b[0;32min\u001b[0m \u001b[0mself\u001b[0m\u001b[0;34m.\u001b[0m\u001b[0m_forward_hooks\u001b[0m\u001b[0;34m.\u001b[0m\u001b[0mvalues\u001b[0m\u001b[0;34m(\u001b[0m\u001b[0;34m)\u001b[0m\u001b[0;34m:\u001b[0m\u001b[0;34m\u001b[0m\u001b[0;34m\u001b[0m\u001b[0m\n\u001b[1;32m    552\u001b[0m             \u001b[0mhook_result\u001b[0m \u001b[0;34m=\u001b[0m \u001b[0mhook\u001b[0m\u001b[0;34m(\u001b[0m\u001b[0mself\u001b[0m\u001b[0;34m,\u001b[0m \u001b[0minput\u001b[0m\u001b[0;34m,\u001b[0m \u001b[0mresult\u001b[0m\u001b[0;34m)\u001b[0m\u001b[0;34m\u001b[0m\u001b[0;34m\u001b[0m\u001b[0m\n",
            "\u001b[0;32m/usr/local/lib/python3.6/dist-packages/torch/nn/modules/activation.py\u001b[0m in \u001b[0;36mforward\u001b[0;34m(self, input)\u001b[0m\n\u001b[1;32m     92\u001b[0m \u001b[0;34m\u001b[0m\u001b[0m\n\u001b[1;32m     93\u001b[0m     \u001b[0;32mdef\u001b[0m \u001b[0mforward\u001b[0m\u001b[0;34m(\u001b[0m\u001b[0mself\u001b[0m\u001b[0;34m,\u001b[0m \u001b[0minput\u001b[0m\u001b[0;34m)\u001b[0m\u001b[0;34m:\u001b[0m\u001b[0;34m\u001b[0m\u001b[0;34m\u001b[0m\u001b[0m\n\u001b[0;32m---> 94\u001b[0;31m         \u001b[0;32mreturn\u001b[0m \u001b[0mF\u001b[0m\u001b[0;34m.\u001b[0m\u001b[0mrelu\u001b[0m\u001b[0;34m(\u001b[0m\u001b[0minput\u001b[0m\u001b[0;34m,\u001b[0m \u001b[0minplace\u001b[0m\u001b[0;34m=\u001b[0m\u001b[0mself\u001b[0m\u001b[0;34m.\u001b[0m\u001b[0minplace\u001b[0m\u001b[0;34m)\u001b[0m\u001b[0;34m\u001b[0m\u001b[0;34m\u001b[0m\u001b[0m\n\u001b[0m\u001b[1;32m     95\u001b[0m \u001b[0;34m\u001b[0m\u001b[0m\n\u001b[1;32m     96\u001b[0m     \u001b[0;32mdef\u001b[0m \u001b[0mextra_repr\u001b[0m\u001b[0;34m(\u001b[0m\u001b[0mself\u001b[0m\u001b[0;34m)\u001b[0m\u001b[0;34m:\u001b[0m\u001b[0;34m\u001b[0m\u001b[0;34m\u001b[0m\u001b[0m\n",
            "\u001b[0;32m/usr/local/lib/python3.6/dist-packages/torch/nn/functional.py\u001b[0m in \u001b[0;36mrelu\u001b[0;34m(input, inplace)\u001b[0m\n\u001b[1;32m   1061\u001b[0m         \u001b[0mresult\u001b[0m \u001b[0;34m=\u001b[0m \u001b[0mtorch\u001b[0m\u001b[0;34m.\u001b[0m\u001b[0mrelu_\u001b[0m\u001b[0;34m(\u001b[0m\u001b[0minput\u001b[0m\u001b[0;34m)\u001b[0m\u001b[0;34m\u001b[0m\u001b[0;34m\u001b[0m\u001b[0m\n\u001b[1;32m   1062\u001b[0m     \u001b[0;32melse\u001b[0m\u001b[0;34m:\u001b[0m\u001b[0;34m\u001b[0m\u001b[0;34m\u001b[0m\u001b[0m\n\u001b[0;32m-> 1063\u001b[0;31m         \u001b[0mresult\u001b[0m \u001b[0;34m=\u001b[0m \u001b[0mtorch\u001b[0m\u001b[0;34m.\u001b[0m\u001b[0mrelu\u001b[0m\u001b[0;34m(\u001b[0m\u001b[0minput\u001b[0m\u001b[0;34m)\u001b[0m\u001b[0;34m\u001b[0m\u001b[0;34m\u001b[0m\u001b[0m\n\u001b[0m\u001b[1;32m   1064\u001b[0m     \u001b[0;32mreturn\u001b[0m \u001b[0mresult\u001b[0m\u001b[0;34m\u001b[0m\u001b[0;34m\u001b[0m\u001b[0m\n\u001b[1;32m   1065\u001b[0m \u001b[0;34m\u001b[0m\u001b[0m\n",
            "\u001b[0;31mKeyboardInterrupt\u001b[0m: "
          ]
        }
      ]
    },
    {
      "cell_type": "code",
      "metadata": {
        "id": "YDn0VPMmJ1Sk",
        "colab_type": "code",
        "colab": {
          "base_uri": "https://localhost:8080/",
          "height": 295
        },
        "outputId": "2cd767a3-2aea-4a3e-8afb-492f256fdbc0"
      },
      "source": [
        "plt.plot(range(len(mean_rewards)), mean_rewards, '-o')\n",
        "plt.xlabel('epoch')\n",
        "plt.ylabel('Mean reward')\n",
        "plt.title('Mean train rewards over epochs')\n",
        "plt.show()"
      ],
      "execution_count": 17,
      "outputs": [
        {
          "output_type": "display_data",
          "data": {
            "image/png": "[encoded data removed]",
            "text/plain": [
              "<Figure size 432x288 with 1 Axes>"
            ]
          },
          "metadata": {
            "tags": [],
            "needs_background": "light"
          }
        }
      ]
    },
    {
      "cell_type": "markdown",
      "metadata": {
        "id": "RrkkxFDSJ1Sn",
        "colab_type": "text"
      },
      "source": [
        "Test u_gent"
      ]
    },
    {
      "cell_type": "code",
      "metadata": {
        "id": "hJe3A4XBJ1Sn",
        "colab_type": "code",
        "colab": {}
      },
      "source": [
        "v_test_agent = CCEMAgent((2,), (1,), percentile_param=70, action_max=env.v_action_max, reward_param=1)"
      ],
      "execution_count": 0,
      "outputs": []
    },
    {
      "cell_type": "code",
      "metadata": {
        "id": "yzC4Sb2QJ1Sq",
        "colab_type": "code",
        "colab": {
          "base_uri": "https://localhost:8080/",
          "height": 1000
        },
        "outputId": "ebfcf3a8-c971-4b91-bf85-ab946ed226c0"
      },
      "source": [
        "test_rewards = train_agents(u_agent, v_test_agent, env, n_epochs, n_sessions, epsilon, test=True)"
      ],
      "execution_count": 23,
      "outputs": [
        {
          "output_type": "stream",
          "text": [
            "epoch: 0, mean reward: 0.7662870360627951\n",
            "epoch: 1, mean reward: 0.8417469521407629\n",
            "epoch: 2, mean reward: 0.9360742520044262\n",
            "epoch: 3, mean reward: 0.9941326708488616\n",
            "epoch: 4, mean reward: 1.0724017451337426\n",
            "epoch: 5, mean reward: 1.2100500228189173\n",
            "epoch: 6, mean reward: 1.3823016672138113\n",
            "epoch: 7, mean reward: 1.5501204534070272\n",
            "epoch: 8, mean reward: 1.7463195222447803\n",
            "epoch: 9, mean reward: 1.8659108307072378\n",
            "epoch: 10, mean reward: 1.9589060337811781\n",
            "epoch: 11, mean reward: 2.034375373461749\n",
            "epoch: 12, mean reward: 2.0853954790833353\n",
            "epoch: 13, mean reward: 2.1417827617490155\n",
            "epoch: 14, mean reward: 2.190854912034939\n",
            "epoch: 15, mean reward: 2.2314927206629918\n",
            "epoch: 16, mean reward: 2.302348888334345\n",
            "epoch: 17, mean reward: 2.4063544682561497\n",
            "epoch: 18, mean reward: 2.4877731568113775\n",
            "epoch: 19, mean reward: 2.593605873250157\n",
            "epoch: 20, mean reward: 2.7122295926164264\n",
            "epoch: 21, mean reward: 2.80594429472653\n",
            "epoch: 22, mean reward: 2.9189497079379265\n",
            "epoch: 23, mean reward: 3.013742111466365\n",
            "epoch: 24, mean reward: 3.1291242142525704\n",
            "epoch: 25, mean reward: 3.2089096197233324\n",
            "epoch: 26, mean reward: 3.264430821394151\n",
            "epoch: 27, mean reward: 3.312931852928375\n",
            "epoch: 28, mean reward: 3.384372649224502\n",
            "epoch: 29, mean reward: 3.443770235344507\n",
            "epoch: 30, mean reward: 3.5208779551915965\n",
            "epoch: 31, mean reward: 3.5784220598126417\n",
            "epoch: 32, mean reward: 3.6286066339556315\n",
            "epoch: 33, mean reward: 3.6845676406385826\n",
            "epoch: 34, mean reward: 3.779021950267905\n",
            "epoch: 35, mean reward: 3.8495160583602455\n",
            "epoch: 36, mean reward: 3.917297207894194\n",
            "epoch: 37, mean reward: 4.0009529978100815\n",
            "epoch: 38, mean reward: 4.057615002703431\n",
            "epoch: 39, mean reward: 4.120215087237405\n",
            "epoch: 40, mean reward: 4.181080732317097\n",
            "epoch: 41, mean reward: 4.248750137965907\n",
            "epoch: 42, mean reward: 4.291813807281905\n",
            "epoch: 43, mean reward: 4.3388456143333025\n",
            "epoch: 44, mean reward: 4.362376237231914\n",
            "epoch: 45, mean reward: 4.4074234434113375\n",
            "epoch: 46, mean reward: 4.461006408878454\n",
            "epoch: 47, mean reward: 4.526013779537234\n",
            "epoch: 48, mean reward: 4.581287205934733\n",
            "epoch: 49, mean reward: 4.632344046638009\n",
            "epoch: 50, mean reward: 4.6713622109835695\n",
            "epoch: 51, mean reward: 4.710164255604918\n",
            "epoch: 52, mean reward: 4.734322441651915\n",
            "epoch: 53, mean reward: 4.776699729539705\n",
            "epoch: 54, mean reward: 4.809333270523125\n",
            "epoch: 55, mean reward: 4.862365828128224\n",
            "epoch: 56, mean reward: 4.908885269252843\n",
            "epoch: 57, mean reward: 4.945128553454597\n",
            "epoch: 58, mean reward: 4.993552063347735\n",
            "epoch: 59, mean reward: 5.031617540344896\n",
            "epoch: 60, mean reward: 5.085293547464826\n",
            "epoch: 61, mean reward: 5.1278282695903865\n",
            "epoch: 62, mean reward: 5.173548280928032\n",
            "epoch: 63, mean reward: 5.202017443967511\n",
            "epoch: 64, mean reward: 5.238391652364665\n",
            "epoch: 65, mean reward: 5.280625798331642\n",
            "epoch: 66, mean reward: 5.315503807756346\n",
            "epoch: 67, mean reward: 5.342297426395654\n",
            "epoch: 68, mean reward: 5.371856454912986\n",
            "epoch: 69, mean reward: 5.408581510575512\n",
            "epoch: 70, mean reward: 5.451669090403551\n",
            "epoch: 71, mean reward: 5.476189374016173\n",
            "epoch: 72, mean reward: 5.504440913153295\n",
            "epoch: 73, mean reward: 5.549767450311716\n",
            "epoch: 74, mean reward: 5.593175619407359\n",
            "epoch: 75, mean reward: 5.634963411853839\n",
            "epoch: 76, mean reward: 5.662195044917942\n",
            "epoch: 77, mean reward: 5.689460196074265\n",
            "epoch: 78, mean reward: 5.715217175191239\n",
            "epoch: 79, mean reward: 5.766090827354724\n",
            "epoch: 80, mean reward: 5.802141707767698\n",
            "epoch: 81, mean reward: 5.829837199991637\n",
            "epoch: 82, mean reward: 5.853536521855947\n",
            "epoch: 83, mean reward: 5.875415000761211\n",
            "epoch: 84, mean reward: 5.899010168482302\n",
            "epoch: 85, mean reward: 5.917797892389132\n",
            "epoch: 86, mean reward: 5.938663798376382\n",
            "epoch: 87, mean reward: 5.970323442435237\n",
            "epoch: 88, mean reward: 5.98275210228767\n",
            "epoch: 89, mean reward: 6.0047150800828435\n",
            "epoch: 90, mean reward: 6.0309994407072995\n",
            "epoch: 91, mean reward: 6.052309128946721\n",
            "epoch: 92, mean reward: 6.0677016792579135\n",
            "epoch: 93, mean reward: 6.088171288852009\n",
            "epoch: 94, mean reward: 6.11253190053482\n",
            "epoch: 95, mean reward: 6.125996006420905\n",
            "epoch: 96, mean reward: 6.142404948857712\n",
            "epoch: 97, mean reward: 6.160914437018621\n",
            "epoch: 98, mean reward: 6.178617018921361\n",
            "epoch: 99, mean reward: 6.191662115151889\n"
          ],
          "name": "stdout"
        }
      ]
    },
    {
      "cell_type": "code",
      "metadata": {
        "id": "i7ZITn34J1Ss",
        "colab_type": "code",
        "colab": {
          "base_uri": "https://localhost:8080/",
          "height": 295
        },
        "outputId": "e066ebe9-9444-4881-9135-0eb1c4ccea46"
      },
      "source": [
        "plt.plot(range(len(test_rewards)), test_rewards, '-o')\n",
        "plt.xlabel('epoch')\n",
        "plt.ylabel('Mean reward')\n",
        "plt.title('Mean test rewards over epochs')\n",
        "plt.show()"
      ],
      "execution_count": 24,
      "outputs": [
        {
          "output_type": "display_data",
          "data": {
            "image/png": "[encoded data removed]",
            "text/plain": [
              "<Figure size 432x288 with 1 Axes>"
            ]
          },
          "metadata": {
            "tags": [],
            "needs_background": "light"
          }
        }
      ]
    },
    {
      "cell_type": "code",
      "metadata": {
        "id": "3aR-GlF-f0Yg",
        "colab_type": "code",
        "colab": {}
      },
      "source": [
        ""
      ],
      "execution_count": 0,
      "outputs": []
    }
  ]
}