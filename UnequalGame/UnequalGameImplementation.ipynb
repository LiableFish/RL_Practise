{
  "nbformat": 4,
  "nbformat_minor": 0,
  "metadata": {
    "kernelspec": {
      "display_name": "Python 3",
      "language": "python",
      "name": "python3"
    },
    "language_info": {
      "codemirror_mode": {
        "name": "ipython",
        "version": 3
      },
      "file_extension": ".py",
      "mimetype": "text/x-python",
      "name": "python",
      "nbconvert_exporter": "python",
      "pygments_lexer": "ipython3",
      "version": "3.7.3"
    },
    "colab": {
      "name": "UnequalGameImplementation.ipynb",
      "provenance": [],
      "toc_visible": true
    }
  },
  "cells": [
    {
      "cell_type": "markdown",
      "metadata": {
        "id": "x7CyocjBJ1SP",
        "colab_type": "text"
      },
      "source": [
        "## Unequal Game solution with CCEM method"
      ]
    },
    {
      "cell_type": "code",
      "metadata": {
        "id": "AABSYH3vJ1SR",
        "colab_type": "code",
        "colab": {}
      },
      "source": [
        "import torch\n",
        "import numpy as np\n",
        "import matplotlib.pyplot as plt\n",
        "from copy import deepcopy"
      ],
      "execution_count": 0,
      "outputs": []
    },
    {
      "cell_type": "markdown",
      "metadata": {
        "id": "_cZE6eLK2MdR",
        "colab_type": "text"
      },
      "source": [
        "# Calculating optimal guaranteed results"
      ]
    },
    {
      "cell_type": "markdown",
      "metadata": {
        "id": "X9eLwv6LY4xn",
        "colab_type": "text"
      },
      "source": [
        "Let's find guaranteed results\n"
      ]
    },
    {
      "cell_type": "markdown",
      "metadata": {
        "id": "oKfpwnUFMYsK",
        "colab_type": "text"
      },
      "source": [
        "Definitions\n",
        "\n",
        "\\begin{gather*}\n",
        "\\Gamma^u = \\min_{u(\\cdot)}\\max_{v(\\cdot)} \\gamma(u,\\, v), \\quad \n",
        "\\Gamma^v = \\max_{v(\\cdot)}\\min_{u(\\cdot)} \\gamma(u,\\, v), \\\\\n",
        "\\tilde{\\Gamma}^u = \\min_{u(\\cdot,\\, \\cdot)}\\max_{v(\\cdot,\\, \\cdot)} \\gamma(u, v), \\quad \n",
        "\\tilde{\\Gamma}^v = \\max_{v(\\cdot,\\, \\cdot)}\\min_{u(\\cdot,\\, \\cdot)} \\gamma(u, v), \\\\\\\\\n",
        "\\Gamma^v \\leqslant \\tilde{\\Gamma}^v \\leqslant  \\tilde{\\Gamma}^v \\leqslant \\Gamma^u.\n",
        "\\end{gather*}"
      ]
    },
    {
      "cell_type": "markdown",
      "metadata": {
        "id": "QjyRmxcvY_pQ",
        "colab_type": "text"
      },
      "source": [
        "Our differential game model\n",
        "\n",
        "\\begin{gather*}\n",
        "\\begin{cases}\n",
        "\\dot{x} = u(t,\\,x) - v(t,\\,x), \\quad t \\in [0, 2],\\\\\n",
        "x(0) = 1, \\\\\n",
        "|u| \\leqslant 2, \\quad |v| \\leqslant 1.\n",
        "\\end{cases}, \\\\ \\\\\n",
        "\\gamma(u,\\, v) = x^2(2) = \\left(1 + \\int\\limits_0^2 u(t, x)\\,dt - \\int\\limits_0^2 v(t, x)\\,dt \\right)^2 = (1 +U(x) + V(x))^2, \\\\|U| \\leqslant 4, \\quad |V| \\leqslant 2, \\\\ \\\\\n",
        "\\Gamma^u = 4, \\quad \\Gamma^v = \\tilde{\\Gamma}^v = \\tilde{\\Gamma}^v = 0.\n",
        "\\end{gather*}"
      ]
    },
    {
      "cell_type": "markdown",
      "metadata": {
        "id": "vAd2UkykbgJ0",
        "colab_type": "text"
      },
      "source": [
        "Compute $\\Gamma^u$\n",
        "\n",
        "\\begin{gather*}\n",
        "\\max_V \\gamma(U,\\, V) = \\max\\left\\{\\gamma(U,\\, 2),\\, \\gamma(U,\\, -2)\\right\\}, \\\\ \\\\\n",
        "\\gamma(U, 2) - \\gamma(U, -2) = -8(1+U).\n",
        "\\end{gather*}\n",
        "\n",
        "Case 1:\n",
        "\\begin{gather*}\n",
        "\\max_V \\gamma(U,\\, V) = \\gamma(U,\\, 2) \\; \\Longrightarrow \\; U \\leqslant -1 \\; \\Longrightarrow \\; \\Gamma^u = \\min_U \\gamma(U\\,2) = \\gamma(-1, 2) = 4.\n",
        "\\end{gather*}\n",
        "\n",
        "Case 2:\n",
        "\\begin{gather*}\n",
        "\\max_V \\gamma(U,\\, V) = \\gamma(U,\\, -2) \\; \\Longrightarrow \\; U \\geqslant -1 \\; \\Longrightarrow \\; \\Gamma^u = \\min_U \\gamma(U\\,-2) = \\gamma(-1, -2) = 4.\n",
        "\\end{gather*}\n"
      ]
    },
    {
      "cell_type": "markdown",
      "metadata": {
        "id": "E4J4HcicfuGC",
        "colab_type": "text"
      },
      "source": [
        "Compute $\\Gamma^v$\n",
        "\n",
        "\\begin{gather*}\n",
        "\\frac{\\partial}{\\partial U} \\gamma(U,\\,V) = 2(1 + U - V) = 0 \\;\\Longrightarrow\\; U = V - 1 \\Longrightarrow\\; \\Gamma^v = \\max_{V}\\gamma(V-1,\\,V) = 0\n",
        "\\end{gather*}"
      ]
    },
    {
      "cell_type": "markdown",
      "metadata": {
        "id": "20rbj4TTllV8",
        "colab_type": "text"
      },
      "source": [
        "Compute $\\tilde{\\Gamma}^u$\n",
        "\n",
        "\\begin{gather*}\n",
        "\\forall U, V \\quad \\tilde{\\Gamma}^u \\geqslant 0, \\\\ \\\\\n",
        "U(x) = - 4 \\cdot \\text{sign}(x) \\;\\Longrightarrow\\; \\gamma(U,\\, V) = \\max_{V}(1 - 4 \\cdot \\text{sign}(x) - V(x))^2\n",
        "\\end{gather*}"
      ]
    },
    {
      "cell_type": "markdown",
      "metadata": {
        "id": "VhvN61Hitl5J",
        "colab_type": "text"
      },
      "source": [
        "Compute $\\tilde{\\Gamma}^v$\n",
        "\n",
        "\\begin{gather*}\n",
        "0 = \\Gamma^v \\leqslant \\tilde{\\Gamma}^v \\leqslant \\tilde{\\Gamma}^u = 0 \\; \\Longrightarrow \\; \\tilde{\\Gamma}^v = 0.\n",
        "\\end{gather*}"
      ]
    },
    {
      "cell_type": "markdown",
      "metadata": {
        "id": "fKQpP3ao2VR6",
        "colab_type": "text"
      },
      "source": [
        "# Code implementation"
      ]
    },
    {
      "cell_type": "markdown",
      "metadata": {
        "id": "T5YRCc2MJ1SU",
        "colab_type": "text"
      },
      "source": [
        "Implement environment"
      ]
    },
    {
      "cell_type": "code",
      "metadata": {
        "id": "Fj46-jGRJ1SV",
        "colab_type": "code",
        "colab": {}
      },
      "source": [
        "class UnequalGame:\n",
        "\n",
        "    def __init__(self, initial_x=1, dt=0.005, terminal_time=2, u_action_max=2, v_action_max=1):\n",
        "        self.u_action_max = u_action_max\n",
        "        self.v_action_max = v_action_max\n",
        "        self.terminal_time = terminal_time\n",
        "        self.dt = dt\n",
        "        self.initial_x = initial_x\n",
        "        self.state = self.reset()\n",
        "\n",
        "    def reset(self):\n",
        "        self.state = np.array([0, self.initial_x])\n",
        "        return self.state\n",
        "\n",
        "    def step(self, u_action, v_action):\n",
        "        t, x = self.state\n",
        "        x = x + (u_action - v_action) * self.dt\n",
        "        t += self.dt\n",
        "        self.state = np.array([t, x])\n",
        "\n",
        "        reward = 0\n",
        "        done = False\n",
        "        if t >= self.terminal_time:\n",
        "            reward = x ** 2\n",
        "            done = True\n",
        "\n",
        "        return self.state, reward, done, None\n"
      ],
      "execution_count": 0,
      "outputs": []
    },
    {
      "cell_type": "markdown",
      "metadata": {
        "id": "01OM_i5PJ1SX",
        "colab_type": "text"
      },
      "source": [
        "Implement agent"
      ]
    },
    {
      "cell_type": "code",
      "metadata": {
        "id": "7S80KcE1J1SY",
        "colab_type": "code",
        "colab": {}
      },
      "source": [
        "class Network(torch.nn.Module):\n",
        "\n",
        "    def __init__(self, input_shape, output_shape):\n",
        "        super().__init__()\n",
        "        self.linear_1 = torch.nn.Linear(input_shape[0], 50)\n",
        "        self.linear_2 = torch.nn.Linear(50, 30)\n",
        "        self.linear_3 = torch.nn.Linear(30, output_shape[0])\n",
        "        self.relu = torch.nn.ReLU()\n",
        "        self.tang = torch.nn.Tanh()\n",
        "\n",
        "    def forward(self, input_):\n",
        "        hidden = self.relu(self.linear_1(input_))\n",
        "        hidden = self.relu(self.linear_2(hidden))\n",
        "        output = self.tang(self.linear_3(hidden))\n",
        "        return output\n",
        "\n",
        "\n",
        "class CCEMAgent(torch.nn.Module):\n",
        "\n",
        "    def __init__(self, state_shape, action_shape, action_max, reward_param=1, percentile_param=70, noise_decrease=0.98,\n",
        "                 tau=1e-2, learning_rate=1e-2, n_learning_per_fit=16):\n",
        "        super().__init__()\n",
        "        self.action_max = np.abs(action_max)\n",
        "        self.reward_param = reward_param  # equal to 1 if agent wants to maximize reward otherwise -1\n",
        "        self.percentile_param = percentile_param\n",
        "        self.noise_decrease = noise_decrease\n",
        "        self.noise_threshold = 1\n",
        "        self.min_noise_threshold = 0.1\n",
        "        self.tau = tau\n",
        "        self.n_learning_per_fit = n_learning_per_fit\n",
        "        self.network = Network(state_shape, action_shape)\n",
        "        self.optimizer = torch.optim.Adam(params=self.network.parameters(), lr=learning_rate)\n",
        "\n",
        "    def get_action(self, state, test=False):\n",
        "        state = torch.FloatTensor(state)\n",
        "        predicted_action = self.network(state).detach().numpy() * self.action_max\n",
        "        if not test:\n",
        "            noise = self.noise_threshold * np.random.uniform(low=-self.action_max, high=self.action_max)\n",
        "            predicted_action = np.clip(predicted_action + noise, -self.action_max, self.action_max)\n",
        "        return predicted_action\n",
        "\n",
        "    def get_elite_states_and_actions(self, sessions):\n",
        "        \"\"\"\n",
        "          Select sessions with the most or least reward\n",
        "          by percentile\n",
        "        \"\"\"\n",
        "        total_rewards = [session['total_reward'] for session in sessions]\n",
        "        reward_threshold = np.percentile(total_rewards, self.percentile_param)\n",
        "\n",
        "        elite_states = []\n",
        "        elite_actions = []\n",
        "        for session in sessions:\n",
        "            if self.reward_param * (session['total_reward'] - reward_threshold) > 0:\n",
        "                elite_states.extend(session['states'])\n",
        "                elite_actions.extend(session[f'{self}actions'])\n",
        "\n",
        "        return torch.FloatTensor(elite_states), torch.FloatTensor(elite_actions)\n",
        "\n",
        "    def learn_network(self, loss):\n",
        "        self.optimizer.zero_grad()\n",
        "        old_network = deepcopy(self.network)\n",
        "        loss.backward()\n",
        "        self.optimizer.step()\n",
        "\n",
        "        for new_parameter, old_parameter in zip(self.network.parameters(), old_network.parameters()):\n",
        "            new_parameter.data.copy_(self.tau * new_parameter + (1 - self.tau) * old_parameter)\n",
        "\n",
        "        return None\n",
        "\n",
        "    def fit(self, sessions):\n",
        "        elite_states, elite_actions = self.get_elite_states_and_actions(sessions)\n",
        "\n",
        "        for _ in range(self.n_learning_per_fit):\n",
        "            predicted_action = self.network(elite_states) * self.action_max\n",
        "            loss = torch.mean((predicted_action - elite_actions) ** 2)\n",
        "            self.learn_network(loss)\n",
        "\n",
        "        if self.noise_threshold > self.min_noise_threshold:\n",
        "            self.noise_threshold *= self.noise_decrease\n",
        "\n",
        "        return None\n",
        "\n",
        "    def __str__(self):\n",
        "        return 'u_' if self.reward_param == -1 else 'v_'\n"
      ],
      "execution_count": 0,
      "outputs": []
    },
    {
      "cell_type": "markdown",
      "metadata": {
        "id": "0fTW3tWbHyiu",
        "colab_type": "text"
      },
      "source": [
        "Test agents"
      ]
    },
    {
      "cell_type": "code",
      "metadata": {
        "id": "PUU1ytZhHca5",
        "colab_type": "code",
        "colab": {}
      },
      "source": [
        "def test_agent(u_agent, env, n_epochs, n_sessions, epsilon):\n",
        "    v_agent = CCEMAgent((2,), (1,), percentile_param=70, action_max=env.v_action_max, reward_param=1)\n",
        "    _, rewards =  fit_agents(u_agent, v_agent, env, n_epochs, n_sessions, epsilon, test=True)\n",
        "    return rewards"
      ],
      "execution_count": 0,
      "outputs": []
    },
    {
      "cell_type": "markdown",
      "metadata": {
        "id": "kzV4HKqsJ1Sb",
        "colab_type": "text"
      },
      "source": [
        "Fit agents"
      ]
    },
    {
      "cell_type": "code",
      "metadata": {
        "id": "RrjBLPuDJ1Sb",
        "colab_type": "code",
        "colab": {}
      },
      "source": [
        "def generate_session(u_agent, v_agent, env, test=False):\n",
        "    \"\"\"\n",
        "    Generate session on environment with agent\n",
        "    \"\"\"\n",
        "    states = []\n",
        "    u_actions = []\n",
        "    v_actions = []\n",
        "    total_reward = 0\n",
        "    done = False\n",
        "    state = env.reset()\n",
        "    while not done:\n",
        "        u_action = u_agent.get_action(state, test=test)\n",
        "        v_action = v_agent.get_action(state)\n",
        "        actions = (u_action[0], v_action[0]) if str(u_agent) == 'u_' else (v_action[0], u_action[0])\n",
        "        next_state, reward, done, _ = env.step(*actions)\n",
        "        states.append(state)\n",
        "        u_actions.append(u_action)\n",
        "        v_actions.append(v_action)\n",
        "        total_reward += reward\n",
        "        state = next_state\n",
        "\n",
        "    return {'states': states, \\\n",
        "            f'{u_agent}actions': u_actions, \\\n",
        "            f'{v_agent}actions': v_actions, \\\n",
        "            'total_reward': total_reward}\n",
        "\n",
        "def fit_epoch(u_agent, v_agent, env, n_sessions, test):\n",
        "    sessions = [generate_session(u_agent, v_agent, env, test=test) for _ in range(n_sessions)]\n",
        "    mean_reward = np.mean([session['total_reward'] for session in sessions])\n",
        "    if not test:\n",
        "        u_agent.fit(sessions)\n",
        "    v_agent.fit(sessions)\n",
        "    return mean_reward\n"
      ],
      "execution_count": 0,
      "outputs": []
    },
    {
      "cell_type": "code",
      "metadata": {
        "id": "GY6XooSIHbeE",
        "colab_type": "code",
        "colab": {}
      },
      "source": [
        "def fit_agents(u_agent, v_agent, env, n_epochs, n_sessions,\\\n",
        "               epsilon, test=False, n_iter_debug=0):\n",
        "    last_mean_reward = 0\n",
        "    mean_rewards = []\n",
        "    epoch = 0\n",
        "\n",
        "    while epoch < n_epochs:\n",
        "\n",
        "        if n_iter_debug and epoch and epoch % n_iter_debug == 0:\n",
        "            print('\\n{:-^50}\\n'.format('TEST BEGIN'))\n",
        "            test_agent(u_agent, env, n_epochs=20, n_sessions=n_sessions, epsilon=epsilon)\n",
        "            print('\\n{:-^50}\\n'.format('TEST END'))\n",
        "        \n",
        "        mean_reward = fit_epoch(u_agent, v_agent, env, n_sessions, test)\n",
        "        mean_rewards.append(mean_reward)\n",
        "        print(f'epoch: {epoch}, mean reward: {mean_reward}')\n",
        "        if np.abs(last_mean_reward - mean_reward) < epsilon:\n",
        "            break\n",
        "        last_mean_reward = mean_reward\n",
        "        epoch += 1\n",
        "\n",
        "        \n",
        "    return u_agent, np.array(mean_rewards)\n"
      ],
      "execution_count": 0,
      "outputs": []
    },
    {
      "cell_type": "markdown",
      "metadata": {
        "id": "Ts0iEOAPwNbf",
        "colab_type": "text"
      },
      "source": [
        "Fit agents one by one"
      ]
    },
    {
      "cell_type": "code",
      "metadata": {
        "id": "6zWWu0hLwXVU",
        "colab_type": "code",
        "colab": {}
      },
      "source": [
        "def fit_agents_one_by_one(u_agent, v_agent, env, n_epochs, n_sessions,\\\n",
        "                          n_iter_for_fit, epsilon, n_iter_debug=0):\n",
        "    last_mean_reward = 0\n",
        "    mean_rewards = []\n",
        "    fit_agent = u_agent\n",
        "    wait_agent = v_agent\n",
        "    epoch = 0\n",
        "    stop = False\n",
        "\n",
        "    while not stop and epoch < n_epochs:\n",
        "\n",
        "        for _ in range(n_iter_for_fit):\n",
        "\n",
        "            if n_iter_debug and epoch and epoch % n_iter_debug == 0:\n",
        "                print('\\n{:-^50}\\n'.format('TEST BEGIN'))\n",
        "                test_agent(u_agent, env, n_epochs=20, n_sessions=n_sessions, epsilon=epsilon)\n",
        "                print('\\n{:-^50}\\n'.format('TEST END'))\n",
        "\n",
        "            mean_reward = fit_epoch(wait_agent, fit_agent, env, n_sessions, test=True)\n",
        "            mean_rewards.append(mean_reward)\n",
        "            print(f'epoch: {epoch}, current agent: {fit_agent}, mean reward: {mean_reward}')\n",
        "            if np.abs(last_mean_reward - mean_reward) < epsilon:\n",
        "                stop = True\n",
        "                break\n",
        "            last_mean_reward = mean_reward\n",
        "            epoch += 1\n",
        "\n",
        "        print('\\n')\n",
        "        wait_agent, fit_agent = fit_agent, wait_agent\n",
        "\n",
        "    return u_agent, np.array(mean_rewards)\n"
      ],
      "execution_count": 0,
      "outputs": []
    },
    {
      "cell_type": "markdown",
      "metadata": {
        "id": "4wR_cLRa2r7A",
        "colab_type": "text"
      },
      "source": [
        "Plot mean rewards by epochs"
      ]
    },
    {
      "cell_type": "code",
      "metadata": {
        "id": "pI2rrGrK2w6l",
        "colab_type": "code",
        "colab": {}
      },
      "source": [
        "def plot_mean_rewards(mean_rewards, method_name):\n",
        "    _, ax = plt.subplots(figsize=(10, 8))\n",
        "    ax.plot(range(len(mean_rewards)), mean_rewards, '--')\n",
        "    ax.set_xlabel('epoch')\n",
        "    ax.set_ylabel('Mean reward')\n",
        "    ax.set_title(f'Mean rewards for {method_name} over epochs')\n",
        "    plt.show()  "
      ],
      "execution_count": 0,
      "outputs": []
    },
    {
      "cell_type": "markdown",
      "metadata": {
        "id": "pgUptSYv2FIK",
        "colab_type": "text"
      },
      "source": [
        "# Fitting"
      ]
    },
    {
      "cell_type": "markdown",
      "metadata": {
        "id": "LDwDnGJD5qa9",
        "colab_type": "text"
      },
      "source": [
        "Deafualt fit"
      ]
    },
    {
      "cell_type": "code",
      "metadata": {
        "id": "EXE4PAqKJ1Se",
        "colab_type": "code",
        "colab": {}
      },
      "source": [
        "env = UnequalGame()\n",
        "u_agent = CCEMAgent((2,), (1,), percentile_param=30, action_max=env.u_action_max, reward_param=-1)\n",
        "v_agent = CCEMAgent((2,), (1,), percentile_param=70, action_max=env.v_action_max, reward_param=1)"
      ],
      "execution_count": 0,
      "outputs": []
    },
    {
      "cell_type": "code",
      "metadata": {
        "scrolled": true,
        "id": "IB5KIRc2J1Sg",
        "colab_type": "code",
        "outputId": "d85426e1-66a5-417d-854b-81bdf898662c",
        "colab": {
          "base_uri": "https://localhost:8080/",
          "height": 1000
        }
      },
      "source": [
        "u_fit_agent, mean_rewards = fit_agents(u_agent, v_agent, env, n_epochs=101, n_sessions=100, epsilon=1e-6, n_iter_debug=50)"
      ],
      "execution_count": 11,
      "outputs": [
        {
          "output_type": "stream",
          "text": [
            "epoch: 0, mean reward: 1.3773243197560843\n",
            "epoch: 1, mean reward: 1.2849220297923083\n",
            "epoch: 2, mean reward: 1.1776507786345252\n",
            "epoch: 3, mean reward: 1.0594609653392284\n",
            "epoch: 4, mean reward: 0.9349823134704391\n",
            "epoch: 5, mean reward: 0.8492211485084661\n",
            "epoch: 6, mean reward: 0.7407841572648346\n",
            "epoch: 7, mean reward: 0.6469161470111148\n",
            "epoch: 8, mean reward: 0.5104650559918649\n",
            "epoch: 9, mean reward: 0.42697672565390443\n",
            "epoch: 10, mean reward: 0.3406296869713519\n",
            "epoch: 11, mean reward: 0.2848880261093028\n",
            "epoch: 12, mean reward: 0.23680522576171867\n",
            "epoch: 13, mean reward: 0.18388487993362304\n",
            "epoch: 14, mean reward: 0.14299283117802505\n",
            "epoch: 15, mean reward: 0.10584941179520252\n",
            "epoch: 16, mean reward: 0.06968883015453446\n",
            "epoch: 17, mean reward: 0.04056886945767383\n",
            "epoch: 18, mean reward: 0.022133273573165857\n",
            "epoch: 19, mean reward: 0.012398481921391527\n",
            "epoch: 20, mean reward: 0.0060429898070711785\n",
            "epoch: 21, mean reward: 0.002909253841796586\n",
            "epoch: 22, mean reward: 0.0029399799736055192\n",
            "epoch: 23, mean reward: 0.00237278702199119\n",
            "epoch: 24, mean reward: 0.002346423861609727\n",
            "epoch: 25, mean reward: 0.0025778598399387497\n",
            "epoch: 26, mean reward: 0.002176417869540448\n",
            "epoch: 27, mean reward: 0.0021326175533266213\n",
            "epoch: 28, mean reward: 0.0014089926281819099\n",
            "epoch: 29, mean reward: 0.002341789351505363\n",
            "epoch: 30, mean reward: 0.0017896860186720387\n",
            "epoch: 31, mean reward: 0.001836590891026031\n",
            "epoch: 32, mean reward: 0.0016089127091866253\n",
            "epoch: 33, mean reward: 0.001344004768654295\n",
            "epoch: 34, mean reward: 0.0012665036836372941\n",
            "epoch: 35, mean reward: 0.0018250519608096422\n",
            "epoch: 36, mean reward: 0.001514721708301345\n",
            "epoch: 37, mean reward: 0.0015117943124533276\n",
            "epoch: 38, mean reward: 0.001381011027561077\n",
            "epoch: 39, mean reward: 0.001265620337311212\n",
            "epoch: 40, mean reward: 0.0016039120408215654\n",
            "epoch: 41, mean reward: 0.0013418287774921711\n",
            "epoch: 42, mean reward: 0.0009551737941527492\n",
            "epoch: 43, mean reward: 0.0011700335337082063\n",
            "epoch: 44, mean reward: 0.0010775051933935638\n",
            "epoch: 45, mean reward: 0.0011193879487535656\n",
            "epoch: 46, mean reward: 0.0009629906768729652\n",
            "epoch: 47, mean reward: 0.0009573528978890103\n",
            "epoch: 48, mean reward: 0.0009294826328785266\n",
            "epoch: 49, mean reward: 0.0007366058129093774\n",
            "\n",
            "--------------------TEST BEGIN--------------------\n",
            "\n",
            "epoch: 0, mean reward: 0.09289094561186952\n",
            "epoch: 1, mean reward: 0.13302336252340624\n",
            "epoch: 2, mean reward: 0.17713212877870205\n",
            "epoch: 3, mean reward: 0.2273883224129115\n",
            "epoch: 4, mean reward: 0.2814645865248842\n",
            "epoch: 5, mean reward: 0.3425471373804181\n",
            "epoch: 6, mean reward: 0.4126353757980954\n",
            "epoch: 7, mean reward: 0.4916799679847935\n",
            "epoch: 8, mean reward: 0.5703097798604984\n",
            "epoch: 9, mean reward: 0.6449479924989916\n",
            "epoch: 10, mean reward: 0.7282845920891501\n",
            "epoch: 11, mean reward: 0.8064743757841736\n",
            "epoch: 12, mean reward: 0.8762060721787792\n",
            "epoch: 13, mean reward: 0.9515679049431485\n",
            "epoch: 14, mean reward: 1.031034987109545\n",
            "epoch: 15, mean reward: 1.1160804780377647\n",
            "epoch: 16, mean reward: 1.1925333503936972\n",
            "epoch: 17, mean reward: 1.2601371748602472\n",
            "epoch: 18, mean reward: 1.3438910245927587\n",
            "epoch: 19, mean reward: 1.4132209985031698\n",
            "\n",
            "---------------------TEST END---------------------\n",
            "\n",
            "epoch: 50, mean reward: 0.0007792864848654366\n",
            "epoch: 51, mean reward: 0.0006131830254033579\n",
            "epoch: 52, mean reward: 0.0009098939462058312\n",
            "epoch: 53, mean reward: 0.000696830168829788\n",
            "epoch: 54, mean reward: 0.0007173634877250809\n",
            "epoch: 55, mean reward: 0.0006702053192123205\n",
            "epoch: 56, mean reward: 0.0005332154995198315\n",
            "epoch: 57, mean reward: 0.0006709205702569898\n",
            "epoch: 58, mean reward: 0.0006799392949250066\n",
            "epoch: 59, mean reward: 0.0006710885966040288\n",
            "epoch: 60, mean reward: 0.0005154265653780349\n",
            "epoch: 61, mean reward: 0.00042309747266236865\n",
            "epoch: 62, mean reward: 0.0004601663984521849\n",
            "epoch: 63, mean reward: 0.0004425429405308221\n",
            "epoch: 64, mean reward: 0.0004386640493235947\n",
            "epoch: 65, mean reward: 0.00042187743556878365\n",
            "epoch: 66, mean reward: 0.0003496055031852683\n",
            "epoch: 67, mean reward: 0.0005794861339825875\n",
            "epoch: 68, mean reward: 0.0003301519957560288\n",
            "epoch: 69, mean reward: 0.00034204223238222845\n",
            "epoch: 70, mean reward: 0.00030787418559137\n",
            "epoch: 71, mean reward: 0.0004288339095708815\n",
            "epoch: 72, mean reward: 0.0003733272084174898\n",
            "epoch: 73, mean reward: 0.0002607782134972288\n",
            "epoch: 74, mean reward: 0.0002777111113500326\n",
            "epoch: 75, mean reward: 0.00036766731057461346\n",
            "epoch: 76, mean reward: 0.00029795682947578796\n",
            "epoch: 77, mean reward: 0.0002460644603397297\n",
            "epoch: 78, mean reward: 0.00029508075190964146\n",
            "epoch: 79, mean reward: 0.00018033484121999892\n",
            "epoch: 80, mean reward: 0.0002223554346456235\n",
            "epoch: 81, mean reward: 0.0002256313061937255\n",
            "epoch: 82, mean reward: 0.00028173921459274503\n",
            "epoch: 83, mean reward: 0.00020160167854677919\n",
            "epoch: 84, mean reward: 0.00021537058393156038\n",
            "epoch: 85, mean reward: 0.00017569326781569\n",
            "epoch: 86, mean reward: 0.00021574122455943589\n",
            "epoch: 87, mean reward: 0.00017161922109342346\n",
            "epoch: 88, mean reward: 0.00016858880332934093\n",
            "epoch: 89, mean reward: 0.0002060685179733215\n",
            "epoch: 90, mean reward: 0.00012998797315434094\n",
            "epoch: 91, mean reward: 0.0001606730724035577\n",
            "epoch: 92, mean reward: 0.0001372640549510327\n",
            "epoch: 93, mean reward: 0.00011382906853537305\n",
            "epoch: 94, mean reward: 0.00013044445450109294\n",
            "epoch: 95, mean reward: 0.00013055436869872244\n"
          ],
          "name": "stdout"
        }
      ]
    },
    {
      "cell_type": "code",
      "metadata": {
        "id": "YDn0VPMmJ1Sk",
        "colab_type": "code",
        "outputId": "78c34124-5e7b-4228-d6ac-04d5c7de69ab",
        "colab": {
          "base_uri": "https://localhost:8080/",
          "height": 513
        }
      },
      "source": [
        "plot_mean_rewards(mean_rewards, method_name='fit')"
      ],
      "execution_count": 12,
      "outputs": [
        {
          "output_type": "display_data",
          "data": {
            "image/png": "[encoded data removed]",
            "text/plain": [
              "<Figure size 720x576 with 1 Axes>"
            ]
          },
          "metadata": {
            "tags": [],
            "needs_background": "light"
          }
        }
      ]
    },
    {
      "cell_type": "markdown",
      "metadata": {
        "id": "rsIq2Y3V5njb",
        "colab_type": "text"
      },
      "source": [
        "Fit one by one"
      ]
    },
    {
      "cell_type": "code",
      "metadata": {
        "id": "OW1QxXVg6gYp",
        "colab_type": "code",
        "colab": {}
      },
      "source": [
        "u_agent_one_by_one = CCEMAgent((2,), (1,), percentile_param=30, action_max=env.u_action_max, reward_param=-1)\n",
        "v_agent_one_by_one = CCEMAgent((2,), (1,), percentile_param=70, action_max=env.v_action_max, reward_param=1)"
      ],
      "execution_count": 0,
      "outputs": []
    },
    {
      "cell_type": "code",
      "metadata": {
        "id": "Fo2hX83F6UxM",
        "colab_type": "code",
        "outputId": "436cf78a-32db-4730-cfe2-39bd6e06dc45",
        "colab": {
          "base_uri": "https://localhost:8080/",
          "height": 1000
        }
      },
      "source": [
        "u_fit_agent_one_by_one, mean_rewards_one_by_one =\\\n",
        "fit_agents_one_by_one(u_agent_one_by_one, v_agent_one_by_one, env, \\\n",
        "                       n_epochs=501, n_sessions=100, n_iter_for_fit=50, epsilon=-1, n_iter_debug=100)"
      ],
      "execution_count": 19,
      "outputs": [
        {
          "output_type": "stream",
          "text": [
            "epoch: 0, current agent: u_, mean reward: 0.153354156929841\n",
            "epoch: 1, current agent: u_, mean reward: 0.07783691923207021\n",
            "epoch: 2, current agent: u_, mean reward: 0.03979677478486531\n",
            "epoch: 3, current agent: u_, mean reward: 0.015332434640398372\n",
            "epoch: 4, current agent: u_, mean reward: 0.006731752077592289\n",
            "epoch: 5, current agent: u_, mean reward: 0.00853549164351335\n",
            "epoch: 6, current agent: u_, mean reward: 0.007269214995979477\n",
            "epoch: 7, current agent: u_, mean reward: 0.005752064664767374\n",
            "epoch: 8, current agent: u_, mean reward: 0.005193430536878129\n",
            "epoch: 9, current agent: u_, mean reward: 0.007127194812135735\n",
            "epoch: 10, current agent: u_, mean reward: 0.006413822984898469\n",
            "epoch: 11, current agent: u_, mean reward: 0.005682464887519314\n",
            "epoch: 12, current agent: u_, mean reward: 0.0061546871982763275\n",
            "epoch: 13, current agent: u_, mean reward: 0.004880642628743556\n",
            "epoch: 14, current agent: u_, mean reward: 0.006423772784911048\n",
            "epoch: 15, current agent: u_, mean reward: 0.004009150390731471\n",
            "epoch: 16, current agent: u_, mean reward: 0.005046019238314975\n",
            "epoch: 17, current agent: u_, mean reward: 0.004769425914193552\n",
            "epoch: 18, current agent: u_, mean reward: 0.003653507111971776\n",
            "epoch: 19, current agent: u_, mean reward: 0.003828598079817795\n",
            "\n",
            "\n",
            "epoch: 20, current agent: v_, mean reward: 0.001800997770128902\n",
            "epoch: 21, current agent: v_, mean reward: 0.0016410722953540543\n",
            "epoch: 22, current agent: v_, mean reward: 0.0018608179846702046\n",
            "epoch: 23, current agent: v_, mean reward: 0.0017767291347501376\n",
            "epoch: 24, current agent: v_, mean reward: 0.002682855383793834\n",
            "epoch: 25, current agent: v_, mean reward: 0.0074446616189028526\n",
            "epoch: 26, current agent: v_, mean reward: 0.020585863174159537\n",
            "epoch: 27, current agent: v_, mean reward: 0.042136184539659165\n",
            "epoch: 28, current agent: v_, mean reward: 0.06620525253106825\n",
            "epoch: 29, current agent: v_, mean reward: 0.09868541226709754\n",
            "epoch: 30, current agent: v_, mean reward: 0.12819643475580114\n",
            "epoch: 31, current agent: v_, mean reward: 0.16076828134377358\n",
            "epoch: 32, current agent: v_, mean reward: 0.2022473270317544\n",
            "epoch: 33, current agent: v_, mean reward: 0.24060326267875198\n",
            "epoch: 34, current agent: v_, mean reward: 0.2883013218656959\n",
            "epoch: 35, current agent: v_, mean reward: 0.3345155411290845\n",
            "epoch: 36, current agent: v_, mean reward: 0.38952514844579655\n",
            "epoch: 37, current agent: v_, mean reward: 0.44065089350923237\n",
            "epoch: 38, current agent: v_, mean reward: 0.4947490348400482\n",
            "epoch: 39, current agent: v_, mean reward: 0.55960958734252\n",
            "\n",
            "\n",
            "epoch: 40, current agent: u_, mean reward: 0.6467421013287015\n",
            "epoch: 41, current agent: u_, mean reward: 0.5518176737495896\n",
            "epoch: 42, current agent: u_, mean reward: 0.4457313129725712\n",
            "epoch: 43, current agent: u_, mean reward: 0.3610031643616554\n",
            "epoch: 44, current agent: u_, mean reward: 0.2759917787169769\n",
            "epoch: 45, current agent: u_, mean reward: 0.19312259418504726\n",
            "epoch: 46, current agent: u_, mean reward: 0.13212295909931654\n",
            "epoch: 47, current agent: u_, mean reward: 0.08502248171238898\n",
            "epoch: 48, current agent: u_, mean reward: 0.048295116693582905\n",
            "epoch: 49, current agent: u_, mean reward: 0.027481119397948853\n",
            "epoch: 50, current agent: u_, mean reward: 0.01226891789412612\n",
            "epoch: 51, current agent: u_, mean reward: 0.0040045386498796945\n",
            "epoch: 52, current agent: u_, mean reward: 0.0022928382215084394\n",
            "epoch: 53, current agent: u_, mean reward: 0.0017153280632158246\n",
            "epoch: 54, current agent: u_, mean reward: 0.0017849736054049196\n",
            "epoch: 55, current agent: u_, mean reward: 0.001802906072947493\n",
            "epoch: 56, current agent: u_, mean reward: 0.0014218718497392157\n",
            "epoch: 57, current agent: u_, mean reward: 0.002188664561187522\n",
            "epoch: 58, current agent: u_, mean reward: 0.0014409063167892858\n",
            "epoch: 59, current agent: u_, mean reward: 0.001464851729002469\n",
            "\n",
            "\n",
            "epoch: 60, current agent: v_, mean reward: 0.0009164557745679204\n",
            "epoch: 61, current agent: v_, mean reward: 0.0016228608203976349\n",
            "epoch: 62, current agent: v_, mean reward: 0.0058951608628501585\n",
            "epoch: 63, current agent: v_, mean reward: 0.012888010017336521\n",
            "epoch: 64, current agent: v_, mean reward: 0.025009705458427862\n",
            "epoch: 65, current agent: v_, mean reward: 0.04033789404847823\n",
            "epoch: 66, current agent: v_, mean reward: 0.06295806752979477\n",
            "epoch: 67, current agent: v_, mean reward: 0.08674327704328352\n",
            "epoch: 68, current agent: v_, mean reward: 0.11851784583953962\n",
            "epoch: 69, current agent: v_, mean reward: 0.1553894556712336\n",
            "epoch: 70, current agent: v_, mean reward: 0.1929442473369486\n",
            "epoch: 71, current agent: v_, mean reward: 0.2303927120980641\n",
            "epoch: 72, current agent: v_, mean reward: 0.27755359496888965\n",
            "epoch: 73, current agent: v_, mean reward: 0.321813579781302\n",
            "epoch: 74, current agent: v_, mean reward: 0.3749652978191363\n",
            "epoch: 75, current agent: v_, mean reward: 0.42718013929054943\n",
            "epoch: 76, current agent: v_, mean reward: 0.48847980138780384\n",
            "epoch: 77, current agent: v_, mean reward: 0.5475873607356939\n",
            "epoch: 78, current agent: v_, mean reward: 0.60218148217156\n",
            "epoch: 79, current agent: v_, mean reward: 0.6506079449928107\n",
            "\n",
            "\n",
            "\n",
            "--------------------TEST BEGIN--------------------\n",
            "\n",
            "epoch: 0, mean reward: 0.13884287325150674\n",
            "epoch: 1, mean reward: 0.18981595794115458\n",
            "epoch: 2, mean reward: 0.2368739554313316\n",
            "epoch: 3, mean reward: 0.29485342239050744\n",
            "epoch: 4, mean reward: 0.34383783782036004\n",
            "epoch: 5, mean reward: 0.40202045906872486\n",
            "epoch: 6, mean reward: 0.4692729163961834\n",
            "epoch: 7, mean reward: 0.5522080709233786\n",
            "epoch: 8, mean reward: 0.6304972480225314\n",
            "epoch: 9, mean reward: 0.7100089302378343\n",
            "epoch: 10, mean reward: 0.798902856535061\n",
            "epoch: 11, mean reward: 0.8952187266577413\n",
            "epoch: 12, mean reward: 1.0037411365977178\n",
            "epoch: 13, mean reward: 1.1078628510203699\n",
            "epoch: 14, mean reward: 1.1873897622953404\n",
            "epoch: 15, mean reward: 1.2890911584213354\n",
            "epoch: 16, mean reward: 1.4002818503529593\n",
            "epoch: 17, mean reward: 1.4963508874804434\n",
            "epoch: 18, mean reward: 1.5807876606140616\n",
            "epoch: 19, mean reward: 1.670793297201474\n",
            "\n",
            "---------------------TEST END---------------------\n",
            "\n",
            "epoch: 80, current agent: u_, mean reward: 0.7067211669874858\n",
            "epoch: 81, current agent: u_, mean reward: 0.5872486394494297\n",
            "epoch: 82, current agent: u_, mean reward: 0.5082514818760927\n",
            "epoch: 83, current agent: u_, mean reward: 0.41447167473631\n",
            "epoch: 84, current agent: u_, mean reward: 0.3315978607687354\n",
            "epoch: 85, current agent: u_, mean reward: 0.26368897017512904\n",
            "epoch: 86, current agent: u_, mean reward: 0.21119866789182226\n",
            "epoch: 87, current agent: u_, mean reward: 0.16111647629964843\n",
            "epoch: 88, current agent: u_, mean reward: 0.11675678722918617\n",
            "epoch: 89, current agent: u_, mean reward: 0.08027549748627426\n",
            "epoch: 90, current agent: u_, mean reward: 0.055442721101363175\n",
            "epoch: 91, current agent: u_, mean reward: 0.035637914102320215\n",
            "epoch: 92, current agent: u_, mean reward: 0.020730694423068966\n",
            "epoch: 93, current agent: u_, mean reward: 0.007385549101036348\n",
            "epoch: 94, current agent: u_, mean reward: 0.0018685807524149015\n",
            "epoch: 95, current agent: u_, mean reward: 0.0007424531322841048\n",
            "epoch: 96, current agent: u_, mean reward: 0.0007924316659745861\n",
            "epoch: 97, current agent: u_, mean reward: 0.0006875867434444048\n",
            "epoch: 98, current agent: u_, mean reward: 0.0005780702236426251\n",
            "epoch: 99, current agent: u_, mean reward: 0.0008646871673344566\n",
            "\n",
            "\n",
            "epoch: 100, current agent: v_, mean reward: 0.0003629573451327707\n",
            "epoch: 101, current agent: v_, mean reward: 0.00043048331232363555\n",
            "epoch: 102, current agent: v_, mean reward: 0.001652499691741549\n",
            "epoch: 103, current agent: v_, mean reward: 0.005729099513525621\n",
            "epoch: 104, current agent: v_, mean reward: 0.011367608073178784\n",
            "epoch: 105, current agent: v_, mean reward: 0.01819434826612766\n",
            "epoch: 106, current agent: v_, mean reward: 0.026814070163706325\n",
            "epoch: 107, current agent: v_, mean reward: 0.036707999018993014\n",
            "epoch: 108, current agent: v_, mean reward: 0.047541986475083585\n",
            "epoch: 109, current agent: v_, mean reward: 0.06019722204488942\n",
            "epoch: 110, current agent: v_, mean reward: 0.07174751437521992\n",
            "epoch: 111, current agent: v_, mean reward: 0.08669363114224994\n",
            "epoch: 112, current agent: v_, mean reward: 0.09973875199000728\n",
            "epoch: 113, current agent: v_, mean reward: 0.11557423030100937\n",
            "epoch: 114, current agent: v_, mean reward: 0.13373223800503017\n",
            "epoch: 115, current agent: v_, mean reward: 0.1486091619315007\n",
            "epoch: 116, current agent: v_, mean reward: 0.1647495598825809\n",
            "epoch: 117, current agent: v_, mean reward: 0.1865050496972435\n",
            "epoch: 118, current agent: v_, mean reward: 0.20611590545830027\n",
            "epoch: 119, current agent: v_, mean reward: 0.2254363974863645\n",
            "\n",
            "\n",
            "epoch: 120, current agent: u_, mean reward: 0.24774302641604928\n",
            "epoch: 121, current agent: u_, mean reward: 0.20464575266056184\n",
            "epoch: 122, current agent: u_, mean reward: 0.16742694714306963\n",
            "epoch: 123, current agent: u_, mean reward: 0.13683183087522627\n",
            "epoch: 124, current agent: u_, mean reward: 0.11224444770549448\n",
            "epoch: 125, current agent: u_, mean reward: 0.08577855742020185\n",
            "epoch: 126, current agent: u_, mean reward: 0.06618806615063134\n",
            "epoch: 127, current agent: u_, mean reward: 0.047364058310689267\n",
            "epoch: 128, current agent: u_, mean reward: 0.033542380096519685\n",
            "epoch: 129, current agent: u_, mean reward: 0.02237055853583798\n",
            "epoch: 130, current agent: u_, mean reward: 0.013227867134526972\n",
            "epoch: 131, current agent: u_, mean reward: 0.007042488051062264\n",
            "epoch: 132, current agent: u_, mean reward: 0.002114111881818446\n",
            "epoch: 133, current agent: u_, mean reward: 0.0005092425305194965\n",
            "epoch: 134, current agent: u_, mean reward: 0.00032674681632866373\n",
            "epoch: 135, current agent: u_, mean reward: 0.0004180139662635331\n",
            "epoch: 136, current agent: u_, mean reward: 0.00034669772284839695\n",
            "epoch: 137, current agent: u_, mean reward: 0.0003238854501456456\n",
            "epoch: 138, current agent: u_, mean reward: 0.0004187547583883367\n",
            "epoch: 139, current agent: u_, mean reward: 0.00024002520140180555\n",
            "\n",
            "\n",
            "epoch: 140, current agent: v_, mean reward: 0.0001981472692315521\n",
            "epoch: 141, current agent: v_, mean reward: 0.00022785824013463456\n",
            "epoch: 142, current agent: v_, mean reward: 0.0007329023246230095\n",
            "epoch: 143, current agent: v_, mean reward: 0.0019813130553378764\n",
            "epoch: 144, current agent: v_, mean reward: 0.0038785596660239918\n",
            "epoch: 145, current agent: v_, mean reward: 0.007039165179914021\n",
            "epoch: 146, current agent: v_, mean reward: 0.010083041036705747\n",
            "epoch: 147, current agent: v_, mean reward: 0.013683600971846543\n",
            "epoch: 148, current agent: v_, mean reward: 0.017557796669994966\n",
            "epoch: 149, current agent: v_, mean reward: 0.022384541093179285\n",
            "epoch: 150, current agent: v_, mean reward: 0.027407044364417724\n",
            "epoch: 151, current agent: v_, mean reward: 0.032339308081882366\n",
            "epoch: 152, current agent: v_, mean reward: 0.03911016576758031\n",
            "epoch: 153, current agent: v_, mean reward: 0.045801761179358864\n",
            "epoch: 154, current agent: v_, mean reward: 0.05315234243799855\n",
            "epoch: 155, current agent: v_, mean reward: 0.06005179938424319\n",
            "epoch: 156, current agent: v_, mean reward: 0.066403730865286\n",
            "epoch: 157, current agent: v_, mean reward: 0.07402782485137491\n",
            "epoch: 158, current agent: v_, mean reward: 0.08140991033172233\n",
            "epoch: 159, current agent: v_, mean reward: 0.0887958083916285\n",
            "\n",
            "\n",
            "\n",
            "--------------------TEST BEGIN--------------------\n",
            "\n",
            "epoch: 0, mean reward: 0.1692548333323883\n",
            "epoch: 1, mean reward: 0.21977680491071028\n",
            "epoch: 2, mean reward: 0.2554089870220287\n",
            "epoch: 3, mean reward: 0.3006957562812407\n",
            "epoch: 4, mean reward: 0.35850028138565443\n",
            "epoch: 5, mean reward: 0.40969140059756376\n",
            "epoch: 6, mean reward: 0.4618449053457164\n",
            "epoch: 7, mean reward: 0.5065306834583884\n",
            "epoch: 8, mean reward: 0.5538663932535667\n",
            "epoch: 9, mean reward: 0.606180457787039\n",
            "epoch: 10, mean reward: 0.6559025706448119\n",
            "epoch: 11, mean reward: 0.7199651797135654\n",
            "epoch: 12, mean reward: 0.777878351740531\n",
            "epoch: 13, mean reward: 0.8166983903816363\n",
            "epoch: 14, mean reward: 0.850558959148402\n",
            "epoch: 15, mean reward: 0.8931175436292642\n",
            "epoch: 16, mean reward: 0.9295226702883684\n",
            "epoch: 17, mean reward: 0.9833482899402581\n",
            "epoch: 18, mean reward: 1.0460196223165614\n",
            "epoch: 19, mean reward: 1.0723134013077575\n",
            "\n",
            "---------------------TEST END---------------------\n",
            "\n",
            "epoch: 160, current agent: u_, mean reward: 0.09836237431773204\n",
            "epoch: 161, current agent: u_, mean reward: 0.08221501469852396\n",
            "epoch: 162, current agent: u_, mean reward: 0.06621015269752956\n",
            "epoch: 163, current agent: u_, mean reward: 0.050916550542894984\n",
            "epoch: 164, current agent: u_, mean reward: 0.04166975251222074\n",
            "epoch: 165, current agent: u_, mean reward: 0.03303139146249258\n",
            "epoch: 166, current agent: u_, mean reward: 0.02441793965478316\n",
            "epoch: 167, current agent: u_, mean reward: 0.015889439194962277\n",
            "epoch: 168, current agent: u_, mean reward: 0.008638889433028023\n",
            "epoch: 169, current agent: u_, mean reward: 0.004916270004807887\n",
            "epoch: 170, current agent: u_, mean reward: 0.001981085393843914\n",
            "epoch: 171, current agent: u_, mean reward: 0.000632958926446186\n",
            "epoch: 172, current agent: u_, mean reward: 0.00015073367327238813\n",
            "epoch: 173, current agent: u_, mean reward: 0.00019357538030425586\n",
            "epoch: 174, current agent: u_, mean reward: 0.0001814600339858124\n",
            "epoch: 175, current agent: u_, mean reward: 0.00019794691194125803\n",
            "epoch: 176, current agent: u_, mean reward: 0.000130584100257744\n",
            "epoch: 177, current agent: u_, mean reward: 0.00013963447510948834\n",
            "epoch: 178, current agent: u_, mean reward: 0.00016621746912845816\n",
            "epoch: 179, current agent: u_, mean reward: 0.0001265673918463989\n",
            "\n",
            "\n",
            "epoch: 180, current agent: v_, mean reward: 6.52730039467067e-05\n",
            "epoch: 181, current agent: v_, mean reward: 0.00011499676362909004\n",
            "epoch: 182, current agent: v_, mean reward: 0.000395115112073121\n",
            "epoch: 183, current agent: v_, mean reward: 0.001216769977013604\n",
            "epoch: 184, current agent: v_, mean reward: 0.0022921195645330458\n",
            "epoch: 185, current agent: v_, mean reward: 0.003424878197135273\n",
            "epoch: 186, current agent: v_, mean reward: 0.004877144168666905\n",
            "epoch: 187, current agent: v_, mean reward: 0.006632425435753693\n",
            "epoch: 188, current agent: v_, mean reward: 0.008326365586122483\n",
            "epoch: 189, current agent: v_, mean reward: 0.010311430608793512\n",
            "epoch: 190, current agent: v_, mean reward: 0.012955939815216515\n",
            "epoch: 191, current agent: v_, mean reward: 0.015930452091981687\n",
            "epoch: 192, current agent: v_, mean reward: 0.018663684464102045\n",
            "epoch: 193, current agent: v_, mean reward: 0.02217551031361212\n",
            "epoch: 194, current agent: v_, mean reward: 0.02547342445302788\n",
            "epoch: 195, current agent: v_, mean reward: 0.029117797361303942\n",
            "epoch: 196, current agent: v_, mean reward: 0.03246952038229966\n",
            "epoch: 197, current agent: v_, mean reward: 0.03619828206206832\n",
            "epoch: 198, current agent: v_, mean reward: 0.0398574947026384\n",
            "epoch: 199, current agent: v_, mean reward: 0.043120152401427136\n",
            "\n",
            "\n",
            "epoch: 200, current agent: u_, mean reward: 0.04746394800906505\n",
            "epoch: 201, current agent: u_, mean reward: 0.04001670250203032\n",
            "epoch: 202, current agent: u_, mean reward: 0.033932137296785146\n",
            "epoch: 203, current agent: u_, mean reward: 0.02786431122495604\n",
            "epoch: 204, current agent: u_, mean reward: 0.022423132708328946\n",
            "epoch: 205, current agent: u_, mean reward: 0.017050286408522214\n",
            "epoch: 206, current agent: u_, mean reward: 0.013216107554592748\n",
            "epoch: 207, current agent: u_, mean reward: 0.009878563176055823\n",
            "epoch: 208, current agent: u_, mean reward: 0.007519559850922435\n",
            "epoch: 209, current agent: u_, mean reward: 0.005481370701221169\n",
            "epoch: 210, current agent: u_, mean reward: 0.0036954335457689046\n",
            "epoch: 211, current agent: u_, mean reward: 0.002130096845913478\n",
            "epoch: 212, current agent: u_, mean reward: 0.0011892926931078595\n",
            "epoch: 213, current agent: u_, mean reward: 0.0003913568130653379\n",
            "epoch: 214, current agent: u_, mean reward: 7.898703967653404e-05\n",
            "epoch: 215, current agent: u_, mean reward: 6.861932797665666e-05\n",
            "epoch: 216, current agent: u_, mean reward: 5.945476086094302e-05\n",
            "epoch: 217, current agent: u_, mean reward: 5.9890261850694635e-05\n",
            "epoch: 218, current agent: u_, mean reward: 6.478653868693371e-05\n",
            "epoch: 219, current agent: u_, mean reward: 7.185216036697277e-05\n",
            "\n",
            "\n",
            "epoch: 220, current agent: v_, mean reward: 3.4010332769593546e-05\n",
            "epoch: 221, current agent: v_, mean reward: 4.1471787362905726e-05\n",
            "epoch: 222, current agent: v_, mean reward: 0.00011116179135883878\n",
            "epoch: 223, current agent: v_, mean reward: 0.00035755464132642946\n",
            "epoch: 224, current agent: v_, mean reward: 0.0007889971476675846\n",
            "epoch: 225, current agent: v_, mean reward: 0.0012695578634238818\n",
            "epoch: 226, current agent: v_, mean reward: 0.0018234847534090803\n",
            "epoch: 227, current agent: v_, mean reward: 0.0025822161208398945\n",
            "epoch: 228, current agent: v_, mean reward: 0.003442327958062995\n",
            "epoch: 229, current agent: v_, mean reward: 0.004418190529051679\n",
            "epoch: 230, current agent: v_, mean reward: 0.005554651601812477\n",
            "epoch: 231, current agent: v_, mean reward: 0.006587487360844295\n",
            "epoch: 232, current agent: v_, mean reward: 0.007814761551207196\n",
            "epoch: 233, current agent: v_, mean reward: 0.009046693109091812\n",
            "epoch: 234, current agent: v_, mean reward: 0.0102345884231025\n",
            "epoch: 235, current agent: v_, mean reward: 0.011304924632414101\n",
            "epoch: 236, current agent: v_, mean reward: 0.012804385109609523\n",
            "epoch: 237, current agent: v_, mean reward: 0.014266814804630405\n",
            "epoch: 238, current agent: v_, mean reward: 0.015895369111326628\n",
            "epoch: 239, current agent: v_, mean reward: 0.01724860032374516\n",
            "\n",
            "\n",
            "\n",
            "--------------------TEST BEGIN--------------------\n",
            "\n",
            "epoch: 0, mean reward: 0.07091581983882357\n",
            "epoch: 1, mean reward: 0.10499982901919919\n",
            "epoch: 2, mean reward: 0.12840172771616773\n",
            "epoch: 3, mean reward: 0.16068130097517122\n",
            "epoch: 4, mean reward: 0.1944310246655565\n",
            "epoch: 5, mean reward: 0.23218464808734463\n",
            "epoch: 6, mean reward: 0.2721697817108131\n",
            "epoch: 7, mean reward: 0.30779808081508203\n",
            "epoch: 8, mean reward: 0.34878662356329365\n",
            "epoch: 9, mean reward: 0.38606292632527983\n",
            "epoch: 10, mean reward: 0.44982190989133874\n",
            "epoch: 11, mean reward: 0.4942103259622144\n",
            "epoch: 12, mean reward: 0.5497361522332573\n",
            "epoch: 13, mean reward: 0.6012603466978562\n",
            "epoch: 14, mean reward: 0.6699131999530396\n",
            "epoch: 15, mean reward: 0.7187370061031971\n",
            "epoch: 16, mean reward: 0.7713247650242957\n",
            "epoch: 17, mean reward: 0.8207058209386999\n",
            "epoch: 18, mean reward: 0.8811458695777585\n",
            "epoch: 19, mean reward: 0.9456613833865991\n",
            "\n",
            "---------------------TEST END---------------------\n",
            "\n",
            "epoch: 240, current agent: u_, mean reward: 0.018886794070005215\n",
            "epoch: 241, current agent: u_, mean reward: 0.015682816147736714\n",
            "epoch: 242, current agent: u_, mean reward: 0.012693875942477307\n",
            "epoch: 243, current agent: u_, mean reward: 0.010327826216248403\n",
            "epoch: 244, current agent: u_, mean reward: 0.007898752196982536\n",
            "epoch: 245, current agent: u_, mean reward: 0.0057527638947008275\n",
            "epoch: 246, current agent: u_, mean reward: 0.004569273115744926\n",
            "epoch: 247, current agent: u_, mean reward: 0.00318776627684414\n",
            "epoch: 248, current agent: u_, mean reward: 0.0019241194930285672\n",
            "epoch: 249, current agent: u_, mean reward: 0.0009208777714243693\n",
            "epoch: 250, current agent: u_, mean reward: 0.0003282785174981979\n",
            "epoch: 251, current agent: u_, mean reward: 7.582606208971865e-05\n",
            "epoch: 252, current agent: u_, mean reward: 6.852199361952508e-05\n",
            "epoch: 253, current agent: u_, mean reward: 5.46670217017222e-05\n",
            "epoch: 254, current agent: u_, mean reward: 6.419868524164871e-05\n",
            "epoch: 255, current agent: u_, mean reward: 7.654127431447374e-05\n",
            "epoch: 256, current agent: u_, mean reward: 5.9228559802921774e-05\n",
            "epoch: 257, current agent: u_, mean reward: 6.485593913768251e-05\n",
            "epoch: 258, current agent: u_, mean reward: 6.283697810780596e-05\n",
            "epoch: 259, current agent: u_, mean reward: 7.351665611045842e-05\n",
            "\n",
            "\n"
          ],
          "name": "stdout"
        }
      ]
    },
    {
      "cell_type": "code",
      "metadata": {
        "id": "wnAuA95963EE",
        "colab_type": "code",
        "outputId": "e3caf4cc-dcb0-406c-9849-76d4ad1d6098",
        "colab": {
          "base_uri": "https://localhost:8080/",
          "height": 513
        }
      },
      "source": [
        "plot_mean_rewards(mean_rewards_one_by_one, method_name='fit one by one')"
      ],
      "execution_count": 20,
      "outputs": [
        {
          "output_type": "display_data",
          "data": {
            "image/png": "[encoded data removed]",
            "text/plain": [
              "<Figure size 720x576 with 1 Axes>"
            ]
          },
          "metadata": {
            "tags": [],
            "needs_background": "light"
          }
        }
      ]
    },
    {
      "cell_type": "markdown",
      "metadata": {
        "id": "a9PYm_lX2h-H",
        "colab_type": "text"
      },
      "source": [
        "# Testing"
      ]
    },
    {
      "cell_type": "markdown",
      "metadata": {
        "id": "RrkkxFDSJ1Sn",
        "colab_type": "text"
      },
      "source": [
        "Test default u_agent"
      ]
    },
    {
      "cell_type": "code",
      "metadata": {
        "id": "yzC4Sb2QJ1Sq",
        "colab_type": "code",
        "colab": {
          "base_uri": "https://localhost:8080/",
          "height": 294
        },
        "outputId": "1eb3ce44-00c8-4c69-9754-d85d811f3c5b"
      },
      "source": [
        "test_rewards = test_agent(u_fit_agent, env, n_epochs=200, n_sessions=100, epsilon=1e-6)"
      ],
      "execution_count": 43,
      "outputs": [
        {
          "output_type": "stream",
          "text": [
            "epoch: 0, mean reward: 0.003540376363573217\n",
            "epoch: 1, mean reward: 0.003854413225272795\n"
          ],
          "name": "stdout"
        },
        {
          "output_type": "error",
          "ename": "KeyboardInterrupt",
          "evalue": "ignored",
          "traceback": [
            "\u001b[0;31m---------------------------------------------------------------------------\u001b[0m",
            "\u001b[0;31mKeyboardInterrupt\u001b[0m                         Traceback (most recent call last)",
            "\u001b[0;32m<ipython-input-43-006aded099fd>\u001b[0m in \u001b[0;36m<module>\u001b[0;34m()\u001b[0m\n\u001b[0;32m----> 1\u001b[0;31m \u001b[0mtest_rewards\u001b[0m \u001b[0;34m=\u001b[0m \u001b[0mtest_agent\u001b[0m\u001b[0;34m(\u001b[0m\u001b[0mu_fit_agent\u001b[0m\u001b[0;34m,\u001b[0m \u001b[0menv\u001b[0m\u001b[0;34m,\u001b[0m \u001b[0mn_epochs\u001b[0m\u001b[0;34m=\u001b[0m\u001b[0;36m200\u001b[0m\u001b[0;34m,\u001b[0m \u001b[0mn_sessions\u001b[0m\u001b[0;34m=\u001b[0m\u001b[0;36m100\u001b[0m\u001b[0;34m,\u001b[0m \u001b[0mepsilon\u001b[0m\u001b[0;34m=\u001b[0m\u001b[0;36m1e-6\u001b[0m\u001b[0;34m)\u001b[0m\u001b[0;34m\u001b[0m\u001b[0;34m\u001b[0m\u001b[0m\n\u001b[0m",
            "\u001b[0;32m<ipython-input-17-03b805a2d825>\u001b[0m in \u001b[0;36mtest_agent\u001b[0;34m(u_agent, env, n_epochs, n_sessions, epsilon)\u001b[0m\n\u001b[1;32m      1\u001b[0m \u001b[0;32mdef\u001b[0m \u001b[0mtest_agent\u001b[0m\u001b[0;34m(\u001b[0m\u001b[0mu_agent\u001b[0m\u001b[0;34m,\u001b[0m \u001b[0menv\u001b[0m\u001b[0;34m,\u001b[0m \u001b[0mn_epochs\u001b[0m\u001b[0;34m,\u001b[0m \u001b[0mn_sessions\u001b[0m\u001b[0;34m,\u001b[0m \u001b[0mepsilon\u001b[0m\u001b[0;34m)\u001b[0m\u001b[0;34m:\u001b[0m\u001b[0;34m\u001b[0m\u001b[0;34m\u001b[0m\u001b[0m\n\u001b[1;32m      2\u001b[0m     \u001b[0mv_agent\u001b[0m \u001b[0;34m=\u001b[0m \u001b[0mCCEMAgent\u001b[0m\u001b[0;34m(\u001b[0m\u001b[0;34m(\u001b[0m\u001b[0;36m2\u001b[0m\u001b[0;34m,\u001b[0m\u001b[0;34m)\u001b[0m\u001b[0;34m,\u001b[0m \u001b[0;34m(\u001b[0m\u001b[0;36m1\u001b[0m\u001b[0;34m,\u001b[0m\u001b[0;34m)\u001b[0m\u001b[0;34m,\u001b[0m \u001b[0mpercentile_param\u001b[0m\u001b[0;34m=\u001b[0m\u001b[0;36m70\u001b[0m\u001b[0;34m,\u001b[0m \u001b[0maction_max\u001b[0m\u001b[0;34m=\u001b[0m\u001b[0menv\u001b[0m\u001b[0;34m.\u001b[0m\u001b[0mv_action_max\u001b[0m\u001b[0;34m,\u001b[0m \u001b[0mreward_param\u001b[0m\u001b[0;34m=\u001b[0m\u001b[0;36m1\u001b[0m\u001b[0;34m)\u001b[0m\u001b[0;34m\u001b[0m\u001b[0;34m\u001b[0m\u001b[0m\n\u001b[0;32m----> 3\u001b[0;31m     \u001b[0m_\u001b[0m\u001b[0;34m,\u001b[0m \u001b[0mrewards\u001b[0m \u001b[0;34m=\u001b[0m  \u001b[0mfit_agents\u001b[0m\u001b[0;34m(\u001b[0m\u001b[0mu_agent\u001b[0m\u001b[0;34m,\u001b[0m \u001b[0mv_agent\u001b[0m\u001b[0;34m,\u001b[0m \u001b[0menv\u001b[0m\u001b[0;34m,\u001b[0m \u001b[0mn_epochs\u001b[0m\u001b[0;34m,\u001b[0m \u001b[0mn_sessions\u001b[0m\u001b[0;34m,\u001b[0m \u001b[0mepsilon\u001b[0m\u001b[0;34m,\u001b[0m \u001b[0mtest\u001b[0m\u001b[0;34m=\u001b[0m\u001b[0;32mTrue\u001b[0m\u001b[0;34m)\u001b[0m\u001b[0;34m\u001b[0m\u001b[0;34m\u001b[0m\u001b[0m\n\u001b[0m\u001b[1;32m      4\u001b[0m     \u001b[0;32mreturn\u001b[0m \u001b[0mrewards\u001b[0m\u001b[0;34m\u001b[0m\u001b[0;34m\u001b[0m\u001b[0m\n",
            "\u001b[0;32m<ipython-input-31-82c2f8c5053f>\u001b[0m in \u001b[0;36mfit_agents\u001b[0;34m(u_agent, v_agent, env, n_epochs, n_sessions, epsilon, test, n_iter_debug)\u001b[0m\n\u001b[1;32m     19\u001b[0m             \u001b[0mprint\u001b[0m\u001b[0;34m(\u001b[0m\u001b[0;34m'{:-^50}\\n'\u001b[0m\u001b[0;34m.\u001b[0m\u001b[0mformat\u001b[0m\u001b[0;34m(\u001b[0m\u001b[0;34m'TEST END'\u001b[0m\u001b[0;34m)\u001b[0m\u001b[0;34m)\u001b[0m\u001b[0;34m\u001b[0m\u001b[0;34m\u001b[0m\u001b[0m\n\u001b[1;32m     20\u001b[0m \u001b[0;34m\u001b[0m\u001b[0m\n\u001b[0;32m---> 21\u001b[0;31m         \u001b[0mmean_reward\u001b[0m \u001b[0;34m=\u001b[0m \u001b[0mfit_epoch\u001b[0m\u001b[0;34m(\u001b[0m\u001b[0mu_agent\u001b[0m\u001b[0;34m,\u001b[0m \u001b[0mv_agent\u001b[0m\u001b[0;34m,\u001b[0m \u001b[0menv\u001b[0m\u001b[0;34m,\u001b[0m \u001b[0mn_sessions\u001b[0m\u001b[0;34m,\u001b[0m \u001b[0mtest\u001b[0m\u001b[0;34m)\u001b[0m\u001b[0;34m\u001b[0m\u001b[0;34m\u001b[0m\u001b[0m\n\u001b[0m\u001b[1;32m     22\u001b[0m         \u001b[0mmean_rewards\u001b[0m\u001b[0;34m.\u001b[0m\u001b[0mappend\u001b[0m\u001b[0;34m(\u001b[0m\u001b[0mmean_reward\u001b[0m\u001b[0;34m)\u001b[0m\u001b[0;34m\u001b[0m\u001b[0;34m\u001b[0m\u001b[0m\n\u001b[1;32m     23\u001b[0m         \u001b[0mprint\u001b[0m\u001b[0;34m(\u001b[0m\u001b[0;34mf'epoch: {epoch}, mean reward: {mean_reward}'\u001b[0m\u001b[0;34m)\u001b[0m\u001b[0;34m\u001b[0m\u001b[0;34m\u001b[0m\u001b[0m\n",
            "\u001b[0;32m<ipython-input-30-5c22a553b5c6>\u001b[0m in \u001b[0;36mfit_epoch\u001b[0;34m(u_agent, v_agent, env, n_sessions, test)\u001b[0m\n\u001b[1;32m     23\u001b[0m \u001b[0;34m\u001b[0m\u001b[0m\n\u001b[1;32m     24\u001b[0m \u001b[0;32mdef\u001b[0m \u001b[0mfit_epoch\u001b[0m\u001b[0;34m(\u001b[0m\u001b[0mu_agent\u001b[0m\u001b[0;34m,\u001b[0m \u001b[0mv_agent\u001b[0m\u001b[0;34m,\u001b[0m \u001b[0menv\u001b[0m\u001b[0;34m,\u001b[0m \u001b[0mn_sessions\u001b[0m\u001b[0;34m,\u001b[0m \u001b[0mtest\u001b[0m\u001b[0;34m)\u001b[0m\u001b[0;34m:\u001b[0m\u001b[0;34m\u001b[0m\u001b[0;34m\u001b[0m\u001b[0m\n\u001b[0;32m---> 25\u001b[0;31m     \u001b[0msessions\u001b[0m \u001b[0;34m=\u001b[0m \u001b[0;34m[\u001b[0m\u001b[0mgenerate_session\u001b[0m\u001b[0;34m(\u001b[0m\u001b[0mu_agent\u001b[0m\u001b[0;34m,\u001b[0m \u001b[0mv_agent\u001b[0m\u001b[0;34m,\u001b[0m \u001b[0menv\u001b[0m\u001b[0;34m,\u001b[0m \u001b[0mtest\u001b[0m\u001b[0;34m=\u001b[0m\u001b[0mtest\u001b[0m\u001b[0;34m)\u001b[0m \u001b[0;32mfor\u001b[0m \u001b[0m_\u001b[0m \u001b[0;32min\u001b[0m \u001b[0mrange\u001b[0m\u001b[0;34m(\u001b[0m\u001b[0mn_sessions\u001b[0m\u001b[0;34m)\u001b[0m\u001b[0;34m]\u001b[0m\u001b[0;34m\u001b[0m\u001b[0;34m\u001b[0m\u001b[0m\n\u001b[0m\u001b[1;32m     26\u001b[0m     \u001b[0mmean_reward\u001b[0m \u001b[0;34m=\u001b[0m \u001b[0mnp\u001b[0m\u001b[0;34m.\u001b[0m\u001b[0mmean\u001b[0m\u001b[0;34m(\u001b[0m\u001b[0;34m[\u001b[0m\u001b[0msession\u001b[0m\u001b[0;34m[\u001b[0m\u001b[0;34m'total_reward'\u001b[0m\u001b[0;34m]\u001b[0m \u001b[0;32mfor\u001b[0m \u001b[0msession\u001b[0m \u001b[0;32min\u001b[0m \u001b[0msessions\u001b[0m\u001b[0;34m]\u001b[0m\u001b[0;34m)\u001b[0m\u001b[0;34m\u001b[0m\u001b[0;34m\u001b[0m\u001b[0m\n\u001b[1;32m     27\u001b[0m     \u001b[0;32mif\u001b[0m \u001b[0;32mnot\u001b[0m \u001b[0mtest\u001b[0m\u001b[0;34m:\u001b[0m\u001b[0;34m\u001b[0m\u001b[0;34m\u001b[0m\u001b[0m\n",
            "\u001b[0;32m<ipython-input-30-5c22a553b5c6>\u001b[0m in \u001b[0;36m<listcomp>\u001b[0;34m(.0)\u001b[0m\n\u001b[1;32m     23\u001b[0m \u001b[0;34m\u001b[0m\u001b[0m\n\u001b[1;32m     24\u001b[0m \u001b[0;32mdef\u001b[0m \u001b[0mfit_epoch\u001b[0m\u001b[0;34m(\u001b[0m\u001b[0mu_agent\u001b[0m\u001b[0;34m,\u001b[0m \u001b[0mv_agent\u001b[0m\u001b[0;34m,\u001b[0m \u001b[0menv\u001b[0m\u001b[0;34m,\u001b[0m \u001b[0mn_sessions\u001b[0m\u001b[0;34m,\u001b[0m \u001b[0mtest\u001b[0m\u001b[0;34m)\u001b[0m\u001b[0;34m:\u001b[0m\u001b[0;34m\u001b[0m\u001b[0;34m\u001b[0m\u001b[0m\n\u001b[0;32m---> 25\u001b[0;31m     \u001b[0msessions\u001b[0m \u001b[0;34m=\u001b[0m \u001b[0;34m[\u001b[0m\u001b[0mgenerate_session\u001b[0m\u001b[0;34m(\u001b[0m\u001b[0mu_agent\u001b[0m\u001b[0;34m,\u001b[0m \u001b[0mv_agent\u001b[0m\u001b[0;34m,\u001b[0m \u001b[0menv\u001b[0m\u001b[0;34m,\u001b[0m \u001b[0mtest\u001b[0m\u001b[0;34m=\u001b[0m\u001b[0mtest\u001b[0m\u001b[0;34m)\u001b[0m \u001b[0;32mfor\u001b[0m \u001b[0m_\u001b[0m \u001b[0;32min\u001b[0m \u001b[0mrange\u001b[0m\u001b[0;34m(\u001b[0m\u001b[0mn_sessions\u001b[0m\u001b[0;34m)\u001b[0m\u001b[0;34m]\u001b[0m\u001b[0;34m\u001b[0m\u001b[0;34m\u001b[0m\u001b[0m\n\u001b[0m\u001b[1;32m     26\u001b[0m     \u001b[0mmean_reward\u001b[0m \u001b[0;34m=\u001b[0m \u001b[0mnp\u001b[0m\u001b[0;34m.\u001b[0m\u001b[0mmean\u001b[0m\u001b[0;34m(\u001b[0m\u001b[0;34m[\u001b[0m\u001b[0msession\u001b[0m\u001b[0;34m[\u001b[0m\u001b[0;34m'total_reward'\u001b[0m\u001b[0;34m]\u001b[0m \u001b[0;32mfor\u001b[0m \u001b[0msession\u001b[0m \u001b[0;32min\u001b[0m \u001b[0msessions\u001b[0m\u001b[0;34m]\u001b[0m\u001b[0;34m)\u001b[0m\u001b[0;34m\u001b[0m\u001b[0;34m\u001b[0m\u001b[0m\n\u001b[1;32m     27\u001b[0m     \u001b[0;32mif\u001b[0m \u001b[0;32mnot\u001b[0m \u001b[0mtest\u001b[0m\u001b[0;34m:\u001b[0m\u001b[0;34m\u001b[0m\u001b[0;34m\u001b[0m\u001b[0m\n",
            "\u001b[0;32m<ipython-input-30-5c22a553b5c6>\u001b[0m in \u001b[0;36mgenerate_session\u001b[0;34m(u_agent, v_agent, env, test)\u001b[0m\n\u001b[1;32m     11\u001b[0m     \u001b[0;32mwhile\u001b[0m \u001b[0;32mnot\u001b[0m \u001b[0mdone\u001b[0m\u001b[0;34m:\u001b[0m\u001b[0;34m\u001b[0m\u001b[0;34m\u001b[0m\u001b[0m\n\u001b[1;32m     12\u001b[0m         \u001b[0mu_action\u001b[0m \u001b[0;34m=\u001b[0m \u001b[0mu_agent\u001b[0m\u001b[0;34m.\u001b[0m\u001b[0mget_action\u001b[0m\u001b[0;34m(\u001b[0m\u001b[0mstate\u001b[0m\u001b[0;34m,\u001b[0m \u001b[0mtest\u001b[0m\u001b[0;34m=\u001b[0m\u001b[0mtest\u001b[0m\u001b[0;34m)\u001b[0m\u001b[0;34m\u001b[0m\u001b[0;34m\u001b[0m\u001b[0m\n\u001b[0;32m---> 13\u001b[0;31m         \u001b[0mv_action\u001b[0m \u001b[0;34m=\u001b[0m \u001b[0mv_agent\u001b[0m\u001b[0;34m.\u001b[0m\u001b[0mget_action\u001b[0m\u001b[0;34m(\u001b[0m\u001b[0mstate\u001b[0m\u001b[0;34m)\u001b[0m\u001b[0;34m\u001b[0m\u001b[0;34m\u001b[0m\u001b[0m\n\u001b[0m\u001b[1;32m     14\u001b[0m         \u001b[0mactions\u001b[0m \u001b[0;34m=\u001b[0m \u001b[0;34m(\u001b[0m\u001b[0mu_action\u001b[0m\u001b[0;34m[\u001b[0m\u001b[0;36m0\u001b[0m\u001b[0;34m]\u001b[0m\u001b[0;34m,\u001b[0m \u001b[0mv_action\u001b[0m\u001b[0;34m[\u001b[0m\u001b[0;36m0\u001b[0m\u001b[0;34m]\u001b[0m\u001b[0;34m)\u001b[0m \u001b[0;32mif\u001b[0m \u001b[0mstr\u001b[0m\u001b[0;34m(\u001b[0m\u001b[0mu_agent\u001b[0m\u001b[0;34m)\u001b[0m \u001b[0;34m==\u001b[0m \u001b[0;34m'u_'\u001b[0m \u001b[0;32melse\u001b[0m \u001b[0;34m(\u001b[0m\u001b[0mv_action\u001b[0m\u001b[0;34m[\u001b[0m\u001b[0;36m0\u001b[0m\u001b[0;34m]\u001b[0m\u001b[0;34m,\u001b[0m \u001b[0mu_action\u001b[0m\u001b[0;34m[\u001b[0m\u001b[0;36m0\u001b[0m\u001b[0;34m]\u001b[0m\u001b[0;34m)\u001b[0m\u001b[0;34m\u001b[0m\u001b[0;34m\u001b[0m\u001b[0m\n\u001b[1;32m     15\u001b[0m         \u001b[0mnext_state\u001b[0m\u001b[0;34m,\u001b[0m \u001b[0mreward\u001b[0m\u001b[0;34m,\u001b[0m \u001b[0mdone\u001b[0m\u001b[0;34m,\u001b[0m \u001b[0m_\u001b[0m \u001b[0;34m=\u001b[0m \u001b[0menv\u001b[0m\u001b[0;34m.\u001b[0m\u001b[0mstep\u001b[0m\u001b[0;34m(\u001b[0m\u001b[0;34m*\u001b[0m\u001b[0mactions\u001b[0m\u001b[0;34m)\u001b[0m\u001b[0;34m\u001b[0m\u001b[0;34m\u001b[0m\u001b[0m\n",
            "\u001b[0;32m<ipython-input-16-ca55eef9851f>\u001b[0m in \u001b[0;36mget_action\u001b[0;34m(self, state, test)\u001b[0m\n\u001b[1;32m     37\u001b[0m         \u001b[0;32mif\u001b[0m \u001b[0;32mnot\u001b[0m \u001b[0mtest\u001b[0m\u001b[0;34m:\u001b[0m\u001b[0;34m\u001b[0m\u001b[0;34m\u001b[0m\u001b[0m\n\u001b[1;32m     38\u001b[0m             \u001b[0mnoise\u001b[0m \u001b[0;34m=\u001b[0m \u001b[0mself\u001b[0m\u001b[0;34m.\u001b[0m\u001b[0mnoise_threshold\u001b[0m \u001b[0;34m*\u001b[0m \u001b[0mnp\u001b[0m\u001b[0;34m.\u001b[0m\u001b[0mrandom\u001b[0m\u001b[0;34m.\u001b[0m\u001b[0muniform\u001b[0m\u001b[0;34m(\u001b[0m\u001b[0mlow\u001b[0m\u001b[0;34m=\u001b[0m\u001b[0;34m-\u001b[0m\u001b[0mself\u001b[0m\u001b[0;34m.\u001b[0m\u001b[0maction_max\u001b[0m\u001b[0;34m,\u001b[0m \u001b[0mhigh\u001b[0m\u001b[0;34m=\u001b[0m\u001b[0mself\u001b[0m\u001b[0;34m.\u001b[0m\u001b[0maction_max\u001b[0m\u001b[0;34m)\u001b[0m\u001b[0;34m\u001b[0m\u001b[0;34m\u001b[0m\u001b[0m\n\u001b[0;32m---> 39\u001b[0;31m             \u001b[0mpredicted_action\u001b[0m \u001b[0;34m=\u001b[0m \u001b[0mnp\u001b[0m\u001b[0;34m.\u001b[0m\u001b[0mclip\u001b[0m\u001b[0;34m(\u001b[0m\u001b[0mpredicted_action\u001b[0m \u001b[0;34m+\u001b[0m \u001b[0mnoise\u001b[0m\u001b[0;34m,\u001b[0m \u001b[0;34m-\u001b[0m\u001b[0mself\u001b[0m\u001b[0;34m.\u001b[0m\u001b[0maction_max\u001b[0m\u001b[0;34m,\u001b[0m \u001b[0mself\u001b[0m\u001b[0;34m.\u001b[0m\u001b[0maction_max\u001b[0m\u001b[0;34m)\u001b[0m\u001b[0;34m\u001b[0m\u001b[0;34m\u001b[0m\u001b[0m\n\u001b[0m\u001b[1;32m     40\u001b[0m         \u001b[0;32mreturn\u001b[0m \u001b[0mpredicted_action\u001b[0m\u001b[0;34m\u001b[0m\u001b[0;34m\u001b[0m\u001b[0m\n\u001b[1;32m     41\u001b[0m \u001b[0;34m\u001b[0m\u001b[0m\n",
            "\u001b[0;32m<__array_function__ internals>\u001b[0m in \u001b[0;36mclip\u001b[0;34m(*args, **kwargs)\u001b[0m\n",
            "\u001b[0;32m/usr/local/lib/python3.6/dist-packages/numpy/core/fromnumeric.py\u001b[0m in \u001b[0;36mclip\u001b[0;34m(a, a_min, a_max, out, **kwargs)\u001b[0m\n\u001b[1;32m   2082\u001b[0m \u001b[0;34m\u001b[0m\u001b[0m\n\u001b[1;32m   2083\u001b[0m     \"\"\"\n\u001b[0;32m-> 2084\u001b[0;31m     \u001b[0;32mreturn\u001b[0m \u001b[0m_wrapfunc\u001b[0m\u001b[0;34m(\u001b[0m\u001b[0ma\u001b[0m\u001b[0;34m,\u001b[0m \u001b[0;34m'clip'\u001b[0m\u001b[0;34m,\u001b[0m \u001b[0ma_min\u001b[0m\u001b[0;34m,\u001b[0m \u001b[0ma_max\u001b[0m\u001b[0;34m,\u001b[0m \u001b[0mout\u001b[0m\u001b[0;34m=\u001b[0m\u001b[0mout\u001b[0m\u001b[0;34m,\u001b[0m \u001b[0;34m**\u001b[0m\u001b[0mkwargs\u001b[0m\u001b[0;34m)\u001b[0m\u001b[0;34m\u001b[0m\u001b[0;34m\u001b[0m\u001b[0m\n\u001b[0m\u001b[1;32m   2085\u001b[0m \u001b[0;34m\u001b[0m\u001b[0m\n\u001b[1;32m   2086\u001b[0m \u001b[0;34m\u001b[0m\u001b[0m\n",
            "\u001b[0;32m/usr/local/lib/python3.6/dist-packages/numpy/core/fromnumeric.py\u001b[0m in \u001b[0;36m_wrapfunc\u001b[0;34m(obj, method, *args, **kwds)\u001b[0m\n\u001b[1;32m     59\u001b[0m \u001b[0;34m\u001b[0m\u001b[0m\n\u001b[1;32m     60\u001b[0m     \u001b[0;32mtry\u001b[0m\u001b[0;34m:\u001b[0m\u001b[0;34m\u001b[0m\u001b[0;34m\u001b[0m\u001b[0m\n\u001b[0;32m---> 61\u001b[0;31m         \u001b[0;32mreturn\u001b[0m \u001b[0mbound\u001b[0m\u001b[0;34m(\u001b[0m\u001b[0;34m*\u001b[0m\u001b[0margs\u001b[0m\u001b[0;34m,\u001b[0m \u001b[0;34m**\u001b[0m\u001b[0mkwds\u001b[0m\u001b[0;34m)\u001b[0m\u001b[0;34m\u001b[0m\u001b[0;34m\u001b[0m\u001b[0m\n\u001b[0m\u001b[1;32m     62\u001b[0m     \u001b[0;32mexcept\u001b[0m \u001b[0mTypeError\u001b[0m\u001b[0;34m:\u001b[0m\u001b[0;34m\u001b[0m\u001b[0;34m\u001b[0m\u001b[0m\n\u001b[1;32m     63\u001b[0m         \u001b[0;31m# A TypeError occurs if the object does have such a method in its\u001b[0m\u001b[0;34m\u001b[0m\u001b[0;34m\u001b[0m\u001b[0;34m\u001b[0m\u001b[0m\n",
            "\u001b[0;32m/usr/local/lib/python3.6/dist-packages/numpy/core/_methods.py\u001b[0m in \u001b[0;36m_clip\u001b[0;34m(a, min, max, out, casting, **kwargs)\u001b[0m\n\u001b[1;32m    104\u001b[0m     \u001b[0;32mif\u001b[0m \u001b[0;32mnot\u001b[0m \u001b[0m_clip_dep_is_byte_swapped\u001b[0m\u001b[0;34m(\u001b[0m\u001b[0ma\u001b[0m\u001b[0;34m)\u001b[0m \u001b[0;32mand\u001b[0m \u001b[0;32mnot\u001b[0m \u001b[0m_clip_dep_is_byte_swapped\u001b[0m\u001b[0;34m(\u001b[0m\u001b[0mout\u001b[0m\u001b[0;34m)\u001b[0m\u001b[0;34m:\u001b[0m\u001b[0;34m\u001b[0m\u001b[0;34m\u001b[0m\u001b[0m\n\u001b[1;32m    105\u001b[0m         \u001b[0musing_deprecated_nan\u001b[0m \u001b[0;34m=\u001b[0m \u001b[0;32mFalse\u001b[0m\u001b[0;34m\u001b[0m\u001b[0;34m\u001b[0m\u001b[0m\n\u001b[0;32m--> 106\u001b[0;31m         \u001b[0;32mif\u001b[0m \u001b[0m_clip_dep_is_scalar_nan\u001b[0m\u001b[0;34m(\u001b[0m\u001b[0mmin\u001b[0m\u001b[0;34m)\u001b[0m\u001b[0;34m:\u001b[0m\u001b[0;34m\u001b[0m\u001b[0;34m\u001b[0m\u001b[0m\n\u001b[0m\u001b[1;32m    107\u001b[0m             \u001b[0mmin\u001b[0m \u001b[0;34m=\u001b[0m \u001b[0;34m-\u001b[0m\u001b[0mfloat\u001b[0m\u001b[0;34m(\u001b[0m\u001b[0;34m'inf'\u001b[0m\u001b[0;34m)\u001b[0m\u001b[0;34m\u001b[0m\u001b[0;34m\u001b[0m\u001b[0m\n\u001b[1;32m    108\u001b[0m             \u001b[0musing_deprecated_nan\u001b[0m \u001b[0;34m=\u001b[0m \u001b[0;32mTrue\u001b[0m\u001b[0;34m\u001b[0m\u001b[0;34m\u001b[0m\u001b[0m\n",
            "\u001b[0;32m/usr/local/lib/python3.6/dist-packages/numpy/core/_methods.py\u001b[0m in \u001b[0;36m_clip_dep_is_scalar_nan\u001b[0;34m(a)\u001b[0m\n\u001b[1;32m     63\u001b[0m \u001b[0;32mdef\u001b[0m \u001b[0m_clip_dep_is_scalar_nan\u001b[0m\u001b[0;34m(\u001b[0m\u001b[0ma\u001b[0m\u001b[0;34m)\u001b[0m\u001b[0;34m:\u001b[0m\u001b[0;34m\u001b[0m\u001b[0;34m\u001b[0m\u001b[0m\n\u001b[1;32m     64\u001b[0m     \u001b[0;31m# guarded to protect circular imports\u001b[0m\u001b[0;34m\u001b[0m\u001b[0;34m\u001b[0m\u001b[0;34m\u001b[0m\u001b[0m\n\u001b[0;32m---> 65\u001b[0;31m     \u001b[0;32mfrom\u001b[0m \u001b[0mnumpy\u001b[0m\u001b[0;34m.\u001b[0m\u001b[0mcore\u001b[0m\u001b[0;34m.\u001b[0m\u001b[0mfromnumeric\u001b[0m \u001b[0;32mimport\u001b[0m \u001b[0mndim\u001b[0m\u001b[0;34m\u001b[0m\u001b[0;34m\u001b[0m\u001b[0m\n\u001b[0m\u001b[1;32m     66\u001b[0m     \u001b[0;32mif\u001b[0m \u001b[0mndim\u001b[0m\u001b[0;34m(\u001b[0m\u001b[0ma\u001b[0m\u001b[0;34m)\u001b[0m \u001b[0;34m!=\u001b[0m \u001b[0;36m0\u001b[0m\u001b[0;34m:\u001b[0m\u001b[0;34m\u001b[0m\u001b[0;34m\u001b[0m\u001b[0m\n\u001b[1;32m     67\u001b[0m         \u001b[0;32mreturn\u001b[0m \u001b[0;32mFalse\u001b[0m\u001b[0;34m\u001b[0m\u001b[0;34m\u001b[0m\u001b[0m\n",
            "\u001b[0;32m/usr/lib/python3.6/importlib/_bootstrap.py\u001b[0m in \u001b[0;36m_handle_fromlist\u001b[0;34m(module, fromlist, import_, recursive)\u001b[0m\n",
            "\u001b[0;31mKeyboardInterrupt\u001b[0m: "
          ]
        }
      ]
    },
    {
      "cell_type": "code",
      "metadata": {
        "id": "i7ZITn34J1Ss",
        "colab_type": "code",
        "outputId": "e0ef7f04-d64f-484f-a2fc-b59bb844e574",
        "colab": {
          "base_uri": "https://localhost:8080/",
          "height": 295
        }
      },
      "source": [
        "plot_mean_rewards(test_rewards, method_name='test')"
      ],
      "execution_count": 0,
      "outputs": [
        {
          "output_type": "display_data",
          "data": {
            "image/png": "[encoded data removed]",
            "text/plain": [
              "<Figure size 432x288 with 1 Axes>"
            ]
          },
          "metadata": {
            "tags": [],
            "needs_background": "light"
          }
        }
      ]
    },
    {
      "cell_type": "markdown",
      "metadata": {
        "id": "3aR-GlF-f0Yg",
        "colab_type": "text"
      },
      "source": [
        "Test u_agent_one_by_one"
      ]
    },
    {
      "cell_type": "code",
      "metadata": {
        "id": "KZorei8v7Np4",
        "colab_type": "code",
        "outputId": "37c32d90-ebd6-4559-9144-332813cd9581",
        "colab": {
          "base_uri": "https://localhost:8080/",
          "height": 243
        }
      },
      "source": [
        "test_rewards_one_by_one = test_agent(u_fit_agent_one_by_one, env, n_epochs=200, n_sessions=100, epsilon=1e-6)"
      ],
      "execution_count": 0,
      "outputs": [
        {
          "output_type": "stream",
          "text": [
            "epoch: 0, mean reward: 0.08974898333822667\n",
            "epoch: 1, mean reward: 0.11778749601851098\n",
            "epoch: 2, mean reward: 0.1469675770016656\n",
            "epoch: 3, mean reward: 0.18126299275929153\n",
            "epoch: 4, mean reward: 0.21371520922263523\n",
            "epoch: 5, mean reward: 0.24350394245789583\n",
            "epoch: 6, mean reward: 0.281386205274471\n",
            "epoch: 7, mean reward: 0.3055452213855665\n",
            "epoch: 8, mean reward: 0.34565468699664725\n",
            "epoch: 9, mean reward: 0.37797393784426925\n",
            "epoch: 10, mean reward: 0.41915966201030036\n",
            "epoch: 11, mean reward: 0.4403714123238222\n",
            "epoch: 12, mean reward: 0.48795642217704044\n"
          ],
          "name": "stdout"
        }
      ]
    },
    {
      "cell_type": "code",
      "metadata": {
        "id": "cXK3jgOj7QN1",
        "colab_type": "code",
        "colab": {}
      },
      "source": [
        "plot_mean_rewards(test_rewards_one_by_one, method_name='test one by one')"
      ],
      "execution_count": 0,
      "outputs": []
    }
  ]
}