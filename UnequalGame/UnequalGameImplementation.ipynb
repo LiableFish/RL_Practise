{
  "nbformat": 4,
  "nbformat_minor": 0,
  "metadata": {
    "kernelspec": {
      "display_name": "Python 3",
      "language": "python",
      "name": "python3"
    },
    "language_info": {
      "codemirror_mode": {
        "name": "ipython",
        "version": 3
      },
      "file_extension": ".py",
      "mimetype": "text/x-python",
      "name": "python",
      "nbconvert_exporter": "python",
      "pygments_lexer": "ipython3",
      "version": "3.7.3"
    },
    "colab": {
      "name": "UnequalGameImplementation.ipynb",
      "provenance": []
    }
  },
  "cells": [
    {
      "cell_type": "markdown",
      "metadata": {
        "id": "x7CyocjBJ1SP",
        "colab_type": "text"
      },
      "source": [
        "## Unequal Game solution with CCEM method"
      ]
    },
    {
      "cell_type": "code",
      "metadata": {
        "id": "AABSYH3vJ1SR",
        "colab_type": "code",
        "colab": {}
      },
      "source": [
        "import torch\n",
        "import numpy as np\n",
        "import matplotlib.pyplot as plt\n",
        "from copy import deepcopy\n",
        "from IPython.display import clear_output"
      ],
      "execution_count": 0,
      "outputs": []
    },
    {
      "cell_type": "markdown",
      "metadata": {
        "id": "X9eLwv6LY4xn",
        "colab_type": "text"
      },
      "source": [
        "Let's find guaranteed results\n"
      ]
    },
    {
      "cell_type": "markdown",
      "metadata": {
        "id": "oKfpwnUFMYsK",
        "colab_type": "text"
      },
      "source": [
        "Definitions\n",
        "\n",
        "\\begin{gather*}\n",
        "\\Gamma^u = \\min_{u(\\cdot)}\\max_{v(\\cdot)} \\gamma(u,\\, v), \\quad \n",
        "\\Gamma^v = \\max_{v(\\cdot)}\\min_{u(\\cdot)} \\gamma(u,\\, v), \\\\\n",
        "\\tilde{\\Gamma}^u = \\min_{u(\\cdot,\\, \\cdot)}\\max_{v(\\cdot,\\, \\cdot)} \\gamma(u, v), \\quad \n",
        "\\tilde{\\Gamma}^v = \\max_{v(\\cdot,\\, \\cdot)}\\min_{u(\\cdot,\\, \\cdot)} \\gamma(u, v), \\\\\\\\\n",
        "\\Gamma^v \\leqslant \\tilde{\\Gamma}^v \\leqslant  \\tilde{\\Gamma}^v \\leqslant \\Gamma^u.\n",
        "\\end{gather*}"
      ]
    },
    {
      "cell_type": "markdown",
      "metadata": {
        "id": "QjyRmxcvY_pQ",
        "colab_type": "text"
      },
      "source": [
        "Our differential game model\n",
        "\n",
        "\\begin{gather*}\n",
        "\\begin{cases}\n",
        "\\dot{x} = u(t,\\,x) - v(t,\\,x), \\quad t \\in [0, 2],\\\\\n",
        "x(0) = 1, \\\\\n",
        "|u| \\leqslant 2, \\quad |v| \\leqslant 1.\n",
        "\\end{cases}, \\\\ \\\\\n",
        "\\gamma(u,\\, v) = x^2(2) = \\left(1 + \\int\\limits_0^2 u(t, x)\\,dt - \\int\\limits_0^2 v(t, x)\\,dt \\right)^2 = (1 +U(x) + V(x))^2, \\\\|U| \\leqslant 4, \\quad |V| \\leqslant 2, \\\\ \\\\\n",
        "\\Gamma^u = 4, \\quad \\Gamma^v = \\tilde{\\Gamma}^v = \\tilde{\\Gamma}^v = 0.\n",
        "\\end{gather*}"
      ]
    },
    {
      "cell_type": "markdown",
      "metadata": {
        "id": "vAd2UkykbgJ0",
        "colab_type": "text"
      },
      "source": [
        "Compute $\\Gamma^u$\n",
        "\n",
        "\\begin{gather*}\n",
        "\\max_V \\gamma(U,\\, V) = \\max\\left\\{\\gamma(U,\\, 2),\\, \\gamma(U,\\, -2)\\right\\}, \\\\ \\\\\n",
        "\\gamma(U, 2) - \\gamma(U, -2) = -8(1+U).\n",
        "\\end{gather*}\n",
        "\n",
        "Case 1:\n",
        "\\begin{gather*}\n",
        "\\max_V \\gamma(U,\\, V) = \\gamma(U,\\, 2) \\; \\Longrightarrow \\; U \\leqslant -1 \\; \\Longrightarrow \\; \\Gamma^u = \\min_U \\gamma(U\\,2) = \\gamma(-1, 2) = 4.\n",
        "\\end{gather*}\n",
        "\n",
        "Case 2:\n",
        "\\begin{gather*}\n",
        "\\max_V \\gamma(U,\\, V) = \\gamma(U,\\, -2) \\; \\Longrightarrow \\; U \\geqslant -1 \\; \\Longrightarrow \\; \\Gamma^u = \\min_U \\gamma(U\\,-2) = \\gamma(-1, -2) = 4.\n",
        "\\end{gather*}\n"
      ]
    },
    {
      "cell_type": "code",
      "metadata": {
        "id": "E4J4HcicfuGC",
        "colab_type": "code",
        "colab": {}
      },
      "source": [
        ""
      ],
      "execution_count": 0,
      "outputs": []
    },
    {
      "cell_type": "markdown",
      "metadata": {
        "id": "T5YRCc2MJ1SU",
        "colab_type": "text"
      },
      "source": [
        "Implement environment"
      ]
    },
    {
      "cell_type": "code",
      "metadata": {
        "id": "Fj46-jGRJ1SV",
        "colab_type": "code",
        "colab": {}
      },
      "source": [
        "class UnequalGame:\n",
        "\n",
        "    def __init__(self, initial_x=1, dt=0.005, terminal_time=2, u_action_max=2, v_action_max=1):\n",
        "        self.u_action_max = u_action_max\n",
        "        self.v_action_max = v_action_max\n",
        "        self.terminal_time = terminal_time\n",
        "        self.dt = dt\n",
        "        self.initial_x = initial_x\n",
        "        self.state = self.reset()\n",
        "\n",
        "    def reset(self):\n",
        "        self.state = np.array([0, self.initial_x])\n",
        "        return self.state\n",
        "\n",
        "    def step(self, u_action, v_action):\n",
        "        t, x = self.state\n",
        "        x = x + (u_action - v_action) * self.dt\n",
        "        t += self.dt\n",
        "        self.state = np.array([t, x])\n",
        "\n",
        "        reward = 0\n",
        "        done = False\n",
        "        if t >= self.terminal_time:\n",
        "            reward = x ** 2\n",
        "            done = True\n",
        "\n",
        "        return self.state, reward, done, None\n"
      ],
      "execution_count": 0,
      "outputs": []
    },
    {
      "cell_type": "markdown",
      "metadata": {
        "id": "01OM_i5PJ1SX",
        "colab_type": "text"
      },
      "source": [
        "Implement agent"
      ]
    },
    {
      "cell_type": "code",
      "metadata": {
        "id": "7S80KcE1J1SY",
        "colab_type": "code",
        "colab": {}
      },
      "source": [
        "class Network(torch.nn.Module):\n",
        "\n",
        "    def __init__(self, input_shape, output_shape):\n",
        "        super().__init__()\n",
        "        self.linear_1 = torch.nn.Linear(input_shape[0], 50)\n",
        "        self.linear_2 = torch.nn.Linear(50, 30)\n",
        "        self.linear_3 = torch.nn.Linear(30, output_shape[0])\n",
        "        self.relu = torch.nn.ReLU()\n",
        "        self.tang = torch.nn.Tanh()\n",
        "\n",
        "    def forward(self, input_):\n",
        "        hidden = self.relu(self.linear_1(input_))\n",
        "        hidden = self.relu(self.linear_2(hidden))\n",
        "        output = self.tang(self.linear_3(hidden))\n",
        "        return output\n",
        "\n",
        "\n",
        "class CCEMAgent(torch.nn.Module):\n",
        "\n",
        "    def __init__(self, state_shape, action_shape, action_max, reward_param=1, percentile_param=70, noise_decrease=0.98,\n",
        "                 tau=1e-2, learning_rate=1e-2, n_learning_per_fit=16):\n",
        "        super().__init__()\n",
        "        self.action_max = np.abs(action_max)\n",
        "        self.reward_param = reward_param  # equal to 1 if agent wants to maximize reward otherwise -1\n",
        "        self.percentile_param = percentile_param\n",
        "        self.noise_decrease = noise_decrease\n",
        "        self.noise_threshold = 1\n",
        "        self.min_noise_threshold = 0.1\n",
        "        self.tau = tau\n",
        "        self.n_learning_per_fit = n_learning_per_fit\n",
        "        self.network = Network(state_shape, action_shape)\n",
        "        self.optimizer = torch.optim.Adam(params=self.network.parameters(), lr=learning_rate)\n",
        "\n",
        "    def get_action(self, state, test=False):\n",
        "        state = torch.FloatTensor(state)\n",
        "        predicted_action = self.network(state).detach().numpy() * self.action_max\n",
        "        if not test:\n",
        "            noise = self.noise_threshold * np.random.uniform(low=-self.action_max, high=self.action_max)\n",
        "            predicted_action = np.clip(predicted_action + noise, -self.action_max, self.action_max)\n",
        "        return predicted_action\n",
        "\n",
        "    def get_elite_states_and_actions(self, sessions, prefix):\n",
        "        \"\"\"\n",
        "          Select sessions with the most or least reward\n",
        "          by percentile\n",
        "        \"\"\"\n",
        "        total_rewards = [session['total_reward'] for session in sessions]\n",
        "        reward_threshold = np.percentile(total_rewards, self.percentile_param)\n",
        "\n",
        "        elite_states = []\n",
        "        elite_actions = []\n",
        "        for session in sessions:\n",
        "            if self.reward_param * (session['total_reward'] - reward_threshold) > 0:\n",
        "                elite_states.extend(session['states'])\n",
        "                elite_actions.extend(session[f'{prefix}actions'])\n",
        "\n",
        "        return torch.FloatTensor(elite_states), torch.FloatTensor(elite_actions)\n",
        "\n",
        "    def learn_network(self, loss):\n",
        "        self.optimizer.zero_grad()\n",
        "        old_network = deepcopy(self.network)\n",
        "        loss.backward()\n",
        "        self.optimizer.step()\n",
        "\n",
        "        for new_parameter, old_parameter in zip(self.network.parameters(), old_network.parameters()):\n",
        "            new_parameter.data.copy_(self.tau * new_parameter + (1 - self.tau) * old_parameter)\n",
        "\n",
        "        return None\n",
        "\n",
        "    def fit(self, sessions, prefix=''):\n",
        "        elite_states, elite_actions = self.get_elite_states_and_actions(sessions, prefix=prefix)\n",
        "\n",
        "        for _ in range(self.n_learning_per_fit):\n",
        "            predicted_action = self.network(elite_states) * self.action_max\n",
        "            loss = torch.mean((predicted_action - elite_actions) ** 2)\n",
        "            self.learn_network(loss)\n",
        "\n",
        "        if self.noise_threshold > self.min_noise_threshold:\n",
        "            self.noise_threshold *= self.noise_decrease\n",
        "\n",
        "        return None\n"
      ],
      "execution_count": 0,
      "outputs": []
    },
    {
      "cell_type": "markdown",
      "metadata": {
        "id": "kzV4HKqsJ1Sb",
        "colab_type": "text"
      },
      "source": [
        "Train agents"
      ]
    },
    {
      "cell_type": "code",
      "metadata": {
        "id": "RrjBLPuDJ1Sb",
        "colab_type": "code",
        "colab": {}
      },
      "source": [
        "def generate_session(u_agent, v_agent, env, t_max=200, test=False):\n",
        "    \"\"\"\n",
        "    Generate session on environment with agent\n",
        "    \"\"\"\n",
        "    states = []\n",
        "    u_actions = []\n",
        "    v_actions = []\n",
        "    total_reward = 0\n",
        "    done = False\n",
        "    state = env.reset()\n",
        "    while not done:\n",
        "        u_action = u_agent.get_action(state, test=test)\n",
        "        v_action = v_agent.get_action(state)\n",
        "        next_state, reward, done, _ = env.step(u_action[0], v_action[0])\n",
        "        states.append(state)\n",
        "        u_actions.append(u_action)\n",
        "        v_actions.append(v_action)\n",
        "        total_reward += reward\n",
        "        state = next_state\n",
        "\n",
        "    return {'states': states, 'u_actions': u_actions, 'v_actions': v_actions, 'total_reward': total_reward}\n",
        "\n",
        "\n",
        "def train_agents(u_agent, v_agent, env, n_epochs, n_sessions, epsilon, test=False):\n",
        "    last_mean_reward = 0\n",
        "    mean_rewards = []\n",
        "    \n",
        "    for epoch in range(n_epochs):\n",
        "        sessions = [generate_session(u_agent, v_agent, env, test=test) for _ in range(n_sessions)]\n",
        "        mean_reward = np.mean([session['total_reward'] for session in sessions])\n",
        "        if not test:\n",
        "            u_agent.fit(sessions, prefix='u_')\n",
        "        v_agent.fit(sessions, prefix='v_')\n",
        "        mean_rewards.append(mean_reward)\n",
        "        print('epoch: {0}, mean reward: {1}'.format(epoch, mean_reward))\n",
        "        # if epoch > 0:\n",
        "        #    clear_output(True)\n",
        "        #    plt.plot(range(len(mean_rewards)), mean_rewards)\n",
        "        #    plt.show()\n",
        "        if np.abs(last_mean_reward - mean_reward) < epsilon:\n",
        "            break\n",
        "        last_mean_reward = mean_reward\n",
        "        \n",
        "    return np.array(mean_rewards)"
      ],
      "execution_count": 0,
      "outputs": []
    },
    {
      "cell_type": "code",
      "metadata": {
        "id": "EXE4PAqKJ1Se",
        "colab_type": "code",
        "colab": {}
      },
      "source": [
        "env = UnequalGame()\n",
        "u_agent = CCEMAgent((2,), (1,), percentile_param=30, action_max=env.u_action_max, reward_param=-1)\n",
        "v_agent = CCEMAgent((2,), (1,), percentile_param=70, action_max=env.v_action_max, reward_param=1)\n",
        "n_epochs = 100\n",
        "n_sessions = 100\n",
        "epsilon = 1e-5"
      ],
      "execution_count": 0,
      "outputs": []
    },
    {
      "cell_type": "code",
      "metadata": {
        "scrolled": true,
        "id": "IB5KIRc2J1Sg",
        "colab_type": "code",
        "outputId": "49ec2e79-f2a1-4ada-98b8-2c1d800079df",
        "colab": {
          "base_uri": "https://localhost:8080/",
          "height": 485
        }
      },
      "source": [
        "mean_rewards = train_agents(u_agent, v_agent, env, n_epochs, n_sessions, epsilon)"
      ],
      "execution_count": 31,
      "outputs": [
        {
          "output_type": "stream",
          "text": [
            "epoch: 0, mean reward: 0.019658425073639515\n",
            "epoch: 1, mean reward: 0.022179398666156803\n",
            "epoch: 2, mean reward: 0.020313495977859343\n",
            "epoch: 3, mean reward: 0.015208927025795516\n",
            "epoch: 4, mean reward: 0.013012712885092965\n",
            "epoch: 5, mean reward: 0.015763255596393525\n",
            "epoch: 6, mean reward: 0.014572483317015786\n",
            "epoch: 7, mean reward: 0.012451494443542726\n",
            "epoch: 8, mean reward: 0.01483293300140761\n",
            "epoch: 9, mean reward: 0.01272557182709947\n",
            "epoch: 10, mean reward: 0.011924703276487862\n",
            "epoch: 11, mean reward: 0.009027588623316169\n",
            "epoch: 12, mean reward: 0.009436746240919332\n",
            "epoch: 13, mean reward: 0.009289378509097274\n",
            "epoch: 14, mean reward: 0.008106100532800281\n",
            "epoch: 15, mean reward: 0.008819824142909206\n",
            "epoch: 16, mean reward: 0.007471419118457081\n",
            "epoch: 17, mean reward: 0.006881737730531272\n",
            "epoch: 18, mean reward: 0.005081635447918963\n",
            "epoch: 19, mean reward: 0.006202045510729768\n",
            "epoch: 20, mean reward: 0.005922405555579995\n",
            "epoch: 21, mean reward: 0.005951093920402107\n",
            "epoch: 22, mean reward: 0.0058977114575982734\n",
            "epoch: 23, mean reward: 0.005438316890266914\n",
            "epoch: 24, mean reward: 0.005377872683881401\n",
            "epoch: 25, mean reward: 0.005111941014325866\n",
            "epoch: 26, mean reward: 0.00510334870395642\n"
          ],
          "name": "stdout"
        }
      ]
    },
    {
      "cell_type": "code",
      "metadata": {
        "id": "YDn0VPMmJ1Sk",
        "colab_type": "code",
        "outputId": "83380823-bf1a-4429-d9c9-7aee8a755f42",
        "colab": {
          "base_uri": "https://localhost:8080/",
          "height": 295
        }
      },
      "source": [
        "plt.plot(range(len(mean_rewards)), mean_rewards, '--')\n",
        "plt.xlabel('epoch')\n",
        "plt.ylabel('Mean reward')\n",
        "plt.title('Mean train rewards over epochs')\n",
        "plt.show()"
      ],
      "execution_count": 25,
      "outputs": [
        {
          "output_type": "display_data",
          "data": {
            "image/png": "[encoded data removed]",
            "text/plain": [
              "<Figure size 432x288 with 1 Axes>"
            ]
          },
          "metadata": {
            "tags": [],
            "needs_background": "light"
          }
        }
      ]
    },
    {
      "cell_type": "markdown",
      "metadata": {
        "id": "RrkkxFDSJ1Sn",
        "colab_type": "text"
      },
      "source": [
        "Test u_gent"
      ]
    },
    {
      "cell_type": "code",
      "metadata": {
        "id": "hJe3A4XBJ1Sn",
        "colab_type": "code",
        "colab": {}
      },
      "source": [
        "v_test_agent = CCEMAgent((2,), (1,), percentile_param=70, action_max=env.v_action_max, reward_param=1)"
      ],
      "execution_count": 0,
      "outputs": []
    },
    {
      "cell_type": "code",
      "metadata": {
        "id": "yzC4Sb2QJ1Sq",
        "colab_type": "code",
        "outputId": "521808fd-05b9-41bf-ee30-ebfe9929a1cb",
        "colab": {
          "base_uri": "https://localhost:8080/",
          "height": 1000
        }
      },
      "source": [
        "test_rewards = train_agents(u_agent, v_test_agent, env, 500, n_sessions, epsilon, test=True)"
      ],
      "execution_count": 27,
      "outputs": [
        {
          "output_type": "stream",
          "text": [
            "epoch: 0, mean reward: 0.6082094671662404\n",
            "epoch: 1, mean reward: 0.6772510803439505\n",
            "epoch: 2, mean reward: 0.7178929459490735\n",
            "epoch: 3, mean reward: 0.7702305702245913\n",
            "epoch: 4, mean reward: 0.8291032567611819\n",
            "epoch: 5, mean reward: 0.8758818739018018\n",
            "epoch: 6, mean reward: 0.9264806847902036\n",
            "epoch: 7, mean reward: 0.9745634278921912\n",
            "epoch: 8, mean reward: 1.016709325571104\n",
            "epoch: 9, mean reward: 1.0572583570522922\n",
            "epoch: 10, mean reward: 1.0953745443564789\n",
            "epoch: 11, mean reward: 1.1339932051397466\n",
            "epoch: 12, mean reward: 1.1707481161635995\n",
            "epoch: 13, mean reward: 1.2189765992387338\n",
            "epoch: 14, mean reward: 1.2586807290645465\n",
            "epoch: 15, mean reward: 1.2822847285975671\n",
            "epoch: 16, mean reward: 1.3182555964764773\n",
            "epoch: 17, mean reward: 1.3541202833315362\n",
            "epoch: 18, mean reward: 1.3705683996079165\n",
            "epoch: 19, mean reward: 1.3839911595679997\n",
            "epoch: 20, mean reward: 1.4127500024983035\n",
            "epoch: 21, mean reward: 1.4441861903799835\n",
            "epoch: 22, mean reward: 1.481149636154305\n",
            "epoch: 23, mean reward: 1.510958147506239\n",
            "epoch: 24, mean reward: 1.556611502237865\n",
            "epoch: 25, mean reward: 1.5960433369579639\n",
            "epoch: 26, mean reward: 1.6153388610076735\n",
            "epoch: 27, mean reward: 1.6422431787728378\n",
            "epoch: 28, mean reward: 1.6673854271391886\n",
            "epoch: 29, mean reward: 1.6907871788693245\n",
            "epoch: 30, mean reward: 1.7171031564364332\n",
            "epoch: 31, mean reward: 1.743110103484965\n",
            "epoch: 32, mean reward: 1.765803227848209\n",
            "epoch: 33, mean reward: 1.7972515568691543\n",
            "epoch: 34, mean reward: 1.8290534729394141\n",
            "epoch: 35, mean reward: 1.8388013157144079\n",
            "epoch: 36, mean reward: 1.868269852633289\n",
            "epoch: 37, mean reward: 1.8808909741231281\n",
            "epoch: 38, mean reward: 1.8961969942927899\n",
            "epoch: 39, mean reward: 1.9169352789110883\n",
            "epoch: 40, mean reward: 1.959140527618829\n",
            "epoch: 41, mean reward: 1.980639747746383\n",
            "epoch: 42, mean reward: 2.000110801208814\n",
            "epoch: 43, mean reward: 2.0240149145473345\n",
            "epoch: 44, mean reward: 2.036803403046559\n",
            "epoch: 45, mean reward: 2.0679099673210635\n",
            "epoch: 46, mean reward: 2.0903516240928792\n",
            "epoch: 47, mean reward: 2.115942964933367\n",
            "epoch: 48, mean reward: 2.14343133414585\n",
            "epoch: 49, mean reward: 2.1638083045843435\n",
            "epoch: 50, mean reward: 2.180421653918434\n",
            "epoch: 51, mean reward: 2.1973815382122077\n",
            "epoch: 52, mean reward: 2.2100908815121287\n",
            "epoch: 53, mean reward: 2.234959720702895\n",
            "epoch: 54, mean reward: 2.260075776171311\n",
            "epoch: 55, mean reward: 2.2807690347364185\n",
            "epoch: 56, mean reward: 2.2888799273107083\n",
            "epoch: 57, mean reward: 2.3057883684872498\n",
            "epoch: 58, mean reward: 2.3168031958906457\n",
            "epoch: 59, mean reward: 2.3268094767858596\n",
            "epoch: 60, mean reward: 2.344823298904549\n",
            "epoch: 61, mean reward: 2.3675107988359967\n",
            "epoch: 62, mean reward: 2.38574173764337\n",
            "epoch: 63, mean reward: 2.4039166746604765\n",
            "epoch: 64, mean reward: 2.414785326327377\n",
            "epoch: 65, mean reward: 2.4258752768569085\n",
            "epoch: 66, mean reward: 2.4369175076209726\n",
            "epoch: 67, mean reward: 2.453753304737923\n",
            "epoch: 68, mean reward: 2.4692655399310506\n",
            "epoch: 69, mean reward: 2.4817916365280217\n",
            "epoch: 70, mean reward: 2.502789485764592\n",
            "epoch: 71, mean reward: 2.51903352967088\n",
            "epoch: 72, mean reward: 2.5368811972693477\n",
            "epoch: 73, mean reward: 2.542830169880482\n",
            "epoch: 74, mean reward: 2.5495203410620446\n",
            "epoch: 75, mean reward: 2.5581774755157283\n",
            "epoch: 76, mean reward: 2.5725811726153944\n",
            "epoch: 77, mean reward: 2.5827097786222852\n",
            "epoch: 78, mean reward: 2.590193652359096\n",
            "epoch: 79, mean reward: 2.5998000476761725\n",
            "epoch: 80, mean reward: 2.6193872175228123\n",
            "epoch: 81, mean reward: 2.6369931038173218\n",
            "epoch: 82, mean reward: 2.6441022229803695\n",
            "epoch: 83, mean reward: 2.65853518386876\n",
            "epoch: 84, mean reward: 2.6671742493620134\n",
            "epoch: 85, mean reward: 2.6771718751423275\n",
            "epoch: 86, mean reward: 2.685715330483528\n",
            "epoch: 87, mean reward: 2.6982608882868213\n",
            "epoch: 88, mean reward: 2.7056227965341857\n",
            "epoch: 89, mean reward: 2.7177337135780952\n",
            "epoch: 90, mean reward: 2.7259649650799327\n",
            "epoch: 91, mean reward: 2.732252589714382\n",
            "epoch: 92, mean reward: 2.7436384177562876\n",
            "epoch: 93, mean reward: 2.7513010844418\n",
            "epoch: 94, mean reward: 2.759584907181175\n",
            "epoch: 95, mean reward: 2.7652022162798833\n",
            "epoch: 96, mean reward: 2.7755288900525152\n",
            "epoch: 97, mean reward: 2.784567871812844\n",
            "epoch: 98, mean reward: 2.795698589787761\n",
            "epoch: 99, mean reward: 2.8052297676145264\n",
            "epoch: 100, mean reward: 2.812953023378941\n",
            "epoch: 101, mean reward: 2.819504668134919\n",
            "epoch: 102, mean reward: 2.828201753856127\n",
            "epoch: 103, mean reward: 2.8362901190717698\n",
            "epoch: 104, mean reward: 2.842597722988619\n",
            "epoch: 105, mean reward: 2.850343309408558\n",
            "epoch: 106, mean reward: 2.85618582853018\n",
            "epoch: 107, mean reward: 2.8616253237372704\n",
            "epoch: 108, mean reward: 2.8664331483672174\n",
            "epoch: 109, mean reward: 2.8745767069838797\n",
            "epoch: 110, mean reward: 2.8807315590631184\n",
            "epoch: 111, mean reward: 2.884279094079274\n",
            "epoch: 112, mean reward: 2.8916628151012334\n",
            "epoch: 113, mean reward: 2.897927789472297\n",
            "epoch: 114, mean reward: 2.903122384417961\n",
            "epoch: 115, mean reward: 2.9060228785116795\n",
            "epoch: 116, mean reward: 2.9119830166704896\n",
            "epoch: 117, mean reward: 2.9149058337339397\n",
            "epoch: 118, mean reward: 2.922276574207016\n",
            "epoch: 119, mean reward: 2.924250668314233\n",
            "epoch: 120, mean reward: 2.931301643978342\n",
            "epoch: 121, mean reward: 2.934886829616108\n",
            "epoch: 122, mean reward: 2.938041419696109\n",
            "epoch: 123, mean reward: 2.939995141668043\n",
            "epoch: 124, mean reward: 2.942217467782441\n",
            "epoch: 125, mean reward: 2.9419088989773443\n",
            "epoch: 126, mean reward: 2.9433181221063807\n",
            "epoch: 127, mean reward: 2.9441067126933866\n",
            "epoch: 128, mean reward: 2.9447717935173277\n",
            "epoch: 129, mean reward: 2.9482550740044156\n",
            "epoch: 130, mean reward: 2.9490369185415717\n",
            "epoch: 131, mean reward: 2.946643936111223\n",
            "epoch: 132, mean reward: 2.9486741425301313\n",
            "epoch: 133, mean reward: 2.948446545216728\n",
            "epoch: 134, mean reward: 2.948567411195565\n",
            "epoch: 135, mean reward: 2.949354362360253\n",
            "epoch: 136, mean reward: 2.948710283411529\n",
            "epoch: 137, mean reward: 2.948992809100481\n",
            "epoch: 138, mean reward: 2.9497162526870015\n",
            "epoch: 139, mean reward: 2.949049199615234\n",
            "epoch: 140, mean reward: 2.9496969529852914\n",
            "epoch: 141, mean reward: 2.9513269507260933\n",
            "epoch: 142, mean reward: 2.951065859300714\n",
            "epoch: 143, mean reward: 2.952409010065661\n",
            "epoch: 144, mean reward: 2.9524624106308908\n",
            "epoch: 145, mean reward: 2.9521088806173115\n",
            "epoch: 146, mean reward: 2.9516218188542767\n",
            "epoch: 147, mean reward: 2.9516295345362824\n",
            "epoch: 148, mean reward: 2.9532315511776823\n",
            "epoch: 149, mean reward: 2.953893025041399\n",
            "epoch: 150, mean reward: 2.955950574311253\n",
            "epoch: 151, mean reward: 2.9548896525447264\n",
            "epoch: 152, mean reward: 2.9545783867242976\n",
            "epoch: 153, mean reward: 2.9554299720550854\n",
            "epoch: 154, mean reward: 2.956657945807122\n",
            "epoch: 155, mean reward: 2.957706083105062\n",
            "epoch: 156, mean reward: 2.958862945561553\n",
            "epoch: 157, mean reward: 2.9552889049476687\n",
            "epoch: 158, mean reward: 2.9513098664743507\n",
            "epoch: 159, mean reward: 2.9508317770303307\n",
            "epoch: 160, mean reward: 2.952374311590383\n",
            "epoch: 161, mean reward: 2.953767329953442\n",
            "epoch: 162, mean reward: 2.952672206158844\n",
            "epoch: 163, mean reward: 2.9545791347037507\n",
            "epoch: 164, mean reward: 2.956793861289548\n",
            "epoch: 165, mean reward: 2.956607338194957\n",
            "epoch: 166, mean reward: 2.9540109523257456\n",
            "epoch: 167, mean reward: 2.951830022288393\n",
            "epoch: 168, mean reward: 2.9508982379471034\n",
            "epoch: 169, mean reward: 2.9498949706091575\n",
            "epoch: 170, mean reward: 2.9526207172952894\n",
            "epoch: 171, mean reward: 2.953037461305092\n",
            "epoch: 172, mean reward: 2.9512540644257217\n",
            "epoch: 173, mean reward: 2.949924636024321\n",
            "epoch: 174, mean reward: 2.949872744541318\n",
            "epoch: 175, mean reward: 2.95255669382853\n",
            "epoch: 176, mean reward: 2.953479249017204\n",
            "epoch: 177, mean reward: 2.9541858860110954\n",
            "epoch: 178, mean reward: 2.957785707365839\n",
            "epoch: 179, mean reward: 2.958305790532366\n",
            "epoch: 180, mean reward: 2.960415810248421\n",
            "epoch: 181, mean reward: 2.9607697797897408\n",
            "epoch: 182, mean reward: 2.960027768826367\n",
            "epoch: 183, mean reward: 2.9564609786400426\n",
            "epoch: 184, mean reward: 2.95575995485176\n",
            "epoch: 185, mean reward: 2.9554034945762373\n",
            "epoch: 186, mean reward: 2.958103740816038\n",
            "epoch: 187, mean reward: 2.9570088595547652\n",
            "epoch: 188, mean reward: 2.9588360265308067\n",
            "epoch: 189, mean reward: 2.960342690119987\n",
            "epoch: 190, mean reward: 2.9602269993044006\n",
            "epoch: 191, mean reward: 2.960463845555489\n",
            "epoch: 192, mean reward: 2.9581279668827354\n",
            "epoch: 193, mean reward: 2.9579022516373272\n",
            "epoch: 194, mean reward: 2.957051738478352\n",
            "epoch: 195, mean reward: 2.9557536966140656\n",
            "epoch: 196, mean reward: 2.954995264648431\n",
            "epoch: 197, mean reward: 2.9571672072122523\n",
            "epoch: 198, mean reward: 2.9584252057102725\n",
            "epoch: 199, mean reward: 2.958057692066066\n"
          ],
          "name": "stdout"
        }
      ]
    },
    {
      "cell_type": "code",
      "metadata": {
        "id": "i7ZITn34J1Ss",
        "colab_type": "code",
        "outputId": "e0ef7f04-d64f-484f-a2fc-b59bb844e574",
        "colab": {
          "base_uri": "https://localhost:8080/",
          "height": 295
        }
      },
      "source": [
        "plt.plot(range(len(test_rewards)), test_rewards, '--')\n",
        "plt.xlabel('epoch')\n",
        "plt.ylabel('Mean reward')\n",
        "plt.title('Mean test rewards over epochs')\n",
        "plt.show()"
      ],
      "execution_count": 28,
      "outputs": [
        {
          "output_type": "display_data",
          "data": {
            "image/png": "[encoded data removed]",
            "text/plain": [
              "<Figure size 432x288 with 1 Axes>"
            ]
          },
          "metadata": {
            "tags": [],
            "needs_background": "light"
          }
        }
      ]
    },
    {
      "cell_type": "code",
      "metadata": {
        "id": "3aR-GlF-f0Yg",
        "colab_type": "code",
        "colab": {}
      },
      "source": [
        ""
      ],
      "execution_count": 0,
      "outputs": []
    }
  ]
}