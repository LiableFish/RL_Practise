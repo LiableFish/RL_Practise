{
  "nbformat": 4,
  "nbformat_minor": 0,
  "metadata": {
    "kernelspec": {
      "display_name": "Python 3",
      "language": "python",
      "name": "python3"
    },
    "language_info": {
      "codemirror_mode": {
        "name": "ipython",
        "version": 3
      },
      "file_extension": ".py",
      "mimetype": "text/x-python",
      "name": "python",
      "nbconvert_exporter": "python",
      "pygments_lexer": "ipython3",
      "version": "3.7.3"
    },
    "colab": {
      "name": "UnequalGameImplementation.ipynb",
      "provenance": [],
      "toc_visible": true
    }
  },
  "cells": [
    {
      "cell_type": "markdown",
      "metadata": {
        "id": "x7CyocjBJ1SP",
        "colab_type": "text"
      },
      "source": [
        "## Unequal Game solution with CCEM method"
      ]
    },
    {
      "cell_type": "code",
      "metadata": {
        "id": "AABSYH3vJ1SR",
        "colab_type": "code",
        "colab": {}
      },
      "source": [
        "import torch\n",
        "import numpy as np\n",
        "import matplotlib.pyplot as plt\n",
        "from copy import deepcopy"
      ],
      "execution_count": 2,
      "outputs": []
    },
    {
      "cell_type": "markdown",
      "metadata": {
        "id": "_cZE6eLK2MdR",
        "colab_type": "text"
      },
      "source": [
        "# Calculating optimal guaranteed results"
      ]
    },
    {
      "cell_type": "markdown",
      "metadata": {
        "id": "X9eLwv6LY4xn",
        "colab_type": "text"
      },
      "source": [
        "Let's find guaranteed results\n"
      ]
    },
    {
      "cell_type": "markdown",
      "metadata": {
        "id": "oKfpwnUFMYsK",
        "colab_type": "text"
      },
      "source": [
        "Definitions\n",
        "\n",
        "\\begin{gather*}\n",
        "\\Gamma^u = \\min_{u(\\cdot)}\\max_{v(\\cdot)} \\gamma(u,\\, v), \\quad \n",
        "\\Gamma^v = \\max_{v(\\cdot)}\\min_{u(\\cdot)} \\gamma(u,\\, v), \\\\\n",
        "\\tilde{\\Gamma}^u = \\min_{u(\\cdot,\\, \\cdot)}\\max_{v(\\cdot,\\, \\cdot)} \\gamma(u, v), \\quad \n",
        "\\tilde{\\Gamma}^v = \\max_{v(\\cdot,\\, \\cdot)}\\min_{u(\\cdot,\\, \\cdot)} \\gamma(u, v), \\\\\\\\\n",
        "\\Gamma^v \\leqslant \\tilde{\\Gamma}^v \\leqslant  \\tilde{\\Gamma}^v \\leqslant \\Gamma^u.\n",
        "\\end{gather*}"
      ]
    },
    {
      "cell_type": "markdown",
      "metadata": {
        "id": "QjyRmxcvY_pQ",
        "colab_type": "text"
      },
      "source": [
        "Our differential game model\n",
        "\n",
        "\\begin{gather*}\n",
        "\\begin{cases}\n",
        "\\dot{x} = u(t,\\,x) - v(t,\\,x), \\quad t \\in [0, 2],\\\\\n",
        "x(0) = 1, \\\\\n",
        "|u| \\leqslant 2, \\quad |v| \\leqslant 1.\n",
        "\\end{cases}, \\\\ \\\\\n",
        "\\gamma(u,\\, v) = x^2(2) = \\left(1 + \\int\\limits_0^2 u(t, x)\\,dt - \\int\\limits_0^2 v(t, x)\\,dt \\right)^2 = (1 +U(x) + V(x))^2, \\\\|U| \\leqslant 4, \\quad |V| \\leqslant 2, \\\\ \\\\\n",
        "\\Gamma^u = 4, \\quad \\Gamma^v = \\tilde{\\Gamma}^v = \\tilde{\\Gamma}^v = 0.\n",
        "\\end{gather*}"
      ]
    },
    {
      "cell_type": "markdown",
      "metadata": {
        "id": "vAd2UkykbgJ0",
        "colab_type": "text"
      },
      "source": [
        "Compute $\\Gamma^u$\n",
        "\n",
        "\\begin{gather*}\n",
        "\\max_V \\gamma(U,\\, V) = \\max\\left\\{\\gamma(U,\\, 2),\\, \\gamma(U,\\, -2)\\right\\}, \\\\ \\\\\n",
        "\\gamma(U, 2) - \\gamma(U, -2) = -8(1+U).\n",
        "\\end{gather*}\n",
        "\n",
        "Case 1:\n",
        "\\begin{gather*}\n",
        "\\max_V \\gamma(U,\\, V) = \\gamma(U,\\, 2) \\; \\Longrightarrow \\; U \\leqslant -1 \\; \\Longrightarrow \\; \\Gamma^u = \\min_U \\gamma(U\\,2) = \\gamma(-1, 2) = 4.\n",
        "\\end{gather*}\n",
        "\n",
        "Case 2:\n",
        "\\begin{gather*}\n",
        "\\max_V \\gamma(U,\\, V) = \\gamma(U,\\, -2) \\; \\Longrightarrow \\; U \\geqslant -1 \\; \\Longrightarrow \\; \\Gamma^u = \\min_U \\gamma(U\\,-2) = \\gamma(-1, -2) = 4.\n",
        "\\end{gather*}\n"
      ]
    },
    {
      "cell_type": "markdown",
      "metadata": {
        "id": "E4J4HcicfuGC",
        "colab_type": "text"
      },
      "source": [
        "Compute $\\Gamma^v$\n",
        "\n",
        "\\begin{gather*}\n",
        "\\frac{\\partial}{\\partial U} \\gamma(U,\\,V) = 2(1 + U - V) = 0 \\;\\Longrightarrow\\; U = V - 1 \\Longrightarrow\\; \\Gamma^v = \\max_{V}\\gamma(V-1,\\,V) = 0\n",
        "\\end{gather*}"
      ]
    },
    {
      "cell_type": "markdown",
      "metadata": {
        "id": "20rbj4TTllV8",
        "colab_type": "text"
      },
      "source": [
        "Compute $\\tilde{\\Gamma}^u$\n",
        "\n",
        "\\begin{gather*}\n",
        "\\forall U, V \\quad \\tilde{\\Gamma}^u \\geqslant 0, \\\\ \\\\\n",
        "U(x) = - 4 \\cdot \\text{sign}(x) \\;\\Longrightarrow\\; \\gamma(U,\\, V) = \\max_{V}(1 - 4 \\cdot \\text{sign}(x) - V(x))^2\n",
        "\\end{gather*}"
      ]
    },
    {
      "cell_type": "markdown",
      "metadata": {
        "id": "VhvN61Hitl5J",
        "colab_type": "text"
      },
      "source": [
        "Compute $\\tilde{\\Gamma}^v$\n",
        "\n",
        "\\begin{gather*}\n",
        "0 = \\Gamma^v \\leqslant \\tilde{\\Gamma}^v \\leqslant \\tilde{\\Gamma}^u = 0 \\; \\Longrightarrow \\; \\tilde{\\Gamma}^v = 0.\n",
        "\\end{gather*}"
      ]
    },
    {
      "cell_type": "markdown",
      "metadata": {
        "id": "fKQpP3ao2VR6",
        "colab_type": "text"
      },
      "source": [
        "# Code implementation"
      ]
    },
    {
      "cell_type": "markdown",
      "metadata": {
        "id": "T5YRCc2MJ1SU",
        "colab_type": "text"
      },
      "source": [
        "## Implement environment"
      ]
    },
    {
      "cell_type": "code",
      "metadata": {
        "id": "Fj46-jGRJ1SV",
        "colab_type": "code",
        "colab": {}
      },
      "source": [
        "class UnequalGame:\n",
        "    \"\"\"Unequal game environment implementation for RL practise\"\"\"\n",
        "\n",
        "    def __init__(self, initial_x=1, dt=0.1, terminal_time=2, u_action_max=2, v_action_max=1):\n",
        "        \"\"\"Create an environment\n",
        "        :param initial_x: starting point for u_agent\n",
        "        :param dt: time rate\n",
        "        :param terminal_time: stopping time\n",
        "        :param u_action_max: maximum action value for u_agent\n",
        "        :param v_action_max: maximum action value for v_agent\n",
        "        \"\"\"\n",
        "        self.u_action_max = u_action_max\n",
        "        self.v_action_max = v_action_max\n",
        "        self.terminal_time = terminal_time\n",
        "        self.dt = dt\n",
        "        self.initial_x = initial_x\n",
        "        self.state = self.reset()\n",
        "\n",
        "    def reset(self):\n",
        "        \"\"\"Reset environment state for a new game session\n",
        "        :return: starting state\n",
        "        \"\"\"\n",
        "        self.state = np.array([0, self.initial_x])\n",
        "        return self.state\n",
        "\n",
        "    def step(self, u_action, v_action):\n",
        "        \"\"\"Generate a new environment state under the actions of agents\n",
        "        :param u_action: u_agent action\n",
        "        :param v_action: v_agent action\n",
        "        :return: new state, reward, done flag, None\n",
        "        \"\"\"\n",
        "        t, x = self.state\n",
        "        x = x + (u_action - v_action) * self.dt\n",
        "        t += self.dt\n",
        "        self.state = np.array([t, x])\n",
        "\n",
        "        reward = 0\n",
        "        done = False\n",
        "        if t >= self.terminal_time:\n",
        "            reward = x ** 2\n",
        "            done = True\n",
        "\n",
        "        return self.state, reward, done, None\n"
      ],
      "execution_count": 128,
      "outputs": []
    },
    {
      "cell_type": "markdown",
      "metadata": {
        "id": "01OM_i5PJ1SX",
        "colab_type": "text"
      },
      "source": [
        "## Implement agent"
      ]
    },
    {
      "cell_type": "code",
      "metadata": {
        "id": "7S80KcE1J1SY",
        "colab_type": "code",
        "colab": {}
      },
      "source": [
        "class Network(torch.nn.Module):\n",
        "    \"\"\"Neural network for an agent\"\"\"\n",
        "\n",
        "    def __init__(self, input_shape, output_shape):\n",
        "        \"\"\"Create new network\n",
        "        :param input_shape: input data shape\n",
        "        :param output_shape: output data shape\n",
        "        \"\"\"\n",
        "        super().__init__()\n",
        "        self.linear_1 = torch.nn.Linear(input_shape[0], 50)\n",
        "        self.linear_2 = torch.nn.Linear(50, 30)\n",
        "        self.linear_3 = torch.nn.Linear(30, output_shape[0])\n",
        "        self.relu = torch.nn.ReLU()\n",
        "        self.tang = torch.nn.Tanh()\n",
        "\n",
        "    def forward(self, input_):\n",
        "        \"\"\"Network step\n",
        "        :param input_: input data\n",
        "        :return: network output result\n",
        "        \"\"\"\n",
        "        hidden = self.relu(self.linear_1(input_))\n",
        "        hidden = self.relu(self.linear_2(hidden))\n",
        "        output = self.tang(self.linear_3(hidden))\n",
        "        return output\n",
        "\n",
        "\n",
        "class CCEMAgent(torch.nn.Module):\n",
        "    \"\"\"Continuous cross-entropy method agent implementation\"\"\"\n",
        "\n",
        "    def __init__(self, state_shape, action_shape, action_max, reward_param=1, percentile_param=70, noise_decrease=0.98,\n",
        "                 tau=1e-2, learning_rate=1e-2, n_learning_per_fit=16, mini_batch_size=200):\n",
        "        \"\"\"Create new agent\n",
        "        :param state_shape: environment's state shape\n",
        "        :param action_shape: agent's action shape\n",
        "        :param action_max: maximum action value\n",
        "        :param reward_param: equal to 1 if agent wants to maximize reward otherwise -1\n",
        "        :param percentile_param: percentile to get elite sessions\n",
        "        :param noise_decrease: noise decrease value\n",
        "        :param tau: network weights updating rate\n",
        "        :param learning_rate: learning rate for gradient descent method\n",
        "        :param n_learning_per_fit: number of network updating weights iterations per fit\n",
        "        \"\"\"\n",
        "        super().__init__()\n",
        "        self.action_max = np.abs(action_max)\n",
        "        self.reward_param = reward_param\n",
        "        self.percentile_param = percentile_param\n",
        "        self.noise_decrease = noise_decrease\n",
        "        self.noise_threshold = 1\n",
        "        self.min_noise_threshold = 0.1\n",
        "        self.tau = tau\n",
        "        self.n_learning_per_fit = n_learning_per_fit\n",
        "        self.mini_batch_size = mini_batch_size\n",
        "        self.network = Network(state_shape, action_shape)\n",
        "        self.optimizer = torch.optim.Adam(params=self.network.parameters(), lr=learning_rate)\n",
        "\n",
        "    def get_action(self, state, test=False):\n",
        "        \"\"\"Get an action by current state\n",
        "        :param state: current environment state\n",
        "        :param test: if True noise will not be added and will be otherwise\n",
        "        :return: predicted action\n",
        "        \"\"\"\n",
        "        state = torch.FloatTensor(state)\n",
        "        predicted_action = self.network(state).detach().numpy() * self.action_max\n",
        "        if not test:\n",
        "            noise = self.noise_threshold * np.random.uniform(low=-self.action_max, high=self.action_max)\n",
        "            predicted_action = np.clip(predicted_action + noise, -self.action_max, self.action_max)\n",
        "        return predicted_action\n",
        "\n",
        "    def get_elite_states_and_actions(self, sessions):\n",
        "        \"\"\"Select sessions with the most or least reward by percentile\n",
        "        :param sessions: list of sessions to choose elite ones from\n",
        "        :return: elite states, elite actions\n",
        "        \"\"\"\n",
        "        total_rewards = [session['total_reward'] for session in sessions]\n",
        "        reward_threshold = np.percentile(total_rewards, self.percentile_param)\n",
        "        \n",
        "        elite_states = []\n",
        "        elite_actions = []\n",
        "        for session in sessions:\n",
        "            if self.reward_param * (session['total_reward'] - reward_threshold) > 0:\n",
        "                elite_states.extend(session['states'])\n",
        "                elite_actions.extend(session[f'{self}actions'])\n",
        "\n",
        "        return torch.FloatTensor(elite_states), torch.FloatTensor(elite_actions)\n",
        "\n",
        "    def learn_network(self, loss):\n",
        "        \"\"\"Update network weights by optimize loss\n",
        "        :param loss: loss function to optimize\n",
        "        :return: None\n",
        "        \"\"\"\n",
        "        self.optimizer.zero_grad()\n",
        "        old_network = deepcopy(self.network)\n",
        "        loss.backward()\n",
        "        self.optimizer.step()\n",
        "\n",
        "        for new_parameter, old_parameter in zip(self.network.parameters(), old_network.parameters()):\n",
        "            new_parameter.data.copy_(self.tau * new_parameter + (1 - self.tau) * old_parameter)\n",
        "\n",
        "        return None\n",
        "\n",
        "    def fit(self, sessions):\n",
        "        \"\"\"Fitting process using mini-batches\n",
        "        :param sessions: sessions to fit on\n",
        "        :return: None\n",
        "        \"\"\"\n",
        "        elite_states, elite_actions = self.get_elite_states_and_actions(sessions)\n",
        "\n",
        "        for _ in range(self.n_learning_per_fit):\n",
        "            mini_batch_idxs = np.random.choice(range(elite_states.shape[0]), size=self.mini_batch_size)\n",
        "            mini_batch_states = elite_states[mini_batch_idxs]\n",
        "            mini_batch_actions = elite_actions[mini_batch_idxs]\n",
        "\n",
        "            predicted_action = self.network(mini_batch_states) * self.action_max\n",
        "            loss = torch.mean((predicted_action - mini_batch_actions) ** 2)\n",
        "            self.learn_network(loss)\n",
        "\n",
        "        if self.noise_threshold > self.min_noise_threshold:\n",
        "            self.noise_threshold *= self.noise_decrease\n",
        "\n",
        "        return None\n",
        "\n",
        "    def __str__(self):\n",
        "        \"\"\"An agent string representation to define if it is u_agent or v_agent\n",
        "        :return: string representation\n",
        "        \"\"\"\n",
        "        return 'u_' if self.reward_param == -1 else 'v_'\n"
      ],
      "execution_count": 4,
      "outputs": []
    },
    {
      "cell_type": "markdown",
      "metadata": {
        "id": "GiiiimQO6Sip",
        "colab_type": "text"
      },
      "source": [
        "## Generate sessions"
      ]
    },
    {
      "cell_type": "code",
      "metadata": {
        "id": "RrjBLPuDJ1Sb",
        "colab_type": "code",
        "colab": {}
      },
      "source": [
        "def generate_session(first_agent, second_agent, env, test=False):\n",
        "    \"\"\"Generate session on environment with agents\n",
        "    :param first_agent: first agent (u_agent by default)\n",
        "    :param second_agent: second agent (v_agent by default)\n",
        "    :param env: environment\n",
        "    :param test: if True first agent will not add noise in get_action method\n",
        "    :return: session dict wit states, first agent actions, second agent actions and total rewards\n",
        "    \"\"\"\n",
        "    states = []\n",
        "    first_agent_actions = []\n",
        "    second_agent_actions = []\n",
        "    total_reward = 0\n",
        "    done = False\n",
        "    state = env.reset()\n",
        "    while not done:\n",
        "        first_agent_action = first_agent.get_action(state, test=test)\n",
        "        second_agent_action = second_agent.get_action(state)\n",
        "        actions = (first_agent_action[0], second_agent_action[0]) if str(first_agent) == 'u_' else (second_agent_action[0], first_agent_action[0])\n",
        "        next_state, reward, done, _ = env.step(*actions)\n",
        "        states.append(state)\n",
        "        first_agent_actions.append(first_agent_action)\n",
        "        second_agent_actions.append(second_agent_action)\n",
        "        total_reward += reward\n",
        "        state = next_state\n",
        "\n",
        "    return {'states': states,\n",
        "            f'{first_agent}actions': first_agent_actions,\n",
        "            f'{second_agent}actions': second_agent_actions,\n",
        "            'total_reward': total_reward}\n",
        "\n"
      ],
      "execution_count": 5,
      "outputs": []
    },
    {
      "cell_type": "markdown",
      "metadata": {
        "id": "cAwsBQXn6X_F",
        "colab_type": "text"
      },
      "source": [
        "## Fit one epoch"
      ]
    },
    {
      "cell_type": "code",
      "metadata": {
        "id": "EK6wNInF6Xad",
        "colab_type": "code",
        "colab": {}
      },
      "source": [
        "def fit_epoch(u_agent, v_agent, env, n_sessions, test):\n",
        "    \"\"\"Fit agents during an one epoch\n",
        "    :param u_agent: agent that wants to minimize reward\n",
        "    :param v_agent: agent that wants to maximize reward\n",
        "    :param env: environment\n",
        "    :param n_sessions: number of sessions\n",
        "    :param test: if True u_agent will not be fitted\n",
        "    :return: mean reward over sessions\n",
        "    \"\"\"\n",
        "    sessions = [generate_session(u_agent, v_agent, env, test=test) for _ in range(n_sessions)]\n",
        "    mean_reward = np.mean([session['total_reward'] for session in sessions])\n",
        "    if not test:\n",
        "        u_agent.fit(sessions)\n",
        "    v_agent.fit(sessions)\n",
        "    return mean_reward\n",
        "    "
      ],
      "execution_count": 6,
      "outputs": []
    },
    {
      "cell_type": "markdown",
      "metadata": {
        "id": "0fTW3tWbHyiu",
        "colab_type": "text"
      },
      "source": [
        "## Test agents"
      ]
    },
    {
      "cell_type": "code",
      "metadata": {
        "id": "PUU1ytZhHca5",
        "colab_type": "code",
        "colab": {}
      },
      "source": [
        "def test_agent(u_agent, env, n_epochs, n_sessions, epsilon):\n",
        "    \"\"\"Test u_agent by fit a new v_agent\n",
        "    :param u_agent: agent to test (must be u_agent type)\n",
        "    :param env: environment\n",
        "    :param n_epochs: number of epochs to fit\n",
        "    :param n_sessions: number of sessions for one epoch\n",
        "    :param epsilon: early stopping criterion (-1 to use all epochs)\n",
        "    :return: test rewards\n",
        "    \"\"\"\n",
        "    v_agent = CCEMAgent((2,), (1,), percentile_param=90, action_max=env.v_action_max, reward_param=1)\n",
        "    _, rewards, _ = fit_agents(u_agent, v_agent, env, n_epochs, n_sessions, epsilon, test=True)\n",
        "    return rewards\n"
      ],
      "execution_count": 7,
      "outputs": []
    },
    {
      "cell_type": "markdown",
      "metadata": {
        "id": "kzV4HKqsJ1Sb",
        "colab_type": "text"
      },
      "source": [
        "## Fit agents"
      ]
    },
    {
      "cell_type": "code",
      "metadata": {
        "id": "GY6XooSIHbeE",
        "colab_type": "code",
        "colab": {}
      },
      "source": [
        "def fit_agents(u_agent, v_agent, env, n_epochs, n_sessions,\n",
        "               epsilon, n_iter_debug=0, test=False):\n",
        "    \"\"\"Fit both agent together during several epochs\n",
        "    :param u_agent: agent that wants to minimize reward\n",
        "    :param v_agent: agent that wants to maximize reward\n",
        "    :param env: environment\n",
        "    :param n_epochs: number of epochs to fit\n",
        "    :param n_sessions: number of sessions for one epoch\n",
        "    :param epsilon: early stopping criterion (-1 to use all epochs)\n",
        "    :param n_iter_debug: number of iteration between tests\n",
        "    :param test: if True u_agent will not be fitted\n",
        "    :return: u_agent, mean rewards, test rewards\n",
        "    \"\"\"\n",
        "    last_mean_reward = 0\n",
        "    mean_rewards = []\n",
        "    test_rewards = []\n",
        "    epoch = 0\n",
        "\n",
        "    for epoch in range(n_epochs):\n",
        "\n",
        "        mean_reward = fit_epoch(u_agent, v_agent, env, n_sessions=n_sessions, test=test)\n",
        "        mean_rewards.append(mean_reward)\n",
        "        print(f'epoch: {epoch}, mean reward: {mean_reward}')\n",
        "        if np.abs(last_mean_reward - mean_reward) < epsilon:\n",
        "            break\n",
        "        last_mean_reward = mean_reward\n",
        "\n",
        "        if n_iter_debug and (epoch + 1) % n_iter_debug == 0:\n",
        "            print('\\n{:-^50}\\n'.format('TEST BEGIN'))\n",
        "            test_rewards.append(test_agent(u_agent, env, n_epochs=300, n_sessions=n_sessions, epsilon=epsilon))\n",
        "            print('\\n{:-^50}\\n'.format('TEST END'))             \n",
        "\n",
        "    return u_agent, np.array(mean_rewards), np.array(test_rewards)\n"
      ],
      "execution_count": 8,
      "outputs": []
    },
    {
      "cell_type": "markdown",
      "metadata": {
        "id": "Ts0iEOAPwNbf",
        "colab_type": "text"
      },
      "source": [
        "## Fit agents one by one"
      ]
    },
    {
      "cell_type": "code",
      "metadata": {
        "id": "6zWWu0hLwXVU",
        "colab_type": "code",
        "colab": {}
      },
      "source": [
        "def fit_agents_one_by_one(u_agent, v_agent, env, n_epochs, n_sessions,\n",
        "                          n_iter_for_fit, epsilon, n_iter_debug=0):\n",
        "    \"\"\"Fit agents ony by one during several epochs.\n",
        "    During fix number of iterations one agent will be fitted while the other will not.\n",
        "    :param u_agent: agent that wants to minimize reward\n",
        "    :param v_agent: agent that wants to maximize reward\n",
        "    :param env: environment\n",
        "    :param n_epochs: number of epochs to fit\n",
        "    :param n_sessions: number of sessions for one epoch\n",
        "    :param n_iter_for_fit: number of iterations between agent switching\n",
        "    :param epsilon: early stopping criterion (-1 to use all epochs)\n",
        "    :param n_iter_debug: number of iteration between tests\n",
        "    :return: u_agent, mean rewards, test rewards\n",
        "    \"\"\"\n",
        "    last_mean_reward = 0\n",
        "    mean_rewards = []\n",
        "    test_rewards = []\n",
        "    fit_agent = u_agent\n",
        "    wait_agent = v_agent\n",
        "    epoch = 0\n",
        "    stop = False\n",
        "\n",
        "    while not stop and epoch < n_epochs:\n",
        "\n",
        "        for _ in range(n_iter_for_fit):\n",
        "            \n",
        "            mean_reward = fit_epoch(wait_agent, fit_agent, env, n_sessions, test=True)\n",
        "            mean_rewards.append(mean_reward)\n",
        "            print(f'epoch: {epoch}, current agent: {fit_agent}, mean reward: {mean_reward}')\n",
        "            if np.abs(last_mean_reward - mean_reward) < epsilon:\n",
        "                stop = True\n",
        "                break\n",
        "            last_mean_reward = mean_reward\n",
        "\n",
        "            if n_iter_debug and (epoch + 1) % n_iter_debug == 0:\n",
        "                print('\\n{:-^50}\\n'.format('TEST BEGIN'))\n",
        "                test_rewards.append(test_agent(u_agent, env, n_epochs=300, n_sessions=n_sessions, epsilon=epsilon))\n",
        "                print('\\n{:-^50}\\n'.format('TEST END'))\n",
        "\n",
        "            epoch += 1\n",
        "            if epoch >= n_epochs:\n",
        "                break                \n",
        "\n",
        "        print('\\n')\n",
        "        wait_agent, fit_agent = fit_agent, wait_agent\n",
        "\n",
        "    return u_agent, np.array(mean_rewards), np.array(test_rewards)\n"
      ],
      "execution_count": 9,
      "outputs": []
    },
    {
      "cell_type": "markdown",
      "metadata": {
        "id": "VY5KIG4n5qAi",
        "colab_type": "text"
      },
      "source": [
        "## Fit random agent pairs"
      ]
    },
    {
      "cell_type": "code",
      "metadata": {
        "id": "To2h6mLx7cSE",
        "colab_type": "code",
        "colab": {}
      },
      "source": [
        "def fit_random_agent_pairs(u_agents, v_agents, env, n_pairs, n_epochs, n_sessions, n_iter_debug=0):\n",
        "    \"\"\" Fit random pairs of u_ and v_agents\n",
        "    :param u_agent: agent that wants to minimize reward\n",
        "    :param v_agent: agent that wants to maximize reward\n",
        "    :param env: environment\n",
        "    :param n_pairs: number of pairs to fit\n",
        "    :param n_epochs: number of epochs for one pair fit\n",
        "    :param n_sessions: number of sessions for one epoch\n",
        "    :param n_iter_debug: number of iteration between tests\n",
        "    :return: u_agent that will have overall minimum total reward, mean rewards for u_agents, test_rewards\n",
        "    \"\"\"\n",
        "    u_agents_mean_rewards = [[] for _ in range(len(u_agents))]\n",
        "    test_rewards = []\n",
        "\n",
        "    for i in range(n_pairs):\n",
        "        u_agent_idx = np.random.choice(len(u_agents))\n",
        "        v_agent_idx = np.random.choice(len(v_agents))\n",
        "        print(f'PAIR {i + 1} OF {n_pairs}')\n",
        "        print('\\n{:-^50}\\n'.format(f'U_AGENT_{u_agent_idx} VS V_AGENT_{v_agent_idx}'))\n",
        "        _, mean_rewards, _ = fit_agents(u_agents[u_agent_idx], v_agents[v_agent_idx],\n",
        "                                        env=env, n_epochs=n_epochs, n_sessions=n_sessions,\n",
        "                                        epsilon=-1, n_iter_debug=0)\n",
        "        print('\\n{:-^50}\\n'.format(''))\n",
        "\n",
        "        u_agents_mean_rewards[u_agent_idx].append(mean_rewards.min())\n",
        "\n",
        "    for i, u_agent in enumerate(u_agents):\n",
        "        print(f'\\nTESTING U_AGENT_{i}\\n')\n",
        "        test_rewards.append(test_agent(u_agent, env, n_epochs=300, n_sessions=n_sessions, epsilon=-1))\n",
        "\n",
        "    best_u_agent_idx = np.argmin([test.min() for test in test_rewards])\n",
        "    print(f'\\nBest agent is {best_u_agent_idx}, its test reward is {np.min(test_rewards[best_u_agent_idx])}\\n')\n",
        "    return u_agents[best_u_agent_idx], np.array(u_agents_mean_rewards), np.array(test_rewards)\n",
        "\n"
      ],
      "execution_count": 1,
      "outputs": []
    },
    {
      "cell_type": "markdown",
      "metadata": {
        "id": "4wR_cLRa2r7A",
        "colab_type": "text"
      },
      "source": [
        "## Plot mean rewards by epochs"
      ]
    },
    {
      "cell_type": "code",
      "metadata": {
        "id": "pI2rrGrK2w6l",
        "colab_type": "code",
        "colab": {}
      },
      "source": [
        "def plot_mean_rewards(mean_rewards, method_name, axes, test_rewards=None):\n",
        "    \"\"\"Plot mean rewards\n",
        "    :param mean_rewards: rewards to plot\n",
        "    :param method_name: fitting method name\n",
        "    :param test_rewards: test rewards to plot\n",
        "    \"\"\"\n",
        "    if test_rewards is not None:\n",
        "        ax1, ax2 = axes\n",
        "    else:\n",
        "        ax1 = axes\n",
        "    ax1.plot(range(len(mean_rewards)), mean_rewards)\n",
        "    ax1.set_xlabel('Номер эпохи')\n",
        "    ax1.set_ylabel('Средний total reward')\n",
        "    ax1.set_title(f'Среднее значение total reward для {method_name}')\n",
        "    ax1.grid()\n",
        "    if test_rewards is not None:\n",
        "        ax2.set_xlabel('Номер эпохи')\n",
        "        ax2.set_ylabel('Тестовый total reward')\n",
        "        ax2.set_title(f'Тестовое значение total reward для {method_name}')\n",
        "        for i, test_reward in enumerate(test_rewards):\n",
        "            ax2.plot(range(len(test_reward)), test_reward, label=f'После {int((i + 1) * len(mean_rewards) / len(test_rewards))} эпох')\n",
        "        ax2.legend(loc='upper left')\n",
        "        ax2.grid()\n",
        "    plt.tight_layout()\n",
        "    plt.show()  "
      ],
      "execution_count": 115,
      "outputs": []
    },
    {
      "cell_type": "markdown",
      "metadata": {
        "id": "pgUptSYv2FIK",
        "colab_type": "text"
      },
      "source": [
        "# Fitting"
      ]
    },
    {
      "cell_type": "markdown",
      "metadata": {
        "id": "LDwDnGJD5qa9",
        "colab_type": "text"
      },
      "source": [
        "## Deafualt fit"
      ]
    },
    {
      "cell_type": "code",
      "metadata": {
        "id": "EXE4PAqKJ1Se",
        "colab_type": "code",
        "colab": {}
      },
      "source": [
        "env = UnequalGame()\n",
        "u_agent = CCEMAgent((2,), (1,), percentile_param=10, action_max=env.u_action_max, reward_param=-1)\n",
        "v_agent = CCEMAgent((2,), (1,), percentile_param=90, action_max=env.v_action_max, reward_param=1)"
      ],
      "execution_count": 109,
      "outputs": []
    },
    {
      "cell_type": "code",
      "metadata": {
        "id": "_bpTd8JerT8E",
        "colab_type": "code",
        "colab": {}
      },
      "source": [
        "u_fit_agent_02, mean_rewards_02, test_rewards_02 \\\n",
        "= fit_agents(u_agent, v_agent, env, n_epochs=1000, n_sessions=100, epsilon=-1, n_iter_debug=200)"
      ],
      "execution_count": null,
      "outputs": []
    },
    {
      "cell_type": "code",
      "metadata": {
        "id": "orw6Xmrgrdww",
        "colab_type": "code",
        "colab": {
          "base_uri": "https://localhost:8080/",
          "height": 441
        },
        "outputId": "63d251d9-97cb-47a3-c53d-9ff0bd77ed1f"
      },
      "source": [
        "_, axes = plt.subplots(1, 2, figsize=(12, 6))\n",
        "plot_mean_rewards(mean_rewards, method_name='CCME метода', axes=axes, test_rewards=test_rewards)"
      ],
      "execution_count": 118,
      "outputs": [
        {
          "output_type": "display_data",
          "data": {
            "image/png": "[encoded data removed]",
            "text/plain": [
              "<Figure size 864x432 with 2 Axes>"
            ]
          },
          "metadata": {
            "tags": [],
            "needs_background": "light"
          }
        }
      ]
    },
    {
      "cell_type": "markdown",
      "metadata": {
        "id": "rsIq2Y3V5njb",
        "colab_type": "text"
      },
      "source": [
        "## Fit one by one"
      ]
    },
    {
      "cell_type": "code",
      "metadata": {
        "id": "OW1QxXVg6gYp",
        "colab_type": "code",
        "colab": {}
      },
      "source": [
        "u_agent_one_by_one = CCEMAgent((2,), (1,), percentile_param=10, action_max=env.u_action_max, reward_param=-1)\n",
        "v_agent_one_by_one = CCEMAgent((2,), (1,), percentile_param=90, action_max=env.v_action_max, reward_param=1)"
      ],
      "execution_count": 56,
      "outputs": []
    },
    {
      "cell_type": "code",
      "metadata": {
        "id": "4DV2oVjprieg",
        "colab_type": "code",
        "colab": {}
      },
      "source": [
        "u_fit_agent_one_by_one_02, mean_rewards_one_by_one_02, test_rewards_one_by_one_02 =\\\n",
        "fit_agents_one_by_one(u_agent_one_by_one, v_agent_one_by_one, env, \\\n",
        "                       n_epochs=1000, n_sessions=100, n_iter_for_fit=50, epsilon=-1, n_iter_debug=200)"
      ],
      "execution_count": null,
      "outputs": []
    },
    {
      "cell_type": "code",
      "metadata": {
        "id": "eydMMs5KryCi",
        "colab_type": "code",
        "colab": {
          "base_uri": "https://localhost:8080/",
          "height": 441
        },
        "outputId": "53ab47ee-4e9b-40be-d86c-bc22cc2c4ccc"
      },
      "source": [
        "_, (ax1, ax2) = plt.subplots(1, 2, figsize=(12, 6))\n",
        "\n",
        "c = 'b'\n",
        "l = 0\n",
        "\n",
        "for rewards in np.array_split(mean_rewards_one_by_one, 20):\n",
        "    ax1.plot(range(l, l + len(rewards)), rewards, color=c)\n",
        "    l = l + len(rewards)\n",
        "    c = 'b' if c=='g' else 'g'\n",
        "ax1.set_xlabel('Номер эпохи')\n",
        "ax1.set_ylabel('Средний total reward')\n",
        "ax1.set_title('Среднее значение total reward\\nдля метода попеременного обучения')\n",
        "ax1.legend(labels=['u_agent', 'v_agent'])\n",
        "ax1.grid()\n",
        "\n",
        "ax2.set_xlabel('Номер эпохи')\n",
        "ax2.set_ylabel('Тестовый total reward')\n",
        "ax2.set_title('Тестовое значение total reward\\nдля метода попеременного обучения')\n",
        "\n",
        "for i, test_reward in enumerate(test_rewards_one_by_one):\n",
        "    ax2.plot(range(len(test_reward)), test_reward, label=f'После {int((i + 1) * len(mean_rewards) / len(test_rewards))} эпох')\n",
        "ax2.legend(loc='upper left')\n",
        "ax2.grid()\n",
        "\n",
        "plt.tight_layout()\n",
        "plt.show()  "
      ],
      "execution_count": 123,
      "outputs": [
        {
          "output_type": "display_data",
          "data": {
            "image/png": "[encoded data removed]",
            "text/plain": [
              "<Figure size 864x432 with 2 Axes>"
            ]
          },
          "metadata": {
            "tags": [],
            "needs_background": "light"
          }
        }
      ]
    },
    {
      "cell_type": "markdown",
      "metadata": {
        "id": "348CMrbE5U5Y",
        "colab_type": "text"
      },
      "source": [
        "## Fit random pairs"
      ]
    },
    {
      "cell_type": "code",
      "metadata": {
        "id": "GZQDoMwYUcf_",
        "colab_type": "code",
        "colab": {}
      },
      "source": [
        "u_agents = [CCEMAgent((2,), (1,), percentile_param=10, action_max=env.u_action_max, reward_param=-1)\\\n",
        "            for _ in range(5)]\n",
        "v_agents = [CCEMAgent((2,), (1,), percentile_param=90, action_max=env.v_action_max, reward_param=1)\\\n",
        "            for _ in range(5)]"
      ],
      "execution_count": 103,
      "outputs": []
    },
    {
      "cell_type": "code",
      "metadata": {
        "id": "lgcN3yChr2CW",
        "colab_type": "code",
        "colab": {}
      },
      "source": [
        "u_fit_random_agent_02, mean_rewards_random_02, test_rewards_random_02 = fit_random_agent_pairs(u_agents, v_agents, env,\\\n",
        "                                                                                               n_pairs=50, n_epochs=20, n_sessions=100, n_iter_debug=10)"
      ],
      "execution_count": null,
      "outputs": []
    },
    {
      "cell_type": "code",
      "metadata": {
        "id": "WBU50PYPsb_W",
        "colab_type": "code",
        "colab": {
          "base_uri": "https://localhost:8080/",
          "height": 441
        },
        "outputId": "36a2a430-90dc-4856-8694-1d93077db6c0"
      },
      "source": [
        "_, (ax1, ax2) = plt.subplots(1, 2, figsize=(12, 6))\n",
        "\n",
        "for i, rewards in enumerate(mean_rewards_random_02):\n",
        "    ax1.plot(range(len(rewards)), rewards, label=f'u_agent_{i}')\n",
        "\n",
        "for i, test_data in enumerate(test_rewards_random_02):\n",
        "    ax2.plot(range(len(test)), test, label=f'u_agent_{i}')\n",
        "\n",
        "ax1.set_xlabel('Номер пары')\n",
        "ax1.set_ylabel('Средний total reward')\n",
        "ax1.set_title('Среднее значение total reward для метода случайных пар')\n",
        "ax1.grid()\n",
        "ax1.legend(loc='upper left')\n",
        "\n",
        "ax2.set_xlabel('Номер эпохи')\n",
        "ax2.set_ylabel('Тестовый total reward')\n",
        "ax2.set_title('Тестовое значение total reward для каждого агента')\n",
        "ax2.grid()\n",
        "ax2.legend(loc='upper left')\n",
        "plt.tight_layout()\n",
        "plt.show()"
      ],
      "execution_count": 105,
      "outputs": [
        {
          "output_type": "display_data",
          "data": {
            "image/png": "[encoded data removed]",
            "text/plain": [
              "<Figure size 864x432 with 2 Axes>"
            ]
          },
          "metadata": {
            "tags": [],
            "needs_background": "light"
          }
        }
      ]
    },
    {
      "cell_type": "markdown",
      "metadata": {
        "id": "a9PYm_lX2h-H",
        "colab_type": "text"
      },
      "source": [
        "# Testing"
      ]
    },
    {
      "cell_type": "markdown",
      "metadata": {
        "id": "MM6uZqenAZoj",
        "colab_type": "text"
      },
      "source": [
        "Getting data"
      ]
    },
    {
      "cell_type": "code",
      "metadata": {
        "id": "1Zfw7hoQAbna",
        "colab_type": "code",
        "colab": {}
      },
      "source": [
        "import pandas as pd"
      ],
      "execution_count": 22,
      "outputs": []
    },
    {
      "cell_type": "code",
      "metadata": {
        "id": "ZqdAcMD1pOpi",
        "colab_type": "code",
        "colab": {}
      },
      "source": [
        "def get_test_data(test_rewards, test_rewards_one_by_one, test_rewards_random):\n",
        "    data = np.vstack((test_rewards.max(axis=1),\\\n",
        "                      test_rewards_one_by_one.max(axis=1),\\\n",
        "                      np.apply_along_axis(lambda t: np.max(t[1]), 1, test_rewards_random)))\n",
        "    return pd.DataFrame(data=data,\\\n",
        "                        columns=[f'После {i} эпох' for i in range(200, 1001, 200)],\\\n",
        "                        index=['CCME', 'Метод отложенного обучения', 'Метод случайных пар'])"
      ],
      "execution_count": 46,
      "outputs": []
    },
    {
      "cell_type": "code",
      "metadata": {
        "id": "GH1TID87ogDz",
        "colab_type": "code",
        "colab": {}
      },
      "source": [
        "dt01_data = get_test_data(test_rewards, test_rewards_one_by_one, test_rewards_random)"
      ],
      "execution_count": 49,
      "outputs": []
    },
    {
      "cell_type": "code",
      "metadata": {
        "id": "MZaNX_lBpmLA",
        "colab_type": "code",
        "colab": {
          "base_uri": "https://localhost:8080/",
          "height": 141
        },
        "outputId": "ccf9f0c3-35a8-42fc-de7c-66bc33cd1eb5"
      },
      "source": [
        "display(dt01_data)"
      ],
      "execution_count": 51,
      "outputs": [
        {
          "output_type": "display_data",
          "data": {
            "text/html": [
              "<div>\n",
              "<style scoped>\n",
              "    .dataframe tbody tr th:only-of-type {\n",
              "        vertical-align: middle;\n",
              "    }\n",
              "\n",
              "    .dataframe tbody tr th {\n",
              "        vertical-align: top;\n",
              "    }\n",
              "\n",
              "    .dataframe thead th {\n",
              "        text-align: right;\n",
              "    }\n",
              "</style>\n",
              "<table border=\"1\" class=\"dataframe\">\n",
              "  <thead>\n",
              "    <tr style=\"text-align: right;\">\n",
              "      <th></th>\n",
              "      <th>После 200 эпох</th>\n",
              "      <th>После 400 эпох</th>\n",
              "      <th>После 600 эпох</th>\n",
              "      <th>После 800 эпох</th>\n",
              "      <th>После 1000 эпох</th>\n",
              "    </tr>\n",
              "  </thead>\n",
              "  <tbody>\n",
              "    <tr>\n",
              "      <th>CCME</th>\n",
              "      <td>2.531743</td>\n",
              "      <td>1.071827</td>\n",
              "      <td>0.578365</td>\n",
              "      <td>0.244912</td>\n",
              "      <td>0.145435</td>\n",
              "    </tr>\n",
              "    <tr>\n",
              "      <th>Метод отложенного обучения</th>\n",
              "      <td>2.764166</td>\n",
              "      <td>0.315513</td>\n",
              "      <td>0.814933</td>\n",
              "      <td>0.412310</td>\n",
              "      <td>0.216232</td>\n",
              "    </tr>\n",
              "    <tr>\n",
              "      <th>Метод случайных пар</th>\n",
              "      <td>4.785998</td>\n",
              "      <td>1.433803</td>\n",
              "      <td>1.292706</td>\n",
              "      <td>0.320886</td>\n",
              "      <td>0.155586</td>\n",
              "    </tr>\n",
              "  </tbody>\n",
              "</table>\n",
              "</div>"
            ],
            "text/plain": [
              "                            После 200 эпох  ...  После 1000 эпох\n",
              "CCME                              2.531743  ...         0.145435\n",
              "Метод отложенного обучения        2.764166  ...         0.216232\n",
              "Метод случайных пар               4.785998  ...         0.155586\n",
              "\n",
              "[3 rows x 5 columns]"
            ]
          },
          "metadata": {
            "tags": []
          }
        }
      ]
    },
    {
      "cell_type": "code",
      "metadata": {
        "id": "jU_Thvo0rc-p",
        "colab_type": "code",
        "colab": {}
      },
      "source": [
        "dt01_data.to_csv('dt01data.csv')"
      ],
      "execution_count": 124,
      "outputs": []
    },
    {
      "cell_type": "code",
      "metadata": {
        "id": "pIXuokX1sA7a",
        "colab_type": "code",
        "colab": {}
      },
      "source": [
        "dt04_data = get_test_data(test_rewards_04, test_rewards_one_by_one_04, test_rewards_random_04)"
      ],
      "execution_count": 106,
      "outputs": []
    },
    {
      "cell_type": "code",
      "metadata": {
        "id": "EtPVWzoQ3FO9",
        "colab_type": "code",
        "colab": {
          "base_uri": "https://localhost:8080/",
          "height": 141
        },
        "outputId": "15a80112-ec0f-42d7-ff8f-8da4983f353e"
      },
      "source": [
        "display(dt04_data)"
      ],
      "execution_count": 107,
      "outputs": [
        {
          "output_type": "display_data",
          "data": {
            "text/html": [
              "<div>\n",
              "<style scoped>\n",
              "    .dataframe tbody tr th:only-of-type {\n",
              "        vertical-align: middle;\n",
              "    }\n",
              "\n",
              "    .dataframe tbody tr th {\n",
              "        vertical-align: top;\n",
              "    }\n",
              "\n",
              "    .dataframe thead th {\n",
              "        text-align: right;\n",
              "    }\n",
              "</style>\n",
              "<table border=\"1\" class=\"dataframe\">\n",
              "  <thead>\n",
              "    <tr style=\"text-align: right;\">\n",
              "      <th></th>\n",
              "      <th>После 200 эпох</th>\n",
              "      <th>После 400 эпох</th>\n",
              "      <th>После 600 эпох</th>\n",
              "      <th>После 800 эпох</th>\n",
              "      <th>После 1000 эпох</th>\n",
              "    </tr>\n",
              "  </thead>\n",
              "  <tbody>\n",
              "    <tr>\n",
              "      <th>CCME</th>\n",
              "      <td>5.310801</td>\n",
              "      <td>3.510358</td>\n",
              "      <td>1.382824</td>\n",
              "      <td>0.827793</td>\n",
              "      <td>0.367557</td>\n",
              "    </tr>\n",
              "    <tr>\n",
              "      <th>Метод отложенного обучения</th>\n",
              "      <td>4.337680</td>\n",
              "      <td>2.650616</td>\n",
              "      <td>0.868043</td>\n",
              "      <td>0.362111</td>\n",
              "      <td>0.540900</td>\n",
              "    </tr>\n",
              "    <tr>\n",
              "      <th>Метод случайных пар</th>\n",
              "      <td>2.182240</td>\n",
              "      <td>1.797832</td>\n",
              "      <td>1.718631</td>\n",
              "      <td>1.449536</td>\n",
              "      <td>0.915904</td>\n",
              "    </tr>\n",
              "  </tbody>\n",
              "</table>\n",
              "</div>"
            ],
            "text/plain": [
              "                            После 200 эпох  ...  После 1000 эпох\n",
              "CCME                              5.310801  ...         0.367557\n",
              "Метод отложенного обучения        4.337680  ...         0.540900\n",
              "Метод случайных пар               2.182240  ...         0.915904\n",
              "\n",
              "[3 rows x 5 columns]"
            ]
          },
          "metadata": {
            "tags": []
          }
        }
      ]
    },
    {
      "cell_type": "code",
      "metadata": {
        "id": "LAP2d9kTriuB",
        "colab_type": "code",
        "colab": {}
      },
      "source": [
        "dt04_data.to_csv('dt04data.csv')"
      ],
      "execution_count": 125,
      "outputs": []
    },
    {
      "cell_type": "code",
      "metadata": {
        "id": "DSd6cP-F33nW",
        "colab_type": "code",
        "colab": {}
      },
      "source": [
        "dt02_data = get_test_data(test_rewards_02, test_rewards_one_by_one_02, test_rewards_random_02)"
      ],
      "execution_count": null,
      "outputs": []
    },
    {
      "cell_type": "code",
      "metadata": {
        "id": "uj8IG6Cx38es",
        "colab_type": "code",
        "colab": {}
      },
      "source": [
        "display(dt02_data)"
      ],
      "execution_count": null,
      "outputs": []
    },
    {
      "cell_type": "markdown",
      "metadata": {
        "id": "RrkkxFDSJ1Sn",
        "colab_type": "text"
      },
      "source": [
        "## Test default u_agent"
      ]
    },
    {
      "cell_type": "code",
      "metadata": {
        "id": "yzC4Sb2QJ1Sq",
        "colab_type": "code",
        "colab": {
          "base_uri": "https://localhost:8080/",
          "height": 1000
        },
        "outputId": "464d1f11-17f9-45c7-8f44-0507232343f5"
      },
      "source": [
        "test_all_rewards = test_agent(u_fit_agent, env, n_epochs=500, n_sessions=100, epsilon=-1)"
      ],
      "execution_count": null,
      "outputs": [
        {
          "output_type": "stream",
          "text": [
            "epoch: 0, mean reward: 0.003507996707928267\n",
            "epoch: 1, mean reward: 0.0036916507920475836\n",
            "epoch: 2, mean reward: 0.00339932725896286\n",
            "epoch: 3, mean reward: 0.004192329807715114\n",
            "epoch: 4, mean reward: 0.00417670637075031\n",
            "epoch: 5, mean reward: 0.004669532114430255\n",
            "epoch: 6, mean reward: 0.004483539517429621\n",
            "epoch: 7, mean reward: 0.004948342152172394\n",
            "epoch: 8, mean reward: 0.005478576379897594\n",
            "epoch: 9, mean reward: 0.004578875568456222\n",
            "epoch: 10, mean reward: 0.005645702982784707\n",
            "epoch: 11, mean reward: 0.004419662382500682\n",
            "epoch: 12, mean reward: 0.005889062445052757\n",
            "epoch: 13, mean reward: 0.005823849241829945\n",
            "epoch: 14, mean reward: 0.006943281917607003\n",
            "epoch: 15, mean reward: 0.006837341815446239\n",
            "epoch: 16, mean reward: 0.005958561520536187\n",
            "epoch: 17, mean reward: 0.006452938574946987\n",
            "epoch: 18, mean reward: 0.0061943108910926074\n",
            "epoch: 19, mean reward: 0.00725514475765924\n",
            "epoch: 20, mean reward: 0.007110331958476792\n",
            "epoch: 21, mean reward: 0.006930555734139366\n",
            "epoch: 22, mean reward: 0.007218568311805302\n",
            "epoch: 23, mean reward: 0.006751820351910977\n",
            "epoch: 24, mean reward: 0.007433182054823221\n",
            "epoch: 25, mean reward: 0.007647159007581362\n",
            "epoch: 26, mean reward: 0.007872739850844895\n",
            "epoch: 27, mean reward: 0.007858252944586992\n",
            "epoch: 28, mean reward: 0.008078656032492802\n",
            "epoch: 29, mean reward: 0.007465986293049664\n",
            "epoch: 30, mean reward: 0.008021256798292709\n",
            "epoch: 31, mean reward: 0.008111587508565275\n",
            "epoch: 32, mean reward: 0.009045316619597983\n",
            "epoch: 33, mean reward: 0.008859594587662218\n",
            "epoch: 34, mean reward: 0.009123546412433915\n",
            "epoch: 35, mean reward: 0.009111244007578173\n",
            "epoch: 36, mean reward: 0.009548249074766832\n",
            "epoch: 37, mean reward: 0.009015651658206707\n",
            "epoch: 38, mean reward: 0.009586981868327727\n",
            "epoch: 39, mean reward: 0.009982801479409793\n",
            "epoch: 40, mean reward: 0.009768654440353065\n",
            "epoch: 41, mean reward: 0.009134860038991994\n",
            "epoch: 42, mean reward: 0.009343297047384309\n",
            "epoch: 43, mean reward: 0.009253192675942741\n",
            "epoch: 44, mean reward: 0.009970245980174803\n",
            "epoch: 45, mean reward: 0.009713783390335913\n",
            "epoch: 46, mean reward: 0.010274301667788815\n",
            "epoch: 47, mean reward: 0.009892559385107908\n",
            "epoch: 48, mean reward: 0.009913243248540565\n",
            "epoch: 49, mean reward: 0.01073245179556918\n",
            "epoch: 50, mean reward: 0.010471461640082029\n",
            "epoch: 51, mean reward: 0.010619100740793825\n",
            "epoch: 52, mean reward: 0.010811331469273879\n",
            "epoch: 53, mean reward: 0.01038764057415785\n",
            "epoch: 54, mean reward: 0.010735616849280443\n",
            "epoch: 55, mean reward: 0.01119872959054276\n",
            "epoch: 56, mean reward: 0.011267535641419534\n",
            "epoch: 57, mean reward: 0.011367142062401712\n",
            "epoch: 58, mean reward: 0.011481926703588996\n",
            "epoch: 59, mean reward: 0.011951952579341407\n",
            "epoch: 60, mean reward: 0.011689756008337087\n",
            "epoch: 61, mean reward: 0.01181476434309818\n",
            "epoch: 62, mean reward: 0.011843324683286258\n",
            "epoch: 63, mean reward: 0.011582771904334717\n",
            "epoch: 64, mean reward: 0.011928234947733382\n",
            "epoch: 65, mean reward: 0.012031460340591216\n",
            "epoch: 66, mean reward: 0.012234457113573866\n",
            "epoch: 67, mean reward: 0.01224556153599979\n",
            "epoch: 68, mean reward: 0.012354214141040185\n",
            "epoch: 69, mean reward: 0.012756667880638586\n",
            "epoch: 70, mean reward: 0.012604920893457251\n",
            "epoch: 71, mean reward: 0.012734542587881923\n",
            "epoch: 72, mean reward: 0.012674918955340614\n",
            "epoch: 73, mean reward: 0.01265683041929887\n",
            "epoch: 74, mean reward: 0.012722973681593579\n",
            "epoch: 75, mean reward: 0.013283622751567515\n",
            "epoch: 76, mean reward: 0.01306249759952269\n",
            "epoch: 77, mean reward: 0.01327902024525237\n",
            "epoch: 78, mean reward: 0.012897191810638288\n",
            "epoch: 79, mean reward: 0.013357175151365417\n",
            "epoch: 80, mean reward: 0.013190335318422442\n",
            "epoch: 81, mean reward: 0.013563774096863268\n",
            "epoch: 82, mean reward: 0.013770798505939208\n",
            "epoch: 83, mean reward: 0.01350129253248825\n",
            "epoch: 84, mean reward: 0.013629472885901384\n",
            "epoch: 85, mean reward: 0.013544076656001524\n",
            "epoch: 86, mean reward: 0.013260737243323838\n",
            "epoch: 87, mean reward: 0.013981851896134923\n",
            "epoch: 88, mean reward: 0.013817709689088496\n",
            "epoch: 89, mean reward: 0.013444907730231652\n",
            "epoch: 90, mean reward: 0.013941598450747699\n",
            "epoch: 91, mean reward: 0.013792274343549526\n",
            "epoch: 92, mean reward: 0.013923576783515787\n",
            "epoch: 93, mean reward: 0.013779434649402882\n",
            "epoch: 94, mean reward: 0.013802516104986793\n",
            "epoch: 95, mean reward: 0.014024004710442012\n",
            "epoch: 96, mean reward: 0.014121744022257137\n",
            "epoch: 97, mean reward: 0.014400661658451048\n",
            "epoch: 98, mean reward: 0.014172977487077578\n",
            "epoch: 99, mean reward: 0.014197883357745893\n",
            "epoch: 100, mean reward: 0.014157286973203452\n",
            "epoch: 101, mean reward: 0.014253241384593458\n",
            "epoch: 102, mean reward: 0.01438611295237253\n",
            "epoch: 103, mean reward: 0.01422778158287975\n",
            "epoch: 104, mean reward: 0.014410977879488883\n",
            "epoch: 105, mean reward: 0.014444934652756257\n",
            "epoch: 106, mean reward: 0.01456762767682108\n",
            "epoch: 107, mean reward: 0.01486372503042151\n",
            "epoch: 108, mean reward: 0.014632141924638999\n",
            "epoch: 109, mean reward: 0.01449479379545391\n",
            "epoch: 110, mean reward: 0.014684499905808262\n",
            "epoch: 111, mean reward: 0.014697659833520081\n",
            "epoch: 112, mean reward: 0.014518496962426526\n",
            "epoch: 113, mean reward: 0.01451472354637905\n",
            "epoch: 114, mean reward: 0.014721789363368855\n",
            "epoch: 115, mean reward: 0.014579832197072479\n",
            "epoch: 116, mean reward: 0.014411073264333689\n",
            "epoch: 117, mean reward: 0.014549738895906722\n",
            "epoch: 118, mean reward: 0.014747943010940174\n",
            "epoch: 119, mean reward: 0.014938405147141367\n",
            "epoch: 120, mean reward: 0.014854223267142346\n",
            "epoch: 121, mean reward: 0.014914252317809714\n",
            "epoch: 122, mean reward: 0.014798504250238764\n",
            "epoch: 123, mean reward: 0.014565197210705318\n",
            "epoch: 124, mean reward: 0.014826762315628796\n",
            "epoch: 125, mean reward: 0.014850018878107517\n",
            "epoch: 126, mean reward: 0.014833086249815598\n",
            "epoch: 127, mean reward: 0.01502375779759232\n",
            "epoch: 128, mean reward: 0.014844252262799089\n",
            "epoch: 129, mean reward: 0.014856487965255743\n",
            "epoch: 130, mean reward: 0.01486990543266767\n",
            "epoch: 131, mean reward: 0.014708359947144842\n",
            "epoch: 132, mean reward: 0.014917936818001609\n",
            "epoch: 133, mean reward: 0.015000967906777248\n",
            "epoch: 134, mean reward: 0.014816135896933445\n",
            "epoch: 135, mean reward: 0.014878024334030477\n",
            "epoch: 136, mean reward: 0.014914798454851736\n",
            "epoch: 137, mean reward: 0.01502609591732766\n",
            "epoch: 138, mean reward: 0.01501652178982138\n",
            "epoch: 139, mean reward: 0.014992452258109917\n",
            "epoch: 140, mean reward: 0.014870256967669495\n",
            "epoch: 141, mean reward: 0.014984583362811365\n",
            "epoch: 142, mean reward: 0.0147713984580482\n",
            "epoch: 143, mean reward: 0.014987328556008513\n",
            "epoch: 144, mean reward: 0.014836335475816113\n",
            "epoch: 145, mean reward: 0.015041516865292528\n",
            "epoch: 146, mean reward: 0.014976930553168661\n",
            "epoch: 147, mean reward: 0.014966600794327998\n",
            "epoch: 148, mean reward: 0.015055567213120076\n",
            "epoch: 149, mean reward: 0.014892184262558417\n",
            "epoch: 150, mean reward: 0.015119194141899805\n",
            "epoch: 151, mean reward: 0.01500547714105613\n",
            "epoch: 152, mean reward: 0.01498331726612391\n",
            "epoch: 153, mean reward: 0.015243243573294103\n",
            "epoch: 154, mean reward: 0.01513333981017696\n",
            "epoch: 155, mean reward: 0.015138805754214071\n",
            "epoch: 156, mean reward: 0.015014474000913037\n",
            "epoch: 157, mean reward: 0.015146960245159687\n",
            "epoch: 158, mean reward: 0.015049238402690623\n",
            "epoch: 159, mean reward: 0.015055728652135492\n",
            "epoch: 160, mean reward: 0.015328248350822218\n",
            "epoch: 161, mean reward: 0.01516838033055719\n",
            "epoch: 162, mean reward: 0.015314847613441368\n",
            "epoch: 163, mean reward: 0.015349789885391187\n",
            "epoch: 164, mean reward: 0.015253802224792903\n",
            "epoch: 165, mean reward: 0.015331392667469907\n",
            "epoch: 166, mean reward: 0.015351563343877814\n",
            "epoch: 167, mean reward: 0.015288677774244884\n",
            "epoch: 168, mean reward: 0.015195560789828947\n",
            "epoch: 169, mean reward: 0.015471957976021083\n",
            "epoch: 170, mean reward: 0.015284056901759952\n",
            "epoch: 171, mean reward: 0.015347488150222409\n",
            "epoch: 172, mean reward: 0.01505281990447959\n",
            "epoch: 173, mean reward: 0.015224046768364226\n",
            "epoch: 174, mean reward: 0.015426010469177187\n",
            "epoch: 175, mean reward: 0.01538402790755542\n",
            "epoch: 176, mean reward: 0.015287556174174053\n",
            "epoch: 177, mean reward: 0.0152275649415111\n",
            "epoch: 178, mean reward: 0.015392268845362204\n",
            "epoch: 179, mean reward: 0.015294122063302907\n",
            "epoch: 180, mean reward: 0.015331870381277082\n",
            "epoch: 181, mean reward: 0.015217144177937365\n",
            "epoch: 182, mean reward: 0.015449791788431214\n",
            "epoch: 183, mean reward: 0.015402446057619437\n",
            "epoch: 184, mean reward: 0.015461224854457743\n",
            "epoch: 185, mean reward: 0.015255796551452263\n",
            "epoch: 186, mean reward: 0.015443719005660519\n",
            "epoch: 187, mean reward: 0.015259366184045857\n",
            "epoch: 188, mean reward: 0.015454724083459404\n",
            "epoch: 189, mean reward: 0.01523582306002411\n",
            "epoch: 190, mean reward: 0.015610265707135302\n",
            "epoch: 191, mean reward: 0.015329772379599687\n",
            "epoch: 192, mean reward: 0.015301748258797593\n",
            "epoch: 193, mean reward: 0.015280849253995279\n",
            "epoch: 194, mean reward: 0.015173398258106126\n",
            "epoch: 195, mean reward: 0.015460684036663931\n",
            "epoch: 196, mean reward: 0.01541525368805568\n",
            "epoch: 197, mean reward: 0.015354543136987477\n",
            "epoch: 198, mean reward: 0.015395392829252588\n",
            "epoch: 199, mean reward: 0.015312410980031794\n",
            "epoch: 200, mean reward: 0.015228592540708503\n",
            "epoch: 201, mean reward: 0.01524767735500931\n",
            "epoch: 202, mean reward: 0.015564869512137439\n",
            "epoch: 203, mean reward: 0.015473675732310977\n",
            "epoch: 204, mean reward: 0.01541012368871106\n",
            "epoch: 205, mean reward: 0.015386302227842508\n",
            "epoch: 206, mean reward: 0.01524017568185516\n",
            "epoch: 207, mean reward: 0.015333656813900566\n",
            "epoch: 208, mean reward: 0.015396791328092409\n",
            "epoch: 209, mean reward: 0.015430067934306764\n",
            "epoch: 210, mean reward: 0.015588648405321901\n",
            "epoch: 211, mean reward: 0.01540536678711028\n",
            "epoch: 212, mean reward: 0.01542260469455983\n",
            "epoch: 213, mean reward: 0.015421028771982799\n",
            "epoch: 214, mean reward: 0.015429230356308563\n",
            "epoch: 215, mean reward: 0.015403517259069582\n",
            "epoch: 216, mean reward: 0.01571190305714352\n",
            "epoch: 217, mean reward: 0.015396732005515019\n",
            "epoch: 218, mean reward: 0.015257289126361087\n",
            "epoch: 219, mean reward: 0.015359775370096182\n",
            "epoch: 220, mean reward: 0.015336576486336717\n",
            "epoch: 221, mean reward: 0.015374883558229677\n",
            "epoch: 222, mean reward: 0.015430844720031398\n",
            "epoch: 223, mean reward: 0.015433818728140914\n",
            "epoch: 224, mean reward: 0.015339497236958084\n",
            "epoch: 225, mean reward: 0.015406066584218503\n",
            "epoch: 226, mean reward: 0.015442749888465765\n",
            "epoch: 227, mean reward: 0.015513339992908668\n",
            "epoch: 228, mean reward: 0.015616319316990977\n",
            "epoch: 229, mean reward: 0.01551567807662436\n",
            "epoch: 230, mean reward: 0.015543413896562119\n",
            "epoch: 231, mean reward: 0.015532013856966892\n",
            "epoch: 232, mean reward: 0.015350557286848835\n",
            "epoch: 233, mean reward: 0.015432450649942354\n",
            "epoch: 234, mean reward: 0.015559973325948747\n",
            "epoch: 235, mean reward: 0.015405416395572446\n",
            "epoch: 236, mean reward: 0.01536977811535392\n",
            "epoch: 237, mean reward: 0.015428085857151044\n",
            "epoch: 238, mean reward: 0.015316773627477189\n",
            "epoch: 239, mean reward: 0.01542214788479782\n",
            "epoch: 240, mean reward: 0.015349392356687032\n",
            "epoch: 241, mean reward: 0.015530597961606989\n",
            "epoch: 242, mean reward: 0.015464039545679976\n",
            "epoch: 243, mean reward: 0.015210877702223262\n",
            "epoch: 244, mean reward: 0.015511167353703342\n",
            "epoch: 245, mean reward: 0.015463835219609838\n",
            "epoch: 246, mean reward: 0.015307507147427062\n",
            "epoch: 247, mean reward: 0.01545691434548308\n",
            "epoch: 248, mean reward: 0.015242314090514878\n",
            "epoch: 249, mean reward: 0.015296441507778877\n",
            "epoch: 250, mean reward: 0.0155609562505736\n",
            "epoch: 251, mean reward: 0.01562640933045258\n",
            "epoch: 252, mean reward: 0.015343641211105583\n",
            "epoch: 253, mean reward: 0.015467992925001934\n",
            "epoch: 254, mean reward: 0.015392599184799245\n",
            "epoch: 255, mean reward: 0.015257397027028814\n",
            "epoch: 256, mean reward: 0.015370097164662595\n",
            "epoch: 257, mean reward: 0.015502593345983615\n",
            "epoch: 258, mean reward: 0.015611935458540846\n",
            "epoch: 259, mean reward: 0.015313371964114014\n",
            "epoch: 260, mean reward: 0.01549441472275278\n",
            "epoch: 261, mean reward: 0.015466007878987586\n",
            "epoch: 262, mean reward: 0.015541893683347567\n",
            "epoch: 263, mean reward: 0.0154139937287964\n",
            "epoch: 264, mean reward: 0.015436741170933627\n",
            "epoch: 265, mean reward: 0.015533909411726976\n",
            "epoch: 266, mean reward: 0.015571878556784822\n",
            "epoch: 267, mean reward: 0.015344916043581194\n",
            "epoch: 268, mean reward: 0.015349327002337616\n",
            "epoch: 269, mean reward: 0.015316225109862656\n",
            "epoch: 270, mean reward: 0.01540016077756559\n",
            "epoch: 271, mean reward: 0.015520848907807005\n",
            "epoch: 272, mean reward: 0.015474577252131671\n",
            "epoch: 273, mean reward: 0.015234171964197471\n",
            "epoch: 274, mean reward: 0.015553623225029971\n",
            "epoch: 275, mean reward: 0.015334973694481856\n",
            "epoch: 276, mean reward: 0.015658711799663674\n",
            "epoch: 277, mean reward: 0.015523319702727195\n",
            "epoch: 278, mean reward: 0.01542275276463267\n",
            "epoch: 279, mean reward: 0.01545379799316405\n",
            "epoch: 280, mean reward: 0.015624620714293588\n",
            "epoch: 281, mean reward: 0.015614749743247542\n",
            "epoch: 282, mean reward: 0.015494649497366246\n",
            "epoch: 283, mean reward: 0.015515426602571006\n",
            "epoch: 284, mean reward: 0.015515478896270037\n",
            "epoch: 285, mean reward: 0.015238929815529201\n",
            "epoch: 286, mean reward: 0.015437065581165272\n",
            "epoch: 287, mean reward: 0.015580221159558589\n",
            "epoch: 288, mean reward: 0.015292156238769318\n",
            "epoch: 289, mean reward: 0.01539324710087461\n",
            "epoch: 290, mean reward: 0.015468057833430882\n",
            "epoch: 291, mean reward: 0.015248338534273547\n",
            "epoch: 292, mean reward: 0.015422655007544122\n",
            "epoch: 293, mean reward: 0.015439771112231535\n",
            "epoch: 294, mean reward: 0.015349381779055855\n",
            "epoch: 295, mean reward: 0.015466592727111664\n",
            "epoch: 296, mean reward: 0.015410739204218276\n",
            "epoch: 297, mean reward: 0.015449674091597126\n",
            "epoch: 298, mean reward: 0.015676384609412276\n",
            "epoch: 299, mean reward: 0.015559002919063375\n",
            "epoch: 300, mean reward: 0.01567308362577715\n",
            "epoch: 301, mean reward: 0.015364839046047471\n",
            "epoch: 302, mean reward: 0.015391405329907591\n",
            "epoch: 303, mean reward: 0.01555956235239103\n",
            "epoch: 304, mean reward: 0.015473340421452158\n",
            "epoch: 305, mean reward: 0.015614787004905643\n",
            "epoch: 306, mean reward: 0.015607462168577587\n",
            "epoch: 307, mean reward: 0.015519861188973949\n",
            "epoch: 308, mean reward: 0.01530110509138036\n",
            "epoch: 309, mean reward: 0.01578023067196789\n",
            "epoch: 310, mean reward: 0.01560128814963356\n",
            "epoch: 311, mean reward: 0.015749396361596443\n",
            "epoch: 312, mean reward: 0.015392460202259895\n",
            "epoch: 313, mean reward: 0.015547071265709398\n",
            "epoch: 314, mean reward: 0.015476682155957815\n",
            "epoch: 315, mean reward: 0.015459427012200423\n",
            "epoch: 316, mean reward: 0.01537128153380805\n",
            "epoch: 317, mean reward: 0.015626849825185026\n",
            "epoch: 318, mean reward: 0.015575530353599846\n",
            "epoch: 319, mean reward: 0.015679506067951137\n",
            "epoch: 320, mean reward: 0.015685814458622178\n",
            "epoch: 321, mean reward: 0.015765757146736625\n",
            "epoch: 322, mean reward: 0.0158078766610953\n",
            "epoch: 323, mean reward: 0.01555543867539137\n",
            "epoch: 324, mean reward: 0.0155285812166359\n",
            "epoch: 325, mean reward: 0.015527244875873687\n",
            "epoch: 326, mean reward: 0.015486353246855314\n",
            "epoch: 327, mean reward: 0.015682491574481927\n",
            "epoch: 328, mean reward: 0.015430710309637547\n",
            "epoch: 329, mean reward: 0.015480150188014014\n",
            "epoch: 330, mean reward: 0.015436909166573962\n",
            "epoch: 331, mean reward: 0.01562766052063315\n",
            "epoch: 332, mean reward: 0.015570999365856037\n",
            "epoch: 333, mean reward: 0.015499823257185266\n",
            "epoch: 334, mean reward: 0.015452400358721186\n",
            "epoch: 335, mean reward: 0.015645090288314883\n",
            "epoch: 336, mean reward: 0.015685724063435307\n",
            "epoch: 337, mean reward: 0.01566585665972666\n",
            "epoch: 338, mean reward: 0.015591858006644154\n",
            "epoch: 339, mean reward: 0.015352239844749187\n",
            "epoch: 340, mean reward: 0.015515292018933351\n",
            "epoch: 341, mean reward: 0.015603116867810468\n",
            "epoch: 342, mean reward: 0.0158318730367938\n",
            "epoch: 343, mean reward: 0.015702819325758597\n",
            "epoch: 344, mean reward: 0.015526611492887359\n",
            "epoch: 345, mean reward: 0.015569609213467402\n",
            "epoch: 346, mean reward: 0.01559725097744361\n",
            "epoch: 347, mean reward: 0.015382567431587682\n",
            "epoch: 348, mean reward: 0.015475617422726289\n",
            "epoch: 349, mean reward: 0.01546615146049958\n",
            "epoch: 350, mean reward: 0.01560790797097178\n",
            "epoch: 351, mean reward: 0.015498952629831435\n",
            "epoch: 352, mean reward: 0.01543328063980203\n",
            "epoch: 353, mean reward: 0.015502671107250494\n",
            "epoch: 354, mean reward: 0.015524146409895898\n",
            "epoch: 355, mean reward: 0.015473191709360566\n",
            "epoch: 356, mean reward: 0.015485914682341884\n",
            "epoch: 357, mean reward: 0.01559432992416991\n",
            "epoch: 358, mean reward: 0.015313636271215889\n",
            "epoch: 359, mean reward: 0.015669641957337874\n",
            "epoch: 360, mean reward: 0.015681837180449455\n",
            "epoch: 361, mean reward: 0.015778349638604017\n",
            "epoch: 362, mean reward: 0.01547363930564748\n",
            "epoch: 363, mean reward: 0.015632919454649133\n",
            "epoch: 364, mean reward: 0.015607102880108241\n",
            "epoch: 365, mean reward: 0.015568713250204874\n",
            "epoch: 366, mean reward: 0.015379430564082116\n",
            "epoch: 367, mean reward: 0.015574734771759684\n",
            "epoch: 368, mean reward: 0.01556721722846477\n",
            "epoch: 369, mean reward: 0.015568525014683079\n",
            "epoch: 370, mean reward: 0.01559714725684722\n",
            "epoch: 371, mean reward: 0.015574704601033107\n",
            "epoch: 372, mean reward: 0.015513507449893715\n",
            "epoch: 373, mean reward: 0.015517284019199105\n",
            "epoch: 374, mean reward: 0.015368578391017983\n",
            "epoch: 375, mean reward: 0.015504189647023336\n",
            "epoch: 376, mean reward: 0.015625069751381983\n",
            "epoch: 377, mean reward: 0.015475429438176818\n",
            "epoch: 378, mean reward: 0.015433025065688328\n",
            "epoch: 379, mean reward: 0.015422957528196501\n",
            "epoch: 380, mean reward: 0.015219914486697255\n",
            "epoch: 381, mean reward: 0.015515452832722825\n",
            "epoch: 382, mean reward: 0.0156043766320036\n",
            "epoch: 383, mean reward: 0.01559770213726369\n",
            "epoch: 384, mean reward: 0.01550946653219915\n",
            "epoch: 385, mean reward: 0.015510159600299087\n",
            "epoch: 386, mean reward: 0.01545494709900726\n",
            "epoch: 387, mean reward: 0.015540108581328219\n",
            "epoch: 388, mean reward: 0.015546911643514435\n",
            "epoch: 389, mean reward: 0.015431144227488078\n",
            "epoch: 390, mean reward: 0.015461252675671106\n",
            "epoch: 391, mean reward: 0.015551751488351029\n",
            "epoch: 392, mean reward: 0.015457583274335935\n",
            "epoch: 393, mean reward: 0.01556794017868272\n",
            "epoch: 394, mean reward: 0.015471903749243699\n",
            "epoch: 395, mean reward: 0.015431541307788486\n",
            "epoch: 396, mean reward: 0.015388832714559564\n",
            "epoch: 397, mean reward: 0.015387730529540497\n",
            "epoch: 398, mean reward: 0.015491374748597362\n",
            "epoch: 399, mean reward: 0.015294168422415997\n",
            "epoch: 400, mean reward: 0.015600009343112543\n",
            "epoch: 401, mean reward: 0.015388012924782061\n",
            "epoch: 402, mean reward: 0.015403796066467777\n",
            "epoch: 403, mean reward: 0.01537441405908489\n",
            "epoch: 404, mean reward: 0.01535642621463663\n",
            "epoch: 405, mean reward: 0.015307961996189175\n",
            "epoch: 406, mean reward: 0.015338083697269462\n",
            "epoch: 407, mean reward: 0.015511413704001246\n",
            "epoch: 408, mean reward: 0.01548932125956043\n",
            "epoch: 409, mean reward: 0.015537119382950312\n",
            "epoch: 410, mean reward: 0.015589616284508495\n",
            "epoch: 411, mean reward: 0.01553272162452354\n",
            "epoch: 412, mean reward: 0.015546683121786933\n",
            "epoch: 413, mean reward: 0.01563272094217021\n",
            "epoch: 414, mean reward: 0.015375293400303271\n",
            "epoch: 415, mean reward: 0.015617913364551698\n",
            "epoch: 416, mean reward: 0.01557511503674469\n",
            "epoch: 417, mean reward: 0.015522356193216773\n",
            "epoch: 418, mean reward: 0.015436739761451403\n",
            "epoch: 419, mean reward: 0.01567309146715563\n",
            "epoch: 420, mean reward: 0.015366456886646156\n",
            "epoch: 421, mean reward: 0.015625556682369337\n",
            "epoch: 422, mean reward: 0.015705390683862227\n",
            "epoch: 423, mean reward: 0.015538656401667548\n",
            "epoch: 424, mean reward: 0.015445150747293445\n",
            "epoch: 425, mean reward: 0.01527864607343141\n",
            "epoch: 426, mean reward: 0.015507722966736422\n",
            "epoch: 427, mean reward: 0.015558462725015425\n",
            "epoch: 428, mean reward: 0.015701169040017705\n",
            "epoch: 429, mean reward: 0.015434256088205988\n",
            "epoch: 430, mean reward: 0.015601713653999478\n",
            "epoch: 431, mean reward: 0.015479269529773274\n",
            "epoch: 432, mean reward: 0.01566401308356842\n",
            "epoch: 433, mean reward: 0.015612053493903894\n",
            "epoch: 434, mean reward: 0.015719223434185595\n",
            "epoch: 435, mean reward: 0.015391371701589692\n",
            "epoch: 436, mean reward: 0.015471370901014738\n",
            "epoch: 437, mean reward: 0.015466972659673622\n",
            "epoch: 438, mean reward: 0.015460132350698642\n",
            "epoch: 439, mean reward: 0.015385221653142555\n",
            "epoch: 440, mean reward: 0.015648372696775232\n",
            "epoch: 441, mean reward: 0.015520365604390513\n",
            "epoch: 442, mean reward: 0.015565128467729325\n",
            "epoch: 443, mean reward: 0.015564335590095773\n",
            "epoch: 444, mean reward: 0.015425624269354893\n",
            "epoch: 445, mean reward: 0.01576106851621666\n",
            "epoch: 446, mean reward: 0.015659954451644476\n",
            "epoch: 447, mean reward: 0.015453108385259332\n",
            "epoch: 448, mean reward: 0.015512232234512723\n",
            "epoch: 449, mean reward: 0.015538624170956679\n",
            "epoch: 450, mean reward: 0.015466948359368744\n",
            "epoch: 451, mean reward: 0.01564548298933064\n",
            "epoch: 452, mean reward: 0.015338621557841279\n",
            "epoch: 453, mean reward: 0.015641855045536224\n",
            "epoch: 454, mean reward: 0.015426130001056977\n",
            "epoch: 455, mean reward: 0.015449822525676522\n",
            "epoch: 456, mean reward: 0.015423759590977672\n"
          ],
          "name": "stdout"
        },
        {
          "output_type": "error",
          "ename": "KeyboardInterrupt",
          "evalue": "ignored",
          "traceback": [
            "\u001b[0;31m---------------------------------------------------------------------------\u001b[0m",
            "\u001b[0;31mKeyboardInterrupt\u001b[0m                         Traceback (most recent call last)",
            "\u001b[0;32m<ipython-input-161-3f200eedb3db>\u001b[0m in \u001b[0;36m<module>\u001b[0;34m()\u001b[0m\n\u001b[0;32m----> 1\u001b[0;31m \u001b[0mtest_all_rewards\u001b[0m \u001b[0;34m=\u001b[0m \u001b[0mtest_agent\u001b[0m\u001b[0;34m(\u001b[0m\u001b[0mu_fit_agent\u001b[0m\u001b[0;34m,\u001b[0m \u001b[0menv\u001b[0m\u001b[0;34m,\u001b[0m \u001b[0mn_epochs\u001b[0m\u001b[0;34m=\u001b[0m\u001b[0;36m500\u001b[0m\u001b[0;34m,\u001b[0m \u001b[0mn_sessions\u001b[0m\u001b[0;34m=\u001b[0m\u001b[0;36m100\u001b[0m\u001b[0;34m,\u001b[0m \u001b[0mepsilon\u001b[0m\u001b[0;34m=\u001b[0m\u001b[0;34m-\u001b[0m\u001b[0;36m1\u001b[0m\u001b[0;34m)\u001b[0m\u001b[0;34m\u001b[0m\u001b[0;34m\u001b[0m\u001b[0m\n\u001b[0m",
            "\u001b[0;32m<ipython-input-70-ad53c397525d>\u001b[0m in \u001b[0;36mtest_agent\u001b[0;34m(u_agent, env, n_epochs, n_sessions, epsilon)\u001b[0m\n\u001b[1;32m      9\u001b[0m     \"\"\"\n\u001b[1;32m     10\u001b[0m     \u001b[0mv_agent\u001b[0m \u001b[0;34m=\u001b[0m \u001b[0mCCEMAgent\u001b[0m\u001b[0;34m(\u001b[0m\u001b[0;34m(\u001b[0m\u001b[0;36m2\u001b[0m\u001b[0;34m,\u001b[0m\u001b[0;34m)\u001b[0m\u001b[0;34m,\u001b[0m \u001b[0;34m(\u001b[0m\u001b[0;36m1\u001b[0m\u001b[0;34m,\u001b[0m\u001b[0;34m)\u001b[0m\u001b[0;34m,\u001b[0m \u001b[0mpercentile_param\u001b[0m\u001b[0;34m=\u001b[0m\u001b[0;36m90\u001b[0m\u001b[0;34m,\u001b[0m \u001b[0maction_max\u001b[0m\u001b[0;34m=\u001b[0m\u001b[0menv\u001b[0m\u001b[0;34m.\u001b[0m\u001b[0mv_action_max\u001b[0m\u001b[0;34m,\u001b[0m \u001b[0mreward_param\u001b[0m\u001b[0;34m=\u001b[0m\u001b[0;36m1\u001b[0m\u001b[0;34m)\u001b[0m\u001b[0;34m\u001b[0m\u001b[0;34m\u001b[0m\u001b[0m\n\u001b[0;32m---> 11\u001b[0;31m     \u001b[0m_\u001b[0m\u001b[0;34m,\u001b[0m \u001b[0mrewards\u001b[0m\u001b[0;34m,\u001b[0m \u001b[0m_\u001b[0m \u001b[0;34m=\u001b[0m \u001b[0mfit_agents\u001b[0m\u001b[0;34m(\u001b[0m\u001b[0mu_agent\u001b[0m\u001b[0;34m,\u001b[0m \u001b[0mv_agent\u001b[0m\u001b[0;34m,\u001b[0m \u001b[0menv\u001b[0m\u001b[0;34m,\u001b[0m \u001b[0mn_epochs\u001b[0m\u001b[0;34m,\u001b[0m \u001b[0mn_sessions\u001b[0m\u001b[0;34m,\u001b[0m \u001b[0mepsilon\u001b[0m\u001b[0;34m,\u001b[0m \u001b[0mtest\u001b[0m\u001b[0;34m=\u001b[0m\u001b[0;32mTrue\u001b[0m\u001b[0;34m)\u001b[0m\u001b[0;34m\u001b[0m\u001b[0;34m\u001b[0m\u001b[0m\n\u001b[0m\u001b[1;32m     12\u001b[0m     \u001b[0;32mreturn\u001b[0m \u001b[0mrewards\u001b[0m\u001b[0;34m\u001b[0m\u001b[0;34m\u001b[0m\u001b[0m\n",
            "\u001b[0;32m<ipython-input-72-c4825158d0ac>\u001b[0m in \u001b[0;36mfit_agents\u001b[0;34m(u_agent, v_agent, env, n_epochs, n_sessions, epsilon, n_iter_debug, test)\u001b[0m\n\u001b[1;32m     19\u001b[0m     \u001b[0;32mfor\u001b[0m \u001b[0mepoch\u001b[0m \u001b[0;32min\u001b[0m \u001b[0mrange\u001b[0m\u001b[0;34m(\u001b[0m\u001b[0mn_epochs\u001b[0m\u001b[0;34m)\u001b[0m\u001b[0;34m:\u001b[0m\u001b[0;34m\u001b[0m\u001b[0;34m\u001b[0m\u001b[0m\n\u001b[1;32m     20\u001b[0m \u001b[0;34m\u001b[0m\u001b[0m\n\u001b[0;32m---> 21\u001b[0;31m         \u001b[0mmean_reward\u001b[0m \u001b[0;34m=\u001b[0m \u001b[0mfit_epoch\u001b[0m\u001b[0;34m(\u001b[0m\u001b[0mu_agent\u001b[0m\u001b[0;34m,\u001b[0m \u001b[0mv_agent\u001b[0m\u001b[0;34m,\u001b[0m \u001b[0menv\u001b[0m\u001b[0;34m,\u001b[0m \u001b[0mn_sessions\u001b[0m\u001b[0;34m=\u001b[0m\u001b[0mn_sessions\u001b[0m\u001b[0;34m,\u001b[0m \u001b[0mtest\u001b[0m\u001b[0;34m=\u001b[0m\u001b[0mtest\u001b[0m\u001b[0;34m)\u001b[0m\u001b[0;34m\u001b[0m\u001b[0;34m\u001b[0m\u001b[0m\n\u001b[0m\u001b[1;32m     22\u001b[0m         \u001b[0mmean_rewards\u001b[0m\u001b[0;34m.\u001b[0m\u001b[0mappend\u001b[0m\u001b[0;34m(\u001b[0m\u001b[0mmean_reward\u001b[0m\u001b[0;34m)\u001b[0m\u001b[0;34m\u001b[0m\u001b[0;34m\u001b[0m\u001b[0m\n\u001b[1;32m     23\u001b[0m         \u001b[0mprint\u001b[0m\u001b[0;34m(\u001b[0m\u001b[0;34mf'epoch: {epoch}, mean reward: {mean_reward}'\u001b[0m\u001b[0;34m)\u001b[0m\u001b[0;34m\u001b[0m\u001b[0;34m\u001b[0m\u001b[0m\n",
            "\u001b[0;32m<ipython-input-69-cf48552ff338>\u001b[0m in \u001b[0;36mfit_epoch\u001b[0;34m(u_agent, v_agent, env, n_sessions, test)\u001b[0m\n\u001b[1;32m      8\u001b[0m     \u001b[0;34m:\u001b[0m\u001b[0;32mreturn\u001b[0m\u001b[0;34m:\u001b[0m \u001b[0mmean\u001b[0m \u001b[0mreward\u001b[0m \u001b[0mover\u001b[0m \u001b[0msessions\u001b[0m\u001b[0;34m\u001b[0m\u001b[0;34m\u001b[0m\u001b[0m\n\u001b[1;32m      9\u001b[0m     \"\"\"\n\u001b[0;32m---> 10\u001b[0;31m     \u001b[0msessions\u001b[0m \u001b[0;34m=\u001b[0m \u001b[0;34m[\u001b[0m\u001b[0mgenerate_session\u001b[0m\u001b[0;34m(\u001b[0m\u001b[0mu_agent\u001b[0m\u001b[0;34m,\u001b[0m \u001b[0mv_agent\u001b[0m\u001b[0;34m,\u001b[0m \u001b[0menv\u001b[0m\u001b[0;34m,\u001b[0m \u001b[0mtest\u001b[0m\u001b[0;34m=\u001b[0m\u001b[0mtest\u001b[0m\u001b[0;34m)\u001b[0m \u001b[0;32mfor\u001b[0m \u001b[0m_\u001b[0m \u001b[0;32min\u001b[0m \u001b[0mrange\u001b[0m\u001b[0;34m(\u001b[0m\u001b[0mn_sessions\u001b[0m\u001b[0;34m)\u001b[0m\u001b[0;34m]\u001b[0m\u001b[0;34m\u001b[0m\u001b[0;34m\u001b[0m\u001b[0m\n\u001b[0m\u001b[1;32m     11\u001b[0m     \u001b[0mmean_reward\u001b[0m \u001b[0;34m=\u001b[0m \u001b[0mnp\u001b[0m\u001b[0;34m.\u001b[0m\u001b[0mmean\u001b[0m\u001b[0;34m(\u001b[0m\u001b[0;34m[\u001b[0m\u001b[0msession\u001b[0m\u001b[0;34m[\u001b[0m\u001b[0;34m'total_reward'\u001b[0m\u001b[0;34m]\u001b[0m \u001b[0;32mfor\u001b[0m \u001b[0msession\u001b[0m \u001b[0;32min\u001b[0m \u001b[0msessions\u001b[0m\u001b[0;34m]\u001b[0m\u001b[0;34m)\u001b[0m\u001b[0;34m\u001b[0m\u001b[0;34m\u001b[0m\u001b[0m\n\u001b[1;32m     12\u001b[0m     \u001b[0;32mif\u001b[0m \u001b[0;32mnot\u001b[0m \u001b[0mtest\u001b[0m\u001b[0;34m:\u001b[0m\u001b[0;34m\u001b[0m\u001b[0;34m\u001b[0m\u001b[0m\n",
            "\u001b[0;32m<ipython-input-69-cf48552ff338>\u001b[0m in \u001b[0;36m<listcomp>\u001b[0;34m(.0)\u001b[0m\n\u001b[1;32m      8\u001b[0m     \u001b[0;34m:\u001b[0m\u001b[0;32mreturn\u001b[0m\u001b[0;34m:\u001b[0m \u001b[0mmean\u001b[0m \u001b[0mreward\u001b[0m \u001b[0mover\u001b[0m \u001b[0msessions\u001b[0m\u001b[0;34m\u001b[0m\u001b[0;34m\u001b[0m\u001b[0m\n\u001b[1;32m      9\u001b[0m     \"\"\"\n\u001b[0;32m---> 10\u001b[0;31m     \u001b[0msessions\u001b[0m \u001b[0;34m=\u001b[0m \u001b[0;34m[\u001b[0m\u001b[0mgenerate_session\u001b[0m\u001b[0;34m(\u001b[0m\u001b[0mu_agent\u001b[0m\u001b[0;34m,\u001b[0m \u001b[0mv_agent\u001b[0m\u001b[0;34m,\u001b[0m \u001b[0menv\u001b[0m\u001b[0;34m,\u001b[0m \u001b[0mtest\u001b[0m\u001b[0;34m=\u001b[0m\u001b[0mtest\u001b[0m\u001b[0;34m)\u001b[0m \u001b[0;32mfor\u001b[0m \u001b[0m_\u001b[0m \u001b[0;32min\u001b[0m \u001b[0mrange\u001b[0m\u001b[0;34m(\u001b[0m\u001b[0mn_sessions\u001b[0m\u001b[0;34m)\u001b[0m\u001b[0;34m]\u001b[0m\u001b[0;34m\u001b[0m\u001b[0;34m\u001b[0m\u001b[0m\n\u001b[0m\u001b[1;32m     11\u001b[0m     \u001b[0mmean_reward\u001b[0m \u001b[0;34m=\u001b[0m \u001b[0mnp\u001b[0m\u001b[0;34m.\u001b[0m\u001b[0mmean\u001b[0m\u001b[0;34m(\u001b[0m\u001b[0;34m[\u001b[0m\u001b[0msession\u001b[0m\u001b[0;34m[\u001b[0m\u001b[0;34m'total_reward'\u001b[0m\u001b[0;34m]\u001b[0m \u001b[0;32mfor\u001b[0m \u001b[0msession\u001b[0m \u001b[0;32min\u001b[0m \u001b[0msessions\u001b[0m\u001b[0;34m]\u001b[0m\u001b[0;34m)\u001b[0m\u001b[0;34m\u001b[0m\u001b[0;34m\u001b[0m\u001b[0m\n\u001b[1;32m     12\u001b[0m     \u001b[0;32mif\u001b[0m \u001b[0;32mnot\u001b[0m \u001b[0mtest\u001b[0m\u001b[0;34m:\u001b[0m\u001b[0;34m\u001b[0m\u001b[0;34m\u001b[0m\u001b[0m\n",
            "\u001b[0;32m<ipython-input-68-f22e2bd40ff8>\u001b[0m in \u001b[0;36mgenerate_session\u001b[0;34m(first_agent, second_agent, env, test)\u001b[0m\n\u001b[1;32m     15\u001b[0m     \u001b[0;32mwhile\u001b[0m \u001b[0;32mnot\u001b[0m \u001b[0mdone\u001b[0m\u001b[0;34m:\u001b[0m\u001b[0;34m\u001b[0m\u001b[0;34m\u001b[0m\u001b[0m\n\u001b[1;32m     16\u001b[0m         \u001b[0mfirst_agent_action\u001b[0m \u001b[0;34m=\u001b[0m \u001b[0mfirst_agent\u001b[0m\u001b[0;34m.\u001b[0m\u001b[0mget_action\u001b[0m\u001b[0;34m(\u001b[0m\u001b[0mstate\u001b[0m\u001b[0;34m,\u001b[0m \u001b[0mtest\u001b[0m\u001b[0;34m=\u001b[0m\u001b[0mtest\u001b[0m\u001b[0;34m)\u001b[0m\u001b[0;34m\u001b[0m\u001b[0;34m\u001b[0m\u001b[0m\n\u001b[0;32m---> 17\u001b[0;31m         \u001b[0msecond_agent_action\u001b[0m \u001b[0;34m=\u001b[0m \u001b[0msecond_agent\u001b[0m\u001b[0;34m.\u001b[0m\u001b[0mget_action\u001b[0m\u001b[0;34m(\u001b[0m\u001b[0mstate\u001b[0m\u001b[0;34m)\u001b[0m\u001b[0;34m\u001b[0m\u001b[0;34m\u001b[0m\u001b[0m\n\u001b[0m\u001b[1;32m     18\u001b[0m         \u001b[0mactions\u001b[0m \u001b[0;34m=\u001b[0m \u001b[0;34m(\u001b[0m\u001b[0mfirst_agent_action\u001b[0m\u001b[0;34m[\u001b[0m\u001b[0;36m0\u001b[0m\u001b[0;34m]\u001b[0m\u001b[0;34m,\u001b[0m \u001b[0msecond_agent_action\u001b[0m\u001b[0;34m[\u001b[0m\u001b[0;36m0\u001b[0m\u001b[0;34m]\u001b[0m\u001b[0;34m)\u001b[0m \u001b[0;32mif\u001b[0m \u001b[0mstr\u001b[0m\u001b[0;34m(\u001b[0m\u001b[0mfirst_agent\u001b[0m\u001b[0;34m)\u001b[0m \u001b[0;34m==\u001b[0m \u001b[0;34m'u_'\u001b[0m \u001b[0;32melse\u001b[0m \u001b[0;34m(\u001b[0m\u001b[0msecond_agent_action\u001b[0m\u001b[0;34m[\u001b[0m\u001b[0;36m0\u001b[0m\u001b[0;34m]\u001b[0m\u001b[0;34m,\u001b[0m \u001b[0mfirst_agent_action\u001b[0m\u001b[0;34m[\u001b[0m\u001b[0;36m0\u001b[0m\u001b[0;34m]\u001b[0m\u001b[0;34m)\u001b[0m\u001b[0;34m\u001b[0m\u001b[0;34m\u001b[0m\u001b[0m\n\u001b[1;32m     19\u001b[0m         \u001b[0mnext_state\u001b[0m\u001b[0;34m,\u001b[0m \u001b[0mreward\u001b[0m\u001b[0;34m,\u001b[0m \u001b[0mdone\u001b[0m\u001b[0;34m,\u001b[0m \u001b[0m_\u001b[0m \u001b[0;34m=\u001b[0m \u001b[0menv\u001b[0m\u001b[0;34m.\u001b[0m\u001b[0mstep\u001b[0m\u001b[0;34m(\u001b[0m\u001b[0;34m*\u001b[0m\u001b[0mactions\u001b[0m\u001b[0;34m)\u001b[0m\u001b[0;34m\u001b[0m\u001b[0;34m\u001b[0m\u001b[0m\n",
            "\u001b[0;32m<ipython-input-67-11456184dfdf>\u001b[0m in \u001b[0;36mget_action\u001b[0;34m(self, state, test)\u001b[0m\n\u001b[1;32m     60\u001b[0m         \u001b[0;34m:\u001b[0m\u001b[0;32mreturn\u001b[0m\u001b[0;34m:\u001b[0m \u001b[0mpredicted\u001b[0m \u001b[0maction\u001b[0m\u001b[0;34m\u001b[0m\u001b[0;34m\u001b[0m\u001b[0m\n\u001b[1;32m     61\u001b[0m         \"\"\"\n\u001b[0;32m---> 62\u001b[0;31m         \u001b[0mstate\u001b[0m \u001b[0;34m=\u001b[0m \u001b[0mtorch\u001b[0m\u001b[0;34m.\u001b[0m\u001b[0mFloatTensor\u001b[0m\u001b[0;34m(\u001b[0m\u001b[0mstate\u001b[0m\u001b[0;34m)\u001b[0m\u001b[0;34m\u001b[0m\u001b[0;34m\u001b[0m\u001b[0m\n\u001b[0m\u001b[1;32m     63\u001b[0m         \u001b[0mpredicted_action\u001b[0m \u001b[0;34m=\u001b[0m \u001b[0mself\u001b[0m\u001b[0;34m.\u001b[0m\u001b[0mnetwork\u001b[0m\u001b[0;34m(\u001b[0m\u001b[0mstate\u001b[0m\u001b[0;34m)\u001b[0m\u001b[0;34m.\u001b[0m\u001b[0mdetach\u001b[0m\u001b[0;34m(\u001b[0m\u001b[0;34m)\u001b[0m\u001b[0;34m.\u001b[0m\u001b[0mnumpy\u001b[0m\u001b[0;34m(\u001b[0m\u001b[0;34m)\u001b[0m \u001b[0;34m*\u001b[0m \u001b[0mself\u001b[0m\u001b[0;34m.\u001b[0m\u001b[0maction_max\u001b[0m\u001b[0;34m\u001b[0m\u001b[0;34m\u001b[0m\u001b[0m\n\u001b[1;32m     64\u001b[0m         \u001b[0;32mif\u001b[0m \u001b[0;32mnot\u001b[0m \u001b[0mtest\u001b[0m\u001b[0;34m:\u001b[0m\u001b[0;34m\u001b[0m\u001b[0;34m\u001b[0m\u001b[0m\n",
            "\u001b[0;31mKeyboardInterrupt\u001b[0m: "
          ]
        }
      ]
    },
    {
      "cell_type": "code",
      "metadata": {
        "id": "i7ZITn34J1Ss",
        "colab_type": "code",
        "colab": {
          "base_uri": "https://localhost:8080/",
          "height": 166
        },
        "outputId": "22c4d838-c8c9-479d-f713-30b6ac681f67"
      },
      "source": [
        "plot_mean_rewards(test_all_rewards, method_name='default test')"
      ],
      "execution_count": null,
      "outputs": [
        {
          "output_type": "error",
          "ename": "NameError",
          "evalue": "ignored",
          "traceback": [
            "\u001b[0;31m---------------------------------------------------------------------------\u001b[0m",
            "\u001b[0;31mNameError\u001b[0m                                 Traceback (most recent call last)",
            "\u001b[0;32m<ipython-input-2-641bc3baa8ae>\u001b[0m in \u001b[0;36m<module>\u001b[0;34m()\u001b[0m\n\u001b[0;32m----> 1\u001b[0;31m \u001b[0mplot_mean_rewards\u001b[0m\u001b[0;34m(\u001b[0m\u001b[0mtest_all_rewards\u001b[0m\u001b[0;34m,\u001b[0m \u001b[0mmethod_name\u001b[0m\u001b[0;34m=\u001b[0m\u001b[0;34m'default test'\u001b[0m\u001b[0;34m)\u001b[0m\u001b[0;34m\u001b[0m\u001b[0;34m\u001b[0m\u001b[0m\n\u001b[0m",
            "\u001b[0;31mNameError\u001b[0m: name 'plot_mean_rewards' is not defined"
          ]
        }
      ]
    },
    {
      "cell_type": "markdown",
      "metadata": {
        "id": "3aR-GlF-f0Yg",
        "colab_type": "text"
      },
      "source": [
        "## Test u_agent_one_by_one"
      ]
    },
    {
      "cell_type": "code",
      "metadata": {
        "id": "KZorei8v7Np4",
        "colab_type": "code",
        "colab": {
          "base_uri": "https://localhost:8080/",
          "height": 1000
        },
        "outputId": "418ea011-e011-49e1-bf22-8c0d4d0966fe"
      },
      "source": [
        "test_all_rewards_one_by_one = test_agent(u_fit_agent_one_by_one, env, n_epochs=300, n_sessions=100, epsilon=-1)"
      ],
      "execution_count": null,
      "outputs": [
        {
          "output_type": "stream",
          "text": [
            "epoch: 0, mean reward: 0.07319811196143744\n",
            "epoch: 1, mean reward: 0.06890123473450535\n",
            "epoch: 2, mean reward: 0.0798624197715336\n",
            "epoch: 3, mean reward: 0.08116376768210863\n",
            "epoch: 4, mean reward: 0.08858028646218234\n",
            "epoch: 5, mean reward: 0.08876197338732932\n",
            "epoch: 6, mean reward: 0.09630715418981843\n",
            "epoch: 7, mean reward: 0.0962805614286661\n",
            "epoch: 8, mean reward: 0.10849297535751591\n",
            "epoch: 9, mean reward: 0.11562145106666852\n",
            "epoch: 10, mean reward: 0.11509647829097357\n",
            "epoch: 11, mean reward: 0.12422997060717568\n",
            "epoch: 12, mean reward: 0.13068993000930718\n",
            "epoch: 13, mean reward: 0.13720342351714787\n",
            "epoch: 14, mean reward: 0.1435977738343907\n",
            "epoch: 15, mean reward: 0.1385472857094977\n",
            "epoch: 16, mean reward: 0.15628931397083204\n",
            "epoch: 17, mean reward: 0.1620305561787726\n",
            "epoch: 18, mean reward: 0.16720180267217735\n",
            "epoch: 19, mean reward: 0.18073012087903859\n",
            "epoch: 20, mean reward: 0.18473101336403933\n",
            "epoch: 21, mean reward: 0.1980909285969309\n",
            "epoch: 22, mean reward: 0.21320416655938668\n",
            "epoch: 23, mean reward: 0.20607452260924725\n",
            "epoch: 24, mean reward: 0.21910277391721472\n",
            "epoch: 25, mean reward: 0.22543356309236984\n",
            "epoch: 26, mean reward: 0.2372772553300865\n",
            "epoch: 27, mean reward: 0.2443101894900467\n",
            "epoch: 28, mean reward: 0.24342929674080507\n",
            "epoch: 29, mean reward: 0.2551603469298965\n",
            "epoch: 30, mean reward: 0.26545115886252924\n",
            "epoch: 31, mean reward: 0.26597443986656155\n",
            "epoch: 32, mean reward: 0.2774039772069636\n",
            "epoch: 33, mean reward: 0.2741235659106087\n",
            "epoch: 34, mean reward: 0.28210517364756166\n",
            "epoch: 35, mean reward: 0.29124588219225767\n",
            "epoch: 36, mean reward: 0.2955480280612729\n",
            "epoch: 37, mean reward: 0.2995121602420718\n",
            "epoch: 38, mean reward: 0.29898303843735524\n",
            "epoch: 39, mean reward: 0.3090605430935867\n",
            "epoch: 40, mean reward: 0.3042942006636899\n",
            "epoch: 41, mean reward: 0.3007151115851569\n",
            "epoch: 42, mean reward: 0.31387386718043275\n",
            "epoch: 43, mean reward: 0.3134655837912204\n",
            "epoch: 44, mean reward: 0.3220608448023221\n",
            "epoch: 45, mean reward: 0.3173757121612436\n",
            "epoch: 46, mean reward: 0.3200778047653043\n",
            "epoch: 47, mean reward: 0.3288524333852491\n",
            "epoch: 48, mean reward: 0.3304067621031884\n",
            "epoch: 49, mean reward: 0.3370663265342991\n",
            "epoch: 50, mean reward: 0.3291858422266347\n",
            "epoch: 51, mean reward: 0.3379719829932277\n",
            "epoch: 52, mean reward: 0.3363781122963403\n",
            "epoch: 53, mean reward: 0.3358995892768224\n",
            "epoch: 54, mean reward: 0.33885380686183575\n",
            "epoch: 55, mean reward: 0.3391391897092076\n",
            "epoch: 56, mean reward: 0.34837952426860563\n",
            "epoch: 57, mean reward: 0.34429627739403307\n",
            "epoch: 58, mean reward: 0.3497529186148715\n",
            "epoch: 59, mean reward: 0.34870997436607815\n",
            "epoch: 60, mean reward: 0.350314687224501\n",
            "epoch: 61, mean reward: 0.34910042507410155\n",
            "epoch: 62, mean reward: 0.34840840248476596\n",
            "epoch: 63, mean reward: 0.35397305671553186\n",
            "epoch: 64, mean reward: 0.3538414629067547\n",
            "epoch: 65, mean reward: 0.35689852745731926\n",
            "epoch: 66, mean reward: 0.35665417307867403\n",
            "epoch: 67, mean reward: 0.3588367970300876\n",
            "epoch: 68, mean reward: 0.35955564159508735\n",
            "epoch: 69, mean reward: 0.35700964528453505\n",
            "epoch: 70, mean reward: 0.3610554639547423\n",
            "epoch: 71, mean reward: 0.36185579042430766\n",
            "epoch: 72, mean reward: 0.36603334178909236\n",
            "epoch: 73, mean reward: 0.359274787538475\n",
            "epoch: 74, mean reward: 0.3640223916375102\n",
            "epoch: 75, mean reward: 0.3666291475113345\n",
            "epoch: 76, mean reward: 0.365938755015172\n",
            "epoch: 77, mean reward: 0.36689539794343895\n",
            "epoch: 78, mean reward: 0.36884087315493685\n",
            "epoch: 79, mean reward: 0.3679510434315131\n",
            "epoch: 80, mean reward: 0.36723400540804946\n",
            "epoch: 81, mean reward: 0.3693777506109342\n",
            "epoch: 82, mean reward: 0.3724512189788501\n",
            "epoch: 83, mean reward: 0.3707820785011109\n",
            "epoch: 84, mean reward: 0.37377346972510994\n",
            "epoch: 85, mean reward: 0.37269882609002847\n",
            "epoch: 86, mean reward: 0.3749711128830947\n",
            "epoch: 87, mean reward: 0.37595380064054384\n",
            "epoch: 88, mean reward: 0.37511318767197266\n",
            "epoch: 89, mean reward: 0.37605955919221884\n",
            "epoch: 90, mean reward: 0.3750409976519024\n",
            "epoch: 91, mean reward: 0.37780105259816876\n",
            "epoch: 92, mean reward: 0.3813835249815224\n",
            "epoch: 93, mean reward: 0.37877413595547166\n",
            "epoch: 94, mean reward: 0.3795664845090787\n",
            "epoch: 95, mean reward: 0.3812017947263182\n",
            "epoch: 96, mean reward: 0.37894116532464706\n",
            "epoch: 97, mean reward: 0.3803895486566987\n",
            "epoch: 98, mean reward: 0.38151045370638426\n",
            "epoch: 99, mean reward: 0.38267674127952495\n",
            "epoch: 100, mean reward: 0.3833669146952219\n",
            "epoch: 101, mean reward: 0.38426320042686823\n",
            "epoch: 102, mean reward: 0.3835383125871325\n",
            "epoch: 103, mean reward: 0.38352371760455667\n",
            "epoch: 104, mean reward: 0.3867282283488621\n",
            "epoch: 105, mean reward: 0.3861184545787678\n",
            "epoch: 106, mean reward: 0.38710142550712334\n",
            "epoch: 107, mean reward: 0.38689674326796736\n",
            "epoch: 108, mean reward: 0.3893663626640048\n",
            "epoch: 109, mean reward: 0.3884061616920954\n",
            "epoch: 110, mean reward: 0.3872977603429725\n",
            "epoch: 111, mean reward: 0.3883545056745538\n",
            "epoch: 112, mean reward: 0.388693724312097\n",
            "epoch: 113, mean reward: 0.3879419283837891\n",
            "epoch: 114, mean reward: 0.38947063043630287\n",
            "epoch: 115, mean reward: 0.3884280883892997\n",
            "epoch: 116, mean reward: 0.389435773950723\n",
            "epoch: 117, mean reward: 0.3893596441333392\n",
            "epoch: 118, mean reward: 0.3904721388443695\n",
            "epoch: 119, mean reward: 0.39100365874341203\n",
            "epoch: 120, mean reward: 0.39078007203549453\n",
            "epoch: 121, mean reward: 0.3907325414259518\n",
            "epoch: 122, mean reward: 0.3905139391926093\n",
            "epoch: 123, mean reward: 0.3912304807176629\n",
            "epoch: 124, mean reward: 0.3922300093243826\n",
            "epoch: 125, mean reward: 0.3919494843666091\n",
            "epoch: 126, mean reward: 0.3922171520679597\n",
            "epoch: 127, mean reward: 0.3913667752868414\n",
            "epoch: 128, mean reward: 0.3914094210819343\n",
            "epoch: 129, mean reward: 0.3919601405602808\n",
            "epoch: 130, mean reward: 0.3926980445604268\n",
            "epoch: 131, mean reward: 0.39382923686526405\n",
            "epoch: 132, mean reward: 0.39448518037598856\n",
            "epoch: 133, mean reward: 0.394225900090894\n",
            "epoch: 134, mean reward: 0.394128269034615\n",
            "epoch: 135, mean reward: 0.39475583882543136\n",
            "epoch: 136, mean reward: 0.39562379203108367\n",
            "epoch: 137, mean reward: 0.3942469153450232\n",
            "epoch: 138, mean reward: 0.39449271643495787\n",
            "epoch: 139, mean reward: 0.3940251287657612\n",
            "epoch: 140, mean reward: 0.3940792584550416\n",
            "epoch: 141, mean reward: 0.39422657130171074\n",
            "epoch: 142, mean reward: 0.3951122698666492\n",
            "epoch: 143, mean reward: 0.3955658996370164\n",
            "epoch: 144, mean reward: 0.39509032424576845\n",
            "epoch: 145, mean reward: 0.3946075871471548\n",
            "epoch: 146, mean reward: 0.3954349232443862\n",
            "epoch: 147, mean reward: 0.3971746289788418\n",
            "epoch: 148, mean reward: 0.3955434975491369\n",
            "epoch: 149, mean reward: 0.3961804875622354\n",
            "epoch: 150, mean reward: 0.395502081539452\n",
            "epoch: 151, mean reward: 0.3958377103713426\n",
            "epoch: 152, mean reward: 0.39565407674265174\n",
            "epoch: 153, mean reward: 0.3965158903299944\n",
            "epoch: 154, mean reward: 0.3971509903318766\n",
            "epoch: 155, mean reward: 0.39658894424929053\n",
            "epoch: 156, mean reward: 0.3976479030431369\n",
            "epoch: 157, mean reward: 0.3968739705769479\n",
            "epoch: 158, mean reward: 0.3962256929433034\n",
            "epoch: 159, mean reward: 0.39721763505822594\n",
            "epoch: 160, mean reward: 0.3987620262693714\n",
            "epoch: 161, mean reward: 0.39677973650845666\n",
            "epoch: 162, mean reward: 0.39789616070208367\n",
            "epoch: 163, mean reward: 0.39789338756566617\n",
            "epoch: 164, mean reward: 0.3988286094646657\n",
            "epoch: 165, mean reward: 0.3986037057309559\n",
            "epoch: 166, mean reward: 0.3986429981104551\n",
            "epoch: 167, mean reward: 0.39980831858007176\n",
            "epoch: 168, mean reward: 0.3966859032104147\n",
            "epoch: 169, mean reward: 0.39760556602996755\n",
            "epoch: 170, mean reward: 0.3980032653303472\n",
            "epoch: 171, mean reward: 0.39995578746888605\n",
            "epoch: 172, mean reward: 0.3992120824378058\n",
            "epoch: 173, mean reward: 0.39922093882470955\n",
            "epoch: 174, mean reward: 0.398546685009719\n",
            "epoch: 175, mean reward: 0.3987832874666971\n",
            "epoch: 176, mean reward: 0.3999613589307886\n",
            "epoch: 177, mean reward: 0.3992406292007451\n",
            "epoch: 178, mean reward: 0.3979660504160341\n",
            "epoch: 179, mean reward: 0.39918203967904986\n",
            "epoch: 180, mean reward: 0.3992605613488305\n",
            "epoch: 181, mean reward: 0.3997001289494897\n",
            "epoch: 182, mean reward: 0.4007828902930802\n",
            "epoch: 183, mean reward: 0.4007301369367315\n",
            "epoch: 184, mean reward: 0.4017746903940163\n",
            "epoch: 185, mean reward: 0.3987711616718148\n",
            "epoch: 186, mean reward: 0.40119125609312467\n",
            "epoch: 187, mean reward: 0.3986335138730909\n",
            "epoch: 188, mean reward: 0.40154275438990356\n",
            "epoch: 189, mean reward: 0.3995621161469468\n",
            "epoch: 190, mean reward: 0.40067317583715156\n",
            "epoch: 191, mean reward: 0.40082551035965275\n",
            "epoch: 192, mean reward: 0.4003640920994276\n",
            "epoch: 193, mean reward: 0.4005287245617338\n",
            "epoch: 194, mean reward: 0.4009090884358612\n",
            "epoch: 195, mean reward: 0.40059063611031953\n",
            "epoch: 196, mean reward: 0.40163682344320084\n",
            "epoch: 197, mean reward: 0.40104261251427553\n",
            "epoch: 198, mean reward: 0.4015775243284163\n",
            "epoch: 199, mean reward: 0.40225765191717977\n",
            "epoch: 200, mean reward: 0.4020249960261598\n",
            "epoch: 201, mean reward: 0.40223279718396177\n",
            "epoch: 202, mean reward: 0.40274277593015756\n",
            "epoch: 203, mean reward: 0.40145250123627363\n",
            "epoch: 204, mean reward: 0.40244048331617477\n",
            "epoch: 205, mean reward: 0.4021292580826893\n",
            "epoch: 206, mean reward: 0.4016140626847659\n",
            "epoch: 207, mean reward: 0.4020068208609\n",
            "epoch: 208, mean reward: 0.40052311267234364\n",
            "epoch: 209, mean reward: 0.40126729159529106\n",
            "epoch: 210, mean reward: 0.40149003590732835\n",
            "epoch: 211, mean reward: 0.4020200652628595\n",
            "epoch: 212, mean reward: 0.4014270420815032\n",
            "epoch: 213, mean reward: 0.3991291919429537\n",
            "epoch: 214, mean reward: 0.403469469837773\n",
            "epoch: 215, mean reward: 0.40192231128561096\n",
            "epoch: 216, mean reward: 0.40171514573882994\n",
            "epoch: 217, mean reward: 0.4014885197907484\n",
            "epoch: 218, mean reward: 0.40079535639933395\n",
            "epoch: 219, mean reward: 0.401680481254121\n",
            "epoch: 220, mean reward: 0.4020300260113354\n",
            "epoch: 221, mean reward: 0.40276457666300497\n",
            "epoch: 222, mean reward: 0.4018615749782283\n",
            "epoch: 223, mean reward: 0.40205823983403216\n",
            "epoch: 224, mean reward: 0.4033423532614656\n",
            "epoch: 225, mean reward: 0.40050436348474144\n",
            "epoch: 226, mean reward: 0.40272737505004186\n",
            "epoch: 227, mean reward: 0.4030918541142753\n",
            "epoch: 228, mean reward: 0.40221203992470705\n",
            "epoch: 229, mean reward: 0.4027457330026558\n",
            "epoch: 230, mean reward: 0.40302506625798995\n",
            "epoch: 231, mean reward: 0.40133533852451075\n",
            "epoch: 232, mean reward: 0.40212461335812044\n",
            "epoch: 233, mean reward: 0.40296179482464806\n",
            "epoch: 234, mean reward: 0.4015068609990449\n",
            "epoch: 235, mean reward: 0.4011057474605918\n",
            "epoch: 236, mean reward: 0.4031003037934335\n",
            "epoch: 237, mean reward: 0.4039554910546609\n",
            "epoch: 238, mean reward: 0.4024203877609542\n",
            "epoch: 239, mean reward: 0.4020551849143616\n",
            "epoch: 240, mean reward: 0.4025016115674046\n",
            "epoch: 241, mean reward: 0.40115348466426637\n",
            "epoch: 242, mean reward: 0.4024418429824657\n",
            "epoch: 243, mean reward: 0.4033379112434897\n",
            "epoch: 244, mean reward: 0.40342838433177797\n",
            "epoch: 245, mean reward: 0.40259127761970165\n",
            "epoch: 246, mean reward: 0.4032542863720636\n",
            "epoch: 247, mean reward: 0.40213692447934885\n",
            "epoch: 248, mean reward: 0.4033234352813496\n",
            "epoch: 249, mean reward: 0.4012839475080515\n",
            "epoch: 250, mean reward: 0.40284606770839704\n",
            "epoch: 251, mean reward: 0.404843831012988\n",
            "epoch: 252, mean reward: 0.40302637688553533\n",
            "epoch: 253, mean reward: 0.4025442114886879\n",
            "epoch: 254, mean reward: 0.4034166406429114\n",
            "epoch: 255, mean reward: 0.4030065066990543\n",
            "epoch: 256, mean reward: 0.40474422192404236\n",
            "epoch: 257, mean reward: 0.4041243037933524\n",
            "epoch: 258, mean reward: 0.40521481995577185\n",
            "epoch: 259, mean reward: 0.40268906666642124\n",
            "epoch: 260, mean reward: 0.4023440899719825\n",
            "epoch: 261, mean reward: 0.4047018802782524\n",
            "epoch: 262, mean reward: 0.4031302335458334\n",
            "epoch: 263, mean reward: 0.403419827092592\n",
            "epoch: 264, mean reward: 0.40245706021465016\n",
            "epoch: 265, mean reward: 0.4030891704434627\n",
            "epoch: 266, mean reward: 0.40350699534044276\n",
            "epoch: 267, mean reward: 0.4029478020074177\n",
            "epoch: 268, mean reward: 0.4034433053661958\n",
            "epoch: 269, mean reward: 0.40355555717308306\n",
            "epoch: 270, mean reward: 0.4038846943906276\n",
            "epoch: 271, mean reward: 0.4039653985856647\n",
            "epoch: 272, mean reward: 0.4038697818949483\n",
            "epoch: 273, mean reward: 0.4023245250867104\n",
            "epoch: 274, mean reward: 0.4043042690168585\n",
            "epoch: 275, mean reward: 0.404417200225403\n",
            "epoch: 276, mean reward: 0.4032215524376631\n",
            "epoch: 277, mean reward: 0.4037861565437164\n",
            "epoch: 278, mean reward: 0.4038449044389551\n",
            "epoch: 279, mean reward: 0.40363729294410755\n",
            "epoch: 280, mean reward: 0.4043965158115445\n",
            "epoch: 281, mean reward: 0.4026136570006206\n",
            "epoch: 282, mean reward: 0.4032672898575123\n",
            "epoch: 283, mean reward: 0.4039816159454175\n",
            "epoch: 284, mean reward: 0.4047978139507887\n",
            "epoch: 285, mean reward: 0.40447070379355493\n",
            "epoch: 286, mean reward: 0.4040151572815133\n",
            "epoch: 287, mean reward: 0.40451974665141405\n",
            "epoch: 288, mean reward: 0.40355861668823073\n",
            "epoch: 289, mean reward: 0.40303329088485706\n",
            "epoch: 290, mean reward: 0.40304479352424294\n",
            "epoch: 291, mean reward: 0.404033646558891\n",
            "epoch: 292, mean reward: 0.4034557535548465\n",
            "epoch: 293, mean reward: 0.40449580655073997\n",
            "epoch: 294, mean reward: 0.4053018690728373\n",
            "epoch: 295, mean reward: 0.40407243704347756\n",
            "epoch: 296, mean reward: 0.4045347662741331\n",
            "epoch: 297, mean reward: 0.40406437537942225\n",
            "epoch: 298, mean reward: 0.40260630365898875\n",
            "epoch: 299, mean reward: 0.4040325341331867\n"
          ],
          "name": "stdout"
        }
      ]
    },
    {
      "cell_type": "code",
      "metadata": {
        "id": "cXK3jgOj7QN1",
        "colab_type": "code",
        "colab": {
          "base_uri": "https://localhost:8080/",
          "height": 585
        },
        "outputId": "d8759fe4-0ba9-408c-c611-82cab84e5de9"
      },
      "source": [
        "plot_mean_rewards(test_all_rewards_one_by_one, method_name='test one-by-one')"
      ],
      "execution_count": null,
      "outputs": [
        {
          "output_type": "display_data",
          "data": {
            "image/png": "[encoded data removed]",
            "text/plain": [
              "<Figure size 864x576 with 1 Axes>"
            ]
          },
          "metadata": {
            "tags": [],
            "needs_background": "light"
          }
        }
      ]
    },
    {
      "cell_type": "markdown",
      "metadata": {
        "id": "3X50sgCCUef2",
        "colab_type": "text"
      },
      "source": [
        "## Test u_agent_random"
      ]
    },
    {
      "cell_type": "code",
      "metadata": {
        "id": "qu2e5hPZUg9k",
        "colab_type": "code",
        "colab": {
          "base_uri": "https://localhost:8080/",
          "height": 1000
        },
        "outputId": "ce5ebe4a-3fb6-4099-e9d4-4ba9cf5a5b5c"
      },
      "source": [
        "test_all_rewards_random = test_agent(u_fit_random_agent, env, n_epochs=300, n_sessions=100, epsilon=-1)"
      ],
      "execution_count": null,
      "outputs": [
        {
          "output_type": "stream",
          "text": [
            "epoch: 0, mean reward: 0.11785251802517749\n",
            "epoch: 1, mean reward: 0.11079012388744287\n",
            "epoch: 2, mean reward: 0.11601996224890074\n",
            "epoch: 3, mean reward: 0.13798193710961848\n",
            "epoch: 4, mean reward: 0.14710131982848867\n",
            "epoch: 5, mean reward: 0.1469045848772102\n",
            "epoch: 6, mean reward: 0.15396136307153144\n",
            "epoch: 7, mean reward: 0.16127021533828043\n",
            "epoch: 8, mean reward: 0.17474642225954937\n",
            "epoch: 9, mean reward: 0.16093586291996784\n",
            "epoch: 10, mean reward: 0.18058943803358893\n",
            "epoch: 11, mean reward: 0.2015785753827717\n",
            "epoch: 12, mean reward: 0.20308371989537416\n",
            "epoch: 13, mean reward: 0.21004311919527197\n",
            "epoch: 14, mean reward: 0.2128650253513638\n",
            "epoch: 15, mean reward: 0.23265543933991867\n",
            "epoch: 16, mean reward: 0.2515355912728457\n",
            "epoch: 17, mean reward: 0.24515317447271226\n",
            "epoch: 18, mean reward: 0.26025204631110266\n",
            "epoch: 19, mean reward: 0.2691812260603194\n",
            "epoch: 20, mean reward: 0.27352131646514205\n",
            "epoch: 21, mean reward: 0.27041269771279275\n",
            "epoch: 22, mean reward: 0.2885395715407004\n",
            "epoch: 23, mean reward: 0.2899411688149479\n",
            "epoch: 24, mean reward: 0.2999455999769196\n",
            "epoch: 25, mean reward: 0.2976506410008255\n",
            "epoch: 26, mean reward: 0.30812521912538243\n",
            "epoch: 27, mean reward: 0.30716396730879647\n",
            "epoch: 28, mean reward: 0.3227824619194181\n",
            "epoch: 29, mean reward: 0.31697583041601207\n",
            "epoch: 30, mean reward: 0.32750405005512606\n",
            "epoch: 31, mean reward: 0.33095038116291137\n",
            "epoch: 32, mean reward: 0.33681530050653036\n",
            "epoch: 33, mean reward: 0.33552342274147073\n",
            "epoch: 34, mean reward: 0.3453024415885353\n",
            "epoch: 35, mean reward: 0.3476509954074794\n",
            "epoch: 36, mean reward: 0.3507260217054287\n",
            "epoch: 37, mean reward: 0.3564440032121405\n",
            "epoch: 38, mean reward: 0.3549898938314256\n",
            "epoch: 39, mean reward: 0.3589466573622424\n",
            "epoch: 40, mean reward: 0.36430955019941763\n",
            "epoch: 41, mean reward: 0.36406826039706464\n",
            "epoch: 42, mean reward: 0.3731371136006545\n",
            "epoch: 43, mean reward: 0.3682182907899819\n",
            "epoch: 44, mean reward: 0.3732194360171765\n",
            "epoch: 45, mean reward: 0.37336161207850993\n",
            "epoch: 46, mean reward: 0.3805524007100648\n",
            "epoch: 47, mean reward: 0.38086054825636045\n",
            "epoch: 48, mean reward: 0.3808741888287962\n",
            "epoch: 49, mean reward: 0.3921235372341275\n",
            "epoch: 50, mean reward: 0.39359383039693796\n",
            "epoch: 51, mean reward: 0.39432457918850394\n",
            "epoch: 52, mean reward: 0.395830037644331\n",
            "epoch: 53, mean reward: 0.3971665676846301\n",
            "epoch: 54, mean reward: 0.400479482847204\n",
            "epoch: 55, mean reward: 0.40241904640473597\n",
            "epoch: 56, mean reward: 0.4002876454460004\n",
            "epoch: 57, mean reward: 0.40519100511118344\n",
            "epoch: 58, mean reward: 0.40792686630874975\n",
            "epoch: 59, mean reward: 0.4045471551310669\n",
            "epoch: 60, mean reward: 0.40658909665393866\n",
            "epoch: 61, mean reward: 0.41015710900077534\n",
            "epoch: 62, mean reward: 0.4145262143730384\n",
            "epoch: 63, mean reward: 0.4124312405411407\n",
            "epoch: 64, mean reward: 0.4122292997128709\n",
            "epoch: 65, mean reward: 0.41341823233743163\n",
            "epoch: 66, mean reward: 0.4161418347332574\n",
            "epoch: 67, mean reward: 0.41385961929766646\n",
            "epoch: 68, mean reward: 0.4199821218450037\n",
            "epoch: 69, mean reward: 0.4154509753734908\n",
            "epoch: 70, mean reward: 0.42169842126892054\n",
            "epoch: 71, mean reward: 0.4211236839982886\n",
            "epoch: 72, mean reward: 0.4234860009130373\n",
            "epoch: 73, mean reward: 0.42448322550944034\n",
            "epoch: 74, mean reward: 0.42661178705699365\n",
            "epoch: 75, mean reward: 0.4273129411834992\n",
            "epoch: 76, mean reward: 0.4260244781833986\n",
            "epoch: 77, mean reward: 0.4309781778570826\n",
            "epoch: 78, mean reward: 0.4288062445970677\n",
            "epoch: 79, mean reward: 0.4328676022099136\n",
            "epoch: 80, mean reward: 0.4282282381617265\n",
            "epoch: 81, mean reward: 0.42812847721966224\n",
            "epoch: 82, mean reward: 0.43446354247971164\n",
            "epoch: 83, mean reward: 0.43510800647582615\n",
            "epoch: 84, mean reward: 0.43573792165737674\n",
            "epoch: 85, mean reward: 0.4358674744081527\n",
            "epoch: 86, mean reward: 0.4361892166017809\n",
            "epoch: 87, mean reward: 0.4353567216878556\n",
            "epoch: 88, mean reward: 0.4361123319224463\n",
            "epoch: 89, mean reward: 0.43765965164143944\n",
            "epoch: 90, mean reward: 0.4429359950795446\n",
            "epoch: 91, mean reward: 0.44016813424094264\n",
            "epoch: 92, mean reward: 0.43965130324528334\n",
            "epoch: 93, mean reward: 0.4438727973780696\n",
            "epoch: 94, mean reward: 0.44293309503006123\n",
            "epoch: 95, mean reward: 0.4447796851345603\n",
            "epoch: 96, mean reward: 0.4451817451200732\n",
            "epoch: 97, mean reward: 0.44433738374465986\n",
            "epoch: 98, mean reward: 0.44514073268701\n",
            "epoch: 99, mean reward: 0.4478054353002108\n",
            "epoch: 100, mean reward: 0.44733022381895265\n",
            "epoch: 101, mean reward: 0.4466057005665439\n",
            "epoch: 102, mean reward: 0.44833913907195594\n",
            "epoch: 103, mean reward: 0.44730795593425293\n",
            "epoch: 104, mean reward: 0.44956644378128535\n",
            "epoch: 105, mean reward: 0.449958235353111\n",
            "epoch: 106, mean reward: 0.45251609754419986\n",
            "epoch: 107, mean reward: 0.4513816684351739\n",
            "epoch: 108, mean reward: 0.45147284497268053\n",
            "epoch: 109, mean reward: 0.45253719488066446\n",
            "epoch: 110, mean reward: 0.4525162470111708\n",
            "epoch: 111, mean reward: 0.4536886401730689\n",
            "epoch: 112, mean reward: 0.4563121186633515\n",
            "epoch: 113, mean reward: 0.4558798944180446\n",
            "epoch: 114, mean reward: 0.4563705223056245\n",
            "epoch: 115, mean reward: 0.45708430572868514\n",
            "epoch: 116, mean reward: 0.456034691425591\n",
            "epoch: 117, mean reward: 0.4579399830862874\n",
            "epoch: 118, mean reward: 0.4591184093300695\n",
            "epoch: 119, mean reward: 0.4587945058277294\n",
            "epoch: 120, mean reward: 0.45816817105610164\n",
            "epoch: 121, mean reward: 0.4583348296764671\n",
            "epoch: 122, mean reward: 0.45649073293702536\n",
            "epoch: 123, mean reward: 0.4582733777345134\n",
            "epoch: 124, mean reward: 0.4586158852273093\n",
            "epoch: 125, mean reward: 0.45935099024760073\n",
            "epoch: 126, mean reward: 0.45909939700565827\n",
            "epoch: 127, mean reward: 0.45928802264155183\n",
            "epoch: 128, mean reward: 0.4597412625732257\n",
            "epoch: 129, mean reward: 0.45985282889782647\n",
            "epoch: 130, mean reward: 0.45996063153206185\n",
            "epoch: 131, mean reward: 0.45803968690158237\n",
            "epoch: 132, mean reward: 0.4592039880156651\n",
            "epoch: 133, mean reward: 0.4593164949530892\n",
            "epoch: 134, mean reward: 0.459112424070377\n",
            "epoch: 135, mean reward: 0.4574222622491594\n",
            "epoch: 136, mean reward: 0.46151365421661544\n",
            "epoch: 137, mean reward: 0.46283510529635774\n",
            "epoch: 138, mean reward: 0.4618805588312529\n",
            "epoch: 139, mean reward: 0.460050607733264\n",
            "epoch: 140, mean reward: 0.45913385155233266\n",
            "epoch: 141, mean reward: 0.4596736100273136\n",
            "epoch: 142, mean reward: 0.4601109796082502\n",
            "epoch: 143, mean reward: 0.4596717714194881\n",
            "epoch: 144, mean reward: 0.4617995268787523\n",
            "epoch: 145, mean reward: 0.4615367225127268\n",
            "epoch: 146, mean reward: 0.4633509312659174\n",
            "epoch: 147, mean reward: 0.46322273740963504\n",
            "epoch: 148, mean reward: 0.4627675927216478\n",
            "epoch: 149, mean reward: 0.4613497785866418\n",
            "epoch: 150, mean reward: 0.46183446664589545\n",
            "epoch: 151, mean reward: 0.46342632724419536\n",
            "epoch: 152, mean reward: 0.4643415961770085\n",
            "epoch: 153, mean reward: 0.4644592924758733\n",
            "epoch: 154, mean reward: 0.4641363779557482\n",
            "epoch: 155, mean reward: 0.46429110491697634\n",
            "epoch: 156, mean reward: 0.46485129431306904\n",
            "epoch: 157, mean reward: 0.46495483822447503\n",
            "epoch: 158, mean reward: 0.46407561171995726\n",
            "epoch: 159, mean reward: 0.4654085670092175\n",
            "epoch: 160, mean reward: 0.4664166519632348\n",
            "epoch: 161, mean reward: 0.4657830559980025\n",
            "epoch: 162, mean reward: 0.46695090058016014\n",
            "epoch: 163, mean reward: 0.46580776775643573\n",
            "epoch: 164, mean reward: 0.4638313046568115\n",
            "epoch: 165, mean reward: 0.4646752325911115\n",
            "epoch: 166, mean reward: 0.4638661826154795\n",
            "epoch: 167, mean reward: 0.46492905413880925\n",
            "epoch: 168, mean reward: 0.4644186015404231\n",
            "epoch: 169, mean reward: 0.4646766500127115\n",
            "epoch: 170, mean reward: 0.46390123624778246\n",
            "epoch: 171, mean reward: 0.4645046692454882\n",
            "epoch: 172, mean reward: 0.4648820657343576\n",
            "epoch: 173, mean reward: 0.4656063479067315\n",
            "epoch: 174, mean reward: 0.4652169664486832\n",
            "epoch: 175, mean reward: 0.46501336824683515\n",
            "epoch: 176, mean reward: 0.46600911366560793\n",
            "epoch: 177, mean reward: 0.4654110286731231\n",
            "epoch: 178, mean reward: 0.46480342363085614\n",
            "epoch: 179, mean reward: 0.46677201544986624\n",
            "epoch: 180, mean reward: 0.46693885138917524\n",
            "epoch: 181, mean reward: 0.4668761500736484\n",
            "epoch: 182, mean reward: 0.46644615786393456\n",
            "epoch: 183, mean reward: 0.4686995186774708\n",
            "epoch: 184, mean reward: 0.4666310171677661\n",
            "epoch: 185, mean reward: 0.46709995509597746\n",
            "epoch: 186, mean reward: 0.46512930958356785\n",
            "epoch: 187, mean reward: 0.4671700600794056\n"
          ],
          "name": "stdout"
        },
        {
          "output_type": "error",
          "ename": "KeyboardInterrupt",
          "evalue": "ignored",
          "traceback": [
            "\u001b[0;31m---------------------------------------------------------------------------\u001b[0m",
            "\u001b[0;31mKeyboardInterrupt\u001b[0m                         Traceback (most recent call last)",
            "\u001b[0;32m<ipython-input-159-0e74b9114a34>\u001b[0m in \u001b[0;36m<module>\u001b[0;34m()\u001b[0m\n\u001b[0;32m----> 1\u001b[0;31m \u001b[0mtest_all_rewards_random\u001b[0m \u001b[0;34m=\u001b[0m \u001b[0mtest_agent\u001b[0m\u001b[0;34m(\u001b[0m\u001b[0mu_fit_random_agent\u001b[0m\u001b[0;34m,\u001b[0m \u001b[0menv\u001b[0m\u001b[0;34m,\u001b[0m \u001b[0mn_epochs\u001b[0m\u001b[0;34m=\u001b[0m\u001b[0;36m300\u001b[0m\u001b[0;34m,\u001b[0m \u001b[0mn_sessions\u001b[0m\u001b[0;34m=\u001b[0m\u001b[0;36m100\u001b[0m\u001b[0;34m,\u001b[0m \u001b[0mepsilon\u001b[0m\u001b[0;34m=\u001b[0m\u001b[0;34m-\u001b[0m\u001b[0;36m1\u001b[0m\u001b[0;34m)\u001b[0m\u001b[0;34m\u001b[0m\u001b[0;34m\u001b[0m\u001b[0m\n\u001b[0m",
            "\u001b[0;32m<ipython-input-70-ad53c397525d>\u001b[0m in \u001b[0;36mtest_agent\u001b[0;34m(u_agent, env, n_epochs, n_sessions, epsilon)\u001b[0m\n\u001b[1;32m      9\u001b[0m     \"\"\"\n\u001b[1;32m     10\u001b[0m     \u001b[0mv_agent\u001b[0m \u001b[0;34m=\u001b[0m \u001b[0mCCEMAgent\u001b[0m\u001b[0;34m(\u001b[0m\u001b[0;34m(\u001b[0m\u001b[0;36m2\u001b[0m\u001b[0;34m,\u001b[0m\u001b[0;34m)\u001b[0m\u001b[0;34m,\u001b[0m \u001b[0;34m(\u001b[0m\u001b[0;36m1\u001b[0m\u001b[0;34m,\u001b[0m\u001b[0;34m)\u001b[0m\u001b[0;34m,\u001b[0m \u001b[0mpercentile_param\u001b[0m\u001b[0;34m=\u001b[0m\u001b[0;36m90\u001b[0m\u001b[0;34m,\u001b[0m \u001b[0maction_max\u001b[0m\u001b[0;34m=\u001b[0m\u001b[0menv\u001b[0m\u001b[0;34m.\u001b[0m\u001b[0mv_action_max\u001b[0m\u001b[0;34m,\u001b[0m \u001b[0mreward_param\u001b[0m\u001b[0;34m=\u001b[0m\u001b[0;36m1\u001b[0m\u001b[0;34m)\u001b[0m\u001b[0;34m\u001b[0m\u001b[0;34m\u001b[0m\u001b[0m\n\u001b[0;32m---> 11\u001b[0;31m     \u001b[0m_\u001b[0m\u001b[0;34m,\u001b[0m \u001b[0mrewards\u001b[0m\u001b[0;34m,\u001b[0m \u001b[0m_\u001b[0m \u001b[0;34m=\u001b[0m \u001b[0mfit_agents\u001b[0m\u001b[0;34m(\u001b[0m\u001b[0mu_agent\u001b[0m\u001b[0;34m,\u001b[0m \u001b[0mv_agent\u001b[0m\u001b[0;34m,\u001b[0m \u001b[0menv\u001b[0m\u001b[0;34m,\u001b[0m \u001b[0mn_epochs\u001b[0m\u001b[0;34m,\u001b[0m \u001b[0mn_sessions\u001b[0m\u001b[0;34m,\u001b[0m \u001b[0mepsilon\u001b[0m\u001b[0;34m,\u001b[0m \u001b[0mtest\u001b[0m\u001b[0;34m=\u001b[0m\u001b[0;32mTrue\u001b[0m\u001b[0;34m)\u001b[0m\u001b[0;34m\u001b[0m\u001b[0;34m\u001b[0m\u001b[0m\n\u001b[0m\u001b[1;32m     12\u001b[0m     \u001b[0;32mreturn\u001b[0m \u001b[0mrewards\u001b[0m\u001b[0;34m\u001b[0m\u001b[0;34m\u001b[0m\u001b[0m\n",
            "\u001b[0;32m<ipython-input-72-c4825158d0ac>\u001b[0m in \u001b[0;36mfit_agents\u001b[0;34m(u_agent, v_agent, env, n_epochs, n_sessions, epsilon, n_iter_debug, test)\u001b[0m\n\u001b[1;32m     19\u001b[0m     \u001b[0;32mfor\u001b[0m \u001b[0mepoch\u001b[0m \u001b[0;32min\u001b[0m \u001b[0mrange\u001b[0m\u001b[0;34m(\u001b[0m\u001b[0mn_epochs\u001b[0m\u001b[0;34m)\u001b[0m\u001b[0;34m:\u001b[0m\u001b[0;34m\u001b[0m\u001b[0;34m\u001b[0m\u001b[0m\n\u001b[1;32m     20\u001b[0m \u001b[0;34m\u001b[0m\u001b[0m\n\u001b[0;32m---> 21\u001b[0;31m         \u001b[0mmean_reward\u001b[0m \u001b[0;34m=\u001b[0m \u001b[0mfit_epoch\u001b[0m\u001b[0;34m(\u001b[0m\u001b[0mu_agent\u001b[0m\u001b[0;34m,\u001b[0m \u001b[0mv_agent\u001b[0m\u001b[0;34m,\u001b[0m \u001b[0menv\u001b[0m\u001b[0;34m,\u001b[0m \u001b[0mn_sessions\u001b[0m\u001b[0;34m=\u001b[0m\u001b[0mn_sessions\u001b[0m\u001b[0;34m,\u001b[0m \u001b[0mtest\u001b[0m\u001b[0;34m=\u001b[0m\u001b[0mtest\u001b[0m\u001b[0;34m)\u001b[0m\u001b[0;34m\u001b[0m\u001b[0;34m\u001b[0m\u001b[0m\n\u001b[0m\u001b[1;32m     22\u001b[0m         \u001b[0mmean_rewards\u001b[0m\u001b[0;34m.\u001b[0m\u001b[0mappend\u001b[0m\u001b[0;34m(\u001b[0m\u001b[0mmean_reward\u001b[0m\u001b[0;34m)\u001b[0m\u001b[0;34m\u001b[0m\u001b[0;34m\u001b[0m\u001b[0m\n\u001b[1;32m     23\u001b[0m         \u001b[0mprint\u001b[0m\u001b[0;34m(\u001b[0m\u001b[0;34mf'epoch: {epoch}, mean reward: {mean_reward}'\u001b[0m\u001b[0;34m)\u001b[0m\u001b[0;34m\u001b[0m\u001b[0;34m\u001b[0m\u001b[0m\n",
            "\u001b[0;32m<ipython-input-69-cf48552ff338>\u001b[0m in \u001b[0;36mfit_epoch\u001b[0;34m(u_agent, v_agent, env, n_sessions, test)\u001b[0m\n\u001b[1;32m      8\u001b[0m     \u001b[0;34m:\u001b[0m\u001b[0;32mreturn\u001b[0m\u001b[0;34m:\u001b[0m \u001b[0mmean\u001b[0m \u001b[0mreward\u001b[0m \u001b[0mover\u001b[0m \u001b[0msessions\u001b[0m\u001b[0;34m\u001b[0m\u001b[0;34m\u001b[0m\u001b[0m\n\u001b[1;32m      9\u001b[0m     \"\"\"\n\u001b[0;32m---> 10\u001b[0;31m     \u001b[0msessions\u001b[0m \u001b[0;34m=\u001b[0m \u001b[0;34m[\u001b[0m\u001b[0mgenerate_session\u001b[0m\u001b[0;34m(\u001b[0m\u001b[0mu_agent\u001b[0m\u001b[0;34m,\u001b[0m \u001b[0mv_agent\u001b[0m\u001b[0;34m,\u001b[0m \u001b[0menv\u001b[0m\u001b[0;34m,\u001b[0m \u001b[0mtest\u001b[0m\u001b[0;34m=\u001b[0m\u001b[0mtest\u001b[0m\u001b[0;34m)\u001b[0m \u001b[0;32mfor\u001b[0m \u001b[0m_\u001b[0m \u001b[0;32min\u001b[0m \u001b[0mrange\u001b[0m\u001b[0;34m(\u001b[0m\u001b[0mn_sessions\u001b[0m\u001b[0;34m)\u001b[0m\u001b[0;34m]\u001b[0m\u001b[0;34m\u001b[0m\u001b[0;34m\u001b[0m\u001b[0m\n\u001b[0m\u001b[1;32m     11\u001b[0m     \u001b[0mmean_reward\u001b[0m \u001b[0;34m=\u001b[0m \u001b[0mnp\u001b[0m\u001b[0;34m.\u001b[0m\u001b[0mmean\u001b[0m\u001b[0;34m(\u001b[0m\u001b[0;34m[\u001b[0m\u001b[0msession\u001b[0m\u001b[0;34m[\u001b[0m\u001b[0;34m'total_reward'\u001b[0m\u001b[0;34m]\u001b[0m \u001b[0;32mfor\u001b[0m \u001b[0msession\u001b[0m \u001b[0;32min\u001b[0m \u001b[0msessions\u001b[0m\u001b[0;34m]\u001b[0m\u001b[0;34m)\u001b[0m\u001b[0;34m\u001b[0m\u001b[0;34m\u001b[0m\u001b[0m\n\u001b[1;32m     12\u001b[0m     \u001b[0;32mif\u001b[0m \u001b[0;32mnot\u001b[0m \u001b[0mtest\u001b[0m\u001b[0;34m:\u001b[0m\u001b[0;34m\u001b[0m\u001b[0;34m\u001b[0m\u001b[0m\n",
            "\u001b[0;32m<ipython-input-69-cf48552ff338>\u001b[0m in \u001b[0;36m<listcomp>\u001b[0;34m(.0)\u001b[0m\n\u001b[1;32m      8\u001b[0m     \u001b[0;34m:\u001b[0m\u001b[0;32mreturn\u001b[0m\u001b[0;34m:\u001b[0m \u001b[0mmean\u001b[0m \u001b[0mreward\u001b[0m \u001b[0mover\u001b[0m \u001b[0msessions\u001b[0m\u001b[0;34m\u001b[0m\u001b[0;34m\u001b[0m\u001b[0m\n\u001b[1;32m      9\u001b[0m     \"\"\"\n\u001b[0;32m---> 10\u001b[0;31m     \u001b[0msessions\u001b[0m \u001b[0;34m=\u001b[0m \u001b[0;34m[\u001b[0m\u001b[0mgenerate_session\u001b[0m\u001b[0;34m(\u001b[0m\u001b[0mu_agent\u001b[0m\u001b[0;34m,\u001b[0m \u001b[0mv_agent\u001b[0m\u001b[0;34m,\u001b[0m \u001b[0menv\u001b[0m\u001b[0;34m,\u001b[0m \u001b[0mtest\u001b[0m\u001b[0;34m=\u001b[0m\u001b[0mtest\u001b[0m\u001b[0;34m)\u001b[0m \u001b[0;32mfor\u001b[0m \u001b[0m_\u001b[0m \u001b[0;32min\u001b[0m \u001b[0mrange\u001b[0m\u001b[0;34m(\u001b[0m\u001b[0mn_sessions\u001b[0m\u001b[0;34m)\u001b[0m\u001b[0;34m]\u001b[0m\u001b[0;34m\u001b[0m\u001b[0;34m\u001b[0m\u001b[0m\n\u001b[0m\u001b[1;32m     11\u001b[0m     \u001b[0mmean_reward\u001b[0m \u001b[0;34m=\u001b[0m \u001b[0mnp\u001b[0m\u001b[0;34m.\u001b[0m\u001b[0mmean\u001b[0m\u001b[0;34m(\u001b[0m\u001b[0;34m[\u001b[0m\u001b[0msession\u001b[0m\u001b[0;34m[\u001b[0m\u001b[0;34m'total_reward'\u001b[0m\u001b[0;34m]\u001b[0m \u001b[0;32mfor\u001b[0m \u001b[0msession\u001b[0m \u001b[0;32min\u001b[0m \u001b[0msessions\u001b[0m\u001b[0;34m]\u001b[0m\u001b[0;34m)\u001b[0m\u001b[0;34m\u001b[0m\u001b[0;34m\u001b[0m\u001b[0m\n\u001b[1;32m     12\u001b[0m     \u001b[0;32mif\u001b[0m \u001b[0;32mnot\u001b[0m \u001b[0mtest\u001b[0m\u001b[0;34m:\u001b[0m\u001b[0;34m\u001b[0m\u001b[0;34m\u001b[0m\u001b[0m\n",
            "\u001b[0;32m<ipython-input-68-f22e2bd40ff8>\u001b[0m in \u001b[0;36mgenerate_session\u001b[0;34m(first_agent, second_agent, env, test)\u001b[0m\n\u001b[1;32m     15\u001b[0m     \u001b[0;32mwhile\u001b[0m \u001b[0;32mnot\u001b[0m \u001b[0mdone\u001b[0m\u001b[0;34m:\u001b[0m\u001b[0;34m\u001b[0m\u001b[0;34m\u001b[0m\u001b[0m\n\u001b[1;32m     16\u001b[0m         \u001b[0mfirst_agent_action\u001b[0m \u001b[0;34m=\u001b[0m \u001b[0mfirst_agent\u001b[0m\u001b[0;34m.\u001b[0m\u001b[0mget_action\u001b[0m\u001b[0;34m(\u001b[0m\u001b[0mstate\u001b[0m\u001b[0;34m,\u001b[0m \u001b[0mtest\u001b[0m\u001b[0;34m=\u001b[0m\u001b[0mtest\u001b[0m\u001b[0;34m)\u001b[0m\u001b[0;34m\u001b[0m\u001b[0;34m\u001b[0m\u001b[0m\n\u001b[0;32m---> 17\u001b[0;31m         \u001b[0msecond_agent_action\u001b[0m \u001b[0;34m=\u001b[0m \u001b[0msecond_agent\u001b[0m\u001b[0;34m.\u001b[0m\u001b[0mget_action\u001b[0m\u001b[0;34m(\u001b[0m\u001b[0mstate\u001b[0m\u001b[0;34m)\u001b[0m\u001b[0;34m\u001b[0m\u001b[0;34m\u001b[0m\u001b[0m\n\u001b[0m\u001b[1;32m     18\u001b[0m         \u001b[0mactions\u001b[0m \u001b[0;34m=\u001b[0m \u001b[0;34m(\u001b[0m\u001b[0mfirst_agent_action\u001b[0m\u001b[0;34m[\u001b[0m\u001b[0;36m0\u001b[0m\u001b[0;34m]\u001b[0m\u001b[0;34m,\u001b[0m \u001b[0msecond_agent_action\u001b[0m\u001b[0;34m[\u001b[0m\u001b[0;36m0\u001b[0m\u001b[0;34m]\u001b[0m\u001b[0;34m)\u001b[0m \u001b[0;32mif\u001b[0m \u001b[0mstr\u001b[0m\u001b[0;34m(\u001b[0m\u001b[0mfirst_agent\u001b[0m\u001b[0;34m)\u001b[0m \u001b[0;34m==\u001b[0m \u001b[0;34m'u_'\u001b[0m \u001b[0;32melse\u001b[0m \u001b[0;34m(\u001b[0m\u001b[0msecond_agent_action\u001b[0m\u001b[0;34m[\u001b[0m\u001b[0;36m0\u001b[0m\u001b[0;34m]\u001b[0m\u001b[0;34m,\u001b[0m \u001b[0mfirst_agent_action\u001b[0m\u001b[0;34m[\u001b[0m\u001b[0;36m0\u001b[0m\u001b[0;34m]\u001b[0m\u001b[0;34m)\u001b[0m\u001b[0;34m\u001b[0m\u001b[0;34m\u001b[0m\u001b[0m\n\u001b[1;32m     19\u001b[0m         \u001b[0mnext_state\u001b[0m\u001b[0;34m,\u001b[0m \u001b[0mreward\u001b[0m\u001b[0;34m,\u001b[0m \u001b[0mdone\u001b[0m\u001b[0;34m,\u001b[0m \u001b[0m_\u001b[0m \u001b[0;34m=\u001b[0m \u001b[0menv\u001b[0m\u001b[0;34m.\u001b[0m\u001b[0mstep\u001b[0m\u001b[0;34m(\u001b[0m\u001b[0;34m*\u001b[0m\u001b[0mactions\u001b[0m\u001b[0;34m)\u001b[0m\u001b[0;34m\u001b[0m\u001b[0;34m\u001b[0m\u001b[0m\n",
            "\u001b[0;32m<ipython-input-67-11456184dfdf>\u001b[0m in \u001b[0;36mget_action\u001b[0;34m(self, state, test)\u001b[0m\n\u001b[1;32m     61\u001b[0m         \"\"\"\n\u001b[1;32m     62\u001b[0m         \u001b[0mstate\u001b[0m \u001b[0;34m=\u001b[0m \u001b[0mtorch\u001b[0m\u001b[0;34m.\u001b[0m\u001b[0mFloatTensor\u001b[0m\u001b[0;34m(\u001b[0m\u001b[0mstate\u001b[0m\u001b[0;34m)\u001b[0m\u001b[0;34m\u001b[0m\u001b[0;34m\u001b[0m\u001b[0m\n\u001b[0;32m---> 63\u001b[0;31m         \u001b[0mpredicted_action\u001b[0m \u001b[0;34m=\u001b[0m \u001b[0mself\u001b[0m\u001b[0;34m.\u001b[0m\u001b[0mnetwork\u001b[0m\u001b[0;34m(\u001b[0m\u001b[0mstate\u001b[0m\u001b[0;34m)\u001b[0m\u001b[0;34m.\u001b[0m\u001b[0mdetach\u001b[0m\u001b[0;34m(\u001b[0m\u001b[0;34m)\u001b[0m\u001b[0;34m.\u001b[0m\u001b[0mnumpy\u001b[0m\u001b[0;34m(\u001b[0m\u001b[0;34m)\u001b[0m \u001b[0;34m*\u001b[0m \u001b[0mself\u001b[0m\u001b[0;34m.\u001b[0m\u001b[0maction_max\u001b[0m\u001b[0;34m\u001b[0m\u001b[0;34m\u001b[0m\u001b[0m\n\u001b[0m\u001b[1;32m     64\u001b[0m         \u001b[0;32mif\u001b[0m \u001b[0;32mnot\u001b[0m \u001b[0mtest\u001b[0m\u001b[0;34m:\u001b[0m\u001b[0;34m\u001b[0m\u001b[0;34m\u001b[0m\u001b[0m\n\u001b[1;32m     65\u001b[0m             \u001b[0mnoise\u001b[0m \u001b[0;34m=\u001b[0m \u001b[0mself\u001b[0m\u001b[0;34m.\u001b[0m\u001b[0mnoise_threshold\u001b[0m \u001b[0;34m*\u001b[0m \u001b[0mnp\u001b[0m\u001b[0;34m.\u001b[0m\u001b[0mrandom\u001b[0m\u001b[0;34m.\u001b[0m\u001b[0muniform\u001b[0m\u001b[0;34m(\u001b[0m\u001b[0mlow\u001b[0m\u001b[0;34m=\u001b[0m\u001b[0;34m-\u001b[0m\u001b[0mself\u001b[0m\u001b[0;34m.\u001b[0m\u001b[0maction_max\u001b[0m\u001b[0;34m,\u001b[0m \u001b[0mhigh\u001b[0m\u001b[0;34m=\u001b[0m\u001b[0mself\u001b[0m\u001b[0;34m.\u001b[0m\u001b[0maction_max\u001b[0m\u001b[0;34m)\u001b[0m\u001b[0;34m\u001b[0m\u001b[0;34m\u001b[0m\u001b[0m\n",
            "\u001b[0;32m/usr/local/lib/python3.6/dist-packages/torch/nn/modules/module.py\u001b[0m in \u001b[0;36m__call__\u001b[0;34m(self, *input, **kwargs)\u001b[0m\n\u001b[1;32m    548\u001b[0m             \u001b[0mresult\u001b[0m \u001b[0;34m=\u001b[0m \u001b[0mself\u001b[0m\u001b[0;34m.\u001b[0m\u001b[0m_slow_forward\u001b[0m\u001b[0;34m(\u001b[0m\u001b[0;34m*\u001b[0m\u001b[0minput\u001b[0m\u001b[0;34m,\u001b[0m \u001b[0;34m**\u001b[0m\u001b[0mkwargs\u001b[0m\u001b[0;34m)\u001b[0m\u001b[0;34m\u001b[0m\u001b[0;34m\u001b[0m\u001b[0m\n\u001b[1;32m    549\u001b[0m         \u001b[0;32melse\u001b[0m\u001b[0;34m:\u001b[0m\u001b[0;34m\u001b[0m\u001b[0;34m\u001b[0m\u001b[0m\n\u001b[0;32m--> 550\u001b[0;31m             \u001b[0mresult\u001b[0m \u001b[0;34m=\u001b[0m \u001b[0mself\u001b[0m\u001b[0;34m.\u001b[0m\u001b[0mforward\u001b[0m\u001b[0;34m(\u001b[0m\u001b[0;34m*\u001b[0m\u001b[0minput\u001b[0m\u001b[0;34m,\u001b[0m \u001b[0;34m**\u001b[0m\u001b[0mkwargs\u001b[0m\u001b[0;34m)\u001b[0m\u001b[0;34m\u001b[0m\u001b[0;34m\u001b[0m\u001b[0m\n\u001b[0m\u001b[1;32m    551\u001b[0m         \u001b[0;32mfor\u001b[0m \u001b[0mhook\u001b[0m \u001b[0;32min\u001b[0m \u001b[0mself\u001b[0m\u001b[0;34m.\u001b[0m\u001b[0m_forward_hooks\u001b[0m\u001b[0;34m.\u001b[0m\u001b[0mvalues\u001b[0m\u001b[0;34m(\u001b[0m\u001b[0;34m)\u001b[0m\u001b[0;34m:\u001b[0m\u001b[0;34m\u001b[0m\u001b[0;34m\u001b[0m\u001b[0m\n\u001b[1;32m    552\u001b[0m             \u001b[0mhook_result\u001b[0m \u001b[0;34m=\u001b[0m \u001b[0mhook\u001b[0m\u001b[0;34m(\u001b[0m\u001b[0mself\u001b[0m\u001b[0;34m,\u001b[0m \u001b[0minput\u001b[0m\u001b[0;34m,\u001b[0m \u001b[0mresult\u001b[0m\u001b[0;34m)\u001b[0m\u001b[0;34m\u001b[0m\u001b[0;34m\u001b[0m\u001b[0m\n",
            "\u001b[0;32m<ipython-input-67-11456184dfdf>\u001b[0m in \u001b[0;36mforward\u001b[0;34m(self, input_)\u001b[0m\n\u001b[1;32m     21\u001b[0m         \u001b[0mhidden\u001b[0m \u001b[0;34m=\u001b[0m \u001b[0mself\u001b[0m\u001b[0;34m.\u001b[0m\u001b[0mrelu\u001b[0m\u001b[0;34m(\u001b[0m\u001b[0mself\u001b[0m\u001b[0;34m.\u001b[0m\u001b[0mlinear_1\u001b[0m\u001b[0;34m(\u001b[0m\u001b[0minput_\u001b[0m\u001b[0;34m)\u001b[0m\u001b[0;34m)\u001b[0m\u001b[0;34m\u001b[0m\u001b[0;34m\u001b[0m\u001b[0m\n\u001b[1;32m     22\u001b[0m         \u001b[0mhidden\u001b[0m \u001b[0;34m=\u001b[0m \u001b[0mself\u001b[0m\u001b[0;34m.\u001b[0m\u001b[0mrelu\u001b[0m\u001b[0;34m(\u001b[0m\u001b[0mself\u001b[0m\u001b[0;34m.\u001b[0m\u001b[0mlinear_2\u001b[0m\u001b[0;34m(\u001b[0m\u001b[0mhidden\u001b[0m\u001b[0;34m)\u001b[0m\u001b[0;34m)\u001b[0m\u001b[0;34m\u001b[0m\u001b[0;34m\u001b[0m\u001b[0m\n\u001b[0;32m---> 23\u001b[0;31m         \u001b[0moutput\u001b[0m \u001b[0;34m=\u001b[0m \u001b[0mself\u001b[0m\u001b[0;34m.\u001b[0m\u001b[0mtang\u001b[0m\u001b[0;34m(\u001b[0m\u001b[0mself\u001b[0m\u001b[0;34m.\u001b[0m\u001b[0mlinear_3\u001b[0m\u001b[0;34m(\u001b[0m\u001b[0mhidden\u001b[0m\u001b[0;34m)\u001b[0m\u001b[0;34m)\u001b[0m\u001b[0;34m\u001b[0m\u001b[0;34m\u001b[0m\u001b[0m\n\u001b[0m\u001b[1;32m     24\u001b[0m         \u001b[0;32mreturn\u001b[0m \u001b[0moutput\u001b[0m\u001b[0;34m\u001b[0m\u001b[0;34m\u001b[0m\u001b[0m\n\u001b[1;32m     25\u001b[0m \u001b[0;34m\u001b[0m\u001b[0m\n",
            "\u001b[0;32m/usr/local/lib/python3.6/dist-packages/torch/nn/modules/module.py\u001b[0m in \u001b[0;36m__call__\u001b[0;34m(self, *input, **kwargs)\u001b[0m\n\u001b[1;32m    548\u001b[0m             \u001b[0mresult\u001b[0m \u001b[0;34m=\u001b[0m \u001b[0mself\u001b[0m\u001b[0;34m.\u001b[0m\u001b[0m_slow_forward\u001b[0m\u001b[0;34m(\u001b[0m\u001b[0;34m*\u001b[0m\u001b[0minput\u001b[0m\u001b[0;34m,\u001b[0m \u001b[0;34m**\u001b[0m\u001b[0mkwargs\u001b[0m\u001b[0;34m)\u001b[0m\u001b[0;34m\u001b[0m\u001b[0;34m\u001b[0m\u001b[0m\n\u001b[1;32m    549\u001b[0m         \u001b[0;32melse\u001b[0m\u001b[0;34m:\u001b[0m\u001b[0;34m\u001b[0m\u001b[0;34m\u001b[0m\u001b[0m\n\u001b[0;32m--> 550\u001b[0;31m             \u001b[0mresult\u001b[0m \u001b[0;34m=\u001b[0m \u001b[0mself\u001b[0m\u001b[0;34m.\u001b[0m\u001b[0mforward\u001b[0m\u001b[0;34m(\u001b[0m\u001b[0;34m*\u001b[0m\u001b[0minput\u001b[0m\u001b[0;34m,\u001b[0m \u001b[0;34m**\u001b[0m\u001b[0mkwargs\u001b[0m\u001b[0;34m)\u001b[0m\u001b[0;34m\u001b[0m\u001b[0;34m\u001b[0m\u001b[0m\n\u001b[0m\u001b[1;32m    551\u001b[0m         \u001b[0;32mfor\u001b[0m \u001b[0mhook\u001b[0m \u001b[0;32min\u001b[0m \u001b[0mself\u001b[0m\u001b[0;34m.\u001b[0m\u001b[0m_forward_hooks\u001b[0m\u001b[0;34m.\u001b[0m\u001b[0mvalues\u001b[0m\u001b[0;34m(\u001b[0m\u001b[0;34m)\u001b[0m\u001b[0;34m:\u001b[0m\u001b[0;34m\u001b[0m\u001b[0;34m\u001b[0m\u001b[0m\n\u001b[1;32m    552\u001b[0m             \u001b[0mhook_result\u001b[0m \u001b[0;34m=\u001b[0m \u001b[0mhook\u001b[0m\u001b[0;34m(\u001b[0m\u001b[0mself\u001b[0m\u001b[0;34m,\u001b[0m \u001b[0minput\u001b[0m\u001b[0;34m,\u001b[0m \u001b[0mresult\u001b[0m\u001b[0;34m)\u001b[0m\u001b[0;34m\u001b[0m\u001b[0;34m\u001b[0m\u001b[0m\n",
            "\u001b[0;32m/usr/local/lib/python3.6/dist-packages/torch/nn/modules/linear.py\u001b[0m in \u001b[0;36mforward\u001b[0;34m(self, input)\u001b[0m\n\u001b[1;32m     85\u001b[0m \u001b[0;34m\u001b[0m\u001b[0m\n\u001b[1;32m     86\u001b[0m     \u001b[0;32mdef\u001b[0m \u001b[0mforward\u001b[0m\u001b[0;34m(\u001b[0m\u001b[0mself\u001b[0m\u001b[0;34m,\u001b[0m \u001b[0minput\u001b[0m\u001b[0;34m)\u001b[0m\u001b[0;34m:\u001b[0m\u001b[0;34m\u001b[0m\u001b[0;34m\u001b[0m\u001b[0m\n\u001b[0;32m---> 87\u001b[0;31m         \u001b[0;32mreturn\u001b[0m \u001b[0mF\u001b[0m\u001b[0;34m.\u001b[0m\u001b[0mlinear\u001b[0m\u001b[0;34m(\u001b[0m\u001b[0minput\u001b[0m\u001b[0;34m,\u001b[0m \u001b[0mself\u001b[0m\u001b[0;34m.\u001b[0m\u001b[0mweight\u001b[0m\u001b[0;34m,\u001b[0m \u001b[0mself\u001b[0m\u001b[0;34m.\u001b[0m\u001b[0mbias\u001b[0m\u001b[0;34m)\u001b[0m\u001b[0;34m\u001b[0m\u001b[0;34m\u001b[0m\u001b[0m\n\u001b[0m\u001b[1;32m     88\u001b[0m \u001b[0;34m\u001b[0m\u001b[0m\n\u001b[1;32m     89\u001b[0m     \u001b[0;32mdef\u001b[0m \u001b[0mextra_repr\u001b[0m\u001b[0;34m(\u001b[0m\u001b[0mself\u001b[0m\u001b[0;34m)\u001b[0m\u001b[0;34m:\u001b[0m\u001b[0;34m\u001b[0m\u001b[0;34m\u001b[0m\u001b[0m\n",
            "\u001b[0;32m/usr/local/lib/python3.6/dist-packages/torch/nn/functional.py\u001b[0m in \u001b[0;36mlinear\u001b[0;34m(input, weight, bias)\u001b[0m\n\u001b[1;32m   1610\u001b[0m         \u001b[0mret\u001b[0m \u001b[0;34m=\u001b[0m \u001b[0mtorch\u001b[0m\u001b[0;34m.\u001b[0m\u001b[0maddmm\u001b[0m\u001b[0;34m(\u001b[0m\u001b[0mbias\u001b[0m\u001b[0;34m,\u001b[0m \u001b[0minput\u001b[0m\u001b[0;34m,\u001b[0m \u001b[0mweight\u001b[0m\u001b[0;34m.\u001b[0m\u001b[0mt\u001b[0m\u001b[0;34m(\u001b[0m\u001b[0;34m)\u001b[0m\u001b[0;34m)\u001b[0m\u001b[0;34m\u001b[0m\u001b[0;34m\u001b[0m\u001b[0m\n\u001b[1;32m   1611\u001b[0m     \u001b[0;32melse\u001b[0m\u001b[0;34m:\u001b[0m\u001b[0;34m\u001b[0m\u001b[0;34m\u001b[0m\u001b[0m\n\u001b[0;32m-> 1612\u001b[0;31m         \u001b[0moutput\u001b[0m \u001b[0;34m=\u001b[0m \u001b[0minput\u001b[0m\u001b[0;34m.\u001b[0m\u001b[0mmatmul\u001b[0m\u001b[0;34m(\u001b[0m\u001b[0mweight\u001b[0m\u001b[0;34m.\u001b[0m\u001b[0mt\u001b[0m\u001b[0;34m(\u001b[0m\u001b[0;34m)\u001b[0m\u001b[0;34m)\u001b[0m\u001b[0;34m\u001b[0m\u001b[0;34m\u001b[0m\u001b[0m\n\u001b[0m\u001b[1;32m   1613\u001b[0m         \u001b[0;32mif\u001b[0m \u001b[0mbias\u001b[0m \u001b[0;32mis\u001b[0m \u001b[0;32mnot\u001b[0m \u001b[0;32mNone\u001b[0m\u001b[0;34m:\u001b[0m\u001b[0;34m\u001b[0m\u001b[0;34m\u001b[0m\u001b[0m\n\u001b[1;32m   1614\u001b[0m             \u001b[0moutput\u001b[0m \u001b[0;34m+=\u001b[0m \u001b[0mbias\u001b[0m\u001b[0;34m\u001b[0m\u001b[0;34m\u001b[0m\u001b[0m\n",
            "\u001b[0;31mKeyboardInterrupt\u001b[0m: "
          ]
        }
      ]
    },
    {
      "cell_type": "code",
      "metadata": {
        "id": "36jJd-5Hflhl",
        "colab_type": "code",
        "colab": {
          "base_uri": "https://localhost:8080/",
          "height": 585
        },
        "outputId": "4272e694-fc0e-456d-c029-a9e508580807"
      },
      "source": [
        "plot_mean_rewards(test_all_rewards_random, method_name='test random pairs')"
      ],
      "execution_count": null,
      "outputs": [
        {
          "output_type": "display_data",
          "data": {
            "image/png": "[encoded data removed]",
            "text/plain": [
              "<Figure size 864x576 with 1 Axes>"
            ]
          },
          "metadata": {
            "tags": [],
            "needs_background": "light"
          }
        }
      ]
    },
    {
      "cell_type": "code",
      "metadata": {
        "id": "QhKKwIDFw_lQ",
        "colab_type": "code",
        "colab": {
          "base_uri": "https://localhost:8080/",
          "height": 35
        },
        "outputId": "25548366-52b8-42b5-bf14-84364ff253ee"
      },
      "source": [
        "u_fit_random_agent == u_agents[2]"
      ],
      "execution_count": null,
      "outputs": [
        {
          "output_type": "execute_result",
          "data": {
            "text/plain": [
              "True"
            ]
          },
          "metadata": {
            "tags": []
          },
          "execution_count": 158
        }
      ]
    },
    {
      "cell_type": "code",
      "metadata": {
        "id": "uM8TN3rA89SA",
        "colab_type": "code",
        "colab": {}
      },
      "source": [
        ""
      ],
      "execution_count": null,
      "outputs": []
    }
  ]
}