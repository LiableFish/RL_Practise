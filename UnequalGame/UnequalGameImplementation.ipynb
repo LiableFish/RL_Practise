{
  "nbformat": 4,
  "nbformat_minor": 0,
  "metadata": {
    "kernelspec": {
      "display_name": "Python 3",
      "language": "python",
      "name": "python3"
    },
    "language_info": {
      "codemirror_mode": {
        "name": "ipython",
        "version": 3
      },
      "file_extension": ".py",
      "mimetype": "text/x-python",
      "name": "python",
      "nbconvert_exporter": "python",
      "pygments_lexer": "ipython3",
      "version": "3.7.3"
    },
    "colab": {
      "name": "UnequalGameImplementation.ipynb",
      "provenance": [],
      "toc_visible": true
    }
  },
  "cells": [
    {
      "cell_type": "markdown",
      "metadata": {
        "id": "x7CyocjBJ1SP",
        "colab_type": "text"
      },
      "source": [
        "## Unequal Game solution with CCEM method"
      ]
    },
    {
      "cell_type": "code",
      "metadata": {
        "id": "AABSYH3vJ1SR",
        "colab_type": "code",
        "colab": {}
      },
      "source": [
        "import torch\n",
        "import numpy as np\n",
        "import matplotlib.pyplot as plt\n",
        "from copy import deepcopy"
      ],
      "execution_count": 0,
      "outputs": []
    },
    {
      "cell_type": "markdown",
      "metadata": {
        "id": "_cZE6eLK2MdR",
        "colab_type": "text"
      },
      "source": [
        "# Calculating optimal guaranteed results"
      ]
    },
    {
      "cell_type": "markdown",
      "metadata": {
        "id": "X9eLwv6LY4xn",
        "colab_type": "text"
      },
      "source": [
        "Let's find guaranteed results\n"
      ]
    },
    {
      "cell_type": "markdown",
      "metadata": {
        "id": "oKfpwnUFMYsK",
        "colab_type": "text"
      },
      "source": [
        "Definitions\n",
        "\n",
        "\\begin{gather*}\n",
        "\\Gamma^u = \\min_{u(\\cdot)}\\max_{v(\\cdot)} \\gamma(u,\\, v), \\quad \n",
        "\\Gamma^v = \\max_{v(\\cdot)}\\min_{u(\\cdot)} \\gamma(u,\\, v), \\\\\n",
        "\\tilde{\\Gamma}^u = \\min_{u(\\cdot,\\, \\cdot)}\\max_{v(\\cdot,\\, \\cdot)} \\gamma(u, v), \\quad \n",
        "\\tilde{\\Gamma}^v = \\max_{v(\\cdot,\\, \\cdot)}\\min_{u(\\cdot,\\, \\cdot)} \\gamma(u, v), \\\\\\\\\n",
        "\\Gamma^v \\leqslant \\tilde{\\Gamma}^v \\leqslant  \\tilde{\\Gamma}^v \\leqslant \\Gamma^u.\n",
        "\\end{gather*}"
      ]
    },
    {
      "cell_type": "markdown",
      "metadata": {
        "id": "QjyRmxcvY_pQ",
        "colab_type": "text"
      },
      "source": [
        "Our differential game model\n",
        "\n",
        "\\begin{gather*}\n",
        "\\begin{cases}\n",
        "\\dot{x} = u(t,\\,x) - v(t,\\,x), \\quad t \\in [0, 2],\\\\\n",
        "x(0) = 1, \\\\\n",
        "|u| \\leqslant 2, \\quad |v| \\leqslant 1.\n",
        "\\end{cases}, \\\\ \\\\\n",
        "\\gamma(u,\\, v) = x^2(2) = \\left(1 + \\int\\limits_0^2 u(t, x)\\,dt - \\int\\limits_0^2 v(t, x)\\,dt \\right)^2 = (1 +U(x) + V(x))^2, \\\\|U| \\leqslant 4, \\quad |V| \\leqslant 2, \\\\ \\\\\n",
        "\\Gamma^u = 4, \\quad \\Gamma^v = \\tilde{\\Gamma}^v = \\tilde{\\Gamma}^v = 0.\n",
        "\\end{gather*}"
      ]
    },
    {
      "cell_type": "markdown",
      "metadata": {
        "id": "vAd2UkykbgJ0",
        "colab_type": "text"
      },
      "source": [
        "Compute $\\Gamma^u$\n",
        "\n",
        "\\begin{gather*}\n",
        "\\max_V \\gamma(U,\\, V) = \\max\\left\\{\\gamma(U,\\, 2),\\, \\gamma(U,\\, -2)\\right\\}, \\\\ \\\\\n",
        "\\gamma(U, 2) - \\gamma(U, -2) = -8(1+U).\n",
        "\\end{gather*}\n",
        "\n",
        "Case 1:\n",
        "\\begin{gather*}\n",
        "\\max_V \\gamma(U,\\, V) = \\gamma(U,\\, 2) \\; \\Longrightarrow \\; U \\leqslant -1 \\; \\Longrightarrow \\; \\Gamma^u = \\min_U \\gamma(U\\,2) = \\gamma(-1, 2) = 4.\n",
        "\\end{gather*}\n",
        "\n",
        "Case 2:\n",
        "\\begin{gather*}\n",
        "\\max_V \\gamma(U,\\, V) = \\gamma(U,\\, -2) \\; \\Longrightarrow \\; U \\geqslant -1 \\; \\Longrightarrow \\; \\Gamma^u = \\min_U \\gamma(U\\,-2) = \\gamma(-1, -2) = 4.\n",
        "\\end{gather*}\n"
      ]
    },
    {
      "cell_type": "markdown",
      "metadata": {
        "id": "E4J4HcicfuGC",
        "colab_type": "text"
      },
      "source": [
        "Compute $\\Gamma^v$\n",
        "\n",
        "\\begin{gather*}\n",
        "\\frac{\\partial}{\\partial U} \\gamma(U,\\,V) = 2(1 + U - V) = 0 \\;\\Longrightarrow\\; U = V - 1 \\Longrightarrow\\; \\Gamma^v = \\max_{V}\\gamma(V-1,\\,V) = 0\n",
        "\\end{gather*}"
      ]
    },
    {
      "cell_type": "markdown",
      "metadata": {
        "id": "20rbj4TTllV8",
        "colab_type": "text"
      },
      "source": [
        "Compute $\\tilde{\\Gamma}^u$\n",
        "\n",
        "\\begin{gather*}\n",
        "\\forall U, V \\quad \\tilde{\\Gamma}^u \\geqslant 0, \\\\ \\\\\n",
        "U(x) = - 4 \\cdot \\text{sign}(x) \\;\\Longrightarrow\\; \\gamma(U,\\, V) = \\max_{V}(1 - 4 \\cdot \\text{sign}(x) - V(x))^2\n",
        "\\end{gather*}"
      ]
    },
    {
      "cell_type": "markdown",
      "metadata": {
        "id": "VhvN61Hitl5J",
        "colab_type": "text"
      },
      "source": [
        "Compute $\\tilde{\\Gamma}^v$\n",
        "\n",
        "\\begin{gather*}\n",
        "0 = \\Gamma^v \\leqslant \\tilde{\\Gamma}^v \\leqslant \\tilde{\\Gamma}^u = 0 \\; \\Longrightarrow \\; \\tilde{\\Gamma}^v = 0.\n",
        "\\end{gather*}"
      ]
    },
    {
      "cell_type": "markdown",
      "metadata": {
        "id": "fKQpP3ao2VR6",
        "colab_type": "text"
      },
      "source": [
        "# Code implementation"
      ]
    },
    {
      "cell_type": "markdown",
      "metadata": {
        "id": "T5YRCc2MJ1SU",
        "colab_type": "text"
      },
      "source": [
        "Implement environment"
      ]
    },
    {
      "cell_type": "code",
      "metadata": {
        "id": "Fj46-jGRJ1SV",
        "colab_type": "code",
        "colab": {}
      },
      "source": [
        "class UnequalGame:\n",
        "\n",
        "    def __init__(self, initial_x=1, dt=0.005, terminal_time=2, u_action_max=2, v_action_max=1):\n",
        "        self.u_action_max = u_action_max\n",
        "        self.v_action_max = v_action_max\n",
        "        self.terminal_time = terminal_time\n",
        "        self.dt = dt\n",
        "        self.initial_x = initial_x\n",
        "        self.state = self.reset()\n",
        "\n",
        "    def reset(self):\n",
        "        self.state = np.array([0, self.initial_x])\n",
        "        return self.state\n",
        "\n",
        "    def step(self, u_action, v_action):\n",
        "        t, x = self.state\n",
        "        x = x + (u_action - v_action) * self.dt\n",
        "        t += self.dt\n",
        "        self.state = np.array([t, x])\n",
        "\n",
        "        reward = 0\n",
        "        done = False\n",
        "        if t >= self.terminal_time:\n",
        "            reward = x ** 2\n",
        "            done = True\n",
        "\n",
        "        return self.state, reward, done, None\n"
      ],
      "execution_count": 0,
      "outputs": []
    },
    {
      "cell_type": "markdown",
      "metadata": {
        "id": "01OM_i5PJ1SX",
        "colab_type": "text"
      },
      "source": [
        "Implement agent"
      ]
    },
    {
      "cell_type": "code",
      "metadata": {
        "id": "7S80KcE1J1SY",
        "colab_type": "code",
        "colab": {}
      },
      "source": [
        "class Network(torch.nn.Module):\n",
        "\n",
        "    def __init__(self, input_shape, output_shape):\n",
        "        super().__init__()\n",
        "        self.linear_1 = torch.nn.Linear(input_shape[0], 50)\n",
        "        self.linear_2 = torch.nn.Linear(50, 30)\n",
        "        self.linear_3 = torch.nn.Linear(30, output_shape[0])\n",
        "        self.relu = torch.nn.ReLU()\n",
        "        self.tang = torch.nn.Tanh()\n",
        "\n",
        "    def forward(self, input_):\n",
        "        hidden = self.relu(self.linear_1(input_))\n",
        "        hidden = self.relu(self.linear_2(hidden))\n",
        "        output = self.tang(self.linear_3(hidden))\n",
        "        return output\n",
        "\n",
        "\n",
        "class CCEMAgent(torch.nn.Module):\n",
        "\n",
        "    def __init__(self, state_shape, action_shape, action_max, reward_param=1, percentile_param=70, noise_decrease=0.98,\n",
        "                 tau=1e-2, learning_rate=1e-2, n_learning_per_fit=16):\n",
        "        super().__init__()\n",
        "        self.action_max = np.abs(action_max)\n",
        "        self.reward_param = reward_param  # equal to 1 if agent wants to maximize reward otherwise -1\n",
        "        self.percentile_param = percentile_param\n",
        "        self.noise_decrease = noise_decrease\n",
        "        self.noise_threshold = 1\n",
        "        self.min_noise_threshold = 0.1\n",
        "        self.tau = tau\n",
        "        self.n_learning_per_fit = n_learning_per_fit\n",
        "        self.network = Network(state_shape, action_shape)\n",
        "        self.optimizer = torch.optim.Adam(params=self.network.parameters(), lr=learning_rate)\n",
        "\n",
        "    def get_action(self, state, test=False):\n",
        "        state = torch.FloatTensor(state)\n",
        "        predicted_action = self.network(state).detach().numpy() * self.action_max\n",
        "        if not test:\n",
        "            noise = self.noise_threshold * np.random.uniform(low=-self.action_max, high=self.action_max)\n",
        "            predicted_action = np.clip(predicted_action + noise, -self.action_max, self.action_max)\n",
        "        return predicted_action\n",
        "\n",
        "    def get_elite_states_and_actions(self, sessions):\n",
        "        \"\"\"\n",
        "          Select sessions with the most or least reward\n",
        "          by percentile\n",
        "        \"\"\"\n",
        "        total_rewards = [session['total_reward'] for session in sessions]\n",
        "        reward_threshold = np.percentile(total_rewards, self.percentile_param)\n",
        "\n",
        "        elite_states = []\n",
        "        elite_actions = []\n",
        "        for session in sessions:\n",
        "            if self.reward_param * (session['total_reward'] - reward_threshold) > 0:\n",
        "                elite_states.extend(session['states'])\n",
        "                elite_actions.extend(session[f'{self}actions'])\n",
        "\n",
        "        return torch.FloatTensor(elite_states), torch.FloatTensor(elite_actions)\n",
        "\n",
        "    def learn_network(self, loss):\n",
        "        self.optimizer.zero_grad()\n",
        "        old_network = deepcopy(self.network)\n",
        "        loss.backward()\n",
        "        self.optimizer.step()\n",
        "\n",
        "        for new_parameter, old_parameter in zip(self.network.parameters(), old_network.parameters()):\n",
        "            new_parameter.data.copy_(self.tau * new_parameter + (1 - self.tau) * old_parameter)\n",
        "\n",
        "        return None\n",
        "\n",
        "    def fit(self, sessions):\n",
        "        elite_states, elite_actions = self.get_elite_states_and_actions(sessions)\n",
        "\n",
        "        for _ in range(self.n_learning_per_fit):\n",
        "            predicted_action = self.network(elite_states) * self.action_max\n",
        "            loss = torch.mean((predicted_action - elite_actions) ** 2)\n",
        "            self.learn_network(loss)\n",
        "\n",
        "        if self.noise_threshold > self.min_noise_threshold:\n",
        "            self.noise_threshold *= self.noise_decrease\n",
        "\n",
        "        return None\n",
        "\n",
        "    def __str__(self):\n",
        "        return 'u_' if self.reward_param == -1 else 'v_'\n"
      ],
      "execution_count": 0,
      "outputs": []
    },
    {
      "cell_type": "markdown",
      "metadata": {
        "id": "0fTW3tWbHyiu",
        "colab_type": "text"
      },
      "source": [
        "Test agents"
      ]
    },
    {
      "cell_type": "code",
      "metadata": {
        "id": "PUU1ytZhHca5",
        "colab_type": "code",
        "colab": {}
      },
      "source": [
        "def test_agent(u_agent, env, n_epochs, n_sessions, epsilon):\n",
        "    v_agent = CCEMAgent((2,), (1,), percentile_param=70, action_max=env.v_action_max, reward_param=1)\n",
        "    _, rewards =  fit_agents(u_agent, v_agent, env, n_epochs, n_sessions, epsilon, test=True)\n",
        "    return rewards"
      ],
      "execution_count": 0,
      "outputs": []
    },
    {
      "cell_type": "markdown",
      "metadata": {
        "id": "kzV4HKqsJ1Sb",
        "colab_type": "text"
      },
      "source": [
        "Fit agents"
      ]
    },
    {
      "cell_type": "code",
      "metadata": {
        "id": "RrjBLPuDJ1Sb",
        "colab_type": "code",
        "colab": {}
      },
      "source": [
        "def generate_session(u_agent, v_agent, env, test=False):\n",
        "    \"\"\"\n",
        "    Generate session on environment with agent\n",
        "    \"\"\"\n",
        "    states = []\n",
        "    u_actions = []\n",
        "    v_actions = []\n",
        "    total_reward = 0\n",
        "    done = False\n",
        "    state = env.reset()\n",
        "    while not done:\n",
        "        u_action = u_agent.get_action(state, test=test)\n",
        "        v_action = v_agent.get_action(state)\n",
        "        actions = (u_action[0], v_action[0]) if str(u_agent) == 'u_' else (v_action[0], u_action[0])\n",
        "        next_state, reward, done, _ = env.step(*actions)\n",
        "        states.append(state)\n",
        "        u_actions.append(u_action)\n",
        "        v_actions.append(v_action)\n",
        "        total_reward += reward\n",
        "        state = next_state\n",
        "\n",
        "    return {'states': states, \\\n",
        "            f'{u_agent}actions': u_actions, \\\n",
        "            f'{v_agent}actions': v_actions, \\\n",
        "            'total_reward': total_reward}\n",
        "\n",
        "def fit_epoch(u_agent, v_agent, env, n_sessions, test):\n",
        "    sessions = [generate_session(u_agent, v_agent, env, test=test) for _ in range(n_sessions)]\n",
        "    mean_reward = np.mean([session['total_reward'] for session in sessions])\n",
        "    if not test:\n",
        "        u_agent.fit(sessions)\n",
        "    v_agent.fit(sessions)\n",
        "    return mean_reward\n"
      ],
      "execution_count": 0,
      "outputs": []
    },
    {
      "cell_type": "code",
      "metadata": {
        "id": "GY6XooSIHbeE",
        "colab_type": "code",
        "colab": {}
      },
      "source": [
        "def fit_agents(u_agent, v_agent, env, n_epochs, n_sessions,\\\n",
        "               epsilon, test=False, n_iter_debug=0):\n",
        "    last_mean_reward = 0\n",
        "    mean_rewards = []\n",
        "    epoch = 0\n",
        "\n",
        "    while epoch < n_epochs:\n",
        "\n",
        "        if n_iter_debug and epoch and epoch % n_iter_debug == 0:\n",
        "            print('\\n{:-^50}\\n'.format('TEST BEGIN'))\n",
        "            test_agent(u_agent, env, n_epochs=20, n_sessions=n_sessions, epsilon=epsilon)\n",
        "            print('\\n{:-^50}\\n'.format('TEST END'))\n",
        "        \n",
        "        mean_reward = fit_epoch(u_agent, v_agent, env, n_sessions, test)\n",
        "        mean_rewards.append(mean_reward)\n",
        "        print(f'epoch: {epoch}, mean reward: {mean_reward}')\n",
        "        if np.abs(last_mean_reward - mean_reward) < epsilon:\n",
        "            break\n",
        "        last_mean_reward = mean_reward\n",
        "        epoch += 1\n",
        "\n",
        "        \n",
        "    return u_agent, np.array(mean_rewards)\n"
      ],
      "execution_count": 0,
      "outputs": []
    },
    {
      "cell_type": "markdown",
      "metadata": {
        "id": "Ts0iEOAPwNbf",
        "colab_type": "text"
      },
      "source": [
        "Fit agents one by one"
      ]
    },
    {
      "cell_type": "code",
      "metadata": {
        "id": "6zWWu0hLwXVU",
        "colab_type": "code",
        "colab": {}
      },
      "source": [
        "def fit_agents_one_by_one(u_agent, v_agent, env, n_epochs, n_sessions,\\\n",
        "                          n_iter_for_fit, epsilon, n_iter_debug=0):\n",
        "    last_mean_reward = 0\n",
        "    mean_rewards = []\n",
        "    fit_agent = u_agent\n",
        "    wait_agent = v_agent\n",
        "    epoch = 0\n",
        "    stop = False\n",
        "\n",
        "    while not stop and epoch < n_epochs:\n",
        "\n",
        "        for _ in range(n_iter_for_fit):\n",
        "\n",
        "            if n_iter_debug and epoch and epoch % n_iter_debug == 0:\n",
        "                print('\\n{:-^50}\\n'.format('TEST BEGIN'))\n",
        "                test_agent(u_agent, env, n_epochs=20, n_sessions=n_sessions, epsilon=epsilon)\n",
        "                print('\\n{:-^50}\\n'.format('TEST END'))\n",
        "\n",
        "            mean_reward = fit_epoch(wait_agent, fit_agent, env, n_sessions, test=True)\n",
        "            mean_rewards.append(mean_reward)\n",
        "            print(f'epoch: {epoch}, current agent: {fit_agent}, mean reward: {mean_reward}')\n",
        "            if np.abs(last_mean_reward - mean_reward) < epsilon:\n",
        "                stop = True\n",
        "                break\n",
        "            last_mean_reward = mean_reward\n",
        "            epoch += 1\n",
        "\n",
        "        print('\\n')\n",
        "        wait_agent, fit_agent = fit_agent, wait_agent\n",
        "\n",
        "    return u_agent, np.array(mean_rewards)\n"
      ],
      "execution_count": 0,
      "outputs": []
    },
    {
      "cell_type": "markdown",
      "metadata": {
        "id": "4wR_cLRa2r7A",
        "colab_type": "text"
      },
      "source": [
        "Plot mean rewards by epochs"
      ]
    },
    {
      "cell_type": "code",
      "metadata": {
        "id": "pI2rrGrK2w6l",
        "colab_type": "code",
        "colab": {}
      },
      "source": [
        "def plot_mean_rewards(mean_rewards, method_name):\n",
        "    _, ax = plt.subplots(figsize=(10, 8))\n",
        "    ax.plot(range(len(mean_rewards)), mean_rewards, '--')\n",
        "    ax.set_xlabel('epoch')\n",
        "    ax.set_ylabel('Mean reward')\n",
        "    ax.set_title(f'Mean rewards for {method_name} over epochs')\n",
        "    plt.show()  "
      ],
      "execution_count": 0,
      "outputs": []
    },
    {
      "cell_type": "markdown",
      "metadata": {
        "id": "pgUptSYv2FIK",
        "colab_type": "text"
      },
      "source": [
        "# Fitting"
      ]
    },
    {
      "cell_type": "markdown",
      "metadata": {
        "id": "LDwDnGJD5qa9",
        "colab_type": "text"
      },
      "source": [
        "Deafualt fit"
      ]
    },
    {
      "cell_type": "code",
      "metadata": {
        "id": "EXE4PAqKJ1Se",
        "colab_type": "code",
        "colab": {}
      },
      "source": [
        "env = UnequalGame()\n",
        "u_agent = CCEMAgent((2,), (1,), percentile_param=30, action_max=env.u_action_max, reward_param=-1)\n",
        "v_agent = CCEMAgent((2,), (1,), percentile_param=70, action_max=env.v_action_max, reward_param=1)"
      ],
      "execution_count": 0,
      "outputs": []
    },
    {
      "cell_type": "code",
      "metadata": {
        "scrolled": true,
        "id": "IB5KIRc2J1Sg",
        "colab_type": "code",
        "outputId": "d85426e1-66a5-417d-854b-81bdf898662c",
        "colab": {
          "base_uri": "https://localhost:8080/",
          "height": 1000
        }
      },
      "source": [
        "u_fit_agent, mean_rewards = fit_agents(u_agent, v_agent, env, n_epochs=101, n_sessions=100, epsilon=1e-6, n_iter_debug=50)"
      ],
      "execution_count": 11,
      "outputs": [
        {
          "output_type": "stream",
          "text": [
            "epoch: 0, mean reward: 1.3773243197560843\n",
            "epoch: 1, mean reward: 1.2849220297923083\n",
            "epoch: 2, mean reward: 1.1776507786345252\n",
            "epoch: 3, mean reward: 1.0594609653392284\n",
            "epoch: 4, mean reward: 0.9349823134704391\n",
            "epoch: 5, mean reward: 0.8492211485084661\n",
            "epoch: 6, mean reward: 0.7407841572648346\n",
            "epoch: 7, mean reward: 0.6469161470111148\n",
            "epoch: 8, mean reward: 0.5104650559918649\n",
            "epoch: 9, mean reward: 0.42697672565390443\n",
            "epoch: 10, mean reward: 0.3406296869713519\n",
            "epoch: 11, mean reward: 0.2848880261093028\n",
            "epoch: 12, mean reward: 0.23680522576171867\n",
            "epoch: 13, mean reward: 0.18388487993362304\n",
            "epoch: 14, mean reward: 0.14299283117802505\n",
            "epoch: 15, mean reward: 0.10584941179520252\n",
            "epoch: 16, mean reward: 0.06968883015453446\n",
            "epoch: 17, mean reward: 0.04056886945767383\n",
            "epoch: 18, mean reward: 0.022133273573165857\n",
            "epoch: 19, mean reward: 0.012398481921391527\n",
            "epoch: 20, mean reward: 0.0060429898070711785\n",
            "epoch: 21, mean reward: 0.002909253841796586\n",
            "epoch: 22, mean reward: 0.0029399799736055192\n",
            "epoch: 23, mean reward: 0.00237278702199119\n",
            "epoch: 24, mean reward: 0.002346423861609727\n",
            "epoch: 25, mean reward: 0.0025778598399387497\n",
            "epoch: 26, mean reward: 0.002176417869540448\n",
            "epoch: 27, mean reward: 0.0021326175533266213\n",
            "epoch: 28, mean reward: 0.0014089926281819099\n",
            "epoch: 29, mean reward: 0.002341789351505363\n",
            "epoch: 30, mean reward: 0.0017896860186720387\n",
            "epoch: 31, mean reward: 0.001836590891026031\n",
            "epoch: 32, mean reward: 0.0016089127091866253\n",
            "epoch: 33, mean reward: 0.001344004768654295\n",
            "epoch: 34, mean reward: 0.0012665036836372941\n",
            "epoch: 35, mean reward: 0.0018250519608096422\n",
            "epoch: 36, mean reward: 0.001514721708301345\n",
            "epoch: 37, mean reward: 0.0015117943124533276\n",
            "epoch: 38, mean reward: 0.001381011027561077\n",
            "epoch: 39, mean reward: 0.001265620337311212\n",
            "epoch: 40, mean reward: 0.0016039120408215654\n",
            "epoch: 41, mean reward: 0.0013418287774921711\n",
            "epoch: 42, mean reward: 0.0009551737941527492\n",
            "epoch: 43, mean reward: 0.0011700335337082063\n",
            "epoch: 44, mean reward: 0.0010775051933935638\n",
            "epoch: 45, mean reward: 0.0011193879487535656\n",
            "epoch: 46, mean reward: 0.0009629906768729652\n",
            "epoch: 47, mean reward: 0.0009573528978890103\n",
            "epoch: 48, mean reward: 0.0009294826328785266\n",
            "epoch: 49, mean reward: 0.0007366058129093774\n",
            "\n",
            "--------------------TEST BEGIN--------------------\n",
            "\n",
            "epoch: 0, mean reward: 0.09289094561186952\n",
            "epoch: 1, mean reward: 0.13302336252340624\n",
            "epoch: 2, mean reward: 0.17713212877870205\n",
            "epoch: 3, mean reward: 0.2273883224129115\n",
            "epoch: 4, mean reward: 0.2814645865248842\n",
            "epoch: 5, mean reward: 0.3425471373804181\n",
            "epoch: 6, mean reward: 0.4126353757980954\n",
            "epoch: 7, mean reward: 0.4916799679847935\n",
            "epoch: 8, mean reward: 0.5703097798604984\n",
            "epoch: 9, mean reward: 0.6449479924989916\n",
            "epoch: 10, mean reward: 0.7282845920891501\n",
            "epoch: 11, mean reward: 0.8064743757841736\n",
            "epoch: 12, mean reward: 0.8762060721787792\n",
            "epoch: 13, mean reward: 0.9515679049431485\n",
            "epoch: 14, mean reward: 1.031034987109545\n",
            "epoch: 15, mean reward: 1.1160804780377647\n",
            "epoch: 16, mean reward: 1.1925333503936972\n",
            "epoch: 17, mean reward: 1.2601371748602472\n",
            "epoch: 18, mean reward: 1.3438910245927587\n",
            "epoch: 19, mean reward: 1.4132209985031698\n",
            "\n",
            "---------------------TEST END---------------------\n",
            "\n",
            "epoch: 50, mean reward: 0.0007792864848654366\n",
            "epoch: 51, mean reward: 0.0006131830254033579\n",
            "epoch: 52, mean reward: 0.0009098939462058312\n",
            "epoch: 53, mean reward: 0.000696830168829788\n",
            "epoch: 54, mean reward: 0.0007173634877250809\n",
            "epoch: 55, mean reward: 0.0006702053192123205\n",
            "epoch: 56, mean reward: 0.0005332154995198315\n",
            "epoch: 57, mean reward: 0.0006709205702569898\n",
            "epoch: 58, mean reward: 0.0006799392949250066\n",
            "epoch: 59, mean reward: 0.0006710885966040288\n",
            "epoch: 60, mean reward: 0.0005154265653780349\n",
            "epoch: 61, mean reward: 0.00042309747266236865\n",
            "epoch: 62, mean reward: 0.0004601663984521849\n",
            "epoch: 63, mean reward: 0.0004425429405308221\n",
            "epoch: 64, mean reward: 0.0004386640493235947\n",
            "epoch: 65, mean reward: 0.00042187743556878365\n",
            "epoch: 66, mean reward: 0.0003496055031852683\n",
            "epoch: 67, mean reward: 0.0005794861339825875\n",
            "epoch: 68, mean reward: 0.0003301519957560288\n",
            "epoch: 69, mean reward: 0.00034204223238222845\n",
            "epoch: 70, mean reward: 0.00030787418559137\n",
            "epoch: 71, mean reward: 0.0004288339095708815\n",
            "epoch: 72, mean reward: 0.0003733272084174898\n",
            "epoch: 73, mean reward: 0.0002607782134972288\n",
            "epoch: 74, mean reward: 0.0002777111113500326\n",
            "epoch: 75, mean reward: 0.00036766731057461346\n",
            "epoch: 76, mean reward: 0.00029795682947578796\n",
            "epoch: 77, mean reward: 0.0002460644603397297\n",
            "epoch: 78, mean reward: 0.00029508075190964146\n",
            "epoch: 79, mean reward: 0.00018033484121999892\n",
            "epoch: 80, mean reward: 0.0002223554346456235\n",
            "epoch: 81, mean reward: 0.0002256313061937255\n",
            "epoch: 82, mean reward: 0.00028173921459274503\n",
            "epoch: 83, mean reward: 0.00020160167854677919\n",
            "epoch: 84, mean reward: 0.00021537058393156038\n",
            "epoch: 85, mean reward: 0.00017569326781569\n",
            "epoch: 86, mean reward: 0.00021574122455943589\n",
            "epoch: 87, mean reward: 0.00017161922109342346\n",
            "epoch: 88, mean reward: 0.00016858880332934093\n",
            "epoch: 89, mean reward: 0.0002060685179733215\n",
            "epoch: 90, mean reward: 0.00012998797315434094\n",
            "epoch: 91, mean reward: 0.0001606730724035577\n",
            "epoch: 92, mean reward: 0.0001372640549510327\n",
            "epoch: 93, mean reward: 0.00011382906853537305\n",
            "epoch: 94, mean reward: 0.00013044445450109294\n",
            "epoch: 95, mean reward: 0.00013055436869872244\n"
          ],
          "name": "stdout"
        }
      ]
    },
    {
      "cell_type": "code",
      "metadata": {
        "id": "YDn0VPMmJ1Sk",
        "colab_type": "code",
        "outputId": "78c34124-5e7b-4228-d6ac-04d5c7de69ab",
        "colab": {
          "base_uri": "https://localhost:8080/",
          "height": 513
        }
      },
      "source": [
        "plot_mean_rewards(mean_rewards, method_name='fit')"
      ],
      "execution_count": 12,
      "outputs": [
        {
          "output_type": "display_data",
          "data": {
            "image/png": "[encoded data removed]",
            "text/plain": [
              "<Figure size 720x576 with 1 Axes>"
            ]
          },
          "metadata": {
            "tags": [],
            "needs_background": "light"
          }
        }
      ]
    },
    {
      "cell_type": "markdown",
      "metadata": {
        "id": "rsIq2Y3V5njb",
        "colab_type": "text"
      },
      "source": [
        "Fit one by one"
      ]
    },
    {
      "cell_type": "code",
      "metadata": {
        "id": "OW1QxXVg6gYp",
        "colab_type": "code",
        "colab": {}
      },
      "source": [
        "u_agent_one_by_one = CCEMAgent((2,), (1,), percentile_param=30, action_max=env.u_action_max, reward_param=-1)\n",
        "v_agent_one_by_one = CCEMAgent((2,), (1,), percentile_param=70, action_max=env.v_action_max, reward_param=1)"
      ],
      "execution_count": 0,
      "outputs": []
    },
    {
      "cell_type": "code",
      "metadata": {
        "id": "Fo2hX83F6UxM",
        "colab_type": "code",
        "outputId": "cb87a282-8f72-4e4a-ed71-36ab62e761fe",
        "colab": {
          "base_uri": "https://localhost:8080/",
          "height": 1000
        }
      },
      "source": [
        "u_fit_agent_one_by_one, mean_rewards_one_by_one =\\\n",
        "fit_agents_one_by_one(u_agent_one_by_one, v_agent_one_by_one, env, \\\n",
        "                       n_epochs=241, n_sessions=100, n_iter_for_fit=20, epsilon=1e-6, n_iter_debug=80)"
      ],
      "execution_count": 15,
      "outputs": [
        {
          "output_type": "stream",
          "text": [
            "epoch: 0, current agent: u_, mean reward: 0.4236724743069402\n",
            "epoch: 1, current agent: u_, mean reward: 0.3093188490597262\n",
            "epoch: 2, current agent: u_, mean reward: 0.20565943838628611\n",
            "epoch: 3, current agent: u_, mean reward: 0.12172123177504171\n",
            "epoch: 4, current agent: u_, mean reward: 0.0647874882991128\n",
            "epoch: 5, current agent: u_, mean reward: 0.029363237281881678\n",
            "epoch: 6, current agent: u_, mean reward: 0.014317842357427737\n",
            "epoch: 7, current agent: u_, mean reward: 0.00910365687035968\n",
            "epoch: 8, current agent: u_, mean reward: 0.00836902644469062\n",
            "epoch: 9, current agent: u_, mean reward: 0.008239143017395225\n",
            "epoch: 10, current agent: u_, mean reward: 0.005763710135758438\n",
            "epoch: 11, current agent: u_, mean reward: 0.007524392470895476\n",
            "epoch: 12, current agent: u_, mean reward: 0.006734512381606368\n",
            "epoch: 13, current agent: u_, mean reward: 0.007366219415459154\n",
            "epoch: 14, current agent: u_, mean reward: 0.005968206936632674\n",
            "epoch: 15, current agent: u_, mean reward: 0.005250019514586179\n",
            "epoch: 16, current agent: u_, mean reward: 0.004345979635853393\n",
            "epoch: 17, current agent: u_, mean reward: 0.0055030030737219585\n",
            "epoch: 18, current agent: u_, mean reward: 0.003990219471681312\n",
            "epoch: 19, current agent: u_, mean reward: 0.004724987326784308\n",
            "\n",
            "\n",
            "epoch: 20, current agent: v_, mean reward: 0.0024308551551546227\n",
            "epoch: 21, current agent: v_, mean reward: 0.0038350935848698096\n",
            "epoch: 22, current agent: v_, mean reward: 0.01276062594449038\n",
            "epoch: 23, current agent: v_, mean reward: 0.034594947849490014\n",
            "epoch: 24, current agent: v_, mean reward: 0.06589875620424024\n",
            "epoch: 25, current agent: v_, mean reward: 0.10222874509131959\n",
            "epoch: 26, current agent: v_, mean reward: 0.14760287052455112\n",
            "epoch: 27, current agent: v_, mean reward: 0.19681432061626072\n",
            "epoch: 28, current agent: v_, mean reward: 0.24852326529110122\n",
            "epoch: 29, current agent: v_, mean reward: 0.29860241721902764\n",
            "epoch: 30, current agent: v_, mean reward: 0.3435003153878842\n",
            "epoch: 31, current agent: v_, mean reward: 0.40273113608892463\n",
            "epoch: 32, current agent: v_, mean reward: 0.4713250075564618\n",
            "epoch: 33, current agent: v_, mean reward: 0.5367020458656201\n",
            "epoch: 34, current agent: v_, mean reward: 0.601945437537325\n",
            "epoch: 35, current agent: v_, mean reward: 0.6502206987247948\n",
            "epoch: 36, current agent: v_, mean reward: 0.7082650168605583\n",
            "epoch: 37, current agent: v_, mean reward: 0.7628714066551171\n",
            "epoch: 38, current agent: v_, mean reward: 0.8127807546891098\n",
            "epoch: 39, current agent: v_, mean reward: 0.8558712375915114\n",
            "\n",
            "\n",
            "epoch: 40, current agent: u_, mean reward: 0.9436716218944078\n",
            "epoch: 41, current agent: u_, mean reward: 0.7638395886295838\n",
            "epoch: 42, current agent: u_, mean reward: 0.6471085906408655\n",
            "epoch: 43, current agent: u_, mean reward: 0.5154589886154666\n",
            "epoch: 44, current agent: u_, mean reward: 0.4168313612459271\n",
            "epoch: 45, current agent: u_, mean reward: 0.31879120305837655\n",
            "epoch: 46, current agent: u_, mean reward: 0.2598364136527597\n",
            "epoch: 47, current agent: u_, mean reward: 0.1806425058034862\n",
            "epoch: 48, current agent: u_, mean reward: 0.12419042850119448\n",
            "epoch: 49, current agent: u_, mean reward: 0.07893687656562687\n",
            "epoch: 50, current agent: u_, mean reward: 0.044534218926685895\n",
            "epoch: 51, current agent: u_, mean reward: 0.01961614266983006\n",
            "epoch: 52, current agent: u_, mean reward: 0.004159876902817372\n",
            "epoch: 53, current agent: u_, mean reward: 0.001863087727029904\n",
            "epoch: 54, current agent: u_, mean reward: 0.002005631243353544\n",
            "epoch: 55, current agent: u_, mean reward: 0.0018489669591642427\n",
            "epoch: 56, current agent: u_, mean reward: 0.002046016591155004\n",
            "epoch: 57, current agent: u_, mean reward: 0.0018905587695790546\n",
            "epoch: 58, current agent: u_, mean reward: 0.002023840871598724\n",
            "epoch: 59, current agent: u_, mean reward: 0.001669352557779408\n",
            "\n",
            "\n",
            "epoch: 60, current agent: v_, mean reward: 0.0013328214391188243\n",
            "epoch: 61, current agent: v_, mean reward: 0.006490686755038897\n",
            "epoch: 62, current agent: v_, mean reward: 0.018088369788860935\n",
            "epoch: 63, current agent: v_, mean reward: 0.03176164556464886\n",
            "epoch: 64, current agent: v_, mean reward: 0.04910015965223144\n",
            "epoch: 65, current agent: v_, mean reward: 0.06753770885183695\n",
            "epoch: 66, current agent: v_, mean reward: 0.08986414822908345\n",
            "epoch: 67, current agent: v_, mean reward: 0.1120855282446357\n",
            "epoch: 68, current agent: v_, mean reward: 0.13961406535205517\n",
            "epoch: 69, current agent: v_, mean reward: 0.16959242051039947\n",
            "epoch: 70, current agent: v_, mean reward: 0.20100946872143827\n",
            "epoch: 71, current agent: v_, mean reward: 0.23996605247986355\n",
            "epoch: 72, current agent: v_, mean reward: 0.27349883519959883\n",
            "epoch: 73, current agent: v_, mean reward: 0.3075313171194222\n",
            "epoch: 74, current agent: v_, mean reward: 0.34481655038257314\n",
            "epoch: 75, current agent: v_, mean reward: 0.39052336616089517\n",
            "epoch: 76, current agent: v_, mean reward: 0.4383065365913059\n",
            "epoch: 77, current agent: v_, mean reward: 0.48156876480593974\n",
            "epoch: 78, current agent: v_, mean reward: 0.5321006529958937\n",
            "epoch: 79, current agent: v_, mean reward: 0.5789567556442012\n",
            "\n",
            "\n",
            "\n",
            "--------------------TEST BEGIN--------------------\n",
            "\n",
            "epoch: 0, mean reward: 0.5573377052936543\n",
            "epoch: 1, mean reward: 0.6780403366062285\n",
            "epoch: 2, mean reward: 0.7980100249668269\n",
            "epoch: 3, mean reward: 0.9060287288852833\n",
            "epoch: 4, mean reward: 1.0090460427185743\n",
            "epoch: 5, mean reward: 1.125355200015982\n",
            "epoch: 6, mean reward: 1.2732260719503572\n",
            "epoch: 7, mean reward: 1.4056422820831147\n",
            "epoch: 8, mean reward: 1.5367142342518294\n",
            "epoch: 9, mean reward: 1.6565416555092551\n",
            "epoch: 10, mean reward: 1.8225818364009356\n",
            "epoch: 11, mean reward: 1.9567891588969013\n",
            "epoch: 12, mean reward: 2.0932326814805986\n",
            "epoch: 13, mean reward: 2.212430354087855\n",
            "epoch: 14, mean reward: 2.3107482526752268\n",
            "epoch: 15, mean reward: 2.4190223080570714\n",
            "epoch: 16, mean reward: 2.552586566062555\n",
            "epoch: 17, mean reward: 2.6424804945356435\n",
            "epoch: 18, mean reward: 2.716809260063193\n",
            "epoch: 19, mean reward: 2.7892363436386716\n",
            "\n",
            "---------------------TEST END---------------------\n",
            "\n",
            "epoch: 80, current agent: u_, mean reward: 0.6307488841031423\n",
            "epoch: 81, current agent: u_, mean reward: 0.540788636362448\n",
            "epoch: 82, current agent: u_, mean reward: 0.44760972285740513\n",
            "epoch: 83, current agent: u_, mean reward: 0.37906888253379917\n",
            "epoch: 84, current agent: u_, mean reward: 0.3239406741843929\n",
            "epoch: 85, current agent: u_, mean reward: 0.2653915540108847\n",
            "epoch: 86, current agent: u_, mean reward: 0.2094219668643719\n",
            "epoch: 87, current agent: u_, mean reward: 0.16148145634123295\n",
            "epoch: 88, current agent: u_, mean reward: 0.12773941384141582\n",
            "epoch: 89, current agent: u_, mean reward: 0.09241107509470291\n",
            "epoch: 90, current agent: u_, mean reward: 0.06398083025143951\n",
            "epoch: 91, current agent: u_, mean reward: 0.042552746302437584\n",
            "epoch: 92, current agent: u_, mean reward: 0.02570212281097144\n",
            "epoch: 93, current agent: u_, mean reward: 0.014624856708950387\n",
            "epoch: 94, current agent: u_, mean reward: 0.005237877156179047\n",
            "epoch: 95, current agent: u_, mean reward: 0.000829407429219513\n",
            "epoch: 96, current agent: u_, mean reward: 0.0005891194755581454\n",
            "epoch: 97, current agent: u_, mean reward: 0.0006306704443969024\n",
            "epoch: 98, current agent: u_, mean reward: 0.0004576288037955681\n",
            "epoch: 99, current agent: u_, mean reward: 0.0005180376629051909\n",
            "\n",
            "\n",
            "epoch: 100, current agent: v_, mean reward: 0.00025743531997553275\n",
            "epoch: 101, current agent: v_, mean reward: 0.00031734519304538726\n",
            "epoch: 102, current agent: v_, mean reward: 0.000639736957174182\n",
            "epoch: 103, current agent: v_, mean reward: 0.0020522008730481114\n",
            "epoch: 104, current agent: v_, mean reward: 0.005060027956873126\n",
            "epoch: 105, current agent: v_, mean reward: 0.00941821152174792\n",
            "epoch: 106, current agent: v_, mean reward: 0.01604977475160165\n",
            "epoch: 107, current agent: v_, mean reward: 0.023715269755255827\n",
            "epoch: 108, current agent: v_, mean reward: 0.034357462609445714\n",
            "epoch: 109, current agent: v_, mean reward: 0.04439650966241226\n",
            "epoch: 110, current agent: v_, mean reward: 0.05511539985368348\n",
            "epoch: 111, current agent: v_, mean reward: 0.06637576120703699\n",
            "epoch: 112, current agent: v_, mean reward: 0.07932942722900506\n",
            "epoch: 113, current agent: v_, mean reward: 0.09313106084745587\n",
            "epoch: 114, current agent: v_, mean reward: 0.10676082420968282\n",
            "epoch: 115, current agent: v_, mean reward: 0.12140007120316515\n",
            "epoch: 116, current agent: v_, mean reward: 0.1356144941566822\n",
            "epoch: 117, current agent: v_, mean reward: 0.15058016662915755\n",
            "epoch: 118, current agent: v_, mean reward: 0.164896030870178\n",
            "epoch: 119, current agent: v_, mean reward: 0.1822183518815805\n",
            "\n",
            "\n",
            "epoch: 120, current agent: u_, mean reward: 0.20193009559974698\n",
            "epoch: 121, current agent: u_, mean reward: 0.1703638643073841\n",
            "epoch: 122, current agent: u_, mean reward: 0.1398639569925715\n",
            "epoch: 123, current agent: u_, mean reward: 0.10671069273996156\n",
            "epoch: 124, current agent: u_, mean reward: 0.08339937446249474\n",
            "epoch: 125, current agent: u_, mean reward: 0.06336819155098733\n",
            "epoch: 126, current agent: u_, mean reward: 0.04550020805934245\n",
            "epoch: 127, current agent: u_, mean reward: 0.033239143414087374\n",
            "epoch: 128, current agent: u_, mean reward: 0.022933520228999017\n",
            "epoch: 129, current agent: u_, mean reward: 0.01302708523490421\n",
            "epoch: 130, current agent: u_, mean reward: 0.006085768633742725\n",
            "epoch: 131, current agent: u_, mean reward: 0.002391871688486146\n",
            "epoch: 132, current agent: u_, mean reward: 0.0006102389003348911\n",
            "epoch: 133, current agent: u_, mean reward: 0.00041503333653652996\n",
            "epoch: 134, current agent: u_, mean reward: 0.00033283044573056785\n",
            "epoch: 135, current agent: u_, mean reward: 0.0003220834367570237\n",
            "epoch: 136, current agent: u_, mean reward: 0.00033930509442300287\n",
            "epoch: 137, current agent: u_, mean reward: 0.00025294439497185325\n",
            "epoch: 138, current agent: u_, mean reward: 0.00026725324731847013\n",
            "epoch: 139, current agent: u_, mean reward: 0.00021935914147506351\n",
            "\n",
            "\n",
            "epoch: 140, current agent: v_, mean reward: 0.00013945569265581955\n",
            "epoch: 141, current agent: v_, mean reward: 0.00025698073734261136\n",
            "epoch: 142, current agent: v_, mean reward: 0.0007625321965844356\n",
            "epoch: 143, current agent: v_, mean reward: 0.0020645584277807516\n",
            "epoch: 144, current agent: v_, mean reward: 0.0039681915903716294\n",
            "epoch: 145, current agent: v_, mean reward: 0.006655124186590201\n",
            "epoch: 146, current agent: v_, mean reward: 0.009772178575741699\n",
            "epoch: 147, current agent: v_, mean reward: 0.013222449176848642\n",
            "epoch: 148, current agent: v_, mean reward: 0.01712959518505672\n",
            "epoch: 149, current agent: v_, mean reward: 0.021256623013829162\n",
            "epoch: 150, current agent: v_, mean reward: 0.02647929745721116\n",
            "epoch: 151, current agent: v_, mean reward: 0.03214221463646935\n",
            "epoch: 152, current agent: v_, mean reward: 0.03814445488703212\n",
            "epoch: 153, current agent: v_, mean reward: 0.04381072075782151\n",
            "epoch: 154, current agent: v_, mean reward: 0.05027662122962563\n",
            "epoch: 155, current agent: v_, mean reward: 0.057217165226828376\n",
            "epoch: 156, current agent: v_, mean reward: 0.06416974745445281\n",
            "epoch: 157, current agent: v_, mean reward: 0.0715909014191991\n",
            "epoch: 158, current agent: v_, mean reward: 0.07966150634847508\n",
            "epoch: 159, current agent: v_, mean reward: 0.0884158282793029\n",
            "\n",
            "\n",
            "\n",
            "--------------------TEST BEGIN--------------------\n",
            "\n",
            "epoch: 0, mean reward: 0.2665001154529495\n",
            "epoch: 1, mean reward: 0.3071160048706616\n",
            "epoch: 2, mean reward: 0.3502485887931618\n",
            "epoch: 3, mean reward: 0.39084230192467856\n",
            "epoch: 4, mean reward: 0.4337719106117548\n",
            "epoch: 5, mean reward: 0.47379866318359243\n",
            "epoch: 6, mean reward: 0.5146122743651655\n",
            "epoch: 7, mean reward: 0.5668166528783396\n",
            "epoch: 8, mean reward: 0.6036651037122565\n",
            "epoch: 9, mean reward: 0.6689161507865466\n",
            "epoch: 10, mean reward: 0.707883536173938\n",
            "epoch: 11, mean reward: 0.7661447517010225\n",
            "epoch: 12, mean reward: 0.824571388247101\n",
            "epoch: 13, mean reward: 0.8766917109110967\n",
            "epoch: 14, mean reward: 0.9187489495748932\n",
            "epoch: 15, mean reward: 0.9603493233348679\n",
            "epoch: 16, mean reward: 0.9989694800527735\n",
            "epoch: 17, mean reward: 1.0464419121604887\n",
            "epoch: 18, mean reward: 1.0805371527041407\n",
            "epoch: 19, mean reward: 1.1248921658489934\n",
            "\n",
            "---------------------TEST END---------------------\n",
            "\n",
            "epoch: 160, current agent: u_, mean reward: 0.09706288657177334\n",
            "epoch: 161, current agent: u_, mean reward: 0.07911889113247668\n",
            "epoch: 162, current agent: u_, mean reward: 0.065911464588369\n",
            "epoch: 163, current agent: u_, mean reward: 0.0526333950957372\n",
            "epoch: 164, current agent: u_, mean reward: 0.04033694208083347\n",
            "epoch: 165, current agent: u_, mean reward: 0.03126508639056488\n",
            "epoch: 166, current agent: u_, mean reward: 0.022406372047047915\n",
            "epoch: 167, current agent: u_, mean reward: 0.014515785767634102\n",
            "epoch: 168, current agent: u_, mean reward: 0.00831760330498024\n",
            "epoch: 169, current agent: u_, mean reward: 0.004060427175122643\n",
            "epoch: 170, current agent: u_, mean reward: 0.001827227558965327\n",
            "epoch: 171, current agent: u_, mean reward: 0.0005124098759444678\n",
            "epoch: 172, current agent: u_, mean reward: 0.00017315897372656184\n",
            "epoch: 173, current agent: u_, mean reward: 0.00014711515349199336\n",
            "epoch: 174, current agent: u_, mean reward: 0.00015345853913124004\n",
            "epoch: 175, current agent: u_, mean reward: 0.00017221631821000155\n",
            "epoch: 176, current agent: u_, mean reward: 0.00012636794047304786\n",
            "epoch: 177, current agent: u_, mean reward: 0.00012710240314824735\n",
            "\n",
            "\n"
          ],
          "name": "stdout"
        }
      ]
    },
    {
      "cell_type": "code",
      "metadata": {
        "id": "wnAuA95963EE",
        "colab_type": "code",
        "outputId": "8990d8ae-37e9-461a-9e8f-d23a7ad0671b",
        "colab": {
          "base_uri": "https://localhost:8080/",
          "height": 513
        }
      },
      "source": [
        "plot_mean_rewards(mean_rewards_one_by_one, method_name='fit one by one')"
      ],
      "execution_count": 16,
      "outputs": [
        {
          "output_type": "display_data",
          "data": {
            "image/png": "[encoded data removed]",
            "text/plain": [
              "<Figure size 720x576 with 1 Axes>"
            ]
          },
          "metadata": {
            "tags": [],
            "needs_background": "light"
          }
        }
      ]
    },
    {
      "cell_type": "markdown",
      "metadata": {
        "id": "a9PYm_lX2h-H",
        "colab_type": "text"
      },
      "source": [
        "# Testing"
      ]
    },
    {
      "cell_type": "markdown",
      "metadata": {
        "id": "RrkkxFDSJ1Sn",
        "colab_type": "text"
      },
      "source": [
        "Test default u_agent"
      ]
    },
    {
      "cell_type": "code",
      "metadata": {
        "id": "yzC4Sb2QJ1Sq",
        "colab_type": "code",
        "colab": {
          "base_uri": "https://localhost:8080/",
          "height": 294
        },
        "outputId": "1eb3ce44-00c8-4c69-9754-d85d811f3c5b"
      },
      "source": [
        "test_rewards = test_agent(u_fit_agent, env, n_epochs=200, n_sessions=100, epsilon=1e-6)"
      ],
      "execution_count": 43,
      "outputs": [
        {
          "output_type": "stream",
          "text": [
            "epoch: 0, mean reward: 0.003540376363573217\n",
            "epoch: 1, mean reward: 0.003854413225272795\n"
          ],
          "name": "stdout"
        },
        {
          "output_type": "error",
          "ename": "KeyboardInterrupt",
          "evalue": "ignored",
          "traceback": [
            "\u001b[0;31m---------------------------------------------------------------------------\u001b[0m",
            "\u001b[0;31mKeyboardInterrupt\u001b[0m                         Traceback (most recent call last)",
            "\u001b[0;32m<ipython-input-43-006aded099fd>\u001b[0m in \u001b[0;36m<module>\u001b[0;34m()\u001b[0m\n\u001b[0;32m----> 1\u001b[0;31m \u001b[0mtest_rewards\u001b[0m \u001b[0;34m=\u001b[0m \u001b[0mtest_agent\u001b[0m\u001b[0;34m(\u001b[0m\u001b[0mu_fit_agent\u001b[0m\u001b[0;34m,\u001b[0m \u001b[0menv\u001b[0m\u001b[0;34m,\u001b[0m \u001b[0mn_epochs\u001b[0m\u001b[0;34m=\u001b[0m\u001b[0;36m200\u001b[0m\u001b[0;34m,\u001b[0m \u001b[0mn_sessions\u001b[0m\u001b[0;34m=\u001b[0m\u001b[0;36m100\u001b[0m\u001b[0;34m,\u001b[0m \u001b[0mepsilon\u001b[0m\u001b[0;34m=\u001b[0m\u001b[0;36m1e-6\u001b[0m\u001b[0;34m)\u001b[0m\u001b[0;34m\u001b[0m\u001b[0;34m\u001b[0m\u001b[0m\n\u001b[0m",
            "\u001b[0;32m<ipython-input-17-03b805a2d825>\u001b[0m in \u001b[0;36mtest_agent\u001b[0;34m(u_agent, env, n_epochs, n_sessions, epsilon)\u001b[0m\n\u001b[1;32m      1\u001b[0m \u001b[0;32mdef\u001b[0m \u001b[0mtest_agent\u001b[0m\u001b[0;34m(\u001b[0m\u001b[0mu_agent\u001b[0m\u001b[0;34m,\u001b[0m \u001b[0menv\u001b[0m\u001b[0;34m,\u001b[0m \u001b[0mn_epochs\u001b[0m\u001b[0;34m,\u001b[0m \u001b[0mn_sessions\u001b[0m\u001b[0;34m,\u001b[0m \u001b[0mepsilon\u001b[0m\u001b[0;34m)\u001b[0m\u001b[0;34m:\u001b[0m\u001b[0;34m\u001b[0m\u001b[0;34m\u001b[0m\u001b[0m\n\u001b[1;32m      2\u001b[0m     \u001b[0mv_agent\u001b[0m \u001b[0;34m=\u001b[0m \u001b[0mCCEMAgent\u001b[0m\u001b[0;34m(\u001b[0m\u001b[0;34m(\u001b[0m\u001b[0;36m2\u001b[0m\u001b[0;34m,\u001b[0m\u001b[0;34m)\u001b[0m\u001b[0;34m,\u001b[0m \u001b[0;34m(\u001b[0m\u001b[0;36m1\u001b[0m\u001b[0;34m,\u001b[0m\u001b[0;34m)\u001b[0m\u001b[0;34m,\u001b[0m \u001b[0mpercentile_param\u001b[0m\u001b[0;34m=\u001b[0m\u001b[0;36m70\u001b[0m\u001b[0;34m,\u001b[0m \u001b[0maction_max\u001b[0m\u001b[0;34m=\u001b[0m\u001b[0menv\u001b[0m\u001b[0;34m.\u001b[0m\u001b[0mv_action_max\u001b[0m\u001b[0;34m,\u001b[0m \u001b[0mreward_param\u001b[0m\u001b[0;34m=\u001b[0m\u001b[0;36m1\u001b[0m\u001b[0;34m)\u001b[0m\u001b[0;34m\u001b[0m\u001b[0;34m\u001b[0m\u001b[0m\n\u001b[0;32m----> 3\u001b[0;31m     \u001b[0m_\u001b[0m\u001b[0;34m,\u001b[0m \u001b[0mrewards\u001b[0m \u001b[0;34m=\u001b[0m  \u001b[0mfit_agents\u001b[0m\u001b[0;34m(\u001b[0m\u001b[0mu_agent\u001b[0m\u001b[0;34m,\u001b[0m \u001b[0mv_agent\u001b[0m\u001b[0;34m,\u001b[0m \u001b[0menv\u001b[0m\u001b[0;34m,\u001b[0m \u001b[0mn_epochs\u001b[0m\u001b[0;34m,\u001b[0m \u001b[0mn_sessions\u001b[0m\u001b[0;34m,\u001b[0m \u001b[0mepsilon\u001b[0m\u001b[0;34m,\u001b[0m \u001b[0mtest\u001b[0m\u001b[0;34m=\u001b[0m\u001b[0;32mTrue\u001b[0m\u001b[0;34m)\u001b[0m\u001b[0;34m\u001b[0m\u001b[0;34m\u001b[0m\u001b[0m\n\u001b[0m\u001b[1;32m      4\u001b[0m     \u001b[0;32mreturn\u001b[0m \u001b[0mrewards\u001b[0m\u001b[0;34m\u001b[0m\u001b[0;34m\u001b[0m\u001b[0m\n",
            "\u001b[0;32m<ipython-input-31-82c2f8c5053f>\u001b[0m in \u001b[0;36mfit_agents\u001b[0;34m(u_agent, v_agent, env, n_epochs, n_sessions, epsilon, test, n_iter_debug)\u001b[0m\n\u001b[1;32m     19\u001b[0m             \u001b[0mprint\u001b[0m\u001b[0;34m(\u001b[0m\u001b[0;34m'{:-^50}\\n'\u001b[0m\u001b[0;34m.\u001b[0m\u001b[0mformat\u001b[0m\u001b[0;34m(\u001b[0m\u001b[0;34m'TEST END'\u001b[0m\u001b[0;34m)\u001b[0m\u001b[0;34m)\u001b[0m\u001b[0;34m\u001b[0m\u001b[0;34m\u001b[0m\u001b[0m\n\u001b[1;32m     20\u001b[0m \u001b[0;34m\u001b[0m\u001b[0m\n\u001b[0;32m---> 21\u001b[0;31m         \u001b[0mmean_reward\u001b[0m \u001b[0;34m=\u001b[0m \u001b[0mfit_epoch\u001b[0m\u001b[0;34m(\u001b[0m\u001b[0mu_agent\u001b[0m\u001b[0;34m,\u001b[0m \u001b[0mv_agent\u001b[0m\u001b[0;34m,\u001b[0m \u001b[0menv\u001b[0m\u001b[0;34m,\u001b[0m \u001b[0mn_sessions\u001b[0m\u001b[0;34m,\u001b[0m \u001b[0mtest\u001b[0m\u001b[0;34m)\u001b[0m\u001b[0;34m\u001b[0m\u001b[0;34m\u001b[0m\u001b[0m\n\u001b[0m\u001b[1;32m     22\u001b[0m         \u001b[0mmean_rewards\u001b[0m\u001b[0;34m.\u001b[0m\u001b[0mappend\u001b[0m\u001b[0;34m(\u001b[0m\u001b[0mmean_reward\u001b[0m\u001b[0;34m)\u001b[0m\u001b[0;34m\u001b[0m\u001b[0;34m\u001b[0m\u001b[0m\n\u001b[1;32m     23\u001b[0m         \u001b[0mprint\u001b[0m\u001b[0;34m(\u001b[0m\u001b[0;34mf'epoch: {epoch}, mean reward: {mean_reward}'\u001b[0m\u001b[0;34m)\u001b[0m\u001b[0;34m\u001b[0m\u001b[0;34m\u001b[0m\u001b[0m\n",
            "\u001b[0;32m<ipython-input-30-5c22a553b5c6>\u001b[0m in \u001b[0;36mfit_epoch\u001b[0;34m(u_agent, v_agent, env, n_sessions, test)\u001b[0m\n\u001b[1;32m     23\u001b[0m \u001b[0;34m\u001b[0m\u001b[0m\n\u001b[1;32m     24\u001b[0m \u001b[0;32mdef\u001b[0m \u001b[0mfit_epoch\u001b[0m\u001b[0;34m(\u001b[0m\u001b[0mu_agent\u001b[0m\u001b[0;34m,\u001b[0m \u001b[0mv_agent\u001b[0m\u001b[0;34m,\u001b[0m \u001b[0menv\u001b[0m\u001b[0;34m,\u001b[0m \u001b[0mn_sessions\u001b[0m\u001b[0;34m,\u001b[0m \u001b[0mtest\u001b[0m\u001b[0;34m)\u001b[0m\u001b[0;34m:\u001b[0m\u001b[0;34m\u001b[0m\u001b[0;34m\u001b[0m\u001b[0m\n\u001b[0;32m---> 25\u001b[0;31m     \u001b[0msessions\u001b[0m \u001b[0;34m=\u001b[0m \u001b[0;34m[\u001b[0m\u001b[0mgenerate_session\u001b[0m\u001b[0;34m(\u001b[0m\u001b[0mu_agent\u001b[0m\u001b[0;34m,\u001b[0m \u001b[0mv_agent\u001b[0m\u001b[0;34m,\u001b[0m \u001b[0menv\u001b[0m\u001b[0;34m,\u001b[0m \u001b[0mtest\u001b[0m\u001b[0;34m=\u001b[0m\u001b[0mtest\u001b[0m\u001b[0;34m)\u001b[0m \u001b[0;32mfor\u001b[0m \u001b[0m_\u001b[0m \u001b[0;32min\u001b[0m \u001b[0mrange\u001b[0m\u001b[0;34m(\u001b[0m\u001b[0mn_sessions\u001b[0m\u001b[0;34m)\u001b[0m\u001b[0;34m]\u001b[0m\u001b[0;34m\u001b[0m\u001b[0;34m\u001b[0m\u001b[0m\n\u001b[0m\u001b[1;32m     26\u001b[0m     \u001b[0mmean_reward\u001b[0m \u001b[0;34m=\u001b[0m \u001b[0mnp\u001b[0m\u001b[0;34m.\u001b[0m\u001b[0mmean\u001b[0m\u001b[0;34m(\u001b[0m\u001b[0;34m[\u001b[0m\u001b[0msession\u001b[0m\u001b[0;34m[\u001b[0m\u001b[0;34m'total_reward'\u001b[0m\u001b[0;34m]\u001b[0m \u001b[0;32mfor\u001b[0m \u001b[0msession\u001b[0m \u001b[0;32min\u001b[0m \u001b[0msessions\u001b[0m\u001b[0;34m]\u001b[0m\u001b[0;34m)\u001b[0m\u001b[0;34m\u001b[0m\u001b[0;34m\u001b[0m\u001b[0m\n\u001b[1;32m     27\u001b[0m     \u001b[0;32mif\u001b[0m \u001b[0;32mnot\u001b[0m \u001b[0mtest\u001b[0m\u001b[0;34m:\u001b[0m\u001b[0;34m\u001b[0m\u001b[0;34m\u001b[0m\u001b[0m\n",
            "\u001b[0;32m<ipython-input-30-5c22a553b5c6>\u001b[0m in \u001b[0;36m<listcomp>\u001b[0;34m(.0)\u001b[0m\n\u001b[1;32m     23\u001b[0m \u001b[0;34m\u001b[0m\u001b[0m\n\u001b[1;32m     24\u001b[0m \u001b[0;32mdef\u001b[0m \u001b[0mfit_epoch\u001b[0m\u001b[0;34m(\u001b[0m\u001b[0mu_agent\u001b[0m\u001b[0;34m,\u001b[0m \u001b[0mv_agent\u001b[0m\u001b[0;34m,\u001b[0m \u001b[0menv\u001b[0m\u001b[0;34m,\u001b[0m \u001b[0mn_sessions\u001b[0m\u001b[0;34m,\u001b[0m \u001b[0mtest\u001b[0m\u001b[0;34m)\u001b[0m\u001b[0;34m:\u001b[0m\u001b[0;34m\u001b[0m\u001b[0;34m\u001b[0m\u001b[0m\n\u001b[0;32m---> 25\u001b[0;31m     \u001b[0msessions\u001b[0m \u001b[0;34m=\u001b[0m \u001b[0;34m[\u001b[0m\u001b[0mgenerate_session\u001b[0m\u001b[0;34m(\u001b[0m\u001b[0mu_agent\u001b[0m\u001b[0;34m,\u001b[0m \u001b[0mv_agent\u001b[0m\u001b[0;34m,\u001b[0m \u001b[0menv\u001b[0m\u001b[0;34m,\u001b[0m \u001b[0mtest\u001b[0m\u001b[0;34m=\u001b[0m\u001b[0mtest\u001b[0m\u001b[0;34m)\u001b[0m \u001b[0;32mfor\u001b[0m \u001b[0m_\u001b[0m \u001b[0;32min\u001b[0m \u001b[0mrange\u001b[0m\u001b[0;34m(\u001b[0m\u001b[0mn_sessions\u001b[0m\u001b[0;34m)\u001b[0m\u001b[0;34m]\u001b[0m\u001b[0;34m\u001b[0m\u001b[0;34m\u001b[0m\u001b[0m\n\u001b[0m\u001b[1;32m     26\u001b[0m     \u001b[0mmean_reward\u001b[0m \u001b[0;34m=\u001b[0m \u001b[0mnp\u001b[0m\u001b[0;34m.\u001b[0m\u001b[0mmean\u001b[0m\u001b[0;34m(\u001b[0m\u001b[0;34m[\u001b[0m\u001b[0msession\u001b[0m\u001b[0;34m[\u001b[0m\u001b[0;34m'total_reward'\u001b[0m\u001b[0;34m]\u001b[0m \u001b[0;32mfor\u001b[0m \u001b[0msession\u001b[0m \u001b[0;32min\u001b[0m \u001b[0msessions\u001b[0m\u001b[0;34m]\u001b[0m\u001b[0;34m)\u001b[0m\u001b[0;34m\u001b[0m\u001b[0;34m\u001b[0m\u001b[0m\n\u001b[1;32m     27\u001b[0m     \u001b[0;32mif\u001b[0m \u001b[0;32mnot\u001b[0m \u001b[0mtest\u001b[0m\u001b[0;34m:\u001b[0m\u001b[0;34m\u001b[0m\u001b[0;34m\u001b[0m\u001b[0m\n",
            "\u001b[0;32m<ipython-input-30-5c22a553b5c6>\u001b[0m in \u001b[0;36mgenerate_session\u001b[0;34m(u_agent, v_agent, env, test)\u001b[0m\n\u001b[1;32m     11\u001b[0m     \u001b[0;32mwhile\u001b[0m \u001b[0;32mnot\u001b[0m \u001b[0mdone\u001b[0m\u001b[0;34m:\u001b[0m\u001b[0;34m\u001b[0m\u001b[0;34m\u001b[0m\u001b[0m\n\u001b[1;32m     12\u001b[0m         \u001b[0mu_action\u001b[0m \u001b[0;34m=\u001b[0m \u001b[0mu_agent\u001b[0m\u001b[0;34m.\u001b[0m\u001b[0mget_action\u001b[0m\u001b[0;34m(\u001b[0m\u001b[0mstate\u001b[0m\u001b[0;34m,\u001b[0m \u001b[0mtest\u001b[0m\u001b[0;34m=\u001b[0m\u001b[0mtest\u001b[0m\u001b[0;34m)\u001b[0m\u001b[0;34m\u001b[0m\u001b[0;34m\u001b[0m\u001b[0m\n\u001b[0;32m---> 13\u001b[0;31m         \u001b[0mv_action\u001b[0m \u001b[0;34m=\u001b[0m \u001b[0mv_agent\u001b[0m\u001b[0;34m.\u001b[0m\u001b[0mget_action\u001b[0m\u001b[0;34m(\u001b[0m\u001b[0mstate\u001b[0m\u001b[0;34m)\u001b[0m\u001b[0;34m\u001b[0m\u001b[0;34m\u001b[0m\u001b[0m\n\u001b[0m\u001b[1;32m     14\u001b[0m         \u001b[0mactions\u001b[0m \u001b[0;34m=\u001b[0m \u001b[0;34m(\u001b[0m\u001b[0mu_action\u001b[0m\u001b[0;34m[\u001b[0m\u001b[0;36m0\u001b[0m\u001b[0;34m]\u001b[0m\u001b[0;34m,\u001b[0m \u001b[0mv_action\u001b[0m\u001b[0;34m[\u001b[0m\u001b[0;36m0\u001b[0m\u001b[0;34m]\u001b[0m\u001b[0;34m)\u001b[0m \u001b[0;32mif\u001b[0m \u001b[0mstr\u001b[0m\u001b[0;34m(\u001b[0m\u001b[0mu_agent\u001b[0m\u001b[0;34m)\u001b[0m \u001b[0;34m==\u001b[0m \u001b[0;34m'u_'\u001b[0m \u001b[0;32melse\u001b[0m \u001b[0;34m(\u001b[0m\u001b[0mv_action\u001b[0m\u001b[0;34m[\u001b[0m\u001b[0;36m0\u001b[0m\u001b[0;34m]\u001b[0m\u001b[0;34m,\u001b[0m \u001b[0mu_action\u001b[0m\u001b[0;34m[\u001b[0m\u001b[0;36m0\u001b[0m\u001b[0;34m]\u001b[0m\u001b[0;34m)\u001b[0m\u001b[0;34m\u001b[0m\u001b[0;34m\u001b[0m\u001b[0m\n\u001b[1;32m     15\u001b[0m         \u001b[0mnext_state\u001b[0m\u001b[0;34m,\u001b[0m \u001b[0mreward\u001b[0m\u001b[0;34m,\u001b[0m \u001b[0mdone\u001b[0m\u001b[0;34m,\u001b[0m \u001b[0m_\u001b[0m \u001b[0;34m=\u001b[0m \u001b[0menv\u001b[0m\u001b[0;34m.\u001b[0m\u001b[0mstep\u001b[0m\u001b[0;34m(\u001b[0m\u001b[0;34m*\u001b[0m\u001b[0mactions\u001b[0m\u001b[0;34m)\u001b[0m\u001b[0;34m\u001b[0m\u001b[0;34m\u001b[0m\u001b[0m\n",
            "\u001b[0;32m<ipython-input-16-ca55eef9851f>\u001b[0m in \u001b[0;36mget_action\u001b[0;34m(self, state, test)\u001b[0m\n\u001b[1;32m     37\u001b[0m         \u001b[0;32mif\u001b[0m \u001b[0;32mnot\u001b[0m \u001b[0mtest\u001b[0m\u001b[0;34m:\u001b[0m\u001b[0;34m\u001b[0m\u001b[0;34m\u001b[0m\u001b[0m\n\u001b[1;32m     38\u001b[0m             \u001b[0mnoise\u001b[0m \u001b[0;34m=\u001b[0m \u001b[0mself\u001b[0m\u001b[0;34m.\u001b[0m\u001b[0mnoise_threshold\u001b[0m \u001b[0;34m*\u001b[0m \u001b[0mnp\u001b[0m\u001b[0;34m.\u001b[0m\u001b[0mrandom\u001b[0m\u001b[0;34m.\u001b[0m\u001b[0muniform\u001b[0m\u001b[0;34m(\u001b[0m\u001b[0mlow\u001b[0m\u001b[0;34m=\u001b[0m\u001b[0;34m-\u001b[0m\u001b[0mself\u001b[0m\u001b[0;34m.\u001b[0m\u001b[0maction_max\u001b[0m\u001b[0;34m,\u001b[0m \u001b[0mhigh\u001b[0m\u001b[0;34m=\u001b[0m\u001b[0mself\u001b[0m\u001b[0;34m.\u001b[0m\u001b[0maction_max\u001b[0m\u001b[0;34m)\u001b[0m\u001b[0;34m\u001b[0m\u001b[0;34m\u001b[0m\u001b[0m\n\u001b[0;32m---> 39\u001b[0;31m             \u001b[0mpredicted_action\u001b[0m \u001b[0;34m=\u001b[0m \u001b[0mnp\u001b[0m\u001b[0;34m.\u001b[0m\u001b[0mclip\u001b[0m\u001b[0;34m(\u001b[0m\u001b[0mpredicted_action\u001b[0m \u001b[0;34m+\u001b[0m \u001b[0mnoise\u001b[0m\u001b[0;34m,\u001b[0m \u001b[0;34m-\u001b[0m\u001b[0mself\u001b[0m\u001b[0;34m.\u001b[0m\u001b[0maction_max\u001b[0m\u001b[0;34m,\u001b[0m \u001b[0mself\u001b[0m\u001b[0;34m.\u001b[0m\u001b[0maction_max\u001b[0m\u001b[0;34m)\u001b[0m\u001b[0;34m\u001b[0m\u001b[0;34m\u001b[0m\u001b[0m\n\u001b[0m\u001b[1;32m     40\u001b[0m         \u001b[0;32mreturn\u001b[0m \u001b[0mpredicted_action\u001b[0m\u001b[0;34m\u001b[0m\u001b[0;34m\u001b[0m\u001b[0m\n\u001b[1;32m     41\u001b[0m \u001b[0;34m\u001b[0m\u001b[0m\n",
            "\u001b[0;32m<__array_function__ internals>\u001b[0m in \u001b[0;36mclip\u001b[0;34m(*args, **kwargs)\u001b[0m\n",
            "\u001b[0;32m/usr/local/lib/python3.6/dist-packages/numpy/core/fromnumeric.py\u001b[0m in \u001b[0;36mclip\u001b[0;34m(a, a_min, a_max, out, **kwargs)\u001b[0m\n\u001b[1;32m   2082\u001b[0m \u001b[0;34m\u001b[0m\u001b[0m\n\u001b[1;32m   2083\u001b[0m     \"\"\"\n\u001b[0;32m-> 2084\u001b[0;31m     \u001b[0;32mreturn\u001b[0m \u001b[0m_wrapfunc\u001b[0m\u001b[0;34m(\u001b[0m\u001b[0ma\u001b[0m\u001b[0;34m,\u001b[0m \u001b[0;34m'clip'\u001b[0m\u001b[0;34m,\u001b[0m \u001b[0ma_min\u001b[0m\u001b[0;34m,\u001b[0m \u001b[0ma_max\u001b[0m\u001b[0;34m,\u001b[0m \u001b[0mout\u001b[0m\u001b[0;34m=\u001b[0m\u001b[0mout\u001b[0m\u001b[0;34m,\u001b[0m \u001b[0;34m**\u001b[0m\u001b[0mkwargs\u001b[0m\u001b[0;34m)\u001b[0m\u001b[0;34m\u001b[0m\u001b[0;34m\u001b[0m\u001b[0m\n\u001b[0m\u001b[1;32m   2085\u001b[0m \u001b[0;34m\u001b[0m\u001b[0m\n\u001b[1;32m   2086\u001b[0m \u001b[0;34m\u001b[0m\u001b[0m\n",
            "\u001b[0;32m/usr/local/lib/python3.6/dist-packages/numpy/core/fromnumeric.py\u001b[0m in \u001b[0;36m_wrapfunc\u001b[0;34m(obj, method, *args, **kwds)\u001b[0m\n\u001b[1;32m     59\u001b[0m \u001b[0;34m\u001b[0m\u001b[0m\n\u001b[1;32m     60\u001b[0m     \u001b[0;32mtry\u001b[0m\u001b[0;34m:\u001b[0m\u001b[0;34m\u001b[0m\u001b[0;34m\u001b[0m\u001b[0m\n\u001b[0;32m---> 61\u001b[0;31m         \u001b[0;32mreturn\u001b[0m \u001b[0mbound\u001b[0m\u001b[0;34m(\u001b[0m\u001b[0;34m*\u001b[0m\u001b[0margs\u001b[0m\u001b[0;34m,\u001b[0m \u001b[0;34m**\u001b[0m\u001b[0mkwds\u001b[0m\u001b[0;34m)\u001b[0m\u001b[0;34m\u001b[0m\u001b[0;34m\u001b[0m\u001b[0m\n\u001b[0m\u001b[1;32m     62\u001b[0m     \u001b[0;32mexcept\u001b[0m \u001b[0mTypeError\u001b[0m\u001b[0;34m:\u001b[0m\u001b[0;34m\u001b[0m\u001b[0;34m\u001b[0m\u001b[0m\n\u001b[1;32m     63\u001b[0m         \u001b[0;31m# A TypeError occurs if the object does have such a method in its\u001b[0m\u001b[0;34m\u001b[0m\u001b[0;34m\u001b[0m\u001b[0;34m\u001b[0m\u001b[0m\n",
            "\u001b[0;32m/usr/local/lib/python3.6/dist-packages/numpy/core/_methods.py\u001b[0m in \u001b[0;36m_clip\u001b[0;34m(a, min, max, out, casting, **kwargs)\u001b[0m\n\u001b[1;32m    104\u001b[0m     \u001b[0;32mif\u001b[0m \u001b[0;32mnot\u001b[0m \u001b[0m_clip_dep_is_byte_swapped\u001b[0m\u001b[0;34m(\u001b[0m\u001b[0ma\u001b[0m\u001b[0;34m)\u001b[0m \u001b[0;32mand\u001b[0m \u001b[0;32mnot\u001b[0m \u001b[0m_clip_dep_is_byte_swapped\u001b[0m\u001b[0;34m(\u001b[0m\u001b[0mout\u001b[0m\u001b[0;34m)\u001b[0m\u001b[0;34m:\u001b[0m\u001b[0;34m\u001b[0m\u001b[0;34m\u001b[0m\u001b[0m\n\u001b[1;32m    105\u001b[0m         \u001b[0musing_deprecated_nan\u001b[0m \u001b[0;34m=\u001b[0m \u001b[0;32mFalse\u001b[0m\u001b[0;34m\u001b[0m\u001b[0;34m\u001b[0m\u001b[0m\n\u001b[0;32m--> 106\u001b[0;31m         \u001b[0;32mif\u001b[0m \u001b[0m_clip_dep_is_scalar_nan\u001b[0m\u001b[0;34m(\u001b[0m\u001b[0mmin\u001b[0m\u001b[0;34m)\u001b[0m\u001b[0;34m:\u001b[0m\u001b[0;34m\u001b[0m\u001b[0;34m\u001b[0m\u001b[0m\n\u001b[0m\u001b[1;32m    107\u001b[0m             \u001b[0mmin\u001b[0m \u001b[0;34m=\u001b[0m \u001b[0;34m-\u001b[0m\u001b[0mfloat\u001b[0m\u001b[0;34m(\u001b[0m\u001b[0;34m'inf'\u001b[0m\u001b[0;34m)\u001b[0m\u001b[0;34m\u001b[0m\u001b[0;34m\u001b[0m\u001b[0m\n\u001b[1;32m    108\u001b[0m             \u001b[0musing_deprecated_nan\u001b[0m \u001b[0;34m=\u001b[0m \u001b[0;32mTrue\u001b[0m\u001b[0;34m\u001b[0m\u001b[0;34m\u001b[0m\u001b[0m\n",
            "\u001b[0;32m/usr/local/lib/python3.6/dist-packages/numpy/core/_methods.py\u001b[0m in \u001b[0;36m_clip_dep_is_scalar_nan\u001b[0;34m(a)\u001b[0m\n\u001b[1;32m     63\u001b[0m \u001b[0;32mdef\u001b[0m \u001b[0m_clip_dep_is_scalar_nan\u001b[0m\u001b[0;34m(\u001b[0m\u001b[0ma\u001b[0m\u001b[0;34m)\u001b[0m\u001b[0;34m:\u001b[0m\u001b[0;34m\u001b[0m\u001b[0;34m\u001b[0m\u001b[0m\n\u001b[1;32m     64\u001b[0m     \u001b[0;31m# guarded to protect circular imports\u001b[0m\u001b[0;34m\u001b[0m\u001b[0;34m\u001b[0m\u001b[0;34m\u001b[0m\u001b[0m\n\u001b[0;32m---> 65\u001b[0;31m     \u001b[0;32mfrom\u001b[0m \u001b[0mnumpy\u001b[0m\u001b[0;34m.\u001b[0m\u001b[0mcore\u001b[0m\u001b[0;34m.\u001b[0m\u001b[0mfromnumeric\u001b[0m \u001b[0;32mimport\u001b[0m \u001b[0mndim\u001b[0m\u001b[0;34m\u001b[0m\u001b[0;34m\u001b[0m\u001b[0m\n\u001b[0m\u001b[1;32m     66\u001b[0m     \u001b[0;32mif\u001b[0m \u001b[0mndim\u001b[0m\u001b[0;34m(\u001b[0m\u001b[0ma\u001b[0m\u001b[0;34m)\u001b[0m \u001b[0;34m!=\u001b[0m \u001b[0;36m0\u001b[0m\u001b[0;34m:\u001b[0m\u001b[0;34m\u001b[0m\u001b[0;34m\u001b[0m\u001b[0m\n\u001b[1;32m     67\u001b[0m         \u001b[0;32mreturn\u001b[0m \u001b[0;32mFalse\u001b[0m\u001b[0;34m\u001b[0m\u001b[0;34m\u001b[0m\u001b[0m\n",
            "\u001b[0;32m/usr/lib/python3.6/importlib/_bootstrap.py\u001b[0m in \u001b[0;36m_handle_fromlist\u001b[0;34m(module, fromlist, import_, recursive)\u001b[0m\n",
            "\u001b[0;31mKeyboardInterrupt\u001b[0m: "
          ]
        }
      ]
    },
    {
      "cell_type": "code",
      "metadata": {
        "id": "i7ZITn34J1Ss",
        "colab_type": "code",
        "outputId": "e0ef7f04-d64f-484f-a2fc-b59bb844e574",
        "colab": {
          "base_uri": "https://localhost:8080/",
          "height": 295
        }
      },
      "source": [
        "plot_mean_rewards(test_rewards, method_name='test')"
      ],
      "execution_count": 0,
      "outputs": [
        {
          "output_type": "display_data",
          "data": {
            "image/png": "[encoded data removed]",
            "text/plain": [
              "<Figure size 432x288 with 1 Axes>"
            ]
          },
          "metadata": {
            "tags": [],
            "needs_background": "light"
          }
        }
      ]
    },
    {
      "cell_type": "markdown",
      "metadata": {
        "id": "3aR-GlF-f0Yg",
        "colab_type": "text"
      },
      "source": [
        "Test u_agent_one_by_one"
      ]
    },
    {
      "cell_type": "code",
      "metadata": {
        "id": "KZorei8v7Np4",
        "colab_type": "code",
        "outputId": "05276469-27b3-44ae-ef13-4220821be371",
        "colab": {
          "base_uri": "https://localhost:8080/",
          "height": 886
        }
      },
      "source": [
        "test_rewards_one_by_one = test_agent(u_fit_agent_one_by_one, env, n_epochs=200, n_sessions=100, epsilon=1e-6)"
      ],
      "execution_count": 53,
      "outputs": [
        {
          "output_type": "stream",
          "text": [
            "epoch: 0, mean reward: 0.29935330500371793\n",
            "epoch: 1, mean reward: 0.3463195958874706\n",
            "epoch: 2, mean reward: 0.39863377134074357\n",
            "epoch: 3, mean reward: 0.44876386878657115\n",
            "epoch: 4, mean reward: 0.5184301819703512\n",
            "epoch: 5, mean reward: 0.5675803224043944\n",
            "epoch: 6, mean reward: 0.6610956458685066\n",
            "epoch: 7, mean reward: 0.719155189885328\n",
            "epoch: 8, mean reward: 0.8087606505324639\n",
            "epoch: 9, mean reward: 0.8731894475197334\n",
            "epoch: 10, mean reward: 0.9641466156679247\n",
            "epoch: 11, mean reward: 1.0607806306994574\n",
            "epoch: 12, mean reward: 1.1459211699883491\n",
            "epoch: 13, mean reward: 1.2403617884670455\n",
            "epoch: 14, mean reward: 1.3314569663243745\n",
            "epoch: 15, mean reward: 1.4291255777865677\n",
            "epoch: 16, mean reward: 1.5161451882285306\n",
            "epoch: 17, mean reward: 1.6060396605848188\n",
            "epoch: 18, mean reward: 1.6833928983433097\n",
            "epoch: 19, mean reward: 1.7653048351406104\n",
            "epoch: 20, mean reward: 1.854041587135409\n",
            "epoch: 21, mean reward: 1.9094481676088035\n",
            "epoch: 22, mean reward: 1.9879866293483772\n",
            "epoch: 23, mean reward: 2.0639365039607975\n",
            "epoch: 24, mean reward: 2.1344752549729695\n",
            "epoch: 25, mean reward: 2.2357074832586683\n",
            "epoch: 26, mean reward: 2.3079804392028054\n",
            "epoch: 27, mean reward: 2.3936350045617107\n",
            "epoch: 28, mean reward: 2.4443979147463395\n",
            "epoch: 29, mean reward: 2.5164225651268164\n",
            "epoch: 30, mean reward: 2.5601826816722446\n",
            "epoch: 31, mean reward: 2.609971272541979\n"
          ],
          "name": "stdout"
        },
        {
          "output_type": "error",
          "ename": "KeyboardInterrupt",
          "evalue": "ignored",
          "traceback": [
            "\u001b[0;31m---------------------------------------------------------------------------\u001b[0m",
            "\u001b[0;31mKeyboardInterrupt\u001b[0m                         Traceback (most recent call last)",
            "\u001b[0;32m<ipython-input-53-707c85f7fc87>\u001b[0m in \u001b[0;36m<module>\u001b[0;34m()\u001b[0m\n\u001b[0;32m----> 1\u001b[0;31m \u001b[0mtest_rewards_one_by_one\u001b[0m \u001b[0;34m=\u001b[0m \u001b[0mfit_agents\u001b[0m\u001b[0;34m(\u001b[0m\u001b[0mu_fit_agent_one_by_one\u001b[0m\u001b[0;34m,\u001b[0m \u001b[0mv_test_agent_one_by_one\u001b[0m\u001b[0;34m,\u001b[0m \u001b[0menv\u001b[0m\u001b[0;34m,\u001b[0m \u001b[0mn_epochs\u001b[0m\u001b[0;34m=\u001b[0m\u001b[0;36m200\u001b[0m\u001b[0;34m,\u001b[0m \u001b[0mn_sessions\u001b[0m\u001b[0;34m=\u001b[0m\u001b[0;36m100\u001b[0m\u001b[0;34m,\u001b[0m \u001b[0mepsilon\u001b[0m\u001b[0;34m=\u001b[0m\u001b[0;36m1e-6\u001b[0m\u001b[0;34m,\u001b[0m \u001b[0mtest\u001b[0m\u001b[0;34m=\u001b[0m\u001b[0;32mTrue\u001b[0m\u001b[0;34m)\u001b[0m\u001b[0;34m\u001b[0m\u001b[0;34m\u001b[0m\u001b[0m\n\u001b[0m",
            "\u001b[0;32m<ipython-input-31-7afcdfac80d5>\u001b[0m in \u001b[0;36mfit_agents\u001b[0;34m(u_agent, v_agent, env, n_epochs, n_sessions, epsilon, test)\u001b[0m\n\u001b[1;32m     35\u001b[0m \u001b[0;34m\u001b[0m\u001b[0m\n\u001b[1;32m     36\u001b[0m     \u001b[0;32mfor\u001b[0m \u001b[0mepoch\u001b[0m \u001b[0;32min\u001b[0m \u001b[0mrange\u001b[0m\u001b[0;34m(\u001b[0m\u001b[0mn_epochs\u001b[0m\u001b[0;34m)\u001b[0m\u001b[0;34m:\u001b[0m\u001b[0;34m\u001b[0m\u001b[0;34m\u001b[0m\u001b[0m\n\u001b[0;32m---> 37\u001b[0;31m         \u001b[0mmean_reward\u001b[0m \u001b[0;34m=\u001b[0m \u001b[0mfit_epoch\u001b[0m\u001b[0;34m(\u001b[0m\u001b[0mu_agent\u001b[0m\u001b[0;34m,\u001b[0m \u001b[0mv_agent\u001b[0m\u001b[0;34m,\u001b[0m \u001b[0menv\u001b[0m\u001b[0;34m,\u001b[0m \u001b[0mn_sessions\u001b[0m\u001b[0;34m,\u001b[0m \u001b[0mtest\u001b[0m\u001b[0;34m)\u001b[0m\u001b[0;34m\u001b[0m\u001b[0;34m\u001b[0m\u001b[0m\n\u001b[0m\u001b[1;32m     38\u001b[0m         \u001b[0mmean_rewards\u001b[0m\u001b[0;34m.\u001b[0m\u001b[0mappend\u001b[0m\u001b[0;34m(\u001b[0m\u001b[0mmean_reward\u001b[0m\u001b[0;34m)\u001b[0m\u001b[0;34m\u001b[0m\u001b[0;34m\u001b[0m\u001b[0m\n\u001b[1;32m     39\u001b[0m         \u001b[0mprint\u001b[0m\u001b[0;34m(\u001b[0m\u001b[0;34mf'epoch: {epoch}, mean reward: {mean_reward}'\u001b[0m\u001b[0;34m)\u001b[0m\u001b[0;34m\u001b[0m\u001b[0;34m\u001b[0m\u001b[0m\n",
            "\u001b[0;32m<ipython-input-31-7afcdfac80d5>\u001b[0m in \u001b[0;36mfit_epoch\u001b[0;34m(u_agent, v_agent, env, n_sessions, test)\u001b[0m\n\u001b[1;32m     23\u001b[0m \u001b[0;34m\u001b[0m\u001b[0m\n\u001b[1;32m     24\u001b[0m \u001b[0;32mdef\u001b[0m \u001b[0mfit_epoch\u001b[0m\u001b[0;34m(\u001b[0m\u001b[0mu_agent\u001b[0m\u001b[0;34m,\u001b[0m \u001b[0mv_agent\u001b[0m\u001b[0;34m,\u001b[0m \u001b[0menv\u001b[0m\u001b[0;34m,\u001b[0m \u001b[0mn_sessions\u001b[0m\u001b[0;34m,\u001b[0m \u001b[0mtest\u001b[0m\u001b[0;34m)\u001b[0m\u001b[0;34m:\u001b[0m\u001b[0;34m\u001b[0m\u001b[0;34m\u001b[0m\u001b[0m\n\u001b[0;32m---> 25\u001b[0;31m     \u001b[0msessions\u001b[0m \u001b[0;34m=\u001b[0m \u001b[0;34m[\u001b[0m\u001b[0mgenerate_session\u001b[0m\u001b[0;34m(\u001b[0m\u001b[0mu_agent\u001b[0m\u001b[0;34m,\u001b[0m \u001b[0mv_agent\u001b[0m\u001b[0;34m,\u001b[0m \u001b[0menv\u001b[0m\u001b[0;34m,\u001b[0m \u001b[0mtest\u001b[0m\u001b[0;34m=\u001b[0m\u001b[0mtest\u001b[0m\u001b[0;34m)\u001b[0m \u001b[0;32mfor\u001b[0m \u001b[0m_\u001b[0m \u001b[0;32min\u001b[0m \u001b[0mrange\u001b[0m\u001b[0;34m(\u001b[0m\u001b[0mn_sessions\u001b[0m\u001b[0;34m)\u001b[0m\u001b[0;34m]\u001b[0m\u001b[0;34m\u001b[0m\u001b[0;34m\u001b[0m\u001b[0m\n\u001b[0m\u001b[1;32m     26\u001b[0m     \u001b[0mmean_reward\u001b[0m \u001b[0;34m=\u001b[0m \u001b[0mnp\u001b[0m\u001b[0;34m.\u001b[0m\u001b[0mmean\u001b[0m\u001b[0;34m(\u001b[0m\u001b[0;34m[\u001b[0m\u001b[0msession\u001b[0m\u001b[0;34m[\u001b[0m\u001b[0;34m'total_reward'\u001b[0m\u001b[0;34m]\u001b[0m \u001b[0;32mfor\u001b[0m \u001b[0msession\u001b[0m \u001b[0;32min\u001b[0m \u001b[0msessions\u001b[0m\u001b[0;34m]\u001b[0m\u001b[0;34m)\u001b[0m\u001b[0;34m\u001b[0m\u001b[0;34m\u001b[0m\u001b[0m\n\u001b[1;32m     27\u001b[0m     \u001b[0;32mif\u001b[0m \u001b[0;32mnot\u001b[0m \u001b[0mtest\u001b[0m\u001b[0;34m:\u001b[0m\u001b[0;34m\u001b[0m\u001b[0;34m\u001b[0m\u001b[0m\n",
            "\u001b[0;32m<ipython-input-31-7afcdfac80d5>\u001b[0m in \u001b[0;36m<listcomp>\u001b[0;34m(.0)\u001b[0m\n\u001b[1;32m     23\u001b[0m \u001b[0;34m\u001b[0m\u001b[0m\n\u001b[1;32m     24\u001b[0m \u001b[0;32mdef\u001b[0m \u001b[0mfit_epoch\u001b[0m\u001b[0;34m(\u001b[0m\u001b[0mu_agent\u001b[0m\u001b[0;34m,\u001b[0m \u001b[0mv_agent\u001b[0m\u001b[0;34m,\u001b[0m \u001b[0menv\u001b[0m\u001b[0;34m,\u001b[0m \u001b[0mn_sessions\u001b[0m\u001b[0;34m,\u001b[0m \u001b[0mtest\u001b[0m\u001b[0;34m)\u001b[0m\u001b[0;34m:\u001b[0m\u001b[0;34m\u001b[0m\u001b[0;34m\u001b[0m\u001b[0m\n\u001b[0;32m---> 25\u001b[0;31m     \u001b[0msessions\u001b[0m \u001b[0;34m=\u001b[0m \u001b[0;34m[\u001b[0m\u001b[0mgenerate_session\u001b[0m\u001b[0;34m(\u001b[0m\u001b[0mu_agent\u001b[0m\u001b[0;34m,\u001b[0m \u001b[0mv_agent\u001b[0m\u001b[0;34m,\u001b[0m \u001b[0menv\u001b[0m\u001b[0;34m,\u001b[0m \u001b[0mtest\u001b[0m\u001b[0;34m=\u001b[0m\u001b[0mtest\u001b[0m\u001b[0;34m)\u001b[0m \u001b[0;32mfor\u001b[0m \u001b[0m_\u001b[0m \u001b[0;32min\u001b[0m \u001b[0mrange\u001b[0m\u001b[0;34m(\u001b[0m\u001b[0mn_sessions\u001b[0m\u001b[0;34m)\u001b[0m\u001b[0;34m]\u001b[0m\u001b[0;34m\u001b[0m\u001b[0;34m\u001b[0m\u001b[0m\n\u001b[0m\u001b[1;32m     26\u001b[0m     \u001b[0mmean_reward\u001b[0m \u001b[0;34m=\u001b[0m \u001b[0mnp\u001b[0m\u001b[0;34m.\u001b[0m\u001b[0mmean\u001b[0m\u001b[0;34m(\u001b[0m\u001b[0;34m[\u001b[0m\u001b[0msession\u001b[0m\u001b[0;34m[\u001b[0m\u001b[0;34m'total_reward'\u001b[0m\u001b[0;34m]\u001b[0m \u001b[0;32mfor\u001b[0m \u001b[0msession\u001b[0m \u001b[0;32min\u001b[0m \u001b[0msessions\u001b[0m\u001b[0;34m]\u001b[0m\u001b[0;34m)\u001b[0m\u001b[0;34m\u001b[0m\u001b[0;34m\u001b[0m\u001b[0m\n\u001b[1;32m     27\u001b[0m     \u001b[0;32mif\u001b[0m \u001b[0;32mnot\u001b[0m \u001b[0mtest\u001b[0m\u001b[0;34m:\u001b[0m\u001b[0;34m\u001b[0m\u001b[0;34m\u001b[0m\u001b[0m\n",
            "\u001b[0;32m<ipython-input-31-7afcdfac80d5>\u001b[0m in \u001b[0;36mgenerate_session\u001b[0;34m(u_agent, v_agent, env, test)\u001b[0m\n\u001b[1;32m     10\u001b[0m     \u001b[0mstate\u001b[0m \u001b[0;34m=\u001b[0m \u001b[0menv\u001b[0m\u001b[0;34m.\u001b[0m\u001b[0mreset\u001b[0m\u001b[0;34m(\u001b[0m\u001b[0;34m)\u001b[0m\u001b[0;34m\u001b[0m\u001b[0;34m\u001b[0m\u001b[0m\n\u001b[1;32m     11\u001b[0m     \u001b[0;32mwhile\u001b[0m \u001b[0;32mnot\u001b[0m \u001b[0mdone\u001b[0m\u001b[0;34m:\u001b[0m\u001b[0;34m\u001b[0m\u001b[0;34m\u001b[0m\u001b[0m\n\u001b[0;32m---> 12\u001b[0;31m         \u001b[0mu_action\u001b[0m \u001b[0;34m=\u001b[0m \u001b[0mu_agent\u001b[0m\u001b[0;34m.\u001b[0m\u001b[0mget_action\u001b[0m\u001b[0;34m(\u001b[0m\u001b[0mstate\u001b[0m\u001b[0;34m,\u001b[0m \u001b[0mtest\u001b[0m\u001b[0;34m=\u001b[0m\u001b[0mtest\u001b[0m\u001b[0;34m)\u001b[0m\u001b[0;34m\u001b[0m\u001b[0;34m\u001b[0m\u001b[0m\n\u001b[0m\u001b[1;32m     13\u001b[0m         \u001b[0mv_action\u001b[0m \u001b[0;34m=\u001b[0m \u001b[0mv_agent\u001b[0m\u001b[0;34m.\u001b[0m\u001b[0mget_action\u001b[0m\u001b[0;34m(\u001b[0m\u001b[0mstate\u001b[0m\u001b[0;34m)\u001b[0m\u001b[0;34m\u001b[0m\u001b[0;34m\u001b[0m\u001b[0m\n\u001b[1;32m     14\u001b[0m         \u001b[0mactions\u001b[0m \u001b[0;34m=\u001b[0m \u001b[0;34m(\u001b[0m\u001b[0mu_action\u001b[0m\u001b[0;34m[\u001b[0m\u001b[0;36m0\u001b[0m\u001b[0;34m]\u001b[0m\u001b[0;34m,\u001b[0m \u001b[0mv_action\u001b[0m\u001b[0;34m[\u001b[0m\u001b[0;36m0\u001b[0m\u001b[0;34m]\u001b[0m\u001b[0;34m)\u001b[0m \u001b[0;32mif\u001b[0m \u001b[0mstr\u001b[0m\u001b[0;34m(\u001b[0m\u001b[0mu_agent\u001b[0m\u001b[0;34m)\u001b[0m \u001b[0;34m==\u001b[0m \u001b[0;34m'u_'\u001b[0m \u001b[0;32melse\u001b[0m \u001b[0;34m(\u001b[0m\u001b[0mv_action\u001b[0m\u001b[0;34m[\u001b[0m\u001b[0;36m0\u001b[0m\u001b[0;34m]\u001b[0m\u001b[0;34m,\u001b[0m \u001b[0mu_action\u001b[0m\u001b[0;34m[\u001b[0m\u001b[0;36m0\u001b[0m\u001b[0;34m]\u001b[0m\u001b[0;34m)\u001b[0m\u001b[0;34m\u001b[0m\u001b[0;34m\u001b[0m\u001b[0m\n",
            "\u001b[0;32m<ipython-input-30-ca55eef9851f>\u001b[0m in \u001b[0;36mget_action\u001b[0;34m(self, state, test)\u001b[0m\n\u001b[1;32m     34\u001b[0m     \u001b[0;32mdef\u001b[0m \u001b[0mget_action\u001b[0m\u001b[0;34m(\u001b[0m\u001b[0mself\u001b[0m\u001b[0;34m,\u001b[0m \u001b[0mstate\u001b[0m\u001b[0;34m,\u001b[0m \u001b[0mtest\u001b[0m\u001b[0;34m=\u001b[0m\u001b[0;32mFalse\u001b[0m\u001b[0;34m)\u001b[0m\u001b[0;34m:\u001b[0m\u001b[0;34m\u001b[0m\u001b[0;34m\u001b[0m\u001b[0m\n\u001b[1;32m     35\u001b[0m         \u001b[0mstate\u001b[0m \u001b[0;34m=\u001b[0m \u001b[0mtorch\u001b[0m\u001b[0;34m.\u001b[0m\u001b[0mFloatTensor\u001b[0m\u001b[0;34m(\u001b[0m\u001b[0mstate\u001b[0m\u001b[0;34m)\u001b[0m\u001b[0;34m\u001b[0m\u001b[0;34m\u001b[0m\u001b[0m\n\u001b[0;32m---> 36\u001b[0;31m         \u001b[0mpredicted_action\u001b[0m \u001b[0;34m=\u001b[0m \u001b[0mself\u001b[0m\u001b[0;34m.\u001b[0m\u001b[0mnetwork\u001b[0m\u001b[0;34m(\u001b[0m\u001b[0mstate\u001b[0m\u001b[0;34m)\u001b[0m\u001b[0;34m.\u001b[0m\u001b[0mdetach\u001b[0m\u001b[0;34m(\u001b[0m\u001b[0;34m)\u001b[0m\u001b[0;34m.\u001b[0m\u001b[0mnumpy\u001b[0m\u001b[0;34m(\u001b[0m\u001b[0;34m)\u001b[0m \u001b[0;34m*\u001b[0m \u001b[0mself\u001b[0m\u001b[0;34m.\u001b[0m\u001b[0maction_max\u001b[0m\u001b[0;34m\u001b[0m\u001b[0;34m\u001b[0m\u001b[0m\n\u001b[0m\u001b[1;32m     37\u001b[0m         \u001b[0;32mif\u001b[0m \u001b[0;32mnot\u001b[0m \u001b[0mtest\u001b[0m\u001b[0;34m:\u001b[0m\u001b[0;34m\u001b[0m\u001b[0;34m\u001b[0m\u001b[0m\n\u001b[1;32m     38\u001b[0m             \u001b[0mnoise\u001b[0m \u001b[0;34m=\u001b[0m \u001b[0mself\u001b[0m\u001b[0;34m.\u001b[0m\u001b[0mnoise_threshold\u001b[0m \u001b[0;34m*\u001b[0m \u001b[0mnp\u001b[0m\u001b[0;34m.\u001b[0m\u001b[0mrandom\u001b[0m\u001b[0;34m.\u001b[0m\u001b[0muniform\u001b[0m\u001b[0;34m(\u001b[0m\u001b[0mlow\u001b[0m\u001b[0;34m=\u001b[0m\u001b[0;34m-\u001b[0m\u001b[0mself\u001b[0m\u001b[0;34m.\u001b[0m\u001b[0maction_max\u001b[0m\u001b[0;34m,\u001b[0m \u001b[0mhigh\u001b[0m\u001b[0;34m=\u001b[0m\u001b[0mself\u001b[0m\u001b[0;34m.\u001b[0m\u001b[0maction_max\u001b[0m\u001b[0;34m)\u001b[0m\u001b[0;34m\u001b[0m\u001b[0;34m\u001b[0m\u001b[0m\n",
            "\u001b[0;32m/usr/local/lib/python3.6/dist-packages/torch/nn/modules/module.py\u001b[0m in \u001b[0;36m__call__\u001b[0;34m(self, *input, **kwargs)\u001b[0m\n\u001b[1;32m    548\u001b[0m             \u001b[0mresult\u001b[0m \u001b[0;34m=\u001b[0m \u001b[0mself\u001b[0m\u001b[0;34m.\u001b[0m\u001b[0m_slow_forward\u001b[0m\u001b[0;34m(\u001b[0m\u001b[0;34m*\u001b[0m\u001b[0minput\u001b[0m\u001b[0;34m,\u001b[0m \u001b[0;34m**\u001b[0m\u001b[0mkwargs\u001b[0m\u001b[0;34m)\u001b[0m\u001b[0;34m\u001b[0m\u001b[0;34m\u001b[0m\u001b[0m\n\u001b[1;32m    549\u001b[0m         \u001b[0;32melse\u001b[0m\u001b[0;34m:\u001b[0m\u001b[0;34m\u001b[0m\u001b[0;34m\u001b[0m\u001b[0m\n\u001b[0;32m--> 550\u001b[0;31m             \u001b[0mresult\u001b[0m \u001b[0;34m=\u001b[0m \u001b[0mself\u001b[0m\u001b[0;34m.\u001b[0m\u001b[0mforward\u001b[0m\u001b[0;34m(\u001b[0m\u001b[0;34m*\u001b[0m\u001b[0minput\u001b[0m\u001b[0;34m,\u001b[0m \u001b[0;34m**\u001b[0m\u001b[0mkwargs\u001b[0m\u001b[0;34m)\u001b[0m\u001b[0;34m\u001b[0m\u001b[0;34m\u001b[0m\u001b[0m\n\u001b[0m\u001b[1;32m    551\u001b[0m         \u001b[0;32mfor\u001b[0m \u001b[0mhook\u001b[0m \u001b[0;32min\u001b[0m \u001b[0mself\u001b[0m\u001b[0;34m.\u001b[0m\u001b[0m_forward_hooks\u001b[0m\u001b[0;34m.\u001b[0m\u001b[0mvalues\u001b[0m\u001b[0;34m(\u001b[0m\u001b[0;34m)\u001b[0m\u001b[0;34m:\u001b[0m\u001b[0;34m\u001b[0m\u001b[0;34m\u001b[0m\u001b[0m\n\u001b[1;32m    552\u001b[0m             \u001b[0mhook_result\u001b[0m \u001b[0;34m=\u001b[0m \u001b[0mhook\u001b[0m\u001b[0;34m(\u001b[0m\u001b[0mself\u001b[0m\u001b[0;34m,\u001b[0m \u001b[0minput\u001b[0m\u001b[0;34m,\u001b[0m \u001b[0mresult\u001b[0m\u001b[0;34m)\u001b[0m\u001b[0;34m\u001b[0m\u001b[0;34m\u001b[0m\u001b[0m\n",
            "\u001b[0;32m<ipython-input-30-ca55eef9851f>\u001b[0m in \u001b[0;36mforward\u001b[0;34m(self, input_)\u001b[0m\n\u001b[1;32m     12\u001b[0m         \u001b[0mhidden\u001b[0m \u001b[0;34m=\u001b[0m \u001b[0mself\u001b[0m\u001b[0;34m.\u001b[0m\u001b[0mrelu\u001b[0m\u001b[0;34m(\u001b[0m\u001b[0mself\u001b[0m\u001b[0;34m.\u001b[0m\u001b[0mlinear_1\u001b[0m\u001b[0;34m(\u001b[0m\u001b[0minput_\u001b[0m\u001b[0;34m)\u001b[0m\u001b[0;34m)\u001b[0m\u001b[0;34m\u001b[0m\u001b[0;34m\u001b[0m\u001b[0m\n\u001b[1;32m     13\u001b[0m         \u001b[0mhidden\u001b[0m \u001b[0;34m=\u001b[0m \u001b[0mself\u001b[0m\u001b[0;34m.\u001b[0m\u001b[0mrelu\u001b[0m\u001b[0;34m(\u001b[0m\u001b[0mself\u001b[0m\u001b[0;34m.\u001b[0m\u001b[0mlinear_2\u001b[0m\u001b[0;34m(\u001b[0m\u001b[0mhidden\u001b[0m\u001b[0;34m)\u001b[0m\u001b[0;34m)\u001b[0m\u001b[0;34m\u001b[0m\u001b[0;34m\u001b[0m\u001b[0m\n\u001b[0;32m---> 14\u001b[0;31m         \u001b[0moutput\u001b[0m \u001b[0;34m=\u001b[0m \u001b[0mself\u001b[0m\u001b[0;34m.\u001b[0m\u001b[0mtang\u001b[0m\u001b[0;34m(\u001b[0m\u001b[0mself\u001b[0m\u001b[0;34m.\u001b[0m\u001b[0mlinear_3\u001b[0m\u001b[0;34m(\u001b[0m\u001b[0mhidden\u001b[0m\u001b[0;34m)\u001b[0m\u001b[0;34m)\u001b[0m\u001b[0;34m\u001b[0m\u001b[0;34m\u001b[0m\u001b[0m\n\u001b[0m\u001b[1;32m     15\u001b[0m         \u001b[0;32mreturn\u001b[0m \u001b[0moutput\u001b[0m\u001b[0;34m\u001b[0m\u001b[0;34m\u001b[0m\u001b[0m\n\u001b[1;32m     16\u001b[0m \u001b[0;34m\u001b[0m\u001b[0m\n",
            "\u001b[0;32m/usr/local/lib/python3.6/dist-packages/torch/nn/modules/module.py\u001b[0m in \u001b[0;36m__getattr__\u001b[0;34m(self, name)\u001b[0m\n\u001b[1;32m    578\u001b[0m             \u001b[0mself\u001b[0m\u001b[0;34m.\u001b[0m\u001b[0m_load_state_dict_pre_hooks\u001b[0m \u001b[0;34m=\u001b[0m \u001b[0mOrderedDict\u001b[0m\u001b[0;34m(\u001b[0m\u001b[0;34m)\u001b[0m\u001b[0;34m\u001b[0m\u001b[0;34m\u001b[0m\u001b[0m\n\u001b[1;32m    579\u001b[0m \u001b[0;34m\u001b[0m\u001b[0m\n\u001b[0;32m--> 580\u001b[0;31m     \u001b[0;32mdef\u001b[0m \u001b[0m__getattr__\u001b[0m\u001b[0;34m(\u001b[0m\u001b[0mself\u001b[0m\u001b[0;34m,\u001b[0m \u001b[0mname\u001b[0m\u001b[0;34m)\u001b[0m\u001b[0;34m:\u001b[0m\u001b[0;34m\u001b[0m\u001b[0;34m\u001b[0m\u001b[0m\n\u001b[0m\u001b[1;32m    581\u001b[0m         \u001b[0;32mif\u001b[0m \u001b[0;34m'_parameters'\u001b[0m \u001b[0;32min\u001b[0m \u001b[0mself\u001b[0m\u001b[0;34m.\u001b[0m\u001b[0m__dict__\u001b[0m\u001b[0;34m:\u001b[0m\u001b[0;34m\u001b[0m\u001b[0;34m\u001b[0m\u001b[0m\n\u001b[1;32m    582\u001b[0m             \u001b[0m_parameters\u001b[0m \u001b[0;34m=\u001b[0m \u001b[0mself\u001b[0m\u001b[0;34m.\u001b[0m\u001b[0m__dict__\u001b[0m\u001b[0;34m[\u001b[0m\u001b[0;34m'_parameters'\u001b[0m\u001b[0;34m]\u001b[0m\u001b[0;34m\u001b[0m\u001b[0;34m\u001b[0m\u001b[0m\n",
            "\u001b[0;31mKeyboardInterrupt\u001b[0m: "
          ]
        }
      ]
    },
    {
      "cell_type": "code",
      "metadata": {
        "id": "cXK3jgOj7QN1",
        "colab_type": "code",
        "colab": {}
      },
      "source": [
        "plot_mean_rewards(test_rewards_one_by_one, method_name='test one by one')"
      ],
      "execution_count": 0,
      "outputs": []
    }
  ]
}