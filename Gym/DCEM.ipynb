{
 "cells": [
  {
   "cell_type": "markdown",
   "metadata": {},
   "source": [
    "# DCEM for Mountain Car"
   ]
  },
  {
   "cell_type": "code",
   "execution_count": 1,
   "metadata": {},
   "outputs": [],
   "source": [
    "import sys, os\n",
    "if 'google.colab' in sys.modules and not os.path.exists('.setup_complete'):\n",
    "    !wget -q https://raw.githubusercontent.com/yandexdataschool/Practical_RL/master/setup_colab.sh -O- | bash\n",
    "    !touch .setup_complete\n",
    "\n",
    "# This code creates a virtual display to draw game images on.\n",
    "# It will have no effect if your machine has a monitor.\n",
    "if type(os.environ.get(\"DISPLAY\")) is not str or len(os.environ.get(\"DISPLAY\")) == 0:\n",
    "    !bash ../xvfb start\n",
    "    os.environ['DISPLAY'] = ':1'"
   ]
  },
  {
   "cell_type": "code",
   "execution_count": 2,
   "metadata": {},
   "outputs": [],
   "source": [
    "import random\n",
    "import os\n",
    "import gc\n",
    "import typing as tp\n",
    "import numpy as np\n",
    "import torch\n",
    "\n",
    "\n",
    "NUM_THREADS = 10\n",
    "SEED = 123\n",
    "\n",
    "\n",
    "def seed_everything(seed):\n",
    "    random.seed(seed)\n",
    "    os.environ['PYTHONHASHSEED'] = str(seed)\n",
    "    np.random.seed(seed)\n",
    "    torch.manual_seed(seed)\n",
    "    torch.cuda.manual_seed(seed)\n",
    "    torch.cuda.manual_seed_all(seed)\n",
    "    torch.backends.cudnn.deterministic = True\n",
    "    torch.backends.cudnn.benchmark = False\n",
    "    \n",
    "def _init_fn(worker_id):\n",
    "    np.random.seed(SEED + worker_id)\n",
    "\n",
    "def preset():\n",
    "    seed_everything(SEED)\n",
    "    torch.cuda.empty_cache()\n",
    "    gc.collect()\n",
    "    \n",
    "seed_everything(SEED)"
   ]
  },
  {
   "cell_type": "code",
   "execution_count": 3,
   "metadata": {},
   "outputs": [],
   "source": [
    "import gym\n",
    "import numpy as np\n",
    "import matplotlib.pyplot as plt\n",
    "\n",
    "import torch.nn as nn\n",
    "import torch.nn.functional as F"
   ]
  },
  {
   "cell_type": "code",
   "execution_count": 25,
   "metadata": {},
   "outputs": [],
   "source": [
    "from IPython.display import clear_output\n",
    "from multiprocessing import Pool\n",
    "from functools import partial\n",
    "from copy import deepcopy\n",
    "\n",
    "\n",
    "class DeepCEM:\n",
    "    def __init__(\n",
    "        self,\n",
    "        env_name,\n",
    "        *,\n",
    "        learning_rate_init=1e-3, \n",
    "        learning_iter_per_fit=16,\n",
    "    ):\n",
    "        self.env_name = env_name\n",
    "        self.env = self.reset_env()\n",
    "        self.n_actions = self.env.action_space.n\n",
    "        self.states_dim = self.env.observation_space.shape\n",
    "        \n",
    "        self.learning_rate_init = learning_rate_init\n",
    "        self.learning_iter_per_fit = learning_iter_per_fit\n",
    "        \n",
    "        self.log = []\n",
    "    \n",
    "    def reset_env(self):\n",
    "        return gym.make(self.env_name).env\n",
    "        \n",
    "    def initialize_policy(self):\n",
    "        self.policy = nn.Sequential(\n",
    "            nn.Linear(self.states_dim[0], 16),\n",
    "            nn.ReLU(),\n",
    "            nn.Linear(16, 16),\n",
    "            nn.ReLU(),\n",
    "            nn.Linear(16, self.n_actions),\n",
    "        )\n",
    "        \n",
    "        self.optimizer = torch.optim.Adam(\n",
    "            self.policy.parameters(),\n",
    "            lr=self.learning_rate_init\n",
    "        )\n",
    "        \n",
    "        self.loss = nn.CrossEntropyLoss()\n",
    "        \n",
    "    def get_action(self, state):\n",
    "        with torch.no_grad():\n",
    "            logits = self.policy(torch.FloatTensor(state))\n",
    "        \n",
    "        action_probs = F.softmax(logits, dim=-1).numpy()\n",
    "        \n",
    "        return np.random.choice(self.n_actions, p=action_probs)\n",
    "            \n",
    "    def generate_sessions(self, n_sessions, multiprocess=None, t_max=10**4, cpu_count=30):       \n",
    "        if multiprocess == 'pool':\n",
    "             with Pool(cpu_count) as pool:\n",
    "                return pool.map(\n",
    "                    partial(self.generate_session, reset=True, t_max=t_max),\n",
    "                    range(n_sessions),\n",
    "                )\n",
    "        \n",
    "        return [self.generate_session(i, t_max=t_max) for i in range(n_sessions)]\n",
    "    \n",
    "    def generate_session(self, i, reset=False, t_max=10**4):\n",
    "        env = self.reset_env() if reset else self.env\n",
    "            \n",
    "        states, actions = [], []\n",
    "        total_reward = total_discount_reward = 0.\n",
    "\n",
    "        s = env.reset()\n",
    "\n",
    "        for t in range(t_max):\n",
    "            a = self.get_action(s)\n",
    "\n",
    "            new_s, r, done, info = env.step(a)\n",
    "\n",
    "            states.append(s)\n",
    "            actions.append(a)\n",
    "            total_reward += r\n",
    "\n",
    "            s = new_s\n",
    "            if done:\n",
    "                break\n",
    "\n",
    "        return states, actions, total_reward\n",
    "    \n",
    "    def select_elites(self, states_batch, actions_batch, rewards_batch, percentile):  \n",
    "        reward_threshold = np.percentile(rewards_batch, percentile)\n",
    "\n",
    "        elite_states = []\n",
    "        elite_actions = []\n",
    "        for states, actions, reward in zip(states_batch, actions_batch, rewards_batch):\n",
    "            if reward > reward_threshold:\n",
    "                elite_states.extend(states)\n",
    "                elite_actions.extend(actions)\n",
    "\n",
    "        return elite_states, elite_actions\n",
    "    \n",
    "    def get_new_policy(self, elite_states, elite_actions, learning_rate):\n",
    "        if not elite_states:\n",
    "            return self.policy\n",
    "        \n",
    "        elite_states = torch.FloatTensor(elite_states)\n",
    "        elite_actions = torch.LongTensor(elite_actions)\n",
    "        \n",
    "        for _ in range(self.learning_iter_per_fit):\n",
    "            logits = self.policy(elite_states)\n",
    "            loss = self.loss(logits, elite_actions)\n",
    "            self.optimizer.zero_grad()\n",
    "            old_policy = deepcopy(self.policy)\n",
    "            loss.backward()\n",
    "            self.optimizer.step()\n",
    "\n",
    "            for new_parameter, old_parameter in zip(self.policy.parameters(), old_policy.parameters()):\n",
    "                new_parameter.data.copy_(\n",
    "                    learning_rate * new_parameter + (1 - learning_rate) * old_parameter,\n",
    "                )\n",
    "            \n",
    "        return self.policy\n",
    "    \n",
    "    def show_progress(self, rewards_batch, percentile, reward_range):\n",
    "        mean_reward = np.mean(rewards_batch)\n",
    "        threshold = np.percentile(rewards_batch, percentile)\n",
    "        self.log.append([mean_reward, threshold])\n",
    "\n",
    "        clear_output(True)\n",
    "        print(\"mean reward = %.3f, threshold=%.3f\" % (mean_reward, threshold))\n",
    "        plt.figure(figsize=[8, 4])\n",
    "        plt.subplot(1, 2, 1)\n",
    "        plt.plot(list(zip(*self.log))[0], label='Mean rewards')\n",
    "        plt.plot(list(zip(*self.log))[1], label='Reward thresholds')\n",
    "        plt.legend()\n",
    "        plt.grid()\n",
    "\n",
    "        plt.subplot(1, 2, 2)\n",
    "        plt.hist(rewards_batch, range=reward_range)\n",
    "        plt.vlines([np.percentile(rewards_batch, percentile)],\n",
    "                   [0], [100], label=\"percentile\", color='red')\n",
    "        plt.legend()\n",
    "        plt.grid()\n",
    "\n",
    "        plt.show()\n",
    "    \n",
    "    def train(\n",
    "        self,\n",
    "        *, \n",
    "        n_epochs, \n",
    "        n_sessions, \n",
    "        percentile,\n",
    "        learning_rate=0.5,\n",
    "        win_threshold=None,\n",
    "        t_max=10**4,\n",
    "        multiprocess=None,\n",
    "        cpu_count=30,\n",
    "    ):\n",
    "        self.initialize_policy()\n",
    "        self.log = []\n",
    "        \n",
    "        for i in range(n_epochs):\n",
    "            sessions = self.generate_sessions(\n",
    "                n_sessions, \n",
    "                t_max=t_max,\n",
    "                multiprocess=multiprocess,\n",
    "                cpu_count=cpu_count,\n",
    "            )\n",
    "\n",
    "            states_batch, actions_batch, rewards_batch = zip(*sessions)\n",
    "\n",
    "            elite_states, elite_actions = self.select_elites(\n",
    "                states_batch,\n",
    "                actions_batch, \n",
    "                rewards_batch,\n",
    "                percentile,\n",
    "            )\n",
    "\n",
    "            self.policy = self.get_new_policy(elite_states, elite_actions, learning_rate)\n",
    "\n",
    "            self.show_progress(\n",
    "                rewards_batch, \n",
    "                percentile, \n",
    "                reward_range=[np.min(rewards_batch), np.max(rewards_batch)],\n",
    "            )\n",
    "            \n",
    "            if win_threshold and np.mean(rewards_batch) > win_threshold:\n",
    "                print(\"You Win!\")\n",
    "                return"
   ]
  },
  {
   "cell_type": "code",
   "execution_count": 27,
   "metadata": {},
   "outputs": [
    {
     "name": "stdout",
     "output_type": "stream",
     "text": [
      "mean reward = 550.537, threshold=825.600\n"
     ]
    },
    {
     "data": {
      "image/png": "[encoded data removed]",
      "text/plain": [
       "<Figure size 576x288 with 2 Axes>"
      ]
     },
     "metadata": {
      "needs_background": "light"
     },
     "output_type": "display_data"
    },
    {
     "name": "stdout",
     "output_type": "stream",
     "text": [
      "You Win!\n"
     ]
    }
   ],
   "source": [
    "preset()\n",
    "trainer = DeepCEM('CartPole-v0')\n",
    "trainer.train(\n",
    "    n_epochs=500,\n",
    "    n_sessions=300,\n",
    "    percentile=80,\n",
    "    win_threshold=500,\n",
    "    multiprocess='pool',\n",
    "    cpu_count=2,\n",
    ")"
   ]
  },
  {
   "cell_type": "code",
   "execution_count": 29,
   "metadata": {},
   "outputs": [
    {
     "name": "stdout",
     "output_type": "stream",
     "text": [
      "mean reward = -145.700, threshold=-144.500\n"
     ]
    },
    {
     "data": {
      "image/png": "[encoded data removed]",
      "text/plain": [
       "<Figure size 576x288 with 2 Axes>"
      ]
     },
     "metadata": {
      "needs_background": "light"
     },
     "output_type": "display_data"
    },
    {
     "name": "stdout",
     "output_type": "stream",
     "text": [
      "You Win!\n"
     ]
    }
   ],
   "source": [
    "preset()\n",
    "trainer = DeepCEM('MountainCar-v0')\n",
    "trainer.train(\n",
    "    n_epochs=500,\n",
    "    n_sessions=30,\n",
    "    percentile=50,\n",
    "    win_threshold=-150,\n",
    "    multiprocess='pool',\n",
    "    cpu_count=2,\n",
    ")"
   ]
  },
  {
   "cell_type": "code",
   "execution_count": null,
   "metadata": {},
   "outputs": [],
   "source": []
  }
 ],
 "metadata": {
  "kernelspec": {
   "display_name": "Python 3",
   "language": "python",
   "name": "python3"
  },
  "language_info": {
   "codemirror_mode": {
    "name": "ipython",
    "version": 3
   },
   "file_extension": ".py",
   "mimetype": "text/x-python",
   "name": "python",
   "nbconvert_exporter": "python",
   "pygments_lexer": "ipython3",
   "version": "3.8.5"
  },
  "widgets": {
   "application/vnd.jupyter.widget-state+json": {
    "state": {},
    "version_major": 2,
    "version_minor": 0
   }
  }
 },
 "nbformat": 4,
 "nbformat_minor": 4
}
